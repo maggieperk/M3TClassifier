{
 "cells": [
  {
   "cell_type": "code",
   "execution_count": 4,
   "metadata": {
    "id": "gVm_wXUrovWo"
   },
   "outputs": [],
   "source": [
    "import pandas as pd\n",
    "\n",
    "# Read in the CSV files\n",
    "iemocap1 = pd.read_csv('iemocap_session1_af.csv')\n",
    "iemocap2 = pd.read_csv('iemocap_session2_af.csv')\n",
    "iemocap3 = pd.read_csv('iemocap_session3_af.csv')\n",
    "iemocap4 = pd.read_csv('iemocap_session4_af.csv')\n",
    "iemocap5 = pd.read_csv('iemocap_session5_af.csv')\n"
   ]
  },
  {
   "cell_type": "code",
   "execution_count": 5,
   "metadata": {
    "colab": {
     "base_uri": "https://localhost:8080/"
    },
    "id": "v1XzqZtRp4Vm",
    "outputId": "7a575555-6ac0-47f6-a6e7-c6073820ae78"
   },
   "outputs": [
    {
     "name": "stdout",
     "output_type": "stream",
     "text": [
      "1819\n",
      "1762\n",
      "1760\n",
      "1865\n",
      "2170\n"
     ]
    },
    {
     "data": {
      "text/plain": [
       "9376"
      ]
     },
     "execution_count": 5,
     "metadata": {},
     "output_type": "execute_result"
    }
   ],
   "source": [
    "print(len(iemocap1))\n",
    "print(len(iemocap2))\n",
    "print(len(iemocap3))\n",
    "print(len(iemocap4))\n",
    "print(len(iemocap5))\n",
    "len(iemocap1) + len(iemocap2) + len(iemocap3) + len(iemocap4) + len(iemocap5)"
   ]
  },
  {
   "cell_type": "code",
   "execution_count": 6,
   "metadata": {
    "colab": {
     "base_uri": "https://localhost:8080/"
    },
    "id": "ws5HMBJOrZ0F",
    "outputId": "76df8326-36af-4fd5-b1d6-18221be7e227"
   },
   "outputs": [
    {
     "data": {
      "text/plain": [
       "Index(['Unnamed: 0', 'TURN', 'UTTERANCE', 'DA', 'EMOTION', 'audio_file',\n",
       "       'F0semitoneFrom27.5Hz_sma3nz_amean_b',\n",
       "       'F0semitoneFrom27.5Hz_sma3nz_stddevNorm_b',\n",
       "       'F0semitoneFrom27.5Hz_sma3nz_percentile20.0_b',\n",
       "       'F0semitoneFrom27.5Hz_sma3nz_percentile50.0_b',\n",
       "       ...\n",
       "       'slopeUV0-500_sma3nz_amean_e', 'slopeUV500-1500_sma3nz_amean_e',\n",
       "       'spectralFluxUV_sma3nz_amean_e', 'loudnessPeaksPerSec_e',\n",
       "       'VoicedSegmentsPerSec_e', 'MeanVoicedSegmentLengthSec_e',\n",
       "       'StddevVoicedSegmentLengthSec_e', 'MeanUnvoicedSegmentLength_e',\n",
       "       'StddevUnvoicedSegmentLength_e', 'equivalentSoundLevel_dBp_e'],\n",
       "      dtype='object', length=270)"
      ]
     },
     "execution_count": 6,
     "metadata": {},
     "output_type": "execute_result"
    }
   ],
   "source": [
    "iemocap1.columns"
   ]
  },
  {
   "cell_type": "code",
   "execution_count": 7,
   "metadata": {
    "colab": {
     "base_uri": "https://localhost:8080/",
     "height": 423
    },
    "id": "Dyv30Vd21sjg",
    "outputId": "5e0dacc4-43c7-427d-ee76-8ff5c56df0a5"
   },
   "outputs": [
    {
     "data": {
      "text/html": [
       "<div>\n",
       "<style scoped>\n",
       "    .dataframe tbody tr th:only-of-type {\n",
       "        vertical-align: middle;\n",
       "    }\n",
       "\n",
       "    .dataframe tbody tr th {\n",
       "        vertical-align: top;\n",
       "    }\n",
       "\n",
       "    .dataframe thead th {\n",
       "        text-align: right;\n",
       "    }\n",
       "</style>\n",
       "<table border=\"1\" class=\"dataframe\">\n",
       "  <thead>\n",
       "    <tr style=\"text-align: right;\">\n",
       "      <th></th>\n",
       "      <th>Unnamed: 0</th>\n",
       "      <th>TURN</th>\n",
       "      <th>UTTERANCE</th>\n",
       "      <th>DA</th>\n",
       "      <th>EMOTION</th>\n",
       "      <th>audio_file</th>\n",
       "      <th>F0semitoneFrom27.5Hz_sma3nz_amean_b</th>\n",
       "      <th>F0semitoneFrom27.5Hz_sma3nz_stddevNorm_b</th>\n",
       "      <th>F0semitoneFrom27.5Hz_sma3nz_percentile20.0_b</th>\n",
       "      <th>F0semitoneFrom27.5Hz_sma3nz_percentile50.0_b</th>\n",
       "      <th>...</th>\n",
       "      <th>slopeUV0-500_sma3nz_amean_e</th>\n",
       "      <th>slopeUV500-1500_sma3nz_amean_e</th>\n",
       "      <th>spectralFluxUV_sma3nz_amean_e</th>\n",
       "      <th>loudnessPeaksPerSec_e</th>\n",
       "      <th>VoicedSegmentsPerSec_e</th>\n",
       "      <th>MeanVoicedSegmentLengthSec_e</th>\n",
       "      <th>StddevVoicedSegmentLengthSec_e</th>\n",
       "      <th>MeanUnvoicedSegmentLength_e</th>\n",
       "      <th>StddevUnvoicedSegmentLength_e</th>\n",
       "      <th>equivalentSoundLevel_dBp_e</th>\n",
       "    </tr>\n",
       "  </thead>\n",
       "  <tbody>\n",
       "    <tr>\n",
       "      <th>0</th>\n",
       "      <td>0</td>\n",
       "      <td>Ses01F_impro01_F000</td>\n",
       "      <td>Excuse me.</td>\n",
       "      <td>c</td>\n",
       "      <td>neu</td>\n",
       "      <td>Ses01F_impro01_F000</td>\n",
       "      <td>0.000000</td>\n",
       "      <td>0.000000</td>\n",
       "      <td>0.000000</td>\n",
       "      <td>0.000000</td>\n",
       "      <td>...</td>\n",
       "      <td>-0.000731</td>\n",
       "      <td>0.002195</td>\n",
       "      <td>0.027680</td>\n",
       "      <td>1.587302</td>\n",
       "      <td>0.000000</td>\n",
       "      <td>0.000000</td>\n",
       "      <td>0.000000</td>\n",
       "      <td>0.570000</td>\n",
       "      <td>0.000000</td>\n",
       "      <td>-50.019608</td>\n",
       "    </tr>\n",
       "    <tr>\n",
       "      <th>1</th>\n",
       "      <td>1</td>\n",
       "      <td>Ses01F_impro01_M000</td>\n",
       "      <td>Do you have your forms?</td>\n",
       "      <td>q</td>\n",
       "      <td>fru</td>\n",
       "      <td>Ses01F_impro01_M000</td>\n",
       "      <td>0.000000</td>\n",
       "      <td>0.000000</td>\n",
       "      <td>0.000000</td>\n",
       "      <td>0.000000</td>\n",
       "      <td>...</td>\n",
       "      <td>-0.009739</td>\n",
       "      <td>0.005470</td>\n",
       "      <td>0.038869</td>\n",
       "      <td>1.052632</td>\n",
       "      <td>1.111111</td>\n",
       "      <td>0.270000</td>\n",
       "      <td>0.000000</td>\n",
       "      <td>0.610000</td>\n",
       "      <td>0.000000</td>\n",
       "      <td>-29.833280</td>\n",
       "    </tr>\n",
       "    <tr>\n",
       "      <th>2</th>\n",
       "      <td>2</td>\n",
       "      <td>Ses01F_impro01_F001</td>\n",
       "      <td>Yeah.</td>\n",
       "      <td>ans</td>\n",
       "      <td>neu</td>\n",
       "      <td>Ses01F_impro01_F001</td>\n",
       "      <td>0.000000</td>\n",
       "      <td>0.000000</td>\n",
       "      <td>0.000000</td>\n",
       "      <td>0.000000</td>\n",
       "      <td>...</td>\n",
       "      <td>-0.000152</td>\n",
       "      <td>0.001867</td>\n",
       "      <td>0.019451</td>\n",
       "      <td>8.888889</td>\n",
       "      <td>0.000000</td>\n",
       "      <td>0.000000</td>\n",
       "      <td>0.000000</td>\n",
       "      <td>0.390000</td>\n",
       "      <td>0.000000</td>\n",
       "      <td>-52.912780</td>\n",
       "    </tr>\n",
       "    <tr>\n",
       "      <th>3</th>\n",
       "      <td>3</td>\n",
       "      <td>Ses01F_impro01_M001</td>\n",
       "      <td>Let me see them.</td>\n",
       "      <td>s</td>\n",
       "      <td>fru</td>\n",
       "      <td>Ses01F_impro01_M001</td>\n",
       "      <td>26.122112</td>\n",
       "      <td>0.032891</td>\n",
       "      <td>26.099644</td>\n",
       "      <td>26.244362</td>\n",
       "      <td>...</td>\n",
       "      <td>-0.008951</td>\n",
       "      <td>0.001008</td>\n",
       "      <td>0.029631</td>\n",
       "      <td>3.252032</td>\n",
       "      <td>0.000000</td>\n",
       "      <td>0.000000</td>\n",
       "      <td>0.000000</td>\n",
       "      <td>1.170000</td>\n",
       "      <td>0.000000</td>\n",
       "      <td>-49.143710</td>\n",
       "    </tr>\n",
       "    <tr>\n",
       "      <th>4</th>\n",
       "      <td>4</td>\n",
       "      <td>Ses01F_impro01_F002</td>\n",
       "      <td>Is there a problem?</td>\n",
       "      <td>q</td>\n",
       "      <td>neu</td>\n",
       "      <td>Ses01F_impro01_F002</td>\n",
       "      <td>0.000000</td>\n",
       "      <td>0.000000</td>\n",
       "      <td>0.000000</td>\n",
       "      <td>0.000000</td>\n",
       "      <td>...</td>\n",
       "      <td>0.000056</td>\n",
       "      <td>-0.000669</td>\n",
       "      <td>0.037681</td>\n",
       "      <td>2.912622</td>\n",
       "      <td>3.061225</td>\n",
       "      <td>0.143333</td>\n",
       "      <td>0.004714</td>\n",
       "      <td>0.120000</td>\n",
       "      <td>0.123895</td>\n",
       "      <td>-32.468056</td>\n",
       "    </tr>\n",
       "    <tr>\n",
       "      <th>...</th>\n",
       "      <td>...</td>\n",
       "      <td>...</td>\n",
       "      <td>...</td>\n",
       "      <td>...</td>\n",
       "      <td>...</td>\n",
       "      <td>...</td>\n",
       "      <td>...</td>\n",
       "      <td>...</td>\n",
       "      <td>...</td>\n",
       "      <td>...</td>\n",
       "      <td>...</td>\n",
       "      <td>...</td>\n",
       "      <td>...</td>\n",
       "      <td>...</td>\n",
       "      <td>...</td>\n",
       "      <td>...</td>\n",
       "      <td>...</td>\n",
       "      <td>...</td>\n",
       "      <td>...</td>\n",
       "      <td>...</td>\n",
       "      <td>...</td>\n",
       "    </tr>\n",
       "    <tr>\n",
       "      <th>1814</th>\n",
       "      <td>1814</td>\n",
       "      <td>Ses01M_script03_2_F040</td>\n",
       "      <td>This is the end do you hear me?  Finally and f...</td>\n",
       "      <td>s</td>\n",
       "      <td>ang</td>\n",
       "      <td>Ses01M_script03_2_F040</td>\n",
       "      <td>32.384240</td>\n",
       "      <td>0.081119</td>\n",
       "      <td>30.534610</td>\n",
       "      <td>31.911644</td>\n",
       "      <td>...</td>\n",
       "      <td>-0.005440</td>\n",
       "      <td>0.003610</td>\n",
       "      <td>0.087855</td>\n",
       "      <td>1.234568</td>\n",
       "      <td>1.273885</td>\n",
       "      <td>0.205000</td>\n",
       "      <td>0.175000</td>\n",
       "      <td>0.560000</td>\n",
       "      <td>0.520000</td>\n",
       "      <td>-18.378300</td>\n",
       "    </tr>\n",
       "    <tr>\n",
       "      <th>1815</th>\n",
       "      <td>1815</td>\n",
       "      <td>Ses01M_script03_2_M041</td>\n",
       "      <td>You're not going like this.</td>\n",
       "      <td>c</td>\n",
       "      <td>ang</td>\n",
       "      <td>Ses01M_script03_2_M041</td>\n",
       "      <td>0.000000</td>\n",
       "      <td>0.000000</td>\n",
       "      <td>0.000000</td>\n",
       "      <td>0.000000</td>\n",
       "      <td>...</td>\n",
       "      <td>0.000795</td>\n",
       "      <td>0.006013</td>\n",
       "      <td>0.083328</td>\n",
       "      <td>2.666667</td>\n",
       "      <td>1.428572</td>\n",
       "      <td>0.070000</td>\n",
       "      <td>0.000000</td>\n",
       "      <td>0.300000</td>\n",
       "      <td>0.080000</td>\n",
       "      <td>-34.489544</td>\n",
       "    </tr>\n",
       "    <tr>\n",
       "      <th>1816</th>\n",
       "      <td>1816</td>\n",
       "      <td>Ses01M_script03_2_F041</td>\n",
       "      <td>Oh yes I am...Oh yes I am. Let go of me. You l...</td>\n",
       "      <td>o</td>\n",
       "      <td>ang</td>\n",
       "      <td>Ses01M_script03_2_F041</td>\n",
       "      <td>40.590290</td>\n",
       "      <td>0.169796</td>\n",
       "      <td>34.144410</td>\n",
       "      <td>40.024890</td>\n",
       "      <td>...</td>\n",
       "      <td>0.016079</td>\n",
       "      <td>-0.004743</td>\n",
       "      <td>1.118974</td>\n",
       "      <td>2.702703</td>\n",
       "      <td>1.442308</td>\n",
       "      <td>0.491111</td>\n",
       "      <td>0.364583</td>\n",
       "      <td>0.203750</td>\n",
       "      <td>0.378118</td>\n",
       "      <td>-5.156447</td>\n",
       "    </tr>\n",
       "    <tr>\n",
       "      <th>1817</th>\n",
       "      <td>1817</td>\n",
       "      <td>Ses01M_script03_2_M042</td>\n",
       "      <td>No you're not.</td>\n",
       "      <td>dag</td>\n",
       "      <td>ang</td>\n",
       "      <td>Ses01M_script03_2_M042</td>\n",
       "      <td>31.108418</td>\n",
       "      <td>0.012443</td>\n",
       "      <td>30.754486</td>\n",
       "      <td>30.995090</td>\n",
       "      <td>...</td>\n",
       "      <td>0.022332</td>\n",
       "      <td>-0.017279</td>\n",
       "      <td>0.420517</td>\n",
       "      <td>3.571429</td>\n",
       "      <td>6.122449</td>\n",
       "      <td>0.110000</td>\n",
       "      <td>0.127279</td>\n",
       "      <td>0.033333</td>\n",
       "      <td>0.009428</td>\n",
       "      <td>-22.351753</td>\n",
       "    </tr>\n",
       "    <tr>\n",
       "      <th>1818</th>\n",
       "      <td>1818</td>\n",
       "      <td>Ses01M_script03_2_M043</td>\n",
       "      <td>Shut up. Shut up. I wouldn't marry you again i...</td>\n",
       "      <td>o</td>\n",
       "      <td>ang</td>\n",
       "      <td>Ses01M_script03_2_M043</td>\n",
       "      <td>46.032696</td>\n",
       "      <td>0.099883</td>\n",
       "      <td>43.077580</td>\n",
       "      <td>45.162704</td>\n",
       "      <td>...</td>\n",
       "      <td>0.022607</td>\n",
       "      <td>-0.019572</td>\n",
       "      <td>3.486527</td>\n",
       "      <td>3.797468</td>\n",
       "      <td>1.495727</td>\n",
       "      <td>0.590000</td>\n",
       "      <td>0.523668</td>\n",
       "      <td>0.066667</td>\n",
       "      <td>0.042295</td>\n",
       "      <td>-4.197755</td>\n",
       "    </tr>\n",
       "  </tbody>\n",
       "</table>\n",
       "<p>1819 rows × 270 columns</p>\n",
       "</div>"
      ],
      "text/plain": [
       "      Unnamed: 0                    TURN  \\\n",
       "0              0     Ses01F_impro01_F000   \n",
       "1              1     Ses01F_impro01_M000   \n",
       "2              2     Ses01F_impro01_F001   \n",
       "3              3     Ses01F_impro01_M001   \n",
       "4              4     Ses01F_impro01_F002   \n",
       "...          ...                     ...   \n",
       "1814        1814  Ses01M_script03_2_F040   \n",
       "1815        1815  Ses01M_script03_2_M041   \n",
       "1816        1816  Ses01M_script03_2_F041   \n",
       "1817        1817  Ses01M_script03_2_M042   \n",
       "1818        1818  Ses01M_script03_2_M043   \n",
       "\n",
       "                                              UTTERANCE   DA EMOTION  \\\n",
       "0                                            Excuse me.    c     neu   \n",
       "1                               Do you have your forms?    q     fru   \n",
       "2                                                 Yeah.  ans     neu   \n",
       "3                                      Let me see them.    s     fru   \n",
       "4                                   Is there a problem?    q     neu   \n",
       "...                                                 ...  ...     ...   \n",
       "1814  This is the end do you hear me?  Finally and f...    s     ang   \n",
       "1815                        You're not going like this.    c     ang   \n",
       "1816  Oh yes I am...Oh yes I am. Let go of me. You l...    o     ang   \n",
       "1817                                     No you're not.  dag     ang   \n",
       "1818  Shut up. Shut up. I wouldn't marry you again i...    o     ang   \n",
       "\n",
       "                  audio_file  F0semitoneFrom27.5Hz_sma3nz_amean_b  \\\n",
       "0        Ses01F_impro01_F000                             0.000000   \n",
       "1        Ses01F_impro01_M000                             0.000000   \n",
       "2        Ses01F_impro01_F001                             0.000000   \n",
       "3        Ses01F_impro01_M001                            26.122112   \n",
       "4        Ses01F_impro01_F002                             0.000000   \n",
       "...                      ...                                  ...   \n",
       "1814  Ses01M_script03_2_F040                            32.384240   \n",
       "1815  Ses01M_script03_2_M041                             0.000000   \n",
       "1816  Ses01M_script03_2_F041                            40.590290   \n",
       "1817  Ses01M_script03_2_M042                            31.108418   \n",
       "1818  Ses01M_script03_2_M043                            46.032696   \n",
       "\n",
       "      F0semitoneFrom27.5Hz_sma3nz_stddevNorm_b  \\\n",
       "0                                     0.000000   \n",
       "1                                     0.000000   \n",
       "2                                     0.000000   \n",
       "3                                     0.032891   \n",
       "4                                     0.000000   \n",
       "...                                        ...   \n",
       "1814                                  0.081119   \n",
       "1815                                  0.000000   \n",
       "1816                                  0.169796   \n",
       "1817                                  0.012443   \n",
       "1818                                  0.099883   \n",
       "\n",
       "      F0semitoneFrom27.5Hz_sma3nz_percentile20.0_b  \\\n",
       "0                                         0.000000   \n",
       "1                                         0.000000   \n",
       "2                                         0.000000   \n",
       "3                                        26.099644   \n",
       "4                                         0.000000   \n",
       "...                                            ...   \n",
       "1814                                     30.534610   \n",
       "1815                                      0.000000   \n",
       "1816                                     34.144410   \n",
       "1817                                     30.754486   \n",
       "1818                                     43.077580   \n",
       "\n",
       "      F0semitoneFrom27.5Hz_sma3nz_percentile50.0_b  ...  \\\n",
       "0                                         0.000000  ...   \n",
       "1                                         0.000000  ...   \n",
       "2                                         0.000000  ...   \n",
       "3                                        26.244362  ...   \n",
       "4                                         0.000000  ...   \n",
       "...                                            ...  ...   \n",
       "1814                                     31.911644  ...   \n",
       "1815                                      0.000000  ...   \n",
       "1816                                     40.024890  ...   \n",
       "1817                                     30.995090  ...   \n",
       "1818                                     45.162704  ...   \n",
       "\n",
       "      slopeUV0-500_sma3nz_amean_e  slopeUV500-1500_sma3nz_amean_e  \\\n",
       "0                       -0.000731                        0.002195   \n",
       "1                       -0.009739                        0.005470   \n",
       "2                       -0.000152                        0.001867   \n",
       "3                       -0.008951                        0.001008   \n",
       "4                        0.000056                       -0.000669   \n",
       "...                           ...                             ...   \n",
       "1814                    -0.005440                        0.003610   \n",
       "1815                     0.000795                        0.006013   \n",
       "1816                     0.016079                       -0.004743   \n",
       "1817                     0.022332                       -0.017279   \n",
       "1818                     0.022607                       -0.019572   \n",
       "\n",
       "      spectralFluxUV_sma3nz_amean_e  loudnessPeaksPerSec_e  \\\n",
       "0                          0.027680               1.587302   \n",
       "1                          0.038869               1.052632   \n",
       "2                          0.019451               8.888889   \n",
       "3                          0.029631               3.252032   \n",
       "4                          0.037681               2.912622   \n",
       "...                             ...                    ...   \n",
       "1814                       0.087855               1.234568   \n",
       "1815                       0.083328               2.666667   \n",
       "1816                       1.118974               2.702703   \n",
       "1817                       0.420517               3.571429   \n",
       "1818                       3.486527               3.797468   \n",
       "\n",
       "      VoicedSegmentsPerSec_e  MeanVoicedSegmentLengthSec_e  \\\n",
       "0                   0.000000                      0.000000   \n",
       "1                   1.111111                      0.270000   \n",
       "2                   0.000000                      0.000000   \n",
       "3                   0.000000                      0.000000   \n",
       "4                   3.061225                      0.143333   \n",
       "...                      ...                           ...   \n",
       "1814                1.273885                      0.205000   \n",
       "1815                1.428572                      0.070000   \n",
       "1816                1.442308                      0.491111   \n",
       "1817                6.122449                      0.110000   \n",
       "1818                1.495727                      0.590000   \n",
       "\n",
       "      StddevVoicedSegmentLengthSec_e  MeanUnvoicedSegmentLength_e  \\\n",
       "0                           0.000000                     0.570000   \n",
       "1                           0.000000                     0.610000   \n",
       "2                           0.000000                     0.390000   \n",
       "3                           0.000000                     1.170000   \n",
       "4                           0.004714                     0.120000   \n",
       "...                              ...                          ...   \n",
       "1814                        0.175000                     0.560000   \n",
       "1815                        0.000000                     0.300000   \n",
       "1816                        0.364583                     0.203750   \n",
       "1817                        0.127279                     0.033333   \n",
       "1818                        0.523668                     0.066667   \n",
       "\n",
       "      StddevUnvoicedSegmentLength_e  equivalentSoundLevel_dBp_e  \n",
       "0                          0.000000                  -50.019608  \n",
       "1                          0.000000                  -29.833280  \n",
       "2                          0.000000                  -52.912780  \n",
       "3                          0.000000                  -49.143710  \n",
       "4                          0.123895                  -32.468056  \n",
       "...                             ...                         ...  \n",
       "1814                       0.520000                  -18.378300  \n",
       "1815                       0.080000                  -34.489544  \n",
       "1816                       0.378118                   -5.156447  \n",
       "1817                       0.009428                  -22.351753  \n",
       "1818                       0.042295                   -4.197755  \n",
       "\n",
       "[1819 rows x 270 columns]"
      ]
     },
     "execution_count": 7,
     "metadata": {},
     "output_type": "execute_result"
    }
   ],
   "source": [
    "iemocap1"
   ]
  },
  {
   "cell_type": "code",
   "execution_count": 8,
   "metadata": {
    "colab": {
     "base_uri": "https://localhost:8080/"
    },
    "id": "rHJE-DJPH83N",
    "outputId": "798a5f27-2d5a-4ce9-8388-ee7ce0fb9678"
   },
   "outputs": [
    {
     "name": "stdout",
     "output_type": "stream",
     "text": [
      "split 1 counts\n",
      "Unnamed: 0                        1819\n",
      "TURN                              1819\n",
      "UTTERANCE                         1819\n",
      "DA                                1819\n",
      "EMOTION                           1819\n",
      "                                  ... \n",
      "MeanVoicedSegmentLengthSec_e      1819\n",
      "StddevVoicedSegmentLengthSec_e    1819\n",
      "MeanUnvoicedSegmentLength_e       1819\n",
      "StddevUnvoicedSegmentLength_e     1819\n",
      "equivalentSoundLevel_dBp_e        1819\n",
      "Length: 270, dtype: int64\n",
      "split 2 counts\n",
      "Unnamed: 0                        1762\n",
      "TURN                              1762\n",
      "UTTERANCE                         1762\n",
      "DA                                1762\n",
      "EMOTION                           1762\n",
      "                                  ... \n",
      "MeanVoicedSegmentLengthSec_e      1762\n",
      "StddevVoicedSegmentLengthSec_e    1762\n",
      "MeanUnvoicedSegmentLength_e       1762\n",
      "StddevUnvoicedSegmentLength_e     1762\n",
      "equivalentSoundLevel_dBp_e        1762\n",
      "Length: 270, dtype: int64\n",
      "split 3 counts\n",
      "Unnamed: 0                        1760\n",
      "TURN                              1760\n",
      "UTTERANCE                         1760\n",
      "DA                                1760\n",
      "EMOTION                           1760\n",
      "                                  ... \n",
      "MeanVoicedSegmentLengthSec_e      1760\n",
      "StddevVoicedSegmentLengthSec_e    1760\n",
      "MeanUnvoicedSegmentLength_e       1760\n",
      "StddevUnvoicedSegmentLength_e     1760\n",
      "equivalentSoundLevel_dBp_e        1760\n",
      "Length: 270, dtype: int64\n",
      "split 4 counts\n",
      "Unnamed: 0                        1865\n",
      "TURN                              1865\n",
      "UTTERANCE                         1865\n",
      "DA                                1865\n",
      "EMOTION                           1865\n",
      "                                  ... \n",
      "MeanVoicedSegmentLengthSec_e      1865\n",
      "StddevVoicedSegmentLengthSec_e    1865\n",
      "MeanUnvoicedSegmentLength_e       1865\n",
      "StddevUnvoicedSegmentLength_e     1865\n",
      "equivalentSoundLevel_dBp_e        1865\n",
      "Length: 270, dtype: int64\n",
      "split 5 counts\n",
      "Unnamed: 0                        2170\n",
      "TURN                              2170\n",
      "UTTERANCE                         2170\n",
      "DA                                2170\n",
      "EMOTION                           2170\n",
      "                                  ... \n",
      "MeanVoicedSegmentLengthSec_e      2170\n",
      "StddevVoicedSegmentLengthSec_e    2170\n",
      "MeanUnvoicedSegmentLength_e       2170\n",
      "StddevUnvoicedSegmentLength_e     2170\n",
      "equivalentSoundLevel_dBp_e        2170\n",
      "Length: 270, dtype: int64\n"
     ]
    }
   ],
   "source": [
    "# Figure out null columns\n",
    "print(\"split 1 counts\")\n",
    "print(iemocap1.count())\n",
    "\n",
    "print(\"split 2 counts\")\n",
    "print(iemocap2.count())\n",
    "\n",
    "print(\"split 3 counts\")\n",
    "print(iemocap3.count())\n",
    "\n",
    "print(\"split 4 counts\")\n",
    "print(iemocap4.count())\n",
    "\n",
    "print(\"split 5 counts\")\n",
    "print(iemocap5.count())"
   ]
  },
  {
   "cell_type": "code",
   "execution_count": 9,
   "metadata": {},
   "outputs": [],
   "source": [
    "# Get the DA labels\n",
    "da_labels_iemocap1 = iemocap1['DA']\n",
    "da_labels_iemocap2 = iemocap2['DA']\n",
    "da_labels_iemocap3 = iemocap3['DA']\n",
    "da_labels_iemocap4 = iemocap4['DA']\n",
    "da_labels_iemocap5 = iemocap5['DA']\n",
    "\n",
    "# Emotion labels\n",
    "emot_labels_iemocap1 = iemocap1['EMOTION']\n",
    "emot_labels_iemocap2 = iemocap2['EMOTION']\n",
    "emot_labels_iemocap3 = iemocap3['EMOTION']\n",
    "emot_labels_iemocap4 = iemocap4['EMOTION']\n",
    "emot_labels_iemocap5 = iemocap5['EMOTION']"
   ]
  },
  {
   "cell_type": "code",
   "execution_count": 10,
   "metadata": {},
   "outputs": [
    {
     "data": {
      "text/plain": [
       "s      2170\n",
       "o      2073\n",
       "q      1945\n",
       "ans    1429\n",
       "ag      497\n",
       "dag     372\n",
       "c       350\n",
       "b       284\n",
       "ap       75\n",
       "oth      68\n",
       "g        59\n",
       "a        54\n",
       "Name: DA, dtype: int64"
      ]
     },
     "execution_count": 10,
     "metadata": {},
     "output_type": "execute_result"
    }
   ],
   "source": [
    "# Get a sense of the value counts for the data\n",
    "full_da_labels = pd.concat([da_labels_iemocap1, da_labels_iemocap2, da_labels_iemocap3, da_labels_iemocap4, da_labels_iemocap5])\n",
    "full_da_labels.value_counts()"
   ]
  },
  {
   "cell_type": "code",
   "execution_count": 11,
   "metadata": {},
   "outputs": [
    {
     "data": {
      "text/plain": [
       "xxx    2305\n",
       "fru    1714\n",
       "neu    1613\n",
       "ang    1034\n",
       "sad    1011\n",
       "exc     999\n",
       "hap     563\n",
       "sur      94\n",
       "fea      38\n",
       "oth       3\n",
       "dis       2\n",
       "Name: EMOTION, dtype: int64"
      ]
     },
     "execution_count": 11,
     "metadata": {},
     "output_type": "execute_result"
    }
   ],
   "source": [
    "full_emot_data = pd.concat([emot_labels_iemocap1, emot_labels_iemocap2, emot_labels_iemocap3, emot_labels_iemocap4, emot_labels_iemocap5])\n",
    "full_emot_data.value_counts()"
   ]
  },
  {
   "cell_type": "code",
   "execution_count": 12,
   "metadata": {
    "colab": {
     "base_uri": "https://localhost:8080/"
    },
    "id": "VfnPtGvu1OSU",
    "outputId": "12aa201c-f4f1-4e25-bb25-8bf56a5b9e10"
   },
   "outputs": [],
   "source": [
    "# Turn code into categorical data\n",
    "# Create one hot embeddings of the label values (0, 1, 2)\n",
    "from tensorflow.keras.utils import to_categorical\n",
    "from sklearn import preprocessing\n",
    "import numpy as np\n",
    "\n",
    "# Full set of dialogue act labels\n",
    "da_labels = ['s', 'q', 'o', 'ans', 'c', 'ag', 'b', 'dag', 'oth', 'a', 'ap', 'g']\n",
    "da_encoder = preprocessing.LabelEncoder()\n",
    "da_encoder.fit(da_labels)\n",
    "\n",
    "emotion_labels = ['xxx', 'fru', 'neu', 'ang', 'sad', 'exc', 'hap', 'sur', 'fea', 'oth', 'dis']\n",
    "emotion_encoder = preprocessing.LabelEncoder()\n",
    "emotion_encoder.fit(emotion_labels)\n",
    "\n",
    "def convert_da_labels_to_categorical(dialog_acts):\n",
    "    num_labels = da_encoder.transform(dialog_acts)\n",
    "    cat_labels = to_categorical(num_labels)\n",
    "    return cat_labels\n",
    "\n",
    "def convert_cat_da_to_string(cat_das):\n",
    "    num_labels = np.argmax(cat_das, axis=-1)\n",
    "    return da_encoder.inverse_transform(num_labels)\n",
    "\n",
    "def convert_emot_labels_to_categorical(emot_data):\n",
    "    num_labels = emotion_encoder.transform(emot_data)\n",
    "    cat_labels = to_categorical(num_labels)\n",
    "    return cat_labels\n",
    "\n",
    "def convert_cat_emot_to_string(cat_emot_data):\n",
    "    num_labels = np.argmax(cat_emot_data, axis=-1)\n",
    "    return emotion_encoder.inverse_transform(num_labels)"
   ]
  },
  {
   "cell_type": "code",
   "execution_count": 13,
   "metadata": {},
   "outputs": [
    {
     "name": "stdout",
     "output_type": "stream",
     "text": [
      "c\n",
      "[0. 0. 0. 0. 0. 1. 0. 0. 0. 0. 0. 0.]\n",
      "c\n",
      "neu\n",
      "[0. 0. 0. 0. 0. 0. 1. 0. 0. 0. 0.]\n",
      "neu\n"
     ]
    }
   ],
   "source": [
    "print(da_labels_iemocap1[0])\n",
    "cat_1_labels = convert_da_labels_to_categorical(da_labels_iemocap1)\n",
    "print(cat_1_labels[0])\n",
    "string_das = convert_cat_da_to_string(cat_1_labels)\n",
    "print(string_das[0])\n",
    "\n",
    "print(emot_labels_iemocap1[0])\n",
    "cat_1_emot_labels = convert_emot_labels_to_categorical(emot_labels_iemocap1)\n",
    "print(cat_1_emot_labels[0])\n",
    "string_emot = convert_cat_emot_to_string(cat_1_emot_labels)\n",
    "print(string_emot[0])"
   ]
  },
  {
   "cell_type": "code",
   "execution_count": 14,
   "metadata": {},
   "outputs": [],
   "source": [
    "# CREATE OUR 5 TRAIN DATA SPLITS\n",
    "# Create and save glove embeddings for each train split of the IEMOCAP files\n",
    "train_split_1 = pd.concat([iemocap1, iemocap2, iemocap3])\n",
    "train_split_2 = pd.concat([iemocap2, iemocap3, iemocap4])\n",
    "train_split_3 = pd.concat([iemocap3, iemocap4, iemocap5])\n",
    "train_split_4 = pd.concat([iemocap4, iemocap5, iemocap1])\n",
    "train_split_5 = pd.concat([iemocap5, iemocap1, iemocap2])"
   ]
  },
  {
   "cell_type": "code",
   "execution_count": 15,
   "metadata": {},
   "outputs": [],
   "source": [
    "valid_split_1 = iemocap4\n",
    "test_split_1 = iemocap5\n",
    "\n",
    "valid_split_2 = iemocap5\n",
    "test_split_2 = iemocap1\n",
    "\n",
    "valid_split_3 = iemocap1\n",
    "test_split_3 = iemocap2\n",
    "\n",
    "valid_split_4 = iemocap2\n",
    "test_split_4 = iemocap3\n",
    "\n",
    "valid_split_5 = iemocap3\n",
    "test_split_5 = iemocap4"
   ]
  },
  {
   "cell_type": "code",
   "execution_count": 16,
   "metadata": {},
   "outputs": [],
   "source": [
    "# CREATE THE 5 SPLITS OF LABELS\n",
    "## SPLIT 1\n",
    "# Split 1 DA Labels\n",
    "train_split_1_da_labels = pd.concat([da_labels_iemocap1, da_labels_iemocap2, da_labels_iemocap3])\n",
    "valid_split_1_da_labels = da_labels_iemocap4\n",
    "test_split_1_da_labels = da_labels_iemocap5\n",
    "\n",
    "# Split 1 ER Labels\n",
    "train_split_1_er_labels = pd.concat([emot_labels_iemocap1, emot_labels_iemocap2, emot_labels_iemocap3])\n",
    "valid_split_1_er_labels = pd.concat([emot_labels_iemocap4])\n",
    "test_split_1_er_labels = pd.concat([emot_labels_iemocap5])\n",
    "\n",
    "## SPLIT 2\n",
    "# Split 2 DA Labels\n",
    "train_split_2_da_labels = pd.concat([da_labels_iemocap2, da_labels_iemocap3, da_labels_iemocap4])\n",
    "valid_split_2_da_labels = da_labels_iemocap5\n",
    "test_split_2_da_labels = da_labels_iemocap1\n",
    "\n",
    "# Split 2 ER Labels\n",
    "train_split_2_er_labels = pd.concat([emot_labels_iemocap2, emot_labels_iemocap3, emot_labels_iemocap4])\n",
    "valid_split_2_er_labels = pd.concat([emot_labels_iemocap5])\n",
    "test_split_2_er_labels = pd.concat([emot_labels_iemocap1])\n",
    "\n",
    "## SPLIT 3\n",
    "# Split 3 DA Labels\n",
    "train_split_3_da_labels = pd.concat([da_labels_iemocap3, da_labels_iemocap4, da_labels_iemocap5])\n",
    "valid_split_3_da_labels = da_labels_iemocap1\n",
    "test_split_3_da_labels = da_labels_iemocap2\n",
    "\n",
    "# Split 3 ER Labels\n",
    "train_split_3_er_labels = pd.concat([emot_labels_iemocap3, emot_labels_iemocap4, emot_labels_iemocap5])\n",
    "valid_split_3_er_labels = pd.concat([emot_labels_iemocap1])\n",
    "test_split_3_er_labels = pd.concat([emot_labels_iemocap2])\n",
    "\n",
    "\n",
    "## SPLIT 4\n",
    "# Split 4 DA Labels\n",
    "train_split_4_da_labels = pd.concat([da_labels_iemocap4, da_labels_iemocap5, da_labels_iemocap1])\n",
    "valid_split_4_da_labels = da_labels_iemocap2\n",
    "test_split_4_da_labels = da_labels_iemocap3\n",
    "\n",
    "# Split 4 ER Labels\n",
    "train_split_4_er_labels = pd.concat([emot_labels_iemocap4, emot_labels_iemocap5, emot_labels_iemocap1])\n",
    "valid_split_4_er_labels = pd.concat([emot_labels_iemocap2])\n",
    "test_split_4_er_labels = pd.concat([emot_labels_iemocap3])\n",
    "\n",
    "## SPLIT 5\n",
    "# Split 5 DA Labels\n",
    "train_split_5_da_labels = pd.concat([da_labels_iemocap5, da_labels_iemocap1, da_labels_iemocap2])\n",
    "valid_split_5_da_labels = da_labels_iemocap3\n",
    "test_split_5_da_labels = da_labels_iemocap4\n",
    "\n",
    "# Split 5 ER Labels\n",
    "train_split_5_er_labels = pd.concat([emot_labels_iemocap5, emot_labels_iemocap1, emot_labels_iemocap2])\n",
    "valid_split_5_er_labels = pd.concat([emot_labels_iemocap3])\n",
    "test_split_5_er_labels = pd.concat([emot_labels_iemocap4])"
   ]
  },
  {
   "cell_type": "code",
   "execution_count": 17,
   "metadata": {
    "id": "RXx0B6n5rsci"
   },
   "outputs": [],
   "source": [
    "## Create our Text Vectorizer to index our vocabulary based on the train samples \n",
    "from keras.layers import TextVectorization\n",
    "import tensorflow as tf\n",
    "\n",
    "def create_text_vectorizer_for_train_samples(train_set):\n",
    "    train_samples = [utterance for utterance in train_set['UTTERANCE']]\n",
    "\n",
    "    vectorizer = TextVectorization(max_tokens=10000, output_sequence_length=300)\n",
    "    text_ds = tf.data.Dataset.from_tensor_slices(train_samples).batch(128) ## Read batches of 128 samples\n",
    "    vectorizer.adapt(text_ds)\n",
    "    return vectorizer"
   ]
  },
  {
   "cell_type": "code",
   "execution_count": 78,
   "metadata": {
    "colab": {
     "base_uri": "https://localhost:8080/",
     "height": 423
    },
    "id": "55xTh1qJ5HHs",
    "outputId": "1bb709b7-aa33-4638-82f8-79e27ffbffc8"
   },
   "outputs": [],
   "source": [
    "vectorizer = create_text_vectorizer_for_train_samples(iemocap1)"
   ]
  },
  {
   "cell_type": "code",
   "execution_count": 79,
   "metadata": {
    "id": "39_80VAIyYLW"
   },
   "outputs": [],
   "source": [
    "import numpy as np\n",
    "\n",
    "x_train = vectorizer(np.array([[s] for s in iemocap1])).numpy()"
   ]
  },
  {
   "cell_type": "code",
   "execution_count": 18,
   "metadata": {
    "colab": {
     "base_uri": "https://localhost:8080/"
    },
    "id": "JWzZIeggzWDM",
    "outputId": "3eea8555-d2a0-4ec0-cd1f-1a18084b46bc"
   },
   "outputs": [
    {
     "name": "stdout",
     "output_type": "stream",
     "text": [
      "Found 400000 word vectors.\n"
     ]
    }
   ],
   "source": [
    "from keras.layers import Embedding\n",
    "from keras.initializers import Constant\n",
    "import os\n",
    "import numpy as np\n",
    "\n",
    "# Load the GloVE embeddings\n",
    "path_to_glove_file = \"glove.6B.300d.txt\"\n",
    "embedding_dim = 300 ## 300 dimensions (as dictated by the glove file)\n",
    "\n",
    "embeddings_index = {}\n",
    "with open(path_to_glove_file) as f:\n",
    "  for line in f:\n",
    "    word, coefs = line.split(maxsplit=1)\n",
    "    coefs = np.fromstring(coefs, \"f\", sep=\" \")\n",
    "    embeddings_index[word] = coefs\n",
    "\n",
    "print(\"Found %s word vectors.\" % len(embeddings_index))\n",
    "\n",
    "def create_glove_embedding_matrix_for_vectorizer(vectorizer):\n",
    "    # Create embedding matrix with our vocabulary indexed on glove\n",
    "    voc = vectorizer.get_vocabulary()\n",
    "    word_index = dict(zip(voc, range(len(voc))))\n",
    "\n",
    "    num_tokens = len(voc) \n",
    "    hits = 0 ## number of words that were found in the pretrained model\n",
    "    misses = 0 ## number of words that were missing in the pretrained model\n",
    "\n",
    "    # Prepare embedding matrix for our word list\n",
    "    embedding_matrix = np.zeros((num_tokens, embedding_dim))\n",
    "    for word, i in word_index.items():\n",
    "        embedding_vector = embeddings_index.get(word)\n",
    "        if embedding_vector is not None:\n",
    "          # Words not found in embedding index will be all-zeros.\n",
    "          # This includes the representation for \"padding\" and \"OOV\"\n",
    "          embedding_matrix[i] = embedding_vector\n",
    "          hits += 1\n",
    "        else:\n",
    "          misses += 1\n",
    "    print(\"Converted %d words (%d misses)\" % (hits, misses))\n",
    "    \n",
    "    return embedding_matrix\n",
    "\n",
    "def create_glove_embedding_layer_for_matrix(embedding_matrix, num_tokens):\n",
    "    glove_embedding_layer = Embedding(num_tokens, embedding_dim, embeddings_initializer=Constant(embedding_matrix), trainable=False)\n",
    "    return glove_embedding_layer"
   ]
  },
  {
   "cell_type": "code",
   "execution_count": 19,
   "metadata": {
    "id": "iTad7EkIztii"
   },
   "outputs": [],
   "source": [
    "# Save the glove embeddings for each file \n",
    "import pickle\n",
    "\n",
    "iemocap_prefix = \"iemocap_\"\n",
    "iemocap_split_prefix = \"iemocap_split_\"\n",
    "glove_embedding_prefix = \"glove_embedding_\"\n",
    "\n",
    "def create_and_pickle_glove_embeddings(iemocap_data, output_file):\n",
    "    print(\"Creating vectorizer\")\n",
    "    text_vectorizer = create_text_vectorizer_for_train_samples(iemocap_data)\n",
    "    \n",
    "    print(\"Creating embedding matrix\")\n",
    "    embedding_matrix = create_glove_embedding_matrix_for_vectorizer(text_vectorizer)\n",
    "    \n",
    "    print(\"Dumping to pickle file\")\n",
    "    with open(output_file, 'wb') as f:\n",
    "        pickle.dump(embedding_matrix, f)\n",
    "    \n",
    "    print(\"Success!\")"
   ]
  },
  {
   "cell_type": "code",
   "execution_count": 82,
   "metadata": {},
   "outputs": [
    {
     "name": "stdout",
     "output_type": "stream",
     "text": [
      "Creating vectorizer\n",
      "Creating embedding matrix\n",
      "Converted 2565 words (403 misses)\n",
      "Dumping to pickle file\n",
      "Success!\n",
      "Creating vectorizer\n",
      "Creating embedding matrix\n",
      "Converted 2569 words (361 misses)\n",
      "Dumping to pickle file\n",
      "Success!\n",
      "Creating vectorizer\n",
      "Creating embedding matrix\n",
      "Converted 2675 words (257 misses)\n",
      "Dumping to pickle file\n",
      "Success!\n",
      "Creating vectorizer\n",
      "Creating embedding matrix\n",
      "Converted 2693 words (194 misses)\n",
      "Dumping to pickle file\n",
      "Success!\n",
      "Creating vectorizer\n",
      "Creating embedding matrix\n",
      "Converted 2641 words (328 misses)\n",
      "Dumping to pickle file\n",
      "Success!\n"
     ]
    }
   ],
   "source": [
    "# Create glove embeddings for each split\n",
    "output_file_split_1 = glove_embedding_prefix + iemocap_split_prefix + \"1\" + '.pickle'\n",
    "output_file_split_2 = glove_embedding_prefix + iemocap_split_prefix + \"2\" + '.pickle'\n",
    "output_file_split_3 = glove_embedding_prefix + iemocap_split_prefix + \"3\" + '.pickle'\n",
    "output_file_split_4 = glove_embedding_prefix + iemocap_split_prefix + \"4\" + '.pickle'\n",
    "output_file_split_5 = glove_embedding_prefix + iemocap_split_prefix + \"5\" + '.pickle'\n",
    "\n",
    "create_and_pickle_glove_embeddings(train_split_1, output_file_split_1)\n",
    "create_and_pickle_glove_embeddings(train_split_2, output_file_split_2)\n",
    "create_and_pickle_glove_embeddings(train_split_3, output_file_split_3)\n",
    "create_and_pickle_glove_embeddings(train_split_4, output_file_split_4)\n",
    "create_and_pickle_glove_embeddings(train_split_5, output_file_split_5)"
   ]
  },
  {
   "cell_type": "code",
   "execution_count": 83,
   "metadata": {},
   "outputs": [
    {
     "name": "stdout",
     "output_type": "stream",
     "text": [
      "Creating vectorizer\n",
      "Creating embedding matrix\n",
      "Converted 1706 words (97 misses)\n",
      "Dumping to pickle file\n",
      "Success!\n",
      "Creating vectorizer\n",
      "Creating embedding matrix\n",
      "Converted 1685 words (193 misses)\n",
      "Dumping to pickle file\n",
      "Success!\n",
      "Creating vectorizer\n",
      "Creating embedding matrix\n",
      "Converted 1680 words (163 misses)\n",
      "Dumping to pickle file\n",
      "Success!\n",
      "Creating vectorizer\n",
      "Creating embedding matrix\n",
      "Converted 1763 words (55 misses)\n",
      "Dumping to pickle file\n",
      "Success!\n",
      "Creating vectorizer\n",
      "Creating embedding matrix\n",
      "Converted 1841 words (83 misses)\n",
      "Dumping to pickle file\n",
      "Success!\n"
     ]
    }
   ],
   "source": [
    "# Create glove embeddings for individual files\n",
    "output_file_1 = glove_embedding_prefix + iemocap_prefix + \"1\" + '.pickle'\n",
    "output_file_2 = glove_embedding_prefix + iemocap_prefix + \"2\" + '.pickle'\n",
    "output_file_3 = glove_embedding_prefix + iemocap_prefix + \"3\" + '.pickle'\n",
    "output_file_4 = glove_embedding_prefix + iemocap_prefix + \"4\" + '.pickle'\n",
    "output_file_5 = glove_embedding_prefix + iemocap_prefix + \"5\" + '.pickle'\n",
    "\n",
    "create_and_pickle_glove_embeddings(iemocap1, output_file_1)\n",
    "create_and_pickle_glove_embeddings(iemocap2, output_file_2)\n",
    "create_and_pickle_glove_embeddings(iemocap3, output_file_3)\n",
    "create_and_pickle_glove_embeddings(iemocap4, output_file_4)\n",
    "create_and_pickle_glove_embeddings(iemocap5, output_file_5)"
   ]
  },
  {
   "cell_type": "code",
   "execution_count": 20,
   "metadata": {},
   "outputs": [],
   "source": [
    "import numpy as np\n",
    "# Load the Glove embedding matrix\n",
    "\n",
    "def load_glove_embedding_matrix(filename):\n",
    "    glove_embedding_matrix = np.array(np.load(filename, allow_pickle=True))\n",
    "    return glove_embedding_matrix"
   ]
  },
  {
   "cell_type": "code",
   "execution_count": 21,
   "metadata": {},
   "outputs": [],
   "source": [
    "# Load individual iemocap glove embeddings\n",
    "iemocap1_glove = load_glove_embedding_matrix('glove_embedding_iemocap_1.pickle')\n",
    "iemocap2_glove = load_glove_embedding_matrix('glove_embedding_iemocap_2.pickle')\n",
    "iemocap3_glove = load_glove_embedding_matrix('glove_embedding_iemocap_3.pickle')\n",
    "iemocap4_glove = load_glove_embedding_matrix('glove_embedding_iemocap_4.pickle')\n",
    "iemocap5_glove = load_glove_embedding_matrix('glove_embedding_iemocap_5.pickle')"
   ]
  },
  {
   "cell_type": "code",
   "execution_count": 22,
   "metadata": {},
   "outputs": [],
   "source": [
    "# Load combined glove embeddings\n",
    "iemocap_train_split_1_glove = load_glove_embedding_matrix('glove_embedding_iemocap_split_1.pickle')\n",
    "iemocap_train_split_2_glove = load_glove_embedding_matrix('glove_embedding_iemocap_split_2.pickle')\n",
    "iemocap_train_split_3_glove = load_glove_embedding_matrix('glove_embedding_iemocap_split_3.pickle')\n",
    "iemocap_train_split_4_glove = load_glove_embedding_matrix('glove_embedding_iemocap_split_4.pickle')\n",
    "iemocap_train_split_5_glove = load_glove_embedding_matrix('glove_embedding_iemocap_split_5.pickle')"
   ]
  },
  {
   "cell_type": "code",
   "execution_count": 23,
   "metadata": {},
   "outputs": [
    {
     "name": "stdout",
     "output_type": "stream",
     "text": [
      "Creating glove features for split 0\n",
      "5341\n"
     ]
    },
    {
     "name": "stderr",
     "output_type": "stream",
     "text": [
      "2022-05-04 22:08:45.438673: I tensorflow/core/platform/cpu_feature_guard.cc:151] This TensorFlow binary is optimized with oneAPI Deep Neural Network Library (oneDNN) to use the following CPU instructions in performance-critical operations:  AVX2 FMA\n",
      "To enable them in other operations, rebuild TensorFlow with the appropriate compiler flags.\n"
     ]
    },
    {
     "name": "stdout",
     "output_type": "stream",
     "text": [
      "Creating glove features for split 1\n",
      "5387\n",
      "Creating glove features for split 2\n",
      "5795\n",
      "Creating glove features for split 3\n",
      "5854\n",
      "Creating glove features for split 4\n",
      "5751\n"
     ]
    }
   ],
   "source": [
    "from keras import Sequential\n",
    "from keras.layers import Dense, Flatten\n",
    "\n",
    "def create_glove_embedded_vectors_for_split(embedding_matrix, train_split, valid_split, test_split):\n",
    "    vectorizer = create_text_vectorizer_for_train_samples(train_split)\n",
    "    num_tokens_voc = len(vectorizer.get_vocabulary())\n",
    "    x_train = vectorizer(np.array([[s] for s in train_split['UTTERANCE']])).numpy()\n",
    "    x_valid = vectorizer(np.array([[s] for s in valid_split['UTTERANCE']])).numpy()\n",
    "    x_test = vectorizer(np.array([[s] for s in test_split['UTTERANCE']])).numpy()\n",
    "            \n",
    "    embedding_model = Sequential()\n",
    "    embedding_layer = create_glove_embedding_layer_for_matrix(embedding_matrix, num_tokens_voc)\n",
    "    embedding_model.add(embedding_layer)\n",
    "    embedding_model.add(Flatten())\n",
    "    \n",
    "    x_train_vectors = embedding_model.predict(x_train)\n",
    "    x_valid_vectors = embedding_model.predict(x_valid)\n",
    "    x_test_vectors = embedding_model.predict(x_test)\n",
    "    \n",
    "    return x_train_vectors, x_valid_vectors, x_test_vectors\n",
    "\n",
    "glove_train_embedding_matrices = [iemocap_train_split_1_glove, iemocap_train_split_2_glove, iemocap_train_split_3_glove, iemocap_train_split_4_glove, iemocap_train_split_5_glove]\n",
    "x_train_list= [train_split_1, train_split_2, train_split_3, train_split_4, train_split_5]\n",
    "x_valid_list = [valid_split_1, valid_split_2, valid_split_3, valid_split_4, valid_split_5]\n",
    "x_test_list = [test_split_1, test_split_2, test_split_3, test_split_4, test_split_5]\n",
    "\n",
    "glove_train_features = []\n",
    "glove_valid_features = []\n",
    "glove_test_features = []\n",
    "    \n",
    "for i in range(5):\n",
    "    print(f\"Creating glove features for split {i}\")\n",
    "    \n",
    "    embedding_matrix = glove_train_embedding_matrices[i]\n",
    "    train_split = x_train_list[i]\n",
    "    print(len(train_split))\n",
    "    valid_split = x_valid_list[i]\n",
    "    test_split = x_test_list[i]\n",
    "    \n",
    "    x_train_vectors, x_valid_vectors, x_test_vectors = create_glove_embedded_vectors_for_split(embedding_matrix, train_split, valid_split, test_split)\n",
    "    glove_train_features.append(x_train_vectors)\n",
    "    glove_valid_features.append(x_valid_vectors)\n",
    "    glove_test_features.append(x_test_vectors)\n"
   ]
  },
  {
   "cell_type": "code",
   "execution_count": 87,
   "metadata": {},
   "outputs": [
    {
     "name": "stdout",
     "output_type": "stream",
     "text": [
      "1803\n",
      "2968\n"
     ]
    }
   ],
   "source": [
    "print(len(iemocap1_glove))\n",
    "print(len(iemocap_train_split_1_glove))"
   ]
  },
  {
   "cell_type": "code",
   "execution_count": 128,
   "metadata": {
    "colab": {
     "base_uri": "https://localhost:8080/"
    },
    "id": "FCMLqNR9GSA9",
    "outputId": "d0fdfb17-94fc-491e-f4e6-de89a711618e"
   },
   "outputs": [
    {
     "name": "stderr",
     "output_type": "stream",
     "text": [
      "All model checkpoint layers were used when initializing TFBertForSequenceClassification.\n",
      "\n",
      "Some layers of TFBertForSequenceClassification were not initialized from the model checkpoint at bert-base-uncased and are newly initialized: ['classifier']\n",
      "You should probably TRAIN this model on a down-stream task to be able to use it for predictions and inference.\n"
     ]
    }
   ],
   "source": [
    "# Create a BERT encoding of the data\n",
    "import tensorflow\n",
    "from transformers import BertTokenizer, TFBertForSequenceClassification\n",
    "from tensorflow.python.ops.numpy_ops import np_config\n",
    "\n",
    "np_config.enable_numpy_behavior()\n",
    "\n",
    "tokenizer = BertTokenizer.from_pretrained('bert-base-uncased')\n",
    "model = TFBertForSequenceClassification.from_pretrained('bert-base-uncased') \n",
    "\n",
    "def generate_bert_encoding(sentence):\n",
    "    inputs = tokenizer.encode(sentence, padding=True, truncation=True, max_length=50, return_tensors=\"tf\")\n",
    "    outputs = model(inputs, output_hidden_states=True)\n",
    "    last_hidden_layer = outputs.hidden_states[-1]\n",
    "    feature_vector = last_hidden_layer.numpy()\n",
    "    feature_vector.resize((300,))\n",
    "    return feature_vector\n",
    "\n",
    "def generate_bert_encodings_for_samples(samples):\n",
    "    bert_encodings = []\n",
    "    progress_count = 1\n",
    "    size = len(samples)\n",
    "    for s in samples:\n",
    "        if progress_count % 500 == 0:\n",
    "            print(f\"Progress: {progress_count}/{size}\")\n",
    "        b_encode = generate_bert_encoding(s)\n",
    "        bert_encodings.append(b_encode)\n",
    "        progress_count +=1\n",
    "    return bert_encodings"
   ]
  },
  {
   "cell_type": "code",
   "execution_count": 129,
   "metadata": {
    "id": "xmBwxhx8yryw"
   },
   "outputs": [],
   "source": [
    "# Save the feature input \n",
    "import pickle\n",
    "\n",
    "iemocap_prefix = \"iemocap_\"\n",
    "bert_embedding_prefix = \"bert_embedding_300_\"\n",
    "def features_pickeled(filename, results):\n",
    "    filename = filename + '.pickle'\n",
    "    with open(filename, 'wb') as f:\n",
    "        pickle.dump(results, f)"
   ]
  },
  {
   "cell_type": "code",
   "execution_count": 130,
   "metadata": {},
   "outputs": [
    {
     "name": "stdout",
     "output_type": "stream",
     "text": [
      "Progress: 500/1819\n",
      "Progress: 1000/1819\n",
      "Progress: 1500/1819\n"
     ]
    }
   ],
   "source": [
    "iemocap_1_utterances = [utterance for utterance in iemocap1['UTTERANCE']]\n",
    "iemocap_1_bert_encodings = generate_bert_encodings_for_samples(iemocap_1_utterances)\n",
    "fname = bert_embedding_prefix + iemocap_prefix + \"1\"\n",
    "features_pickeled(fname, iemocap_1_bert_encodings)"
   ]
  },
  {
   "cell_type": "code",
   "execution_count": 131,
   "metadata": {},
   "outputs": [
    {
     "name": "stdout",
     "output_type": "stream",
     "text": [
      "Progress: 500/1762\n",
      "Progress: 1000/1762\n",
      "Progress: 1500/1762\n"
     ]
    }
   ],
   "source": [
    "iemocap_2_utterances = [utterance for utterance in iemocap2['UTTERANCE']]\n",
    "iemocap_2_bert_encodings = generate_bert_encodings_for_samples(iemocap_2_utterances)\n",
    "fname = bert_embedding_prefix + iemocap_prefix + \"2\"\n",
    "features_pickeled(fname, iemocap_2_bert_encodings)"
   ]
  },
  {
   "cell_type": "code",
   "execution_count": 132,
   "metadata": {},
   "outputs": [
    {
     "name": "stdout",
     "output_type": "stream",
     "text": [
      "Progress: 500/1760\n",
      "Progress: 1000/1760\n",
      "Progress: 1500/1760\n"
     ]
    }
   ],
   "source": [
    "iemocap_3_utterances = [utterance for utterance in iemocap3['UTTERANCE']]\n",
    "iemocap_3_bert_encodings = generate_bert_encodings_for_samples(iemocap_3_utterances)\n",
    "fname = bert_embedding_prefix + iemocap_prefix + \"3\"\n",
    "features_pickeled(fname, iemocap_3_bert_encodings)"
   ]
  },
  {
   "cell_type": "code",
   "execution_count": 133,
   "metadata": {},
   "outputs": [
    {
     "name": "stdout",
     "output_type": "stream",
     "text": [
      "Progress: 500/1865\n",
      "Progress: 1000/1865\n",
      "Progress: 1500/1865\n"
     ]
    }
   ],
   "source": [
    "iemocap_4_utterances = [utterance for utterance in iemocap4['UTTERANCE']]\n",
    "iemocap_4_bert_encodings = generate_bert_encodings_for_samples(iemocap_4_utterances)\n",
    "fname = bert_embedding_prefix + iemocap_prefix + \"4\"\n",
    "features_pickeled(fname, iemocap_4_bert_encodings)"
   ]
  },
  {
   "cell_type": "code",
   "execution_count": 134,
   "metadata": {},
   "outputs": [
    {
     "name": "stdout",
     "output_type": "stream",
     "text": [
      "Progress: 500/2170\n",
      "Progress: 1000/2170\n",
      "Progress: 1500/2170\n",
      "Progress: 2000/2170\n"
     ]
    }
   ],
   "source": [
    "iemocap_5_utterances = [utterance for utterance in iemocap5['UTTERANCE']]\n",
    "iemocap_5_bert_encodings = generate_bert_encodings_for_samples(iemocap_5_utterances)\n",
    "fname = bert_embedding_prefix + iemocap_prefix + \"5\"\n",
    "features_pickeled(fname, iemocap_5_bert_encodings)"
   ]
  },
  {
   "cell_type": "code",
   "execution_count": 24,
   "metadata": {},
   "outputs": [
    {
     "name": "stdout",
     "output_type": "stream",
     "text": [
      "(1819, 300)\n",
      "(1762, 300)\n",
      "(1760, 300)\n",
      "(1865, 300)\n",
      "(2170, 300)\n"
     ]
    }
   ],
   "source": [
    "# Load Bert encodings\n",
    "import numpy as np\n",
    "iemocap_prefix = \"iemocap_\"\n",
    "bert_embedding_prefix = \"bert_embedding_300_\"\n",
    "\n",
    "\n",
    "iemocap1_bert_features = np.array(np.load(bert_embedding_prefix + iemocap_prefix + \"1.pickle\", allow_pickle=True))\n",
    "iemocap2_bert_features = np.array(np.load(bert_embedding_prefix + iemocap_prefix + \"2.pickle\", allow_pickle=True))\n",
    "iemocap3_bert_features = np.array(np.load(bert_embedding_prefix + iemocap_prefix + \"3.pickle\", allow_pickle=True))\n",
    "iemocap4_bert_features = np.array(np.load(bert_embedding_prefix + iemocap_prefix + \"4.pickle\", allow_pickle=True))\n",
    "iemocap5_bert_features = np.array(np.load(bert_embedding_prefix + iemocap_prefix + \"5.pickle\", allow_pickle=True))\n",
    "\n",
    "print(iemocap1_bert_features.shape)\n",
    "print(iemocap2_bert_features.shape)\n",
    "print(iemocap3_bert_features.shape)\n",
    "print(iemocap4_bert_features.shape)\n",
    "print(iemocap5_bert_features.shape)"
   ]
  },
  {
   "cell_type": "code",
   "execution_count": null,
   "metadata": {
    "colab": {
     "base_uri": "https://localhost:8080/",
     "height": 17
    },
    "id": "RD4BbrYUzLrV",
    "outputId": "411ef76a-0757-480c-883c-94321f173d58"
   },
   "outputs": [
    {
     "data": {
      "application/javascript": [
       "\n",
       "    async function download(id, filename, size) {\n",
       "      if (!google.colab.kernel.accessAllowed) {\n",
       "        return;\n",
       "      }\n",
       "      const div = document.createElement('div');\n",
       "      const label = document.createElement('label');\n",
       "      label.textContent = `Downloading \"${filename}\": `;\n",
       "      div.appendChild(label);\n",
       "      const progress = document.createElement('progress');\n",
       "      progress.max = size;\n",
       "      div.appendChild(progress);\n",
       "      document.body.appendChild(div);\n",
       "\n",
       "      const buffers = [];\n",
       "      let downloaded = 0;\n",
       "\n",
       "      const channel = await google.colab.kernel.comms.open(id);\n",
       "      // Send a message to notify the kernel that we're ready.\n",
       "      channel.send({})\n",
       "\n",
       "      for await (const message of channel.messages) {\n",
       "        // Send a message to notify the kernel that we're ready.\n",
       "        channel.send({})\n",
       "        if (message.buffers) {\n",
       "          for (const buffer of message.buffers) {\n",
       "            buffers.push(buffer);\n",
       "            downloaded += buffer.byteLength;\n",
       "            progress.value = downloaded;\n",
       "          }\n",
       "        }\n",
       "      }\n",
       "      const blob = new Blob(buffers, {type: 'application/binary'});\n",
       "      const a = document.createElement('a');\n",
       "      a.href = window.URL.createObjectURL(blob);\n",
       "      a.download = filename;\n",
       "      div.appendChild(a);\n",
       "      a.click();\n",
       "      div.remove();\n",
       "    }\n",
       "  "
      ],
      "text/plain": [
       "<IPython.core.display.Javascript object>"
      ]
     },
     "metadata": {},
     "output_type": "display_data"
    },
    {
     "data": {
      "application/javascript": [
       "download(\"download_54b5e1e4-1c66-4299-8e42-ed7b377992a8\", \"bert_train_features.txt\", 11028216)"
      ],
      "text/plain": [
       "<IPython.core.display.Javascript object>"
      ]
     },
     "metadata": {},
     "output_type": "display_data"
    },
    {
     "data": {
      "application/javascript": [
       "\n",
       "    async function download(id, filename, size) {\n",
       "      if (!google.colab.kernel.accessAllowed) {\n",
       "        return;\n",
       "      }\n",
       "      const div = document.createElement('div');\n",
       "      const label = document.createElement('label');\n",
       "      label.textContent = `Downloading \"${filename}\": `;\n",
       "      div.appendChild(label);\n",
       "      const progress = document.createElement('progress');\n",
       "      progress.max = size;\n",
       "      div.appendChild(progress);\n",
       "      document.body.appendChild(div);\n",
       "\n",
       "      const buffers = [];\n",
       "      let downloaded = 0;\n",
       "\n",
       "      const channel = await google.colab.kernel.comms.open(id);\n",
       "      // Send a message to notify the kernel that we're ready.\n",
       "      channel.send({})\n",
       "\n",
       "      for await (const message of channel.messages) {\n",
       "        // Send a message to notify the kernel that we're ready.\n",
       "        channel.send({})\n",
       "        if (message.buffers) {\n",
       "          for (const buffer of message.buffers) {\n",
       "            buffers.push(buffer);\n",
       "            downloaded += buffer.byteLength;\n",
       "            progress.value = downloaded;\n",
       "          }\n",
       "        }\n",
       "      }\n",
       "      const blob = new Blob(buffers, {type: 'application/binary'});\n",
       "      const a = document.createElement('a');\n",
       "      a.href = window.URL.createObjectURL(blob);\n",
       "      a.download = filename;\n",
       "      div.appendChild(a);\n",
       "      a.click();\n",
       "      div.remove();\n",
       "    }\n",
       "  "
      ],
      "text/plain": [
       "<IPython.core.display.Javascript object>"
      ]
     },
     "metadata": {},
     "output_type": "display_data"
    },
    {
     "data": {
      "application/javascript": [
       "download(\"download_c650e164-a29b-45fb-baf4-47267b870186\", \"bert_valid_features.txt\", 3837556)"
      ],
      "text/plain": [
       "<IPython.core.display.Javascript object>"
      ]
     },
     "metadata": {},
     "output_type": "display_data"
    },
    {
     "data": {
      "application/javascript": [
       "\n",
       "    async function download(id, filename, size) {\n",
       "      if (!google.colab.kernel.accessAllowed) {\n",
       "        return;\n",
       "      }\n",
       "      const div = document.createElement('div');\n",
       "      const label = document.createElement('label');\n",
       "      label.textContent = `Downloading \"${filename}\": `;\n",
       "      div.appendChild(label);\n",
       "      const progress = document.createElement('progress');\n",
       "      progress.max = size;\n",
       "      div.appendChild(progress);\n",
       "      document.body.appendChild(div);\n",
       "\n",
       "      const buffers = [];\n",
       "      let downloaded = 0;\n",
       "\n",
       "      const channel = await google.colab.kernel.comms.open(id);\n",
       "      // Send a message to notify the kernel that we're ready.\n",
       "      channel.send({})\n",
       "\n",
       "      for await (const message of channel.messages) {\n",
       "        // Send a message to notify the kernel that we're ready.\n",
       "        channel.send({})\n",
       "        if (message.buffers) {\n",
       "          for (const buffer of message.buffers) {\n",
       "            buffers.push(buffer);\n",
       "            downloaded += buffer.byteLength;\n",
       "            progress.value = downloaded;\n",
       "          }\n",
       "        }\n",
       "      }\n",
       "      const blob = new Blob(buffers, {type: 'application/binary'});\n",
       "      const a = document.createElement('a');\n",
       "      a.href = window.URL.createObjectURL(blob);\n",
       "      a.download = filename;\n",
       "      div.appendChild(a);\n",
       "      a.click();\n",
       "      div.remove();\n",
       "    }\n",
       "  "
      ],
      "text/plain": [
       "<IPython.core.display.Javascript object>"
      ]
     },
     "metadata": {},
     "output_type": "display_data"
    },
    {
     "data": {
      "application/javascript": [
       "download(\"download_bb105d2b-8ab1-4461-a45a-ff86afefe215\", \"bert_test_features.txt\", 4518756)"
      ],
      "text/plain": [
       "<IPython.core.display.Javascript object>"
      ]
     },
     "metadata": {},
     "output_type": "display_data"
    }
   ],
   "source": [
    "train_feature_file = 'bert_train_features'\n",
    "valid_feature_file = 'bert_valid_features'\n",
    "test_feature_file = 'bert_test_features'\n",
    "features_pickeled(train_feature_file, bert_encoded_train_samples)\n",
    "features_pickeled(valid_feature_file, bert_encoded_validation_samples)\n",
    "features_pickeled(test_feature_file, bert_encoded_test_samples)\n"
   ]
  },
  {
   "cell_type": "code",
   "execution_count": null,
   "metadata": {
    "id": "ZBOZvt6E0HBY"
   },
   "outputs": [],
   "source": [
    "import numpy as np\n",
    "# Upload pickle files\n",
    "train_feature_file = 'bert_train_features.txt'\n",
    "valid_feature_file = 'bert_valid_features.txt'\n",
    "test_feature_file = 'bert_test_features.txt'\n",
    "\n",
    "train_bert_features = np.load(train_feature_file, allow_pickle=True)\n",
    "valid_bert_features = np.load(valid_feature_file, allow_pickle=True)\n",
    "test_bert_features = np.load(test_feature_file, allow_pickle=True)\n"
   ]
  },
  {
   "cell_type": "code",
   "execution_count": null,
   "metadata": {
    "colab": {
     "base_uri": "https://localhost:8080/"
    },
    "id": "rGSUQUra2KNj",
    "outputId": "01688494-5f60-48c5-b3d5-4e10bbf03871"
   },
   "outputs": [
    {
     "name": "stdout",
     "output_type": "stream",
     "text": [
      "2679500\n",
      "932500\n",
      "1098000\n"
     ]
    }
   ],
   "source": [
    "print(np.array(train_bert_features).size)\n",
    "print(np.array(valid_bert_features).size)\n",
    "print(np.array(test_bert_features).size)"
   ]
  },
  {
   "cell_type": "code",
   "execution_count": 31,
   "metadata": {
    "id": "qO88hI7g0qQs"
   },
   "outputs": [],
   "source": [
    "from keras import layers, Input, Model\n",
    "#from keras.callbacks import EarlyStopping\n",
    "def create_lstm_with_pretrained_embedding(X, y, valid_X, valid_y, embedding_layer):\n",
    "    \n",
    "    # Create callback\n",
    "    #callback = EarlyStopping(monitor='val_loss', patience=3)\n",
    "    \n",
    "    int_sequences_input = Input(shape=(None,), dtype=\"int64\")\n",
    "    print(X.shape)\n",
    "    embedded_seq = embedding_layer(int_sequences_input)\n",
    "    x = layers.Bidirectional(layers.LSTM(20, return_sequences=True))(embedded_seq)\n",
    "    x = layers.Bidirectional(layers.LSTM(20))(x)\n",
    "    preds = layers.Dense(y.shape[1], activation=\"softmax\")(x)\n",
    "    model = Model(int_sequences_input, preds)\n",
    "    model.compile(loss='categorical_crossentropy', optimizer='adam', metrics=[\"acc\"])\n",
    "    #model.fit(X, y, batch_size=128, epochs=100, validation_data=(valid_X, valid_y),\n",
    "    #              callbacks=[callback])\n",
    "    model.fit(X, y, batch_size=128, epochs=15, validation_data=(valid_X, valid_y))\n",
    "    return model"
   ]
  },
  {
   "cell_type": "code",
   "execution_count": 32,
   "metadata": {},
   "outputs": [],
   "source": [
    "import numpy as np\n",
    "\n",
    "# Split 1 Unimodal BERT\n",
    "unimodal_bert_train_split_1 = np.concatenate([iemocap1_bert_features, iemocap2_bert_features, iemocap3_bert_features], axis=0)\n",
    "unimodal_bert_valid_split_1 = iemocap4_bert_features\n",
    "unimodal_bert_test_split_1 = iemocap5_bert_features\n",
    "    \n",
    "# Split 2 Unimodal BERT\n",
    "unimodal_bert_train_split_2 = np.concatenate([iemocap2_bert_features, iemocap3_bert_features, iemocap4_bert_features], axis=0)\n",
    "unimodal_bert_valid_split_2 = iemocap5_bert_features\n",
    "unimodal_bert_test_split_2 = iemocap1_bert_features\n",
    "\n",
    "# Split 3 Unimodal BERT\n",
    "unimodal_bert_train_split_3 = np.concatenate([iemocap3_bert_features, iemocap4_bert_features, iemocap5_bert_features], axis=0)\n",
    "unimodal_bert_valid_split_3 = iemocap1_bert_features\n",
    "unimodal_bert_test_split_3 = iemocap2_bert_features\n",
    "\n",
    "# Split 4 Unimodal BERT\n",
    "unimodal_bert_train_split_4 = np.concatenate([iemocap4_bert_features, iemocap5_bert_features, iemocap1_bert_features], axis=0)\n",
    "unimodal_bert_valid_split_4 = iemocap2_bert_features\n",
    "unimodal_bert_test_split_4 = iemocap3_bert_features\n",
    "\n",
    "# Split 5 Unimodal BERT\n",
    "unimodal_bert_train_split_5 = np.concatenate([iemocap5_bert_features, iemocap1_bert_features, iemocap2_bert_features], axis=0)\n",
    "unimodal_bert_valid_split_5 = iemocap3_bert_features\n",
    "unimodal_bert_test_split_5 = iemocap4_bert_features\n",
    "\n"
   ]
  },
  {
   "cell_type": "code",
   "execution_count": 33,
   "metadata": {},
   "outputs": [],
   "source": [
    "def create_lstm_with_glove_embedding(embedding_matrix, train_split, valid_split, train_labels, valid_labels):\n",
    "    vectorizer = create_text_vectorizer_for_train_samples(train_split)\n",
    "    num_tokens_voc = len(vectorizer.get_vocabulary())\n",
    "    \n",
    "    x_train = vectorizer(np.array([[s] for s in train_split['UTTERANCE']])).numpy()\n",
    "    x_valid = vectorizer(np.array([[s] for s in valid_split['UTTERANCE']])).numpy()\n",
    "    \n",
    "    y_train = convert_da_labels_to_categorical(train_labels)\n",
    "    y_valid = convert_da_labels_to_categorical(valid_labels)\n",
    "    \n",
    "    print(num_tokens_voc)\n",
    "    print(embedding_matrix.shape)\n",
    "    embedding_layer = create_glove_embedding_layer_for_matrix(embedding_matrix, num_tokens_voc)\n",
    "    \n",
    "    model = create_lstm_with_pretrained_embedding(x_train, y_train, x_valid, y_valid, embedding_layer)\n",
    "    return model"
   ]
  },
  {
   "cell_type": "code",
   "execution_count": 102,
   "metadata": {},
   "outputs": [
    {
     "name": "stdout",
     "output_type": "stream",
     "text": [
      "2968\n",
      "(2968, 300)\n",
      "(5341, 300)\n",
      "Epoch 1/100\n",
      "42/42 [==============================] - 27s 546ms/step - loss: 2.1045 - acc: 0.2434 - val_loss: 1.8559 - val_acc: 0.3115\n",
      "Epoch 2/100\n",
      "42/42 [==============================] - 23s 544ms/step - loss: 1.7848 - acc: 0.3561 - val_loss: 1.6847 - val_acc: 0.3930\n",
      "Epoch 3/100\n",
      "42/42 [==============================] - 23s 556ms/step - loss: 1.6375 - acc: 0.4220 - val_loss: 1.6127 - val_acc: 0.4145\n",
      "Epoch 4/100\n",
      "42/42 [==============================] - 23s 558ms/step - loss: 1.5196 - acc: 0.4679 - val_loss: 1.5273 - val_acc: 0.4509\n",
      "Epoch 5/100\n",
      "42/42 [==============================] - 24s 565ms/step - loss: 1.4159 - acc: 0.5068 - val_loss: 1.4750 - val_acc: 0.4761\n",
      "Epoch 6/100\n",
      "42/42 [==============================] - 22s 523ms/step - loss: 1.3346 - acc: 0.5456 - val_loss: 1.4508 - val_acc: 0.4772\n",
      "Epoch 7/100\n",
      "42/42 [==============================] - 24s 567ms/step - loss: 1.2522 - acc: 0.5701 - val_loss: 1.4182 - val_acc: 0.5035\n",
      "Epoch 8/100\n",
      "42/42 [==============================] - 23s 539ms/step - loss: 1.2008 - acc: 0.5982 - val_loss: 1.3862 - val_acc: 0.5094\n",
      "Epoch 9/100\n",
      "42/42 [==============================] - 23s 549ms/step - loss: 1.1508 - acc: 0.6216 - val_loss: 1.3617 - val_acc: 0.5121\n",
      "Epoch 10/100\n",
      "42/42 [==============================] - 23s 550ms/step - loss: 1.0940 - acc: 0.6362 - val_loss: 1.3489 - val_acc: 0.5324\n",
      "Epoch 11/100\n",
      "42/42 [==============================] - 24s 584ms/step - loss: 1.0631 - acc: 0.6430 - val_loss: 1.3455 - val_acc: 0.5282\n",
      "Epoch 12/100\n",
      "42/42 [==============================] - 23s 556ms/step - loss: 1.0338 - acc: 0.6546 - val_loss: 1.3350 - val_acc: 0.5314\n",
      "Epoch 13/100\n",
      "42/42 [==============================] - 22s 536ms/step - loss: 0.9813 - acc: 0.6757 - val_loss: 1.2971 - val_acc: 0.5491\n",
      "Epoch 14/100\n",
      "42/42 [==============================] - 23s 557ms/step - loss: 0.9367 - acc: 0.6974 - val_loss: 1.3121 - val_acc: 0.5496\n",
      "Epoch 15/100\n",
      "42/42 [==============================] - 23s 544ms/step - loss: 0.9029 - acc: 0.7120 - val_loss: 1.3216 - val_acc: 0.5619\n",
      "Epoch 16/100\n",
      "42/42 [==============================] - 25s 591ms/step - loss: 0.8842 - acc: 0.7119 - val_loss: 1.3555 - val_acc: 0.5539\n",
      "Epoch 17/100\n",
      "42/42 [==============================] - 24s 581ms/step - loss: 0.8335 - acc: 0.7388 - val_loss: 1.2875 - val_acc: 0.5823\n",
      "Epoch 18/100\n",
      "42/42 [==============================] - 23s 554ms/step - loss: 0.8020 - acc: 0.7459 - val_loss: 1.3163 - val_acc: 0.5796\n",
      "Epoch 19/100\n",
      "42/42 [==============================] - 23s 539ms/step - loss: 0.7738 - acc: 0.7499 - val_loss: 1.3107 - val_acc: 0.5802\n",
      "Epoch 20/100\n",
      "42/42 [==============================] - 22s 536ms/step - loss: 0.7514 - acc: 0.7654 - val_loss: 1.2798 - val_acc: 0.5984\n",
      "Epoch 21/100\n",
      "42/42 [==============================] - 23s 549ms/step - loss: 0.7144 - acc: 0.7744 - val_loss: 1.3114 - val_acc: 0.5903\n",
      "Epoch 22/100\n",
      "42/42 [==============================] - 23s 539ms/step - loss: 0.7002 - acc: 0.7781 - val_loss: 1.3057 - val_acc: 0.5893\n",
      "Epoch 23/100\n",
      "42/42 [==============================] - 29s 685ms/step - loss: 0.6987 - acc: 0.7772 - val_loss: 1.2844 - val_acc: 0.5914\n",
      "Epoch 24/100\n",
      "42/42 [==============================] - 26s 634ms/step - loss: 0.6564 - acc: 0.7970 - val_loss: 1.2983 - val_acc: 0.5893\n",
      "Epoch 25/100\n",
      "42/42 [==============================] - 22s 526ms/step - loss: 0.6349 - acc: 0.8015 - val_loss: 1.3157 - val_acc: 0.6016\n",
      "Epoch 26/100\n",
      "42/42 [==============================] - 22s 517ms/step - loss: 0.6057 - acc: 0.8143 - val_loss: 1.3088 - val_acc: 0.6048\n",
      "Epoch 27/100\n",
      "42/42 [==============================] - 22s 536ms/step - loss: 0.5795 - acc: 0.8208 - val_loss: 1.3097 - val_acc: 0.5946\n",
      "Epoch 28/100\n",
      "42/42 [==============================] - 24s 561ms/step - loss: 0.5769 - acc: 0.8240 - val_loss: 1.3377 - val_acc: 0.6064\n",
      "Epoch 29/100\n",
      "42/42 [==============================] - 25s 594ms/step - loss: 0.5664 - acc: 0.8234 - val_loss: 1.3805 - val_acc: 0.5925\n",
      "Epoch 30/100\n",
      "42/42 [==============================] - 25s 590ms/step - loss: 0.5734 - acc: 0.8160 - val_loss: 1.3284 - val_acc: 0.6043\n",
      "Epoch 31/100\n",
      "42/42 [==============================] - 35s 834ms/step - loss: 0.5235 - acc: 0.8354 - val_loss: 1.3730 - val_acc: 0.6059\n",
      "Epoch 32/100\n",
      "42/42 [==============================] - 38s 899ms/step - loss: 0.5352 - acc: 0.8330 - val_loss: 1.3531 - val_acc: 0.6011\n",
      "Epoch 33/100\n",
      "42/42 [==============================] - 34s 815ms/step - loss: 0.4887 - acc: 0.8502 - val_loss: 1.3911 - val_acc: 0.5984\n",
      "Epoch 34/100\n",
      "42/42 [==============================] - 30s 711ms/step - loss: 0.4749 - acc: 0.8474 - val_loss: 1.3906 - val_acc: 0.6021\n",
      "Epoch 35/100\n",
      "42/42 [==============================] - 28s 663ms/step - loss: 0.4640 - acc: 0.8560 - val_loss: 1.4009 - val_acc: 0.5989\n",
      "Epoch 36/100\n",
      "42/42 [==============================] - 26s 630ms/step - loss: 0.4593 - acc: 0.8555 - val_loss: 1.4404 - val_acc: 0.6021\n",
      "Epoch 37/100\n",
      "42/42 [==============================] - 26s 616ms/step - loss: 0.4347 - acc: 0.8684 - val_loss: 1.4847 - val_acc: 0.5957\n",
      "Epoch 38/100\n",
      "42/42 [==============================] - 25s 601ms/step - loss: 0.4309 - acc: 0.8663 - val_loss: 1.4763 - val_acc: 0.6043\n",
      "Epoch 39/100\n",
      "42/42 [==============================] - 24s 582ms/step - loss: 0.4186 - acc: 0.8682 - val_loss: 1.5171 - val_acc: 0.5995\n",
      "Epoch 40/100\n",
      "42/42 [==============================] - 24s 574ms/step - loss: 0.4034 - acc: 0.8802 - val_loss: 1.4958 - val_acc: 0.5989\n",
      "Epoch 41/100\n",
      "42/42 [==============================] - 26s 612ms/step - loss: 0.4156 - acc: 0.8738 - val_loss: 1.4905 - val_acc: 0.6016\n",
      "Epoch 42/100\n",
      "42/42 [==============================] - 25s 601ms/step - loss: 0.3968 - acc: 0.8774 - val_loss: 1.5013 - val_acc: 0.6021\n",
      "Epoch 43/100\n",
      "42/42 [==============================] - 25s 598ms/step - loss: 0.3795 - acc: 0.8830 - val_loss: 1.5169 - val_acc: 0.6005\n",
      "Epoch 44/100\n",
      "42/42 [==============================] - 25s 602ms/step - loss: 0.3730 - acc: 0.8875 - val_loss: 1.5003 - val_acc: 0.5979\n",
      "Epoch 45/100\n",
      "42/42 [==============================] - 25s 605ms/step - loss: 0.3922 - acc: 0.8774 - val_loss: 1.5742 - val_acc: 0.5903\n",
      "Epoch 46/100\n",
      "42/42 [==============================] - 25s 600ms/step - loss: 0.4062 - acc: 0.8714 - val_loss: 1.5341 - val_acc: 0.6038\n",
      "Epoch 47/100\n",
      "42/42 [==============================] - 25s 587ms/step - loss: 0.3498 - acc: 0.8907 - val_loss: 1.6217 - val_acc: 0.5893\n",
      "Epoch 48/100\n",
      "42/42 [==============================] - 29s 695ms/step - loss: 0.3636 - acc: 0.8845 - val_loss: 1.5706 - val_acc: 0.6000\n",
      "Epoch 49/100\n",
      "42/42 [==============================] - 37s 884ms/step - loss: 0.3383 - acc: 0.8946 - val_loss: 1.5814 - val_acc: 0.6021\n",
      "Epoch 50/100\n",
      "42/42 [==============================] - 39s 916ms/step - loss: 0.3254 - acc: 0.9021 - val_loss: 1.6149 - val_acc: 0.6005\n",
      "Epoch 51/100\n",
      "42/42 [==============================] - 41s 978ms/step - loss: 0.3232 - acc: 0.8995 - val_loss: 1.6213 - val_acc: 0.5984\n",
      "Epoch 52/100\n",
      "42/42 [==============================] - 41s 966ms/step - loss: 0.3134 - acc: 0.9041 - val_loss: 1.6791 - val_acc: 0.5877\n",
      "Epoch 53/100\n",
      "42/42 [==============================] - 38s 904ms/step - loss: 0.3118 - acc: 0.9030 - val_loss: 1.6470 - val_acc: 0.5962\n",
      "Epoch 54/100\n",
      "42/42 [==============================] - 35s 826ms/step - loss: 0.2991 - acc: 0.9071 - val_loss: 1.6868 - val_acc: 0.5925\n",
      "Epoch 55/100\n",
      "42/42 [==============================] - 44s 1s/step - loss: 0.2836 - acc: 0.9133 - val_loss: 1.6839 - val_acc: 0.5920\n",
      "Epoch 56/100\n",
      "42/42 [==============================] - 41s 975ms/step - loss: 0.2851 - acc: 0.9090 - val_loss: 1.6942 - val_acc: 0.6005\n",
      "Epoch 57/100\n",
      "42/42 [==============================] - 53s 1s/step - loss: 0.2849 - acc: 0.9139 - val_loss: 1.7042 - val_acc: 0.6005\n",
      "Epoch 58/100\n",
      "42/42 [==============================] - 51s 1s/step - loss: 0.3115 - acc: 0.9010 - val_loss: 1.6981 - val_acc: 0.6064\n"
     ]
    }
   ],
   "source": [
    "model_1 = create_lstm_with_glove_embedding(iemocap_train_split_1_glove, train_split_1, iemocap4, train_split_1_da_labels, valid_split_1_da_labels)"
   ]
  },
  {
   "cell_type": "code",
   "execution_count": 34,
   "metadata": {},
   "outputs": [
    {
     "name": "stdout",
     "output_type": "stream",
     "text": [
      "TRAINING MODEL 1\n",
      "2968\n",
      "(2968, 300)\n",
      "(5341, 300)\n",
      "Epoch 1/15\n",
      "42/42 [==============================] - 30s 579ms/step - loss: 2.1260 - acc: 0.2612 - val_loss: 1.8473 - val_acc: 0.3598\n",
      "Epoch 2/15\n",
      "42/42 [==============================] - 24s 564ms/step - loss: 1.7846 - acc: 0.3544 - val_loss: 1.7104 - val_acc: 0.3571\n",
      "Epoch 3/15\n",
      "42/42 [==============================] - 25s 591ms/step - loss: 1.6347 - acc: 0.4228 - val_loss: 1.6349 - val_acc: 0.3946\n",
      "Epoch 4/15\n",
      "42/42 [==============================] - 22s 518ms/step - loss: 1.5273 - acc: 0.4690 - val_loss: 1.5615 - val_acc: 0.4397\n",
      "Epoch 5/15\n",
      "42/42 [==============================] - 24s 562ms/step - loss: 1.4395 - acc: 0.5141 - val_loss: 1.5226 - val_acc: 0.4681\n",
      "Epoch 6/15\n",
      "42/42 [==============================] - 24s 575ms/step - loss: 1.3600 - acc: 0.5409 - val_loss: 1.4921 - val_acc: 0.4869\n",
      "Epoch 7/15\n",
      "42/42 [==============================] - 23s 556ms/step - loss: 1.3138 - acc: 0.5585 - val_loss: 1.4386 - val_acc: 0.4917\n",
      "Epoch 8/15\n",
      "42/42 [==============================] - 23s 541ms/step - loss: 1.2383 - acc: 0.5855 - val_loss: 1.4498 - val_acc: 0.4933\n",
      "Epoch 9/15\n",
      "42/42 [==============================] - 24s 580ms/step - loss: 1.1851 - acc: 0.6091 - val_loss: 1.3869 - val_acc: 0.5287\n",
      "Epoch 10/15\n",
      "42/42 [==============================] - 23s 545ms/step - loss: 1.1097 - acc: 0.6364 - val_loss: 1.3628 - val_acc: 0.5319\n",
      "Epoch 11/15\n",
      "42/42 [==============================] - 24s 571ms/step - loss: 1.0620 - acc: 0.6486 - val_loss: 1.3312 - val_acc: 0.5464\n",
      "Epoch 12/15\n",
      "42/42 [==============================] - 22s 518ms/step - loss: 1.0313 - acc: 0.6654 - val_loss: 1.3370 - val_acc: 0.5534\n",
      "Epoch 13/15\n",
      "42/42 [==============================] - 22s 528ms/step - loss: 0.9803 - acc: 0.6858 - val_loss: 1.3288 - val_acc: 0.5743\n",
      "Epoch 14/15\n",
      "42/42 [==============================] - 24s 563ms/step - loss: 0.9514 - acc: 0.6943 - val_loss: 1.3146 - val_acc: 0.5635\n",
      "Epoch 15/15\n",
      "42/42 [==============================] - 23s 558ms/step - loss: 0.9146 - acc: 0.7107 - val_loss: 1.3048 - val_acc: 0.5732\n",
      "TRAINING MODEL 2\n",
      "2930\n",
      "(2930, 300)\n",
      "(5387, 300)\n",
      "Epoch 1/15\n",
      "43/43 [==============================] - 36s 732ms/step - loss: 2.1136 - acc: 0.2402 - val_loss: 1.8516 - val_acc: 0.2521\n",
      "Epoch 2/15\n",
      "43/43 [==============================] - 30s 707ms/step - loss: 1.7906 - acc: 0.3353 - val_loss: 1.7217 - val_acc: 0.3673\n",
      "Epoch 3/15\n",
      "43/43 [==============================] - 35s 807ms/step - loss: 1.6476 - acc: 0.4143 - val_loss: 1.5905 - val_acc: 0.4147\n",
      "Epoch 4/15\n",
      "43/43 [==============================] - 36s 834ms/step - loss: 1.5316 - acc: 0.4515 - val_loss: 1.5128 - val_acc: 0.4475\n",
      "Epoch 5/15\n",
      "43/43 [==============================] - 38s 871ms/step - loss: 1.4493 - acc: 0.4884 - val_loss: 1.4665 - val_acc: 0.4627\n",
      "Epoch 6/15\n",
      "43/43 [==============================] - 36s 849ms/step - loss: 1.3627 - acc: 0.5220 - val_loss: 1.4172 - val_acc: 0.5014\n",
      "Epoch 7/15\n",
      "43/43 [==============================] - 39s 899ms/step - loss: 1.3217 - acc: 0.5445 - val_loss: 1.3960 - val_acc: 0.4829\n",
      "Epoch 8/15\n",
      "43/43 [==============================] - 31s 706ms/step - loss: 1.2353 - acc: 0.5777 - val_loss: 1.3585 - val_acc: 0.5124\n",
      "Epoch 9/15\n",
      "43/43 [==============================] - 34s 791ms/step - loss: 1.1816 - acc: 0.5990 - val_loss: 1.2994 - val_acc: 0.5290\n",
      "Epoch 10/15\n",
      "43/43 [==============================] - 40s 929ms/step - loss: 1.1331 - acc: 0.6150 - val_loss: 1.2846 - val_acc: 0.5419\n",
      "Epoch 11/15\n",
      "43/43 [==============================] - 39s 925ms/step - loss: 1.0808 - acc: 0.6423 - val_loss: 1.2639 - val_acc: 0.5475\n",
      "Epoch 12/15\n",
      "43/43 [==============================] - 30s 703ms/step - loss: 1.0297 - acc: 0.6603 - val_loss: 1.2284 - val_acc: 0.5677\n",
      "Epoch 13/15\n",
      "43/43 [==============================] - 32s 741ms/step - loss: 0.9689 - acc: 0.6854 - val_loss: 1.2218 - val_acc: 0.5719\n",
      "Epoch 14/15\n",
      "43/43 [==============================] - 31s 726ms/step - loss: 0.9286 - acc: 0.6967 - val_loss: 1.1945 - val_acc: 0.5848\n",
      "Epoch 15/15\n",
      "43/43 [==============================] - 33s 758ms/step - loss: 0.9143 - acc: 0.6991 - val_loss: 1.2206 - val_acc: 0.5728\n",
      "TRAINING MODEL 3\n",
      "2932\n",
      "(2932, 300)\n",
      "(5795, 300)\n",
      "Epoch 1/15\n",
      "46/46 [==============================] - 50s 905ms/step - loss: 2.0910 - acc: 0.2421 - val_loss: 1.8831 - val_acc: 0.3364\n",
      "Epoch 2/15\n",
      "46/46 [==============================] - 37s 794ms/step - loss: 1.7641 - acc: 0.3624 - val_loss: 1.7517 - val_acc: 0.3958\n",
      "Epoch 3/15\n",
      "46/46 [==============================] - 32s 700ms/step - loss: 1.6353 - acc: 0.4136 - val_loss: 1.6541 - val_acc: 0.4211\n",
      "Epoch 4/15\n",
      "46/46 [==============================] - 34s 740ms/step - loss: 1.5234 - acc: 0.4588 - val_loss: 1.5819 - val_acc: 0.4360\n",
      "Epoch 5/15\n",
      "46/46 [==============================] - 32s 702ms/step - loss: 1.4426 - acc: 0.4863 - val_loss: 1.5099 - val_acc: 0.4618\n",
      "Epoch 6/15\n",
      "46/46 [==============================] - 35s 756ms/step - loss: 1.3440 - acc: 0.5275 - val_loss: 1.4899 - val_acc: 0.4678\n",
      "Epoch 7/15\n",
      "46/46 [==============================] - 30s 651ms/step - loss: 1.2731 - acc: 0.5463 - val_loss: 1.4249 - val_acc: 0.4975\n",
      "Epoch 8/15\n",
      "46/46 [==============================] - 32s 690ms/step - loss: 1.1980 - acc: 0.5764 - val_loss: 1.4058 - val_acc: 0.5036\n",
      "Epoch 9/15\n",
      "46/46 [==============================] - 25s 544ms/step - loss: 1.1291 - acc: 0.6022 - val_loss: 1.3478 - val_acc: 0.5272\n",
      "Epoch 10/15\n",
      "46/46 [==============================] - 31s 676ms/step - loss: 1.0799 - acc: 0.6257 - val_loss: 1.4067 - val_acc: 0.5036\n",
      "Epoch 11/15\n",
      "46/46 [==============================] - 33s 706ms/step - loss: 1.0431 - acc: 0.6425 - val_loss: 1.3571 - val_acc: 0.5465\n",
      "Epoch 12/15\n",
      "46/46 [==============================] - 35s 761ms/step - loss: 0.9858 - acc: 0.6645 - val_loss: 1.3333 - val_acc: 0.5503\n",
      "Epoch 13/15\n",
      "46/46 [==============================] - 32s 705ms/step - loss: 0.9482 - acc: 0.6759 - val_loss: 1.3185 - val_acc: 0.5520\n",
      "Epoch 14/15\n",
      "46/46 [==============================] - 34s 741ms/step - loss: 0.9124 - acc: 0.6951 - val_loss: 1.3193 - val_acc: 0.5728\n",
      "Epoch 15/15\n",
      "46/46 [==============================] - 35s 751ms/step - loss: 0.8462 - acc: 0.7234 - val_loss: 1.3270 - val_acc: 0.5789\n",
      "TRAINING MODEL 4\n",
      "2887\n",
      "(2887, 300)\n",
      "(5854, 300)\n",
      "Epoch 1/15\n",
      "46/46 [==============================] - 44s 777ms/step - loss: 2.0704 - acc: 0.2381 - val_loss: 1.8799 - val_acc: 0.3314\n",
      "Epoch 2/15\n",
      "46/46 [==============================] - 31s 685ms/step - loss: 1.7639 - acc: 0.3608 - val_loss: 1.7490 - val_acc: 0.3876\n",
      "Epoch 3/15\n",
      "46/46 [==============================] - 27s 592ms/step - loss: 1.6394 - acc: 0.4170 - val_loss: 1.6392 - val_acc: 0.4370\n",
      "Epoch 4/15\n",
      "46/46 [==============================] - 33s 725ms/step - loss: 1.5286 - acc: 0.4674 - val_loss: 1.5325 - val_acc: 0.4801\n",
      "Epoch 5/15\n",
      "46/46 [==============================] - 36s 777ms/step - loss: 1.4309 - acc: 0.5034 - val_loss: 1.4744 - val_acc: 0.4886\n",
      "Epoch 6/15\n",
      "46/46 [==============================] - 36s 782ms/step - loss: 1.3507 - acc: 0.5277 - val_loss: 1.4237 - val_acc: 0.4972\n",
      "Epoch 7/15\n",
      "46/46 [==============================] - 37s 814ms/step - loss: 1.2919 - acc: 0.5512 - val_loss: 1.3896 - val_acc: 0.5272\n",
      "Epoch 8/15\n",
      "46/46 [==============================] - 37s 811ms/step - loss: 1.2359 - acc: 0.5813 - val_loss: 1.3383 - val_acc: 0.5573\n",
      "Epoch 9/15\n",
      "46/46 [==============================] - 37s 817ms/step - loss: 1.1741 - acc: 0.6098 - val_loss: 1.2864 - val_acc: 0.5738\n",
      "Epoch 10/15\n",
      "46/46 [==============================] - 38s 823ms/step - loss: 1.1161 - acc: 0.6309 - val_loss: 1.2488 - val_acc: 0.5891\n",
      "Epoch 11/15\n",
      "46/46 [==============================] - 41s 896ms/step - loss: 1.0636 - acc: 0.6502 - val_loss: 1.2622 - val_acc: 0.5738\n",
      "Epoch 12/15\n",
      "46/46 [==============================] - 35s 770ms/step - loss: 1.0272 - acc: 0.6683 - val_loss: 1.1831 - val_acc: 0.6175\n",
      "Epoch 13/15\n",
      "46/46 [==============================] - 37s 803ms/step - loss: 0.9705 - acc: 0.6830 - val_loss: 1.1774 - val_acc: 0.6078\n",
      "Epoch 14/15\n",
      "46/46 [==============================] - 35s 765ms/step - loss: 0.9422 - acc: 0.6958 - val_loss: 1.2001 - val_acc: 0.6067\n",
      "Epoch 15/15\n",
      "46/46 [==============================] - 34s 741ms/step - loss: 0.9053 - acc: 0.7076 - val_loss: 1.1333 - val_acc: 0.6311\n",
      "TRAINING MODEL 5\n"
     ]
    },
    {
     "name": "stdout",
     "output_type": "stream",
     "text": [
      "2969\n",
      "(2969, 300)\n",
      "(5751, 300)\n",
      "Epoch 1/15\n",
      "45/45 [==============================] - 42s 767ms/step - loss: 2.0414 - acc: 0.2427 - val_loss: 1.8553 - val_acc: 0.3034\n",
      "Epoch 2/15\n",
      "45/45 [==============================] - 34s 765ms/step - loss: 1.7483 - acc: 0.3617 - val_loss: 1.6681 - val_acc: 0.4045\n",
      "Epoch 3/15\n",
      "45/45 [==============================] - 35s 785ms/step - loss: 1.6077 - acc: 0.4199 - val_loss: 1.5713 - val_acc: 0.4347\n",
      "Epoch 4/15\n",
      "45/45 [==============================] - 35s 772ms/step - loss: 1.5149 - acc: 0.4691 - val_loss: 1.5317 - val_acc: 0.4676\n",
      "Epoch 5/15\n",
      "45/45 [==============================] - 34s 753ms/step - loss: 1.4277 - acc: 0.5029 - val_loss: 1.4674 - val_acc: 0.4790\n",
      "Epoch 6/15\n",
      "45/45 [==============================] - 28s 629ms/step - loss: 1.3587 - acc: 0.5220 - val_loss: 1.4012 - val_acc: 0.5006\n",
      "Epoch 7/15\n",
      "45/45 [==============================] - 25s 561ms/step - loss: 1.2926 - acc: 0.5456 - val_loss: 1.3578 - val_acc: 0.5068\n",
      "Epoch 8/15\n",
      "45/45 [==============================] - 28s 613ms/step - loss: 1.2239 - acc: 0.5766 - val_loss: 1.3185 - val_acc: 0.5398\n",
      "Epoch 9/15\n",
      "45/45 [==============================] - 27s 604ms/step - loss: 1.1690 - acc: 0.6058 - val_loss: 1.2938 - val_acc: 0.5551\n",
      "Epoch 10/15\n",
      "45/45 [==============================] - 28s 612ms/step - loss: 1.1054 - acc: 0.6258 - val_loss: 1.2906 - val_acc: 0.5551\n",
      "Epoch 11/15\n",
      "45/45 [==============================] - 25s 567ms/step - loss: 1.0600 - acc: 0.6376 - val_loss: 1.2522 - val_acc: 0.5676\n",
      "Epoch 12/15\n",
      "45/45 [==============================] - 26s 568ms/step - loss: 1.0234 - acc: 0.6486 - val_loss: 1.2396 - val_acc: 0.5631\n",
      "Epoch 13/15\n",
      "45/45 [==============================] - 27s 609ms/step - loss: 0.9699 - acc: 0.6731 - val_loss: 1.2406 - val_acc: 0.5688\n",
      "Epoch 14/15\n",
      "45/45 [==============================] - 27s 607ms/step - loss: 0.9444 - acc: 0.6809 - val_loss: 1.2262 - val_acc: 0.5869\n",
      "Epoch 15/15\n",
      "45/45 [==============================] - 26s 577ms/step - loss: 0.9236 - acc: 0.6915 - val_loss: 1.2112 - val_acc: 0.5926\n"
     ]
    }
   ],
   "source": [
    "unimodal_glove_models = []\n",
    "\n",
    "# Train a Unimodal model for each glove split\n",
    "print(\"TRAINING MODEL 1\")\n",
    "model_1 = create_lstm_with_glove_embedding(iemocap_train_split_1_glove, train_split_1, valid_split_1, train_split_1_da_labels, valid_split_1_da_labels)\n",
    "unimodal_glove_models.append(model_1)\n",
    "\n",
    "print(\"TRAINING MODEL 2\")\n",
    "model_2 = create_lstm_with_glove_embedding(iemocap_train_split_2_glove, train_split_2, valid_split_2, train_split_2_da_labels, valid_split_2_da_labels)\n",
    "unimodal_glove_models.append(model_2)\n",
    "\n",
    "print(\"TRAINING MODEL 3\")\n",
    "model_3 = create_lstm_with_glove_embedding(iemocap_train_split_3_glove, train_split_3, valid_split_3, train_split_3_da_labels, valid_split_3_da_labels)\n",
    "unimodal_glove_models.append(model_3)\n",
    "\n",
    "print(\"TRAINING MODEL 4\")\n",
    "model_4 = create_lstm_with_glove_embedding(iemocap_train_split_4_glove, train_split_4, valid_split_4, train_split_4_da_labels, valid_split_4_da_labels)\n",
    "unimodal_glove_models.append(model_4)\n",
    "\n",
    "print(\"TRAINING MODEL 5\")\n",
    "model_5 = create_lstm_with_glove_embedding(iemocap_train_split_5_glove, train_split_5, valid_split_5, train_split_5_da_labels, valid_split_5_da_labels)\n",
    "unimodal_glove_models.append(model_5)\n"
   ]
  },
  {
   "cell_type": "code",
   "execution_count": 35,
   "metadata": {},
   "outputs": [],
   "source": [
    "from sklearn.metrics import precision_score, recall_score, accuracy_score\n",
    "\n",
    "# Compare the model predictions for the 5 splits we have created\n",
    "# Takes as input a list of 5 different models\n",
    "# For all types of models we have the same 5 test splits, so we can use the same set of test data\n",
    "x_train_list= [train_split_1, train_split_2, train_split_3, train_split_4, train_split_5]\n",
    "x_test_list = [test_split_1, test_split_2, test_split_3, test_split_4, test_split_5]\n",
    "y_test_list = [test_split_1_da_labels, test_split_2_da_labels, test_split_3_da_labels, test_split_4_da_labels, test_split_5_da_labels]\n",
    "\n",
    "concat_all_predictions = []\n",
    "def compare_model_predictions_for_5_folds(model_list):\n",
    "    prec_list = []\n",
    "    recall_list = []\n",
    "    accuracy_list = []\n",
    "    \n",
    "    for i in range(5):\n",
    "        model = model_list[i]\n",
    "        x_test = x_test_list[i]\n",
    "        train_split = x_train_list[i]\n",
    "\n",
    "        vectorizer = create_text_vectorizer_for_train_samples(train_split)\n",
    "        test_encodings = vectorizer(np.array([[s] for s in x_test['UTTERANCE']])).numpy()\n",
    "        \n",
    "        y_test = y_test_list[i]\n",
    "        test_labels = np.argmax(convert_da_labels_to_categorical(y_test), axis=-1)\n",
    "        \n",
    "        print(f\"Calculating accuracy for split{i}\")\n",
    "        model_preds = model_list[i].predict(test_encodings)\n",
    "        unilabel_model_preds = np.argmax(model_preds, axis=-1)\n",
    "\n",
    "        concat_all_predictions.extend(unilabel_model_preds)\n",
    "        \n",
    "        lstm_prec = precision_score(test_labels, unilabel_model_preds, average='macro')\n",
    "        lstm_recall = recall_score(test_labels, unilabel_model_preds, average='macro')        \n",
    "        accuracy = accuracy_score(test_labels, unilabel_model_preds)\n",
    "        \n",
    "        prec_list.append(lstm_prec)\n",
    "        recall_list.append(lstm_recall)\n",
    "        accuracy_list.append(accuracy)\n",
    "    \n",
    "    return prec_list, recall_list, accuracy_list, concat_all_predictions\n",
    "        "
   ]
  },
  {
   "cell_type": "code",
   "execution_count": 36,
   "metadata": {},
   "outputs": [
    {
     "name": "stdout",
     "output_type": "stream",
     "text": [
      "Calculating accuracy for split0\n"
     ]
    },
    {
     "name": "stderr",
     "output_type": "stream",
     "text": [
      "/usr/local/lib/python3.9/site-packages/sklearn/metrics/_classification.py:1318: UndefinedMetricWarning: Precision is ill-defined and being set to 0.0 in labels with no predicted samples. Use `zero_division` parameter to control this behavior.\n",
      "  _warn_prf(average, modifier, msg_start, len(result))\n"
     ]
    },
    {
     "name": "stdout",
     "output_type": "stream",
     "text": [
      "Calculating accuracy for split1\n"
     ]
    },
    {
     "name": "stderr",
     "output_type": "stream",
     "text": [
      "/usr/local/lib/python3.9/site-packages/sklearn/metrics/_classification.py:1318: UndefinedMetricWarning: Precision is ill-defined and being set to 0.0 in labels with no predicted samples. Use `zero_division` parameter to control this behavior.\n",
      "  _warn_prf(average, modifier, msg_start, len(result))\n"
     ]
    },
    {
     "name": "stdout",
     "output_type": "stream",
     "text": [
      "Calculating accuracy for split2\n"
     ]
    },
    {
     "name": "stderr",
     "output_type": "stream",
     "text": [
      "/usr/local/lib/python3.9/site-packages/sklearn/metrics/_classification.py:1318: UndefinedMetricWarning: Precision is ill-defined and being set to 0.0 in labels with no predicted samples. Use `zero_division` parameter to control this behavior.\n",
      "  _warn_prf(average, modifier, msg_start, len(result))\n"
     ]
    },
    {
     "name": "stdout",
     "output_type": "stream",
     "text": [
      "Calculating accuracy for split3\n"
     ]
    },
    {
     "name": "stderr",
     "output_type": "stream",
     "text": [
      "/usr/local/lib/python3.9/site-packages/sklearn/metrics/_classification.py:1318: UndefinedMetricWarning: Precision is ill-defined and being set to 0.0 in labels with no predicted samples. Use `zero_division` parameter to control this behavior.\n",
      "  _warn_prf(average, modifier, msg_start, len(result))\n"
     ]
    },
    {
     "name": "stdout",
     "output_type": "stream",
     "text": [
      "Calculating accuracy for split4\n",
      "[0.607465400670239, 0.4145512501478092, 0.6868651416116993, 0.5614360477269876, 0.48998362120893213]\n",
      "[0.543735300350207, 0.4149422509730321, 0.4826486967115069, 0.48149447074900165, 0.47553436449144043]\n",
      "[0.5894009216589862, 0.5420560747663551, 0.656072644721907, 0.5840909090909091, 0.5876675603217159]\n"
     ]
    },
    {
     "name": "stderr",
     "output_type": "stream",
     "text": [
      "/usr/local/lib/python3.9/site-packages/sklearn/metrics/_classification.py:1318: UndefinedMetricWarning: Precision is ill-defined and being set to 0.0 in labels with no predicted samples. Use `zero_division` parameter to control this behavior.\n",
      "  _warn_prf(average, modifier, msg_start, len(result))\n"
     ]
    }
   ],
   "source": [
    "# Calculate precision, recall, and accuracy for all the unimodal glove models\n",
    "ug_prec, ug_recall, ug_accuracy, all_model_preds = compare_model_predictions_for_5_folds(unimodal_glove_models)\n",
    "print(ug_prec)\n",
    "print(ug_recall)\n",
    "print(ug_accuracy)"
   ]
  },
  {
   "cell_type": "code",
   "execution_count": null,
   "metadata": {
    "id": "jCbyIFjX4LeV"
   },
   "outputs": [],
   "source": [
    "from sklearn.metrics import precision_score, recall_score\n",
    "\n",
    "lstm_preds = lstm_with_glove.predict(x_test)"
   ]
  },
  {
   "cell_type": "code",
   "execution_count": null,
   "metadata": {
    "colab": {
     "base_uri": "https://localhost:8080/"
    },
    "id": "gSQm8gg867SM",
    "outputId": "6e7e55d6-abc3-41e2-fe09-671c305f8ad3"
   },
   "outputs": [
    {
     "data": {
      "text/plain": [
       "array([0.01358549, 0.06774132, 0.31696504, 0.0102386 , 0.03000929,\n",
       "       0.16078521, 0.0294242 , 0.0466288 , 0.02753933, 0.00931706,\n",
       "       0.0106237 , 0.277142  ], dtype=float32)"
      ]
     },
     "execution_count": 19,
     "metadata": {},
     "output_type": "execute_result"
    }
   ],
   "source": [
    "lstm_preds[0]"
   ]
  },
  {
   "cell_type": "code",
   "execution_count": null,
   "metadata": {
    "id": "g0jkUZbU7OVx"
   },
   "outputs": [],
   "source": [
    "import numpy as np\n",
    "\n",
    "lstm_pred_unilabel = np.argmax(lstm_preds, axis=-1)\n",
    "lstm_pred_unilabel[0]\n",
    "\n"
   ]
  },
  {
   "cell_type": "code",
   "execution_count": null,
   "metadata": {
    "colab": {
     "base_uri": "https://localhost:8080/"
    },
    "id": "uI5Sy1is41j9",
    "outputId": "946be09d-5f10-4394-a58b-07224368482c"
   },
   "outputs": [
    {
     "name": "stderr",
     "output_type": "stream",
     "text": [
      "/usr/local/lib/python3.7/dist-packages/sklearn/metrics/_classification.py:1318: UndefinedMetricWarning: Precision is ill-defined and being set to 0.0 in labels with no predicted samples. Use `zero_division` parameter to control this behavior.\n",
      "  _warn_prf(average, modifier, msg_start, len(result))\n"
     ]
    }
   ],
   "source": [
    "lstm_prec = precision_score(test_labels, lstm_pred_unilabel, average='macro')\n",
    "lstm_recall = recall_score(test_labels, lstm_pred_unilabel, average='macro')"
   ]
  },
  {
   "cell_type": "code",
   "execution_count": null,
   "metadata": {
    "colab": {
     "base_uri": "https://localhost:8080/"
    },
    "id": "myJt5zOK87_t",
    "outputId": "5254a301-a62f-4dc5-bfa8-abe82df1f76d"
   },
   "outputs": [
    {
     "name": "stdout",
     "output_type": "stream",
     "text": [
      "0.4612636786921445\n",
      "0.4054930325095512\n"
     ]
    }
   ],
   "source": [
    "print(lstm_prec)\n",
    "print(lstm_recall)"
   ]
  },
  {
   "cell_type": "code",
   "execution_count": null,
   "metadata": {
    "colab": {
     "base_uri": "https://localhost:8080/"
    },
    "id": "Xc6C_Zbn9SAy",
    "outputId": "52798703-c6f4-4a1b-aa8f-fe2ffb61cb0f"
   },
   "outputs": [
    {
     "data": {
      "text/plain": [
       "0.5182149362477231"
      ]
     },
     "execution_count": 26,
     "metadata": {},
     "output_type": "execute_result"
    }
   ],
   "source": [
    "from sklearn.metrics import accuracy_score\n",
    "\n",
    "accuracy_score(test_labels, lstm_pred_unilabel)"
   ]
  },
  {
   "cell_type": "code",
   "execution_count": null,
   "metadata": {
    "colab": {
     "base_uri": "https://localhost:8080/"
    },
    "id": "XKhI85H099LV",
    "outputId": "79c7bb4e-7fb7-45ff-fe64-47722bf9fec0"
   },
   "outputs": [
    {
     "name": "stdout",
     "output_type": "stream",
     "text": [
      "              precision    recall  f1-score   support\n",
      "\n",
      "           0       0.00      0.00      0.00         5\n",
      "           1       0.38      0.42      0.40       130\n",
      "           2       0.47      0.41      0.44       400\n",
      "           3       0.64      0.47      0.54        15\n",
      "           4       0.44      0.62      0.51        82\n",
      "           5       0.49      0.67      0.57        54\n",
      "           6       0.50      0.12      0.20        73\n",
      "           7       1.00      0.44      0.62        18\n",
      "           8       0.53      0.56      0.54       468\n",
      "           9       0.00      0.00      0.00        18\n",
      "          10       0.58      0.77      0.67       484\n",
      "          11       0.50      0.38      0.43       449\n",
      "\n",
      "    accuracy                           0.52      2196\n",
      "   macro avg       0.46      0.41      0.41      2196\n",
      "weighted avg       0.51      0.52      0.50      2196\n",
      "\n"
     ]
    },
    {
     "name": "stderr",
     "output_type": "stream",
     "text": [
      "/usr/local/lib/python3.7/dist-packages/sklearn/metrics/_classification.py:1318: UndefinedMetricWarning: Precision and F-score are ill-defined and being set to 0.0 in labels with no predicted samples. Use `zero_division` parameter to control this behavior.\n",
      "  _warn_prf(average, modifier, msg_start, len(result))\n",
      "/usr/local/lib/python3.7/dist-packages/sklearn/metrics/_classification.py:1318: UndefinedMetricWarning: Precision and F-score are ill-defined and being set to 0.0 in labels with no predicted samples. Use `zero_division` parameter to control this behavior.\n",
      "  _warn_prf(average, modifier, msg_start, len(result))\n",
      "/usr/local/lib/python3.7/dist-packages/sklearn/metrics/_classification.py:1318: UndefinedMetricWarning: Precision and F-score are ill-defined and being set to 0.0 in labels with no predicted samples. Use `zero_division` parameter to control this behavior.\n",
      "  _warn_prf(average, modifier, msg_start, len(result))\n"
     ]
    }
   ],
   "source": [
    "from sklearn.metrics import classification_report, confusion_matrix\n",
    "\n",
    "cr = classification_report(test_labels, lstm_pred_unilabel)\n",
    "print(cr)\n",
    "\n",
    "cm = confusion_matrix(test_labels, lstm_pred_unilabel)"
   ]
  },
  {
   "cell_type": "code",
   "execution_count": 8,
   "metadata": {
    "colab": {
     "base_uri": "https://localhost:8080/"
    },
    "id": "GCvsyLW7-bkm",
    "outputId": "edd7a1be-986d-4543-aae3-96502fb61fd8"
   },
   "outputs": [
    {
     "ename": "NameError",
     "evalue": "name 'da_encoder' is not defined",
     "output_type": "error",
     "traceback": [
      "\u001b[0;31m---------------------------------------------------------------------------\u001b[0m",
      "\u001b[0;31mNameError\u001b[0m                                 Traceback (most recent call last)",
      "\u001b[0;32m/var/folders/g0/nxm5h6qd04v_8zk3zfscq0_80000gn/T/ipykernel_42248/2173971135.py\u001b[0m in \u001b[0;36m<module>\u001b[0;34m\u001b[0m\n\u001b[0;32m----> 1\u001b[0;31m \u001b[0mle_name_mapping\u001b[0m \u001b[0;34m=\u001b[0m \u001b[0mdict\u001b[0m\u001b[0;34m(\u001b[0m\u001b[0mzip\u001b[0m\u001b[0;34m(\u001b[0m\u001b[0mda_encoder\u001b[0m\u001b[0;34m.\u001b[0m\u001b[0mclasses_\u001b[0m\u001b[0;34m,\u001b[0m \u001b[0mda_encoder\u001b[0m\u001b[0;34m.\u001b[0m\u001b[0mtransform\u001b[0m\u001b[0;34m(\u001b[0m\u001b[0mda_encoder\u001b[0m\u001b[0;34m.\u001b[0m\u001b[0mclasses_\u001b[0m\u001b[0;34m)\u001b[0m\u001b[0;34m)\u001b[0m\u001b[0;34m)\u001b[0m\u001b[0;34m\u001b[0m\u001b[0;34m\u001b[0m\u001b[0m\n\u001b[0m\u001b[1;32m      2\u001b[0m \u001b[0mprint\u001b[0m\u001b[0;34m(\u001b[0m\u001b[0mle_name_mapping\u001b[0m\u001b[0;34m)\u001b[0m\u001b[0;34m\u001b[0m\u001b[0;34m\u001b[0m\u001b[0m\n\u001b[1;32m      3\u001b[0m \u001b[0mda_labels\u001b[0m \u001b[0;34m=\u001b[0m \u001b[0mlist\u001b[0m\u001b[0;34m(\u001b[0m\u001b[0mle_name_mapping\u001b[0m\u001b[0;34m.\u001b[0m\u001b[0mkeys\u001b[0m\u001b[0;34m(\u001b[0m\u001b[0;34m)\u001b[0m\u001b[0;34m)\u001b[0m\u001b[0;34m\u001b[0m\u001b[0;34m\u001b[0m\u001b[0m\n",
      "\u001b[0;31mNameError\u001b[0m: name 'da_encoder' is not defined"
     ]
    }
   ],
   "source": [
    "le_name_mapping = dict(zip(da_encoder.classes_, da_encoder.transform(da_encoder.classes_)))\n",
    "print(le_name_mapping)\n",
    "da_labels = list(le_name_mapping.keys())"
   ]
  },
  {
   "cell_type": "code",
   "execution_count": null,
   "metadata": {
    "colab": {
     "base_uri": "https://localhost:8080/",
     "height": 265
    },
    "id": "PWG7i42P_LWp",
    "outputId": "3a2afbc8-7dfc-4555-cac1-e0f0fabd66fa"
   },
   "outputs": [
    {
     "data": {
      "image/png": "[encoded data removed]",
      "text/plain": [
       "<Figure size 432x288 with 2 Axes>"
      ]
     },
     "metadata": {
      "needs_background": "light"
     },
     "output_type": "display_data"
    }
   ],
   "source": [
    "import seaborn as sn\n",
    "\n",
    "df_cm = pd.DataFrame(cm, index=da_labels, columns=da_labels)\n",
    "\n",
    "ax = sn.heatmap(df_cm, cmap='Blues', annot=True)"
   ]
  },
  {
   "cell_type": "code",
   "execution_count": 37,
   "metadata": {
    "id": "1-NWBFFaItTk"
   },
   "outputs": [],
   "source": [
    "import seaborn as sn\n",
    "from sklearn.metrics import classification_report, confusion_matrix\n",
    "\n",
    "def calculate_accuracy_metrics_and_print_cm(actual, model_preds):\n",
    "  cr = classification_report(actual, model_preds)\n",
    "  cm = confusion_matrix(actual, model_preds)\n",
    "  df_cm = pd.DataFrame(cm, index=da_labels, columns=da_labels)\n",
    "  ax = sn.heatmap(df_cm, cmap='Blues', annot=True)\n",
    "  print(ax)\n",
    "  return cr"
   ]
  },
  {
   "cell_type": "code",
   "execution_count": 38,
   "metadata": {},
   "outputs": [
    {
     "name": "stderr",
     "output_type": "stream",
     "text": [
      "/usr/local/lib/python3.9/site-packages/sklearn/metrics/_classification.py:1318: UndefinedMetricWarning: Precision and F-score are ill-defined and being set to 0.0 in labels with no predicted samples. Use `zero_division` parameter to control this behavior.\n",
      "  _warn_prf(average, modifier, msg_start, len(result))\n",
      "/usr/local/lib/python3.9/site-packages/sklearn/metrics/_classification.py:1318: UndefinedMetricWarning: Precision and F-score are ill-defined and being set to 0.0 in labels with no predicted samples. Use `zero_division` parameter to control this behavior.\n",
      "  _warn_prf(average, modifier, msg_start, len(result))\n",
      "/usr/local/lib/python3.9/site-packages/sklearn/metrics/_classification.py:1318: UndefinedMetricWarning: Precision and F-score are ill-defined and being set to 0.0 in labels with no predicted samples. Use `zero_division` parameter to control this behavior.\n",
      "  _warn_prf(average, modifier, msg_start, len(result))\n"
     ]
    },
    {
     "name": "stdout",
     "output_type": "stream",
     "text": [
      "AxesSubplot(0.125,0.125;0.62x0.755)\n"
     ]
    },
    {
     "data": {
      "text/plain": [
       "'              precision    recall  f1-score   support\\n\\n           0       0.00      0.00      0.00        54\\n           1       0.46      0.45      0.46       497\\n           2       0.50      0.49      0.49      1429\\n           3       0.74      0.43      0.54        75\\n           4       0.46      0.58      0.51       284\\n           5       0.73      0.63      0.68       350\\n           6       0.65      0.42      0.51       372\\n           7       0.82      0.15      0.26        59\\n           8       0.59      0.66      0.62      2073\\n           9       0.80      0.47      0.59        68\\n          10       0.73      0.71      0.72      1945\\n          11       0.55      0.58      0.56      2170\\n\\n    accuracy                           0.59      9376\\n   macro avg       0.59      0.46      0.50      9376\\nweighted avg       0.59      0.59      0.59      9376\\n'"
      ]
     },
     "execution_count": 38,
     "metadata": {},
     "output_type": "execute_result"
    },
    {
     "data": {
      "image/png": "[encoded data removed]",
      "text/plain": [
       "<Figure size 432x288 with 2 Axes>"
      ]
     },
     "metadata": {
      "needs_background": "light"
     },
     "output_type": "display_data"
    }
   ],
   "source": [
    "all_y_values = np.concatenate((test_split_1_da_labels, test_split_2_da_labels, test_split_3_da_labels, test_split_4_da_labels, test_split_5_da_labels), axis=0)\n",
    "unilabel_all_y_values = np.argmax(convert_da_labels_to_categorical(all_y_values), axis=-1)\n",
    "\n",
    "calculate_accuracy_metrics_and_print_cm(unilabel_all_y_values, all_model_preds)"
   ]
  },
  {
   "cell_type": "code",
   "execution_count": 39,
   "metadata": {},
   "outputs": [],
   "source": [
    "from keras import layers, Input, Model, Sequential\n",
    "from keras.callbacks import EarlyStopping\n",
    "import tensorflow as tf\n",
    "\n",
    "# Create BERT Unimodal Models\n",
    "def create_unimodal_lstm_with_bert_embedding(x_train, x_valid, train_labels, valid_labels):\n",
    "    print(x_train.shape)\n",
    "    x_train = x_train.reshape(-1, 1, 300)\n",
    "    x_valid = x_valid.reshape(-1, 1, 300)\n",
    "    y_train = convert_da_labels_to_categorical(train_labels)\n",
    "    y_valid =  convert_da_labels_to_categorical(valid_labels)\n",
    "    \n",
    "    \n",
    "    train_dataset = tf.data.Dataset.from_tensor_slices((x_train, y_train)).batch(128)\n",
    "    valid_dataset = tf.data.Dataset.from_tensor_slices((x_valid, y_valid)).batch(128)\n",
    "    \n",
    "    \n",
    "    # Create callback\n",
    "    #callback = EarlyStopping(monitor='val_loss', patience=3)\n",
    "    \n",
    "    model = Sequential()\n",
    "    model.add(layers.InputLayer(input_shape=(1,300)))\n",
    "    model.add(layers.Bidirectional(layers.LSTM(20, return_sequences=True)))\n",
    "    model.add(layers.Bidirectional(layers.LSTM(20)))\n",
    "    \n",
    "    model.add(layers.Dense(y_train.shape[1], activation=\"softmax\"))\n",
    "    model.compile(loss='categorical_crossentropy', optimizer='adam', metrics=[\"acc\"])\n",
    "    #model.fit(train_dataset, batch_size=128, epochs=100, validation_data=valid_dataset,\n",
    "    #              callbacks=[callback])\n",
    "    model.fit(train_dataset, batch_size=128, epochs=15, validation_data=valid_dataset,)\n",
    "    return model"
   ]
  },
  {
   "cell_type": "code",
   "execution_count": 40,
   "metadata": {},
   "outputs": [
    {
     "name": "stdout",
     "output_type": "stream",
     "text": [
      "Training on Split 1\n",
      "(5341, 300)\n",
      "Epoch 1/15\n",
      "42/42 [==============================] - 7s 33ms/step - loss: 2.2601 - acc: 0.2835 - val_loss: 1.9777 - val_acc: 0.3223\n",
      "Epoch 2/15\n",
      "42/42 [==============================] - 0s 6ms/step - loss: 1.8315 - acc: 0.4359 - val_loss: 1.6261 - val_acc: 0.4617\n",
      "Epoch 3/15\n",
      "42/42 [==============================] - 0s 6ms/step - loss: 1.5094 - acc: 0.5022 - val_loss: 1.4387 - val_acc: 0.4874\n",
      "Epoch 4/15\n",
      "42/42 [==============================] - 0s 5ms/step - loss: 1.3662 - acc: 0.5291 - val_loss: 1.3601 - val_acc: 0.5115\n",
      "Epoch 5/15\n",
      "42/42 [==============================] - 0s 5ms/step - loss: 1.2837 - acc: 0.5521 - val_loss: 1.3067 - val_acc: 0.5217\n",
      "Epoch 6/15\n",
      "42/42 [==============================] - 0s 5ms/step - loss: 1.2212 - acc: 0.5793 - val_loss: 1.2675 - val_acc: 0.5458\n",
      "Epoch 7/15\n",
      "42/42 [==============================] - 0s 6ms/step - loss: 1.1717 - acc: 0.5978 - val_loss: 1.2363 - val_acc: 0.5544\n",
      "Epoch 8/15\n",
      "42/42 [==============================] - 0s 6ms/step - loss: 1.1286 - acc: 0.6102 - val_loss: 1.2083 - val_acc: 0.5614\n",
      "Epoch 9/15\n",
      "42/42 [==============================] - 0s 5ms/step - loss: 1.0895 - acc: 0.6231 - val_loss: 1.1837 - val_acc: 0.5710\n",
      "Epoch 10/15\n",
      "42/42 [==============================] - 0s 7ms/step - loss: 1.0539 - acc: 0.6381 - val_loss: 1.1626 - val_acc: 0.5791\n",
      "Epoch 11/15\n",
      "42/42 [==============================] - 0s 5ms/step - loss: 1.0219 - acc: 0.6465 - val_loss: 1.1452 - val_acc: 0.5898\n",
      "Epoch 12/15\n",
      "42/42 [==============================] - 0s 7ms/step - loss: 0.9934 - acc: 0.6572 - val_loss: 1.1310 - val_acc: 0.5941\n",
      "Epoch 13/15\n",
      "42/42 [==============================] - 0s 6ms/step - loss: 0.9679 - acc: 0.6639 - val_loss: 1.1193 - val_acc: 0.5968\n",
      "Epoch 14/15\n",
      "42/42 [==============================] - 0s 6ms/step - loss: 0.9446 - acc: 0.6708 - val_loss: 1.1092 - val_acc: 0.6000\n",
      "Epoch 15/15\n",
      "42/42 [==============================] - 0s 8ms/step - loss: 0.9233 - acc: 0.6793 - val_loss: 1.1006 - val_acc: 0.6016\n",
      "Training on Split 2\n",
      "(5387, 300)\n",
      "Epoch 1/15\n",
      "43/43 [==============================] - 6s 34ms/step - loss: 2.1939 - acc: 0.2959 - val_loss: 1.9432 - val_acc: 0.2065\n",
      "Epoch 2/15\n",
      "43/43 [==============================] - 0s 6ms/step - loss: 1.8504 - acc: 0.3598 - val_loss: 1.6815 - val_acc: 0.4521\n",
      "Epoch 3/15\n",
      "43/43 [==============================] - 0s 5ms/step - loss: 1.5666 - acc: 0.4800 - val_loss: 1.4545 - val_acc: 0.4797\n",
      "Epoch 4/15\n",
      "43/43 [==============================] - 0s 6ms/step - loss: 1.4236 - acc: 0.5077 - val_loss: 1.3780 - val_acc: 0.5000\n",
      "Epoch 5/15\n",
      "43/43 [==============================] - 0s 7ms/step - loss: 1.3343 - acc: 0.5333 - val_loss: 1.3136 - val_acc: 0.5240\n",
      "Epoch 6/15\n",
      "43/43 [==============================] - 0s 6ms/step - loss: 1.2614 - acc: 0.5582 - val_loss: 1.2602 - val_acc: 0.5438\n",
      "Epoch 7/15\n",
      "43/43 [==============================] - 0s 5ms/step - loss: 1.2051 - acc: 0.5768 - val_loss: 1.2192 - val_acc: 0.5571\n",
      "Epoch 8/15\n",
      "43/43 [==============================] - 0s 5ms/step - loss: 1.1617 - acc: 0.5925 - val_loss: 1.1884 - val_acc: 0.5677\n",
      "Epoch 9/15\n",
      "43/43 [==============================] - 0s 6ms/step - loss: 1.1252 - acc: 0.6061 - val_loss: 1.1621 - val_acc: 0.5770\n",
      "Epoch 10/15\n",
      "43/43 [==============================] - 0s 6ms/step - loss: 1.0916 - acc: 0.6156 - val_loss: 1.1382 - val_acc: 0.5770\n",
      "Epoch 11/15\n",
      "43/43 [==============================] - 0s 5ms/step - loss: 1.0599 - acc: 0.6247 - val_loss: 1.1168 - val_acc: 0.5857\n",
      "Epoch 12/15\n",
      "43/43 [==============================] - 0s 6ms/step - loss: 1.0303 - acc: 0.6343 - val_loss: 1.0969 - val_acc: 0.5908\n",
      "Epoch 13/15\n",
      "43/43 [==============================] - 0s 5ms/step - loss: 1.0032 - acc: 0.6462 - val_loss: 1.0795 - val_acc: 0.6000\n",
      "Epoch 14/15\n",
      "43/43 [==============================] - 0s 6ms/step - loss: 0.9782 - acc: 0.6558 - val_loss: 1.0642 - val_acc: 0.6037\n",
      "Epoch 15/15\n",
      "43/43 [==============================] - 0s 6ms/step - loss: 0.9550 - acc: 0.6690 - val_loss: 1.0503 - val_acc: 0.6088\n",
      "Training on Split 3\n",
      "(5795, 300)\n",
      "Epoch 1/15\n",
      "46/46 [==============================] - 7s 30ms/step - loss: 2.2102 - acc: 0.2112 - val_loss: 1.9410 - val_acc: 0.3029\n",
      "Epoch 2/15\n",
      "46/46 [==============================] - 0s 6ms/step - loss: 1.6902 - acc: 0.4269 - val_loss: 1.5639 - val_acc: 0.4497\n",
      "Epoch 3/15\n",
      "46/46 [==============================] - 0s 5ms/step - loss: 1.4625 - acc: 0.4763 - val_loss: 1.4357 - val_acc: 0.4904\n",
      "Epoch 4/15\n",
      "46/46 [==============================] - 0s 5ms/step - loss: 1.3702 - acc: 0.5111 - val_loss: 1.3496 - val_acc: 0.5195\n",
      "Epoch 5/15\n",
      "46/46 [==============================] - 0s 6ms/step - loss: 1.2906 - acc: 0.5451 - val_loss: 1.2794 - val_acc: 0.5531\n",
      "Epoch 6/15\n",
      "46/46 [==============================] - 0s 6ms/step - loss: 1.2221 - acc: 0.5681 - val_loss: 1.2298 - val_acc: 0.5745\n",
      "Epoch 7/15\n",
      "46/46 [==============================] - 0s 5ms/step - loss: 1.1675 - acc: 0.5853 - val_loss: 1.1958 - val_acc: 0.5783\n",
      "Epoch 8/15\n",
      "46/46 [==============================] - 0s 6ms/step - loss: 1.1219 - acc: 0.6028 - val_loss: 1.1713 - val_acc: 0.5838\n",
      "Epoch 9/15\n",
      "46/46 [==============================] - 0s 6ms/step - loss: 1.0825 - acc: 0.6159 - val_loss: 1.1520 - val_acc: 0.5877\n",
      "Epoch 10/15\n",
      "46/46 [==============================] - 0s 5ms/step - loss: 1.0477 - acc: 0.6305 - val_loss: 1.1362 - val_acc: 0.5838\n",
      "Epoch 11/15\n",
      "46/46 [==============================] - 0s 6ms/step - loss: 1.0168 - acc: 0.6397 - val_loss: 1.1231 - val_acc: 0.5849\n",
      "Epoch 12/15\n",
      "46/46 [==============================] - 0s 5ms/step - loss: 0.9893 - acc: 0.6499 - val_loss: 1.1127 - val_acc: 0.5899\n",
      "Epoch 13/15\n",
      "46/46 [==============================] - 0s 5ms/step - loss: 0.9645 - acc: 0.6573 - val_loss: 1.1046 - val_acc: 0.5976\n",
      "Epoch 14/15\n",
      "46/46 [==============================] - 0s 5ms/step - loss: 0.9419 - acc: 0.6625 - val_loss: 1.0982 - val_acc: 0.6020\n",
      "Epoch 15/15\n",
      "46/46 [==============================] - 0s 5ms/step - loss: 0.9212 - acc: 0.6666 - val_loss: 1.0931 - val_acc: 0.6058\n",
      "Training on Split 4\n",
      "(5854, 300)\n",
      "Epoch 1/15\n",
      "46/46 [==============================] - 6s 31ms/step - loss: 2.1902 - acc: 0.2352 - val_loss: 1.9537 - val_acc: 0.3610\n",
      "Epoch 2/15\n",
      "46/46 [==============================] - 0s 5ms/step - loss: 1.7452 - acc: 0.4195 - val_loss: 1.5813 - val_acc: 0.4461\n",
      "Epoch 3/15\n",
      "46/46 [==============================] - 0s 6ms/step - loss: 1.4614 - acc: 0.4694 - val_loss: 1.4225 - val_acc: 0.4955\n",
      "Epoch 4/15\n",
      "46/46 [==============================] - 0s 6ms/step - loss: 1.3575 - acc: 0.5087 - val_loss: 1.3445 - val_acc: 0.5250\n",
      "Epoch 5/15\n",
      "46/46 [==============================] - 0s 6ms/step - loss: 1.2882 - acc: 0.5420 - val_loss: 1.2866 - val_acc: 0.5499\n",
      "Epoch 6/15\n",
      "46/46 [==============================] - 0s 5ms/step - loss: 1.2353 - acc: 0.5605 - val_loss: 1.2439 - val_acc: 0.5709\n",
      "Epoch 7/15\n",
      "46/46 [==============================] - 0s 5ms/step - loss: 1.1925 - acc: 0.5770 - val_loss: 1.2099 - val_acc: 0.5817\n",
      "Epoch 8/15\n",
      "46/46 [==============================] - 0s 6ms/step - loss: 1.1556 - acc: 0.5869 - val_loss: 1.1800 - val_acc: 0.5931\n",
      "Epoch 9/15\n",
      "46/46 [==============================] - 0s 5ms/step - loss: 1.1209 - acc: 0.5987 - val_loss: 1.1532 - val_acc: 0.6061\n",
      "Epoch 10/15\n",
      "46/46 [==============================] - 0s 6ms/step - loss: 1.0898 - acc: 0.6088 - val_loss: 1.1285 - val_acc: 0.6169\n",
      "Epoch 11/15\n",
      "46/46 [==============================] - 0s 6ms/step - loss: 1.0609 - acc: 0.6186 - val_loss: 1.1045 - val_acc: 0.6266\n",
      "Epoch 12/15\n",
      "46/46 [==============================] - 0s 5ms/step - loss: 1.0340 - acc: 0.6273 - val_loss: 1.0820 - val_acc: 0.6373\n",
      "Epoch 13/15\n",
      "46/46 [==============================] - 0s 5ms/step - loss: 1.0093 - acc: 0.6327 - val_loss: 1.0609 - val_acc: 0.6476\n",
      "Epoch 14/15\n",
      "46/46 [==============================] - 0s 5ms/step - loss: 0.9866 - acc: 0.6408 - val_loss: 1.0418 - val_acc: 0.6515\n",
      "Epoch 15/15\n",
      "46/46 [==============================] - 0s 7ms/step - loss: 0.9656 - acc: 0.6484 - val_loss: 1.0245 - val_acc: 0.6561\n",
      "Training on Split 5\n",
      "(5751, 300)\n",
      "Epoch 1/15\n",
      "45/45 [==============================] - 7s 33ms/step - loss: 2.1928 - acc: 0.3130 - val_loss: 1.8887 - val_acc: 0.3881\n",
      "Epoch 2/15\n"
     ]
    },
    {
     "name": "stdout",
     "output_type": "stream",
     "text": [
      "45/45 [==============================] - 0s 5ms/step - loss: 1.7317 - acc: 0.4189 - val_loss: 1.5788 - val_acc: 0.4648\n",
      "Epoch 3/15\n",
      "45/45 [==============================] - 0s 5ms/step - loss: 1.4900 - acc: 0.4700 - val_loss: 1.4557 - val_acc: 0.5023\n",
      "Epoch 4/15\n",
      "45/45 [==============================] - 0s 5ms/step - loss: 1.3771 - acc: 0.5156 - val_loss: 1.3633 - val_acc: 0.5358\n",
      "Epoch 5/15\n",
      "45/45 [==============================] - 0s 6ms/step - loss: 1.2872 - acc: 0.5449 - val_loss: 1.2919 - val_acc: 0.5602\n",
      "Epoch 6/15\n",
      "45/45 [==============================] - 0s 6ms/step - loss: 1.2172 - acc: 0.5714 - val_loss: 1.2444 - val_acc: 0.5693\n",
      "Epoch 7/15\n",
      "45/45 [==============================] - 0s 5ms/step - loss: 1.1647 - acc: 0.5909 - val_loss: 1.2114 - val_acc: 0.5676\n",
      "Epoch 8/15\n",
      "45/45 [==============================] - 0s 6ms/step - loss: 1.1221 - acc: 0.6041 - val_loss: 1.1853 - val_acc: 0.5767\n",
      "Epoch 9/15\n",
      "45/45 [==============================] - 0s 5ms/step - loss: 1.0852 - acc: 0.6162 - val_loss: 1.1631 - val_acc: 0.5790\n",
      "Epoch 10/15\n",
      "45/45 [==============================] - 0s 5ms/step - loss: 1.0528 - acc: 0.6293 - val_loss: 1.1444 - val_acc: 0.5847\n",
      "Epoch 11/15\n",
      "45/45 [==============================] - 0s 6ms/step - loss: 1.0237 - acc: 0.6354 - val_loss: 1.1287 - val_acc: 0.5909\n",
      "Epoch 12/15\n",
      "45/45 [==============================] - 0s 6ms/step - loss: 0.9974 - acc: 0.6456 - val_loss: 1.1155 - val_acc: 0.6011\n",
      "Epoch 13/15\n",
      "45/45 [==============================] - 0s 5ms/step - loss: 0.9733 - acc: 0.6535 - val_loss: 1.1041 - val_acc: 0.6051\n",
      "Epoch 14/15\n",
      "45/45 [==============================] - 0s 5ms/step - loss: 0.9507 - acc: 0.6595 - val_loss: 1.0945 - val_acc: 0.6153\n",
      "Epoch 15/15\n",
      "45/45 [==============================] - 0s 5ms/step - loss: 0.9296 - acc: 0.6654 - val_loss: 1.0859 - val_acc: 0.6244\n"
     ]
    }
   ],
   "source": [
    "# Create 5 Unimodal BERT models to evaluate\n",
    "unimodal_bert_models_list = []\n",
    "\n",
    "print(\"Training on Split 1\")\n",
    "model1 = create_unimodal_lstm_with_bert_embedding(unimodal_bert_train_split_1, unimodal_bert_valid_split_1, train_split_1_da_labels, valid_split_1_da_labels)\n",
    "unimodal_bert_models_list.append(model1)\n",
    "\n",
    "\n",
    "print(\"Training on Split 2\")\n",
    "model2 = create_unimodal_lstm_with_bert_embedding(unimodal_bert_train_split_2, unimodal_bert_valid_split_2, train_split_2_da_labels, valid_split_2_da_labels)\n",
    "unimodal_bert_models_list.append(model2)\n",
    "\n",
    "\n",
    "print(\"Training on Split 3\")\n",
    "model3 = create_unimodal_lstm_with_bert_embedding(unimodal_bert_train_split_3, unimodal_bert_valid_split_3, train_split_3_da_labels, valid_split_3_da_labels)\n",
    "unimodal_bert_models_list.append(model3)\n",
    "\n",
    "\n",
    "print(\"Training on Split 4\")\n",
    "model4 = create_unimodal_lstm_with_bert_embedding(unimodal_bert_train_split_4, unimodal_bert_valid_split_4, train_split_4_da_labels, valid_split_4_da_labels)\n",
    "unimodal_bert_models_list.append(model4)\n",
    "\n",
    "print(\"Training on Split 5\")\n",
    "model5 = create_unimodal_lstm_with_bert_embedding(unimodal_bert_train_split_5, unimodal_bert_valid_split_5, train_split_5_da_labels, valid_split_5_da_labels)\n",
    "unimodal_bert_models_list.append(model5)\n"
   ]
  },
  {
   "cell_type": "code",
   "execution_count": 41,
   "metadata": {},
   "outputs": [],
   "source": [
    "# Compare the BERT model predictions for the 5 splits we have created\n",
    "# Takes as input a list of 5 different models\n",
    "# For all types of models we have the same 5 test splits, so we can use the same set of test data\n",
    "x_bert_test_list = [unimodal_bert_test_split_1, unimodal_bert_test_split_2, unimodal_bert_test_split_3, unimodal_bert_test_split_4, unimodal_bert_test_split_5]\n",
    "y_test_list = [test_split_1_da_labels, test_split_2_da_labels, test_split_3_da_labels, test_split_4_da_labels, test_split_5_da_labels]\n",
    "\n",
    "def compare_results_of_bert_models(model_list):\n",
    "    from sklearn.metrics import precision_score, recall_score, accuracy_score\n",
    "\n",
    "    prec_list = []\n",
    "    recall_list = []\n",
    "    accuracy_list = []\n",
    "    all_predictions = []\n",
    "    \n",
    "    for i in range(5):\n",
    "        model = model_list[i]\n",
    "        x_test = x_bert_test_list[i].reshape(-1, 1, 300)\n",
    "        \n",
    "        y_test = y_test_list[i]\n",
    "        test_labels = np.argmax(convert_da_labels_to_categorical(y_test), axis=-1)\n",
    "        \n",
    "        print(f\"Calculating accuracy for split{i}\")\n",
    "        model_preds = model_list[i].predict(x_test)\n",
    "        unilabel_model_preds = np.argmax(model_preds, axis=-1)\n",
    "        \n",
    "        all_predictions.extend(unilabel_model_preds)\n",
    "        \n",
    "        lstm_prec = precision_score(test_labels, unilabel_model_preds, average='macro')\n",
    "        lstm_recall = recall_score(test_labels, unilabel_model_preds, average='macro')        \n",
    "        accuracy = accuracy_score(test_labels, unilabel_model_preds)\n",
    "        \n",
    "        prec_list.append(lstm_prec)\n",
    "        recall_list.append(lstm_recall)\n",
    "        accuracy_list.append(accuracy)\n",
    "        \n",
    "    \n",
    "    return prec_list, recall_list, accuracy_list, all_predictions"
   ]
  },
  {
   "cell_type": "code",
   "execution_count": 42,
   "metadata": {},
   "outputs": [
    {
     "name": "stdout",
     "output_type": "stream",
     "text": [
      "Calculating accuracy for split0\n"
     ]
    },
    {
     "name": "stderr",
     "output_type": "stream",
     "text": [
      "/usr/local/lib/python3.9/site-packages/sklearn/metrics/_classification.py:1318: UndefinedMetricWarning: Precision is ill-defined and being set to 0.0 in labels with no predicted samples. Use `zero_division` parameter to control this behavior.\n",
      "  _warn_prf(average, modifier, msg_start, len(result))\n"
     ]
    },
    {
     "name": "stdout",
     "output_type": "stream",
     "text": [
      "Calculating accuracy for split1\n"
     ]
    },
    {
     "name": "stderr",
     "output_type": "stream",
     "text": [
      "/usr/local/lib/python3.9/site-packages/sklearn/metrics/_classification.py:1318: UndefinedMetricWarning: Precision is ill-defined and being set to 0.0 in labels with no predicted samples. Use `zero_division` parameter to control this behavior.\n",
      "  _warn_prf(average, modifier, msg_start, len(result))\n"
     ]
    },
    {
     "name": "stdout",
     "output_type": "stream",
     "text": [
      "Calculating accuracy for split2\n"
     ]
    },
    {
     "name": "stderr",
     "output_type": "stream",
     "text": [
      "/usr/local/lib/python3.9/site-packages/sklearn/metrics/_classification.py:1318: UndefinedMetricWarning: Precision is ill-defined and being set to 0.0 in labels with no predicted samples. Use `zero_division` parameter to control this behavior.\n",
      "  _warn_prf(average, modifier, msg_start, len(result))\n"
     ]
    },
    {
     "name": "stdout",
     "output_type": "stream",
     "text": [
      "Calculating accuracy for split3\n"
     ]
    },
    {
     "name": "stderr",
     "output_type": "stream",
     "text": [
      "/usr/local/lib/python3.9/site-packages/sklearn/metrics/_classification.py:1318: UndefinedMetricWarning: Precision is ill-defined and being set to 0.0 in labels with no predicted samples. Use `zero_division` parameter to control this behavior.\n",
      "  _warn_prf(average, modifier, msg_start, len(result))\n"
     ]
    },
    {
     "name": "stdout",
     "output_type": "stream",
     "text": [
      "Calculating accuracy for split4\n",
      "[0.5966068847263362, 0.6212234939476464, 0.6144896424841519, 0.5417080032560992, 0.538530748760518]\n",
      "[0.5176536595925126, 0.5120156730150688, 0.5368685520372972, 0.477105161416223, 0.47377312691356677]\n",
      "[0.6059907834101382, 0.6256184716877405, 0.6464245175936436, 0.6090909090909091, 0.6021447721179625]\n",
      "9376\n"
     ]
    },
    {
     "name": "stderr",
     "output_type": "stream",
     "text": [
      "/usr/local/lib/python3.9/site-packages/sklearn/metrics/_classification.py:1318: UndefinedMetricWarning: Precision is ill-defined and being set to 0.0 in labels with no predicted samples. Use `zero_division` parameter to control this behavior.\n",
      "  _warn_prf(average, modifier, msg_start, len(result))\n"
     ]
    }
   ],
   "source": [
    "# Compare all bert model results\n",
    "bert_base_prec, bert_base_recall, bert_base_accuracy, bert_base_preds = compare_results_of_bert_models(unimodal_bert_models_list)\n",
    "print(bert_base_prec)\n",
    "print(bert_base_recall)\n",
    "print(bert_base_accuracy)\n",
    "print((len(bert_base_preds)))"
   ]
  },
  {
   "cell_type": "code",
   "execution_count": 43,
   "metadata": {},
   "outputs": [
    {
     "name": "stderr",
     "output_type": "stream",
     "text": [
      "/usr/local/lib/python3.9/site-packages/sklearn/metrics/_classification.py:1318: UndefinedMetricWarning: Precision and F-score are ill-defined and being set to 0.0 in labels with no predicted samples. Use `zero_division` parameter to control this behavior.\n",
      "  _warn_prf(average, modifier, msg_start, len(result))\n",
      "/usr/local/lib/python3.9/site-packages/sklearn/metrics/_classification.py:1318: UndefinedMetricWarning: Precision and F-score are ill-defined and being set to 0.0 in labels with no predicted samples. Use `zero_division` parameter to control this behavior.\n",
      "  _warn_prf(average, modifier, msg_start, len(result))\n",
      "/usr/local/lib/python3.9/site-packages/sklearn/metrics/_classification.py:1318: UndefinedMetricWarning: Precision and F-score are ill-defined and being set to 0.0 in labels with no predicted samples. Use `zero_division` parameter to control this behavior.\n",
      "  _warn_prf(average, modifier, msg_start, len(result))\n"
     ]
    },
    {
     "name": "stdout",
     "output_type": "stream",
     "text": [
      "AxesSubplot(0.125,0.125;0.62x0.755)\n"
     ]
    },
    {
     "data": {
      "text/plain": [
       "'              precision    recall  f1-score   support\\n\\n           0       0.00      0.00      0.00        54\\n           1       0.48      0.40      0.44       497\\n           2       0.45      0.39      0.42      1429\\n           3       0.67      0.39      0.49        75\\n           4       0.53      0.66      0.59       284\\n           5       0.69      0.68      0.68       350\\n           6       0.51      0.33      0.40       372\\n           7       0.68      0.32      0.44        59\\n           8       0.59      0.64      0.61      2073\\n           9       0.92      0.81      0.86        68\\n          10       0.86      0.91      0.89      1945\\n          11       0.55      0.59      0.57      2170\\n\\n    accuracy                           0.62      9376\\n   macro avg       0.58      0.51      0.53      9376\\nweighted avg       0.61      0.62      0.61      9376\\n'"
      ]
     },
     "execution_count": 43,
     "metadata": {},
     "output_type": "execute_result"
    },
    {
     "data": {
      "image/png": "[encoded data removed]",
      "text/plain": [
       "<Figure size 432x288 with 2 Axes>"
      ]
     },
     "metadata": {
      "needs_background": "light"
     },
     "output_type": "display_data"
    }
   ],
   "source": [
    "all_actual_values = []\n",
    "for i in range(len(y_test_list)):\n",
    "    test_labels = np.argmax(convert_da_labels_to_categorical(y_test_list[i]), axis=-1)\n",
    "    all_actual_values.extend(test_labels)\n",
    "calculate_accuracy_metrics_and_print_cm(all_actual_values, bert_base_preds)"
   ]
  },
  {
   "cell_type": "code",
   "execution_count": 3,
   "metadata": {},
   "outputs": [
    {
     "data": {
      "text/plain": [
       "0.6507693997476298"
      ]
     },
     "execution_count": 3,
     "metadata": {},
     "output_type": "execute_result"
    }
   ],
   "source": [
    "import numpy as np\n",
    "np.average([0.6437788018433179, 0.6481583287520616, 0.6895573212258796, 0.6375, 0.6348525469168901])"
   ]
  },
  {
   "cell_type": "code",
   "execution_count": 45,
   "metadata": {},
   "outputs": [
    {
     "name": "stdout",
     "output_type": "stream",
     "text": [
      "0.5825117546349503\n",
      "0.5034832345949336\n",
      "0.6178538907800788\n",
      "0.6464245175936436\n"
     ]
    }
   ],
   "source": [
    "import numpy as np\n",
    "# Aggregate bert unimodal results\n",
    "bert_prec=[0.5966068847263362, 0.6212234939476464, 0.6144896424841519, 0.5417080032560992, 0.538530748760518]\n",
    "bert_rec=[0.5176536595925126, 0.5120156730150688, 0.5368685520372972, 0.477105161416223, 0.47377312691356677]\n",
    "bert_acc=[0.6059907834101382, 0.6256184716877405, 0.6464245175936436, 0.6090909090909091, 0.6021447721179625]\n",
    "\n",
    "print(np.average(bert_prec))\n",
    "print(np.average(bert_rec))\n",
    "print(np.average(bert_acc))\n",
    "print(np.max(bert_acc))"
   ]
  },
  {
   "cell_type": "code",
   "execution_count": 44,
   "metadata": {},
   "outputs": [
    {
     "name": "stdout",
     "output_type": "stream",
     "text": [
      "0.5520602922731335\n",
      "0.47967101665503764\n",
      "0.5918576221119747\n",
      "0.656072644721907\n"
     ]
    }
   ],
   "source": [
    "import numpy as np\n",
    "# Aggregate glove unimodal results\n",
    "glove_prec = [0.607465400670239, 0.4145512501478092, 0.6868651416116993, 0.5614360477269876, 0.48998362120893213]\n",
    "glove_rec = [0.543735300350207, 0.4149422509730321, 0.4826486967115069, 0.48149447074900165, 0.47553436449144043]\n",
    "glove_acc=[0.5894009216589862, 0.5420560747663551, 0.656072644721907, 0.5840909090909091, 0.5876675603217159]\n",
    "print(np.average(glove_prec))\n",
    "print(np.average(glove_rec))\n",
    "print(np.average(glove_acc))\n",
    "print(np.max(glove_acc))"
   ]
  },
  {
   "cell_type": "code",
   "execution_count": null,
   "metadata": {},
   "outputs": [],
   "source": []
  }
 ],
 "metadata": {
  "colab": {
   "collapsed_sections": [],
   "name": "FinalProject_DeepLearning.ipynb",
   "provenance": []
  },
  "kernelspec": {
   "display_name": "Python 3 (ipykernel)",
   "language": "python",
   "name": "python3"
  },
  "language_info": {
   "codemirror_mode": {
    "name": "ipython",
    "version": 3
   },
   "file_extension": ".py",
   "mimetype": "text/x-python",
   "name": "python",
   "nbconvert_exporter": "python",
   "pygments_lexer": "ipython3",
   "version": "3.9.12"
  }
 },
 "nbformat": 4,
 "nbformat_minor": 4
}
