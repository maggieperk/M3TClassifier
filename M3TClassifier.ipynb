{
 "cells": [
  {
   "cell_type": "code",
   "execution_count": 7,
   "metadata": {
    "id": "gVm_wXUrovWo"
   },
   "outputs": [],
   "source": [
    "import pandas as pd\n",
    "\n",
    "# Read in the CSV files\n",
    "iemocap1 = pd.read_csv('iemocap_session1_af.csv')\n",
    "iemocap2 = pd.read_csv('iemocap_session2_af.csv')\n",
    "iemocap3 = pd.read_csv('iemocap_session3_af.csv')\n",
    "iemocap4 = pd.read_csv('iemocap_session4_af.csv')\n",
    "iemocap5 = pd.read_csv('iemocap_session5_af.csv')\n"
   ]
  },
  {
   "cell_type": "code",
   "execution_count": 20,
   "metadata": {
    "colab": {
     "base_uri": "https://localhost:8080/"
    },
    "id": "v1XzqZtRp4Vm",
    "outputId": "7a575555-6ac0-47f6-a6e7-c6073820ae78"
   },
   "outputs": [
    {
     "name": "stdout",
     "output_type": "stream",
     "text": [
      "1819\n",
      "1762\n",
      "1760\n",
      "1865\n",
      "2170\n"
     ]
    },
    {
     "data": {
      "text/plain": [
       "9376"
      ]
     },
     "execution_count": 20,
     "metadata": {},
     "output_type": "execute_result"
    }
   ],
   "source": [
    "print(len(iemocap1))\n",
    "print(len(iemocap2))\n",
    "print(len(iemocap3))\n",
    "print(len(iemocap4))\n",
    "print(len(iemocap5))\n",
    "len(iemocap1) + len(iemocap2) + len(iemocap3) + len(iemocap4) + len(iemocap5)"
   ]
  },
  {
   "cell_type": "code",
   "execution_count": 3,
   "metadata": {
    "colab": {
     "base_uri": "https://localhost:8080/"
    },
    "id": "ws5HMBJOrZ0F",
    "outputId": "76df8326-36af-4fd5-b1d6-18221be7e227"
   },
   "outputs": [
    {
     "data": {
      "text/plain": [
       "Index(['Unnamed: 0', 'TURN', 'UTTERANCE', 'DA', 'EMOTION', 'file', 'start',\n",
       "       'end', 'audio_file', 'audspec_lengthL1norm_sma_range',\n",
       "       ...\n",
       "       'mfcc_sma_de[14]_peakRangeAbs', 'mfcc_sma_de[14]_peakRangeRel',\n",
       "       'mfcc_sma_de[14]_peakMeanAbs', 'mfcc_sma_de[14]_peakMeanMeanDist',\n",
       "       'mfcc_sma_de[14]_peakMeanRel', 'mfcc_sma_de[14]_minRangeRel',\n",
       "       'mfcc_sma_de[14]_meanRisingSlope', 'mfcc_sma_de[14]_stddevRisingSlope',\n",
       "       'mfcc_sma_de[14]_meanFallingSlope',\n",
       "       'mfcc_sma_de[14]_stddevFallingSlope'],\n",
       "      dtype='object', length=6382)"
      ]
     },
     "execution_count": 3,
     "metadata": {},
     "output_type": "execute_result"
    }
   ],
   "source": [
    "iemocap1.columns"
   ]
  },
  {
   "cell_type": "code",
   "execution_count": 4,
   "metadata": {
    "colab": {
     "base_uri": "https://localhost:8080/",
     "height": 423
    },
    "id": "Dyv30Vd21sjg",
    "outputId": "5e0dacc4-43c7-427d-ee76-8ff5c56df0a5"
   },
   "outputs": [
    {
     "data": {
      "text/html": [
       "<div>\n",
       "<style scoped>\n",
       "    .dataframe tbody tr th:only-of-type {\n",
       "        vertical-align: middle;\n",
       "    }\n",
       "\n",
       "    .dataframe tbody tr th {\n",
       "        vertical-align: top;\n",
       "    }\n",
       "\n",
       "    .dataframe thead th {\n",
       "        text-align: right;\n",
       "    }\n",
       "</style>\n",
       "<table border=\"1\" class=\"dataframe\">\n",
       "  <thead>\n",
       "    <tr style=\"text-align: right;\">\n",
       "      <th></th>\n",
       "      <th>Unnamed: 0</th>\n",
       "      <th>TURN</th>\n",
       "      <th>UTTERANCE</th>\n",
       "      <th>DA</th>\n",
       "      <th>EMOTION</th>\n",
       "      <th>file</th>\n",
       "      <th>start</th>\n",
       "      <th>end</th>\n",
       "      <th>audio_file</th>\n",
       "      <th>audspec_lengthL1norm_sma_range</th>\n",
       "      <th>...</th>\n",
       "      <th>mfcc_sma_de[14]_peakRangeAbs</th>\n",
       "      <th>mfcc_sma_de[14]_peakRangeRel</th>\n",
       "      <th>mfcc_sma_de[14]_peakMeanAbs</th>\n",
       "      <th>mfcc_sma_de[14]_peakMeanMeanDist</th>\n",
       "      <th>mfcc_sma_de[14]_peakMeanRel</th>\n",
       "      <th>mfcc_sma_de[14]_minRangeRel</th>\n",
       "      <th>mfcc_sma_de[14]_meanRisingSlope</th>\n",
       "      <th>mfcc_sma_de[14]_stddevRisingSlope</th>\n",
       "      <th>mfcc_sma_de[14]_meanFallingSlope</th>\n",
       "      <th>mfcc_sma_de[14]_stddevFallingSlope</th>\n",
       "    </tr>\n",
       "  </thead>\n",
       "  <tbody>\n",
       "    <tr>\n",
       "      <th>0</th>\n",
       "      <td>0</td>\n",
       "      <td>Ses01F_impro01_F000</td>\n",
       "      <td>Excuse me.</td>\n",
       "      <td>c</td>\n",
       "      <td>neu</td>\n",
       "      <td>IEMOCAP_full_release\\Session1\\sentences\\wav\\Se...</td>\n",
       "      <td>0 days</td>\n",
       "      <td>0 days 00:00:01.945562500</td>\n",
       "      <td>Ses01F_impro01_F000</td>\n",
       "      <td>0.421106</td>\n",
       "      <td>...</td>\n",
       "      <td>4.000660</td>\n",
       "      <td>0.512116</td>\n",
       "      <td>1.503466</td>\n",
       "      <td>1.567929</td>\n",
       "      <td>-15.056805</td>\n",
       "      <td>0.569233</td>\n",
       "      <td>85.616110</td>\n",
       "      <td>35.782520</td>\n",
       "      <td>89.561830</td>\n",
       "      <td>38.988266</td>\n",
       "    </tr>\n",
       "    <tr>\n",
       "      <th>1</th>\n",
       "      <td>1</td>\n",
       "      <td>Ses01F_impro01_M000</td>\n",
       "      <td>Do you have your forms?</td>\n",
       "      <td>q</td>\n",
       "      <td>fru</td>\n",
       "      <td>IEMOCAP_full_release\\Session1\\sentences\\wav\\Se...</td>\n",
       "      <td>0 days</td>\n",
       "      <td>0 days 00:00:02.903750</td>\n",
       "      <td>Ses01F_impro01_M000</td>\n",
       "      <td>0.767355</td>\n",
       "      <td>...</td>\n",
       "      <td>5.629289</td>\n",
       "      <td>0.565716</td>\n",
       "      <td>1.887026</td>\n",
       "      <td>1.934214</td>\n",
       "      <td>-17.227465</td>\n",
       "      <td>0.485243</td>\n",
       "      <td>86.762910</td>\n",
       "      <td>41.025417</td>\n",
       "      <td>102.510216</td>\n",
       "      <td>47.590187</td>\n",
       "    </tr>\n",
       "    <tr>\n",
       "      <th>2</th>\n",
       "      <td>2</td>\n",
       "      <td>Ses01F_impro01_F001</td>\n",
       "      <td>Yeah.</td>\n",
       "      <td>ans</td>\n",
       "      <td>neu</td>\n",
       "      <td>IEMOCAP_full_release\\Session1\\sentences\\wav\\Se...</td>\n",
       "      <td>0 days</td>\n",
       "      <td>0 days 00:00:01.382437500</td>\n",
       "      <td>Ses01F_impro01_F001</td>\n",
       "      <td>0.983052</td>\n",
       "      <td>...</td>\n",
       "      <td>3.966767</td>\n",
       "      <td>0.590774</td>\n",
       "      <td>1.455073</td>\n",
       "      <td>1.426209</td>\n",
       "      <td>17.957943</td>\n",
       "      <td>0.463587</td>\n",
       "      <td>74.970550</td>\n",
       "      <td>33.395966</td>\n",
       "      <td>77.276120</td>\n",
       "      <td>42.197693</td>\n",
       "    </tr>\n",
       "    <tr>\n",
       "      <th>3</th>\n",
       "      <td>3</td>\n",
       "      <td>Ses01F_impro01_M001</td>\n",
       "      <td>Let me see them.</td>\n",
       "      <td>s</td>\n",
       "      <td>fru</td>\n",
       "      <td>IEMOCAP_full_release\\Session1\\sentences\\wav\\Se...</td>\n",
       "      <td>0 days</td>\n",
       "      <td>0 days 00:00:03.738312500</td>\n",
       "      <td>Ses01F_impro01_M001</td>\n",
       "      <td>0.468888</td>\n",
       "      <td>...</td>\n",
       "      <td>3.315655</td>\n",
       "      <td>0.480507</td>\n",
       "      <td>1.536020</td>\n",
       "      <td>1.536735</td>\n",
       "      <td>-20.000000</td>\n",
       "      <td>0.582551</td>\n",
       "      <td>84.862100</td>\n",
       "      <td>33.494230</td>\n",
       "      <td>80.046850</td>\n",
       "      <td>36.497910</td>\n",
       "    </tr>\n",
       "    <tr>\n",
       "      <th>4</th>\n",
       "      <td>4</td>\n",
       "      <td>Ses01F_impro01_F002</td>\n",
       "      <td>Is there a problem?</td>\n",
       "      <td>q</td>\n",
       "      <td>neu</td>\n",
       "      <td>IEMOCAP_full_release\\Session1\\sentences\\wav\\Se...</td>\n",
       "      <td>0 days</td>\n",
       "      <td>0 days 00:00:03.130250</td>\n",
       "      <td>Ses01F_impro01_F002</td>\n",
       "      <td>0.885011</td>\n",
       "      <td>...</td>\n",
       "      <td>4.575267</td>\n",
       "      <td>0.478030</td>\n",
       "      <td>1.946634</td>\n",
       "      <td>1.947857</td>\n",
       "      <td>-19.999996</td>\n",
       "      <td>0.526118</td>\n",
       "      <td>102.262870</td>\n",
       "      <td>50.356632</td>\n",
       "      <td>101.990300</td>\n",
       "      <td>50.760840</td>\n",
       "    </tr>\n",
       "    <tr>\n",
       "      <th>...</th>\n",
       "      <td>...</td>\n",
       "      <td>...</td>\n",
       "      <td>...</td>\n",
       "      <td>...</td>\n",
       "      <td>...</td>\n",
       "      <td>...</td>\n",
       "      <td>...</td>\n",
       "      <td>...</td>\n",
       "      <td>...</td>\n",
       "      <td>...</td>\n",
       "      <td>...</td>\n",
       "      <td>...</td>\n",
       "      <td>...</td>\n",
       "      <td>...</td>\n",
       "      <td>...</td>\n",
       "      <td>...</td>\n",
       "      <td>...</td>\n",
       "      <td>...</td>\n",
       "      <td>...</td>\n",
       "      <td>...</td>\n",
       "      <td>...</td>\n",
       "    </tr>\n",
       "    <tr>\n",
       "      <th>1814</th>\n",
       "      <td>1814</td>\n",
       "      <td>Ses01M_script03_2_F040</td>\n",
       "      <td>This is the end do you hear me?  Finally and f...</td>\n",
       "      <td>s</td>\n",
       "      <td>ang</td>\n",
       "      <td>IEMOCAP_full_release\\Session1\\sentences\\wav\\Se...</td>\n",
       "      <td>0 days</td>\n",
       "      <td>0 days 00:00:04.897437500</td>\n",
       "      <td>Ses01M_script03_2_F040</td>\n",
       "      <td>5.991243</td>\n",
       "      <td>...</td>\n",
       "      <td>6.569323</td>\n",
       "      <td>0.415863</td>\n",
       "      <td>2.416387</td>\n",
       "      <td>2.425169</td>\n",
       "      <td>-19.956383</td>\n",
       "      <td>0.631113</td>\n",
       "      <td>104.890740</td>\n",
       "      <td>51.815002</td>\n",
       "      <td>117.633500</td>\n",
       "      <td>61.093790</td>\n",
       "    </tr>\n",
       "    <tr>\n",
       "      <th>1815</th>\n",
       "      <td>1815</td>\n",
       "      <td>Ses01M_script03_2_M041</td>\n",
       "      <td>You're not going like this.</td>\n",
       "      <td>c</td>\n",
       "      <td>ang</td>\n",
       "      <td>IEMOCAP_full_release\\Session1\\sentences\\wav\\Se...</td>\n",
       "      <td>0 days</td>\n",
       "      <td>0 days 00:00:02.289937500</td>\n",
       "      <td>Ses01M_script03_2_M041</td>\n",
       "      <td>1.151221</td>\n",
       "      <td>...</td>\n",
       "      <td>4.155899</td>\n",
       "      <td>0.479715</td>\n",
       "      <td>1.919791</td>\n",
       "      <td>1.909991</td>\n",
       "      <td>19.874962</td>\n",
       "      <td>0.463086</td>\n",
       "      <td>101.120605</td>\n",
       "      <td>44.601690</td>\n",
       "      <td>101.235330</td>\n",
       "      <td>40.413660</td>\n",
       "    </tr>\n",
       "    <tr>\n",
       "      <th>1816</th>\n",
       "      <td>1816</td>\n",
       "      <td>Ses01M_script03_2_F041</td>\n",
       "      <td>Oh yes I am...Oh yes I am. Let go of me. You l...</td>\n",
       "      <td>o</td>\n",
       "      <td>ang</td>\n",
       "      <td>IEMOCAP_full_release\\Session1\\sentences\\wav\\Se...</td>\n",
       "      <td>0 days</td>\n",
       "      <td>0 days 00:00:18.920000</td>\n",
       "      <td>Ses01M_script03_2_F041</td>\n",
       "      <td>7.922565</td>\n",
       "      <td>...</td>\n",
       "      <td>12.361532</td>\n",
       "      <td>0.600374</td>\n",
       "      <td>3.516732</td>\n",
       "      <td>3.513449</td>\n",
       "      <td>19.999935</td>\n",
       "      <td>0.530098</td>\n",
       "      <td>142.937130</td>\n",
       "      <td>80.852234</td>\n",
       "      <td>141.834430</td>\n",
       "      <td>76.976610</td>\n",
       "    </tr>\n",
       "    <tr>\n",
       "      <th>1817</th>\n",
       "      <td>1817</td>\n",
       "      <td>Ses01M_script03_2_M042</td>\n",
       "      <td>No you're not.</td>\n",
       "      <td>dag</td>\n",
       "      <td>ang</td>\n",
       "      <td>IEMOCAP_full_release\\Session1\\sentences\\wav\\Se...</td>\n",
       "      <td>0 days</td>\n",
       "      <td>0 days 00:00:01.720000</td>\n",
       "      <td>Ses01M_script03_2_M042</td>\n",
       "      <td>1.678473</td>\n",
       "      <td>...</td>\n",
       "      <td>3.382035</td>\n",
       "      <td>0.466386</td>\n",
       "      <td>1.797603</td>\n",
       "      <td>1.809369</td>\n",
       "      <td>-19.756504</td>\n",
       "      <td>0.780184</td>\n",
       "      <td>88.947800</td>\n",
       "      <td>42.252377</td>\n",
       "      <td>91.498040</td>\n",
       "      <td>41.733190</td>\n",
       "    </tr>\n",
       "    <tr>\n",
       "      <th>1818</th>\n",
       "      <td>1818</td>\n",
       "      <td>Ses01M_script03_2_M043</td>\n",
       "      <td>Shut up. Shut up. I wouldn't marry you again i...</td>\n",
       "      <td>o</td>\n",
       "      <td>ang</td>\n",
       "      <td>IEMOCAP_full_release\\Session1\\sentences\\wav\\Se...</td>\n",
       "      <td>0 days</td>\n",
       "      <td>0 days 00:00:14.250000</td>\n",
       "      <td>Ses01M_script03_2_M043</td>\n",
       "      <td>7.283013</td>\n",
       "      <td>...</td>\n",
       "      <td>14.676086</td>\n",
       "      <td>0.613654</td>\n",
       "      <td>3.726595</td>\n",
       "      <td>3.720467</td>\n",
       "      <td>19.998330</td>\n",
       "      <td>0.439020</td>\n",
       "      <td>144.181530</td>\n",
       "      <td>72.746666</td>\n",
       "      <td>143.987200</td>\n",
       "      <td>79.549995</td>\n",
       "    </tr>\n",
       "  </tbody>\n",
       "</table>\n",
       "<p>1819 rows × 6382 columns</p>\n",
       "</div>"
      ],
      "text/plain": [
       "      Unnamed: 0                    TURN  \\\n",
       "0              0     Ses01F_impro01_F000   \n",
       "1              1     Ses01F_impro01_M000   \n",
       "2              2     Ses01F_impro01_F001   \n",
       "3              3     Ses01F_impro01_M001   \n",
       "4              4     Ses01F_impro01_F002   \n",
       "...          ...                     ...   \n",
       "1814        1814  Ses01M_script03_2_F040   \n",
       "1815        1815  Ses01M_script03_2_M041   \n",
       "1816        1816  Ses01M_script03_2_F041   \n",
       "1817        1817  Ses01M_script03_2_M042   \n",
       "1818        1818  Ses01M_script03_2_M043   \n",
       "\n",
       "                                              UTTERANCE   DA EMOTION  \\\n",
       "0                                            Excuse me.    c     neu   \n",
       "1                               Do you have your forms?    q     fru   \n",
       "2                                                 Yeah.  ans     neu   \n",
       "3                                      Let me see them.    s     fru   \n",
       "4                                   Is there a problem?    q     neu   \n",
       "...                                                 ...  ...     ...   \n",
       "1814  This is the end do you hear me?  Finally and f...    s     ang   \n",
       "1815                        You're not going like this.    c     ang   \n",
       "1816  Oh yes I am...Oh yes I am. Let go of me. You l...    o     ang   \n",
       "1817                                     No you're not.  dag     ang   \n",
       "1818  Shut up. Shut up. I wouldn't marry you again i...    o     ang   \n",
       "\n",
       "                                                   file   start  \\\n",
       "0     IEMOCAP_full_release\\Session1\\sentences\\wav\\Se...  0 days   \n",
       "1     IEMOCAP_full_release\\Session1\\sentences\\wav\\Se...  0 days   \n",
       "2     IEMOCAP_full_release\\Session1\\sentences\\wav\\Se...  0 days   \n",
       "3     IEMOCAP_full_release\\Session1\\sentences\\wav\\Se...  0 days   \n",
       "4     IEMOCAP_full_release\\Session1\\sentences\\wav\\Se...  0 days   \n",
       "...                                                 ...     ...   \n",
       "1814  IEMOCAP_full_release\\Session1\\sentences\\wav\\Se...  0 days   \n",
       "1815  IEMOCAP_full_release\\Session1\\sentences\\wav\\Se...  0 days   \n",
       "1816  IEMOCAP_full_release\\Session1\\sentences\\wav\\Se...  0 days   \n",
       "1817  IEMOCAP_full_release\\Session1\\sentences\\wav\\Se...  0 days   \n",
       "1818  IEMOCAP_full_release\\Session1\\sentences\\wav\\Se...  0 days   \n",
       "\n",
       "                            end              audio_file  \\\n",
       "0     0 days 00:00:01.945562500     Ses01F_impro01_F000   \n",
       "1        0 days 00:00:02.903750     Ses01F_impro01_M000   \n",
       "2     0 days 00:00:01.382437500     Ses01F_impro01_F001   \n",
       "3     0 days 00:00:03.738312500     Ses01F_impro01_M001   \n",
       "4        0 days 00:00:03.130250     Ses01F_impro01_F002   \n",
       "...                         ...                     ...   \n",
       "1814  0 days 00:00:04.897437500  Ses01M_script03_2_F040   \n",
       "1815  0 days 00:00:02.289937500  Ses01M_script03_2_M041   \n",
       "1816     0 days 00:00:18.920000  Ses01M_script03_2_F041   \n",
       "1817     0 days 00:00:01.720000  Ses01M_script03_2_M042   \n",
       "1818     0 days 00:00:14.250000  Ses01M_script03_2_M043   \n",
       "\n",
       "      audspec_lengthL1norm_sma_range  ...  mfcc_sma_de[14]_peakRangeAbs  \\\n",
       "0                           0.421106  ...                      4.000660   \n",
       "1                           0.767355  ...                      5.629289   \n",
       "2                           0.983052  ...                      3.966767   \n",
       "3                           0.468888  ...                      3.315655   \n",
       "4                           0.885011  ...                      4.575267   \n",
       "...                              ...  ...                           ...   \n",
       "1814                        5.991243  ...                      6.569323   \n",
       "1815                        1.151221  ...                      4.155899   \n",
       "1816                        7.922565  ...                     12.361532   \n",
       "1817                        1.678473  ...                      3.382035   \n",
       "1818                        7.283013  ...                     14.676086   \n",
       "\n",
       "      mfcc_sma_de[14]_peakRangeRel  mfcc_sma_de[14]_peakMeanAbs  \\\n",
       "0                         0.512116                     1.503466   \n",
       "1                         0.565716                     1.887026   \n",
       "2                         0.590774                     1.455073   \n",
       "3                         0.480507                     1.536020   \n",
       "4                         0.478030                     1.946634   \n",
       "...                            ...                          ...   \n",
       "1814                      0.415863                     2.416387   \n",
       "1815                      0.479715                     1.919791   \n",
       "1816                      0.600374                     3.516732   \n",
       "1817                      0.466386                     1.797603   \n",
       "1818                      0.613654                     3.726595   \n",
       "\n",
       "      mfcc_sma_de[14]_peakMeanMeanDist  mfcc_sma_de[14]_peakMeanRel  \\\n",
       "0                             1.567929                   -15.056805   \n",
       "1                             1.934214                   -17.227465   \n",
       "2                             1.426209                    17.957943   \n",
       "3                             1.536735                   -20.000000   \n",
       "4                             1.947857                   -19.999996   \n",
       "...                                ...                          ...   \n",
       "1814                          2.425169                   -19.956383   \n",
       "1815                          1.909991                    19.874962   \n",
       "1816                          3.513449                    19.999935   \n",
       "1817                          1.809369                   -19.756504   \n",
       "1818                          3.720467                    19.998330   \n",
       "\n",
       "      mfcc_sma_de[14]_minRangeRel  mfcc_sma_de[14]_meanRisingSlope  \\\n",
       "0                        0.569233                        85.616110   \n",
       "1                        0.485243                        86.762910   \n",
       "2                        0.463587                        74.970550   \n",
       "3                        0.582551                        84.862100   \n",
       "4                        0.526118                       102.262870   \n",
       "...                           ...                              ...   \n",
       "1814                     0.631113                       104.890740   \n",
       "1815                     0.463086                       101.120605   \n",
       "1816                     0.530098                       142.937130   \n",
       "1817                     0.780184                        88.947800   \n",
       "1818                     0.439020                       144.181530   \n",
       "\n",
       "      mfcc_sma_de[14]_stddevRisingSlope  mfcc_sma_de[14]_meanFallingSlope  \\\n",
       "0                             35.782520                         89.561830   \n",
       "1                             41.025417                        102.510216   \n",
       "2                             33.395966                         77.276120   \n",
       "3                             33.494230                         80.046850   \n",
       "4                             50.356632                        101.990300   \n",
       "...                                 ...                               ...   \n",
       "1814                          51.815002                        117.633500   \n",
       "1815                          44.601690                        101.235330   \n",
       "1816                          80.852234                        141.834430   \n",
       "1817                          42.252377                         91.498040   \n",
       "1818                          72.746666                        143.987200   \n",
       "\n",
       "      mfcc_sma_de[14]_stddevFallingSlope  \n",
       "0                              38.988266  \n",
       "1                              47.590187  \n",
       "2                              42.197693  \n",
       "3                              36.497910  \n",
       "4                              50.760840  \n",
       "...                                  ...  \n",
       "1814                           61.093790  \n",
       "1815                           40.413660  \n",
       "1816                           76.976610  \n",
       "1817                           41.733190  \n",
       "1818                           79.549995  \n",
       "\n",
       "[1819 rows x 6382 columns]"
      ]
     },
     "execution_count": 4,
     "metadata": {},
     "output_type": "execute_result"
    }
   ],
   "source": [
    "iemocap1"
   ]
  },
  {
   "cell_type": "code",
   "execution_count": 5,
   "metadata": {
    "colab": {
     "base_uri": "https://localhost:8080/"
    },
    "id": "rHJE-DJPH83N",
    "outputId": "798a5f27-2d5a-4ce9-8388-ee7ce0fb9678"
   },
   "outputs": [
    {
     "name": "stdout",
     "output_type": "stream",
     "text": [
      "split 1 counts\n",
      "Unnamed: 0                            1819\n",
      "TURN                                  1819\n",
      "UTTERANCE                             1819\n",
      "DA                                    1819\n",
      "EMOTION                               1819\n",
      "                                      ... \n",
      "mfcc_sma_de[14]_minRangeRel           1819\n",
      "mfcc_sma_de[14]_meanRisingSlope       1819\n",
      "mfcc_sma_de[14]_stddevRisingSlope     1819\n",
      "mfcc_sma_de[14]_meanFallingSlope      1819\n",
      "mfcc_sma_de[14]_stddevFallingSlope    1819\n",
      "Length: 6382, dtype: int64\n",
      "split 2 counts\n",
      "Unnamed: 0                            1762\n",
      "TURN                                  1762\n",
      "UTTERANCE                             1762\n",
      "DA                                    1762\n",
      "EMOTION                               1762\n",
      "                                      ... \n",
      "mfcc_sma_de[14]_minRangeRel           1762\n",
      "mfcc_sma_de[14]_meanRisingSlope       1762\n",
      "mfcc_sma_de[14]_stddevRisingSlope     1762\n",
      "mfcc_sma_de[14]_meanFallingSlope      1762\n",
      "mfcc_sma_de[14]_stddevFallingSlope    1762\n",
      "Length: 6382, dtype: int64\n",
      "split 3 counts\n",
      "Unnamed: 0                            1760\n",
      "TURN                                  1760\n",
      "UTTERANCE                             1760\n",
      "DA                                    1760\n",
      "EMOTION                               1760\n",
      "                                      ... \n",
      "mfcc_sma_de[14]_minRangeRel           1760\n",
      "mfcc_sma_de[14]_meanRisingSlope       1760\n",
      "mfcc_sma_de[14]_stddevRisingSlope     1760\n",
      "mfcc_sma_de[14]_meanFallingSlope      1760\n",
      "mfcc_sma_de[14]_stddevFallingSlope    1760\n",
      "Length: 6382, dtype: int64\n",
      "split 4 counts\n",
      "Unnamed: 0                            1865\n",
      "TURN                                  1865\n",
      "UTTERANCE                             1865\n",
      "DA                                    1865\n",
      "EMOTION                               1865\n",
      "                                      ... \n",
      "mfcc_sma_de[14]_minRangeRel           1865\n",
      "mfcc_sma_de[14]_meanRisingSlope       1865\n",
      "mfcc_sma_de[14]_stddevRisingSlope     1865\n",
      "mfcc_sma_de[14]_meanFallingSlope      1865\n",
      "mfcc_sma_de[14]_stddevFallingSlope    1865\n",
      "Length: 6382, dtype: int64\n",
      "split 5 counts\n",
      "Unnamed: 0                            2170\n",
      "TURN                                  2170\n",
      "UTTERANCE                             2170\n",
      "DA                                    2170\n",
      "EMOTION                               2170\n",
      "                                      ... \n",
      "mfcc_sma_de[14]_minRangeRel           2170\n",
      "mfcc_sma_de[14]_meanRisingSlope       2170\n",
      "mfcc_sma_de[14]_stddevRisingSlope     2170\n",
      "mfcc_sma_de[14]_meanFallingSlope      2170\n",
      "mfcc_sma_de[14]_stddevFallingSlope    2170\n",
      "Length: 6382, dtype: int64\n"
     ]
    }
   ],
   "source": [
    "# Figure out null columns\n",
    "print(\"split 1 counts\")\n",
    "print(iemocap1.count())\n",
    "\n",
    "print(\"split 2 counts\")\n",
    "print(iemocap2.count())\n",
    "\n",
    "print(\"split 3 counts\")\n",
    "print(iemocap3.count())\n",
    "\n",
    "print(\"split 4 counts\")\n",
    "print(iemocap4.count())\n",
    "\n",
    "print(\"split 5 counts\")\n",
    "print(iemocap5.count())"
   ]
  },
  {
   "cell_type": "code",
   "execution_count": 8,
   "metadata": {},
   "outputs": [],
   "source": [
    "# Get the DA labels\n",
    "da_labels_iemocap1 = iemocap1['DA']\n",
    "da_labels_iemocap2 = iemocap2['DA']\n",
    "da_labels_iemocap3 = iemocap3['DA']\n",
    "da_labels_iemocap4 = iemocap4['DA']\n",
    "da_labels_iemocap5 = iemocap5['DA']\n",
    "\n",
    "# Emotion labels\n",
    "emot_labels_iemocap1 = iemocap1['EMOTION']\n",
    "emot_labels_iemocap2 = iemocap2['EMOTION']\n",
    "emot_labels_iemocap3 = iemocap3['EMOTION']\n",
    "emot_labels_iemocap4 = iemocap4['EMOTION']\n",
    "emot_labels_iemocap5 = iemocap5['EMOTION']"
   ]
  },
  {
   "cell_type": "code",
   "execution_count": 10,
   "metadata": {},
   "outputs": [
    {
     "data": {
      "text/plain": [
       "s      2170\n",
       "o      2073\n",
       "q      1945\n",
       "ans    1429\n",
       "ag      497\n",
       "dag     372\n",
       "c       350\n",
       "b       284\n",
       "ap       75\n",
       "oth      68\n",
       "g        59\n",
       "a        54\n",
       "Name: DA, dtype: int64"
      ]
     },
     "execution_count": 10,
     "metadata": {},
     "output_type": "execute_result"
    }
   ],
   "source": [
    "# Get a sense of the value counts for the data\n",
    "full_da_labels = pd.concat([da_labels_iemocap1, da_labels_iemocap2, da_labels_iemocap3, da_labels_iemocap4, da_labels_iemocap5])\n",
    "full_da_labels.value_counts()"
   ]
  },
  {
   "cell_type": "code",
   "execution_count": 9,
   "metadata": {},
   "outputs": [
    {
     "data": {
      "text/plain": [
       "xxx    2305\n",
       "fru    1714\n",
       "neu    1613\n",
       "ang    1034\n",
       "sad    1011\n",
       "exc     999\n",
       "hap     563\n",
       "sur      94\n",
       "fea      38\n",
       "oth       3\n",
       "dis       2\n",
       "Name: EMOTION, dtype: int64"
      ]
     },
     "execution_count": 9,
     "metadata": {},
     "output_type": "execute_result"
    }
   ],
   "source": [
    "full_emot_data = pd.concat([emot_labels_iemocap1, emot_labels_iemocap2, emot_labels_iemocap3, emot_labels_iemocap4, emot_labels_iemocap5])\n",
    "full_emot_data.value_counts()"
   ]
  },
  {
   "cell_type": "code",
   "execution_count": 12,
   "metadata": {
    "colab": {
     "base_uri": "https://localhost:8080/"
    },
    "id": "VfnPtGvu1OSU",
    "outputId": "12aa201c-f4f1-4e25-bb25-8bf56a5b9e10"
   },
   "outputs": [],
   "source": [
    "# Turn code into categorical data\n",
    "# Create one hot embeddings of the label values (0, 1, 2)\n",
    "from tensorflow.keras.utils import to_categorical\n",
    "from sklearn import preprocessing\n",
    "import numpy as np\n",
    "\n",
    "# Full set of dialogue act labels\n",
    "da_labels = ['s', 'q', 'o', 'ans', 'c', 'ag', 'b', 'dag', 'oth', 'a', 'ap', 'g']\n",
    "da_encoder = preprocessing.LabelEncoder()\n",
    "da_encoder.fit(da_labels)\n",
    "\n",
    "emotion_labels = ['xxx', 'fru', 'neu', 'ang', 'sad', 'exc', 'hap', 'sur', 'fea', 'oth', 'dis']\n",
    "emotion_encoder = preprocessing.LabelEncoder()\n",
    "emotion_encoder.fit(emotion_labels)\n",
    "\n",
    "def convert_da_labels_to_categorical(dialog_acts):\n",
    "    num_labels = da_encoder.transform(dialog_acts)\n",
    "    cat_labels = to_categorical(num_labels)\n",
    "    return cat_labels\n",
    "\n",
    "def convert_cat_da_to_string(cat_das):\n",
    "    num_labels = np.argmax(cat_das, axis=-1)\n",
    "    return da_encoder.inverse_transform(num_labels)\n",
    "\n",
    "def convert_emot_labels_to_categorical(emot_data):\n",
    "    num_labels = emotion_encoder.transform(emot_data)\n",
    "    cat_labels = to_categorical(num_labels)\n",
    "    return cat_labels\n",
    "\n",
    "def convert_cat_emot_to_string(cat_emot_data):\n",
    "    num_labels = np.argmax(cat_emot_data, axis=-1)\n",
    "    return emotion_encoder.inverse_transform(num_labels)"
   ]
  },
  {
   "cell_type": "code",
   "execution_count": 21,
   "metadata": {},
   "outputs": [
    {
     "name": "stdout",
     "output_type": "stream",
     "text": [
      "c\n",
      "[0. 0. 0. 0. 0. 1. 0. 0. 0. 0. 0. 0.]\n",
      "c\n",
      "neu\n",
      "[0. 0. 0. 0. 0. 0. 1. 0. 0. 0. 0.]\n",
      "neu\n"
     ]
    }
   ],
   "source": [
    "print(da_labels_iemocap1[0])\n",
    "cat_1_labels = convert_da_labels_to_categorical(da_labels_iemocap1)\n",
    "print(cat_1_labels[0])\n",
    "string_das = convert_cat_da_to_string(cat_1_labels)\n",
    "print(string_das[0])\n",
    "\n",
    "print(emot_labels_iemocap1[0])\n",
    "cat_1_emot_labels = convert_emot_labels_to_categorical(emot_labels_iemocap1)\n",
    "print(cat_1_emot_labels[0])\n",
    "string_emot = convert_cat_emot_to_string(cat_1_emot_labels)\n",
    "print(string_emot[0])"
   ]
  },
  {
   "cell_type": "code",
   "execution_count": 23,
   "metadata": {},
   "outputs": [],
   "source": [
    "# CREATE OUR 5 TRAIN DATA SPLITS\n",
    "# Create and save glove embeddings for each train split of the IEMOCAP files\n",
    "train_split_1 = pd.concat([iemocap1, iemocap2, iemocap3])\n",
    "train_split_2 = pd.concat([iemocap2, iemocap3, iemocap4])\n",
    "train_split_3 = pd.concat([iemocap3, iemocap4, iemocap5])\n",
    "train_split_4 = pd.concat([iemocap4, iemocap5, iemocap1])\n",
    "train_split_5 = pd.concat([iemocap5, iemocap1, iemocap2])"
   ]
  },
  {
   "cell_type": "code",
   "execution_count": 103,
   "metadata": {},
   "outputs": [],
   "source": [
    "valid_split_1 = iemocap4\n",
    "test_split_1 = iemocap5\n",
    "\n",
    "valid_split_2 = iemocap5\n",
    "test_split_2 = iemocap1\n",
    "\n",
    "valid_split_3 = iemocap1\n",
    "test_split_3 = iemocap2\n",
    "\n",
    "valid_split_4 = iemocap2\n",
    "test_split_4 = iemocap3\n",
    "\n",
    "valid_split_5 = iemocap3\n",
    "test_split_5 = iemocap4"
   ]
  },
  {
   "cell_type": "code",
   "execution_count": 10,
   "metadata": {},
   "outputs": [],
   "source": [
    "# CREATE THE 5 SPLITS OF LABELS\n",
    "## SPLIT 1\n",
    "# Split 1 DA Labels\n",
    "train_split_1_da_labels = pd.concat([da_labels_iemocap1, da_labels_iemocap2, da_labels_iemocap3])\n",
    "valid_split_1_da_labels = da_labels_iemocap4\n",
    "test_split_1_da_labels = da_labels_iemocap5\n",
    "\n",
    "# Split 1 ER Labels\n",
    "train_split_1_er_labels = pd.concat([emot_labels_iemocap1, emot_labels_iemocap2, emot_labels_iemocap3])\n",
    "valid_split_1_er_labels = pd.concat([emot_labels_iemocap4])\n",
    "test_split_1_er_labels = pd.concat([emot_labels_iemocap5])\n",
    "\n",
    "## SPLIT 2\n",
    "# Split 2 DA Labels\n",
    "train_split_2_da_labels = pd.concat([da_labels_iemocap2, da_labels_iemocap3, da_labels_iemocap4])\n",
    "valid_split_2_da_labels = da_labels_iemocap5\n",
    "test_split_2_da_labels = da_labels_iemocap1\n",
    "\n",
    "# Split 2 ER Labels\n",
    "train_split_2_er_labels = pd.concat([emot_labels_iemocap2, emot_labels_iemocap3, emot_labels_iemocap4])\n",
    "valid_split_2_er_labels = pd.concat([emot_labels_iemocap5])\n",
    "test_split_2_er_labels = pd.concat([emot_labels_iemocap1])\n",
    "\n",
    "## SPLIT 3\n",
    "# Split 3 DA Labels\n",
    "train_split_3_da_labels = pd.concat([da_labels_iemocap3, da_labels_iemocap4, da_labels_iemocap5])\n",
    "valid_split_3_da_labels = da_labels_iemocap1\n",
    "test_split_3_da_labels = da_labels_iemocap2\n",
    "\n",
    "# Split 3 ER Labels\n",
    "train_split_3_er_labels = pd.concat([emot_labels_iemocap3, emot_labels_iemocap4, emot_labels_iemocap5])\n",
    "valid_split_3_er_labels = pd.concat([emot_labels_iemocap1])\n",
    "test_split_3_er_labels = pd.concat([emot_labels_iemocap2])\n",
    "\n",
    "\n",
    "## SPLIT 4\n",
    "# Split 4 DA Labels\n",
    "train_split_4_da_labels = pd.concat([da_labels_iemocap4, da_labels_iemocap5, da_labels_iemocap1])\n",
    "valid_split_4_da_labels = da_labels_iemocap2\n",
    "test_split_4_da_labels = da_labels_iemocap3\n",
    "\n",
    "# Split 4 ER Labels\n",
    "train_split_4_er_labels = pd.concat([emot_labels_iemocap4, emot_labels_iemocap5, emot_labels_iemocap1])\n",
    "valid_split_4_er_labels = pd.concat([emot_labels_iemocap2])\n",
    "test_split_4_er_labels = pd.concat([emot_labels_iemocap3])\n",
    "\n",
    "## SPLIT 5\n",
    "# Split 5 DA Labels\n",
    "train_split_5_da_labels = pd.concat([da_labels_iemocap5, da_labels_iemocap1, da_labels_iemocap2])\n",
    "valid_split_5_da_labels = da_labels_iemocap3\n",
    "test_split_5_da_labels = da_labels_iemocap4\n",
    "\n",
    "# Split 5 ER Labels\n",
    "train_split_5_er_labels = pd.concat([emot_labels_iemocap5, emot_labels_iemocap1, emot_labels_iemocap2])\n",
    "valid_split_5_er_labels = pd.concat([emot_labels_iemocap3])\n",
    "test_split_5_er_labels = pd.concat([emot_labels_iemocap4])"
   ]
  },
  {
   "cell_type": "code",
   "execution_count": 77,
   "metadata": {
    "id": "RXx0B6n5rsci"
   },
   "outputs": [],
   "source": [
    "## Create our Text Vectorizer to index our vocabulary based on the train samples \n",
    "from keras.layers import TextVectorization\n",
    "import tensorflow as tf\n",
    "\n",
    "def create_text_vectorizer_for_train_samples(train_set):\n",
    "    train_samples = [utterance for utterance in train_set['UTTERANCE']]\n",
    "\n",
    "    vectorizer = TextVectorization(max_tokens=10000, output_sequence_length=300)\n",
    "    text_ds = tf.data.Dataset.from_tensor_slices(train_samples).batch(128) ## Read batches of 128 samples\n",
    "    vectorizer.adapt(text_ds)\n",
    "    return vectorizer"
   ]
  },
  {
   "cell_type": "code",
   "execution_count": 78,
   "metadata": {
    "colab": {
     "base_uri": "https://localhost:8080/",
     "height": 423
    },
    "id": "55xTh1qJ5HHs",
    "outputId": "1bb709b7-aa33-4638-82f8-79e27ffbffc8"
   },
   "outputs": [],
   "source": [
    "vectorizer = create_text_vectorizer_for_train_samples(iemocap1)"
   ]
  },
  {
   "cell_type": "code",
   "execution_count": 79,
   "metadata": {
    "id": "39_80VAIyYLW"
   },
   "outputs": [],
   "source": [
    "import numpy as np\n",
    "\n",
    "x_train = vectorizer(np.array([[s] for s in iemocap1])).numpy()"
   ]
  },
  {
   "cell_type": "code",
   "execution_count": 80,
   "metadata": {
    "colab": {
     "base_uri": "https://localhost:8080/"
    },
    "id": "JWzZIeggzWDM",
    "outputId": "3eea8555-d2a0-4ec0-cd1f-1a18084b46bc"
   },
   "outputs": [
    {
     "name": "stdout",
     "output_type": "stream",
     "text": [
      "Found 400000 word vectors.\n"
     ]
    }
   ],
   "source": [
    "from keras.layers import Embedding\n",
    "from keras.initializers import Constant\n",
    "import os\n",
    "import numpy as np\n",
    "\n",
    "# Load the GloVE embeddings\n",
    "path_to_glove_file = \"glove.6B.300d.txt\"\n",
    "embedding_dim = 300 ## 300 dimensions (as dictated by the glove file)\n",
    "\n",
    "embeddings_index = {}\n",
    "with open(path_to_glove_file) as f:\n",
    "  for line in f:\n",
    "    word, coefs = line.split(maxsplit=1)\n",
    "    coefs = np.fromstring(coefs, \"f\", sep=\" \")\n",
    "    embeddings_index[word] = coefs\n",
    "\n",
    "print(\"Found %s word vectors.\" % len(embeddings_index))\n",
    "\n",
    "def create_glove_embedding_matrix_for_vectorizer(vectorizer):\n",
    "    # Create embedding matrix with our vocabulary indexed on glove\n",
    "    voc = vectorizer.get_vocabulary()\n",
    "    word_index = dict(zip(voc, range(len(voc))))\n",
    "\n",
    "    num_tokens = len(voc) \n",
    "    hits = 0 ## number of words that were found in the pretrained model\n",
    "    misses = 0 ## number of words that were missing in the pretrained model\n",
    "\n",
    "    # Prepare embedding matrix for our word list\n",
    "    embedding_matrix = np.zeros((num_tokens, embedding_dim))\n",
    "    for word, i in word_index.items():\n",
    "        embedding_vector = embeddings_index.get(word)\n",
    "        if embedding_vector is not None:\n",
    "          # Words not found in embedding index will be all-zeros.\n",
    "          # This includes the representation for \"padding\" and \"OOV\"\n",
    "          embedding_matrix[i] = embedding_vector\n",
    "          hits += 1\n",
    "        else:\n",
    "          misses += 1\n",
    "    print(\"Converted %d words (%d misses)\" % (hits, misses))\n",
    "    \n",
    "    return embedding_matrix\n",
    "\n",
    "def create_glove_embedding_layer_for_matrix(embedding_matrix, num_tokens):\n",
    "    glove_embedding_layer = Embedding(num_tokens, embedding_dim, embeddings_initializer=Constant(embedding_matrix), trainable=False)\n",
    "    return glove_embedding_layer"
   ]
  },
  {
   "cell_type": "code",
   "execution_count": 81,
   "metadata": {
    "id": "iTad7EkIztii"
   },
   "outputs": [],
   "source": [
    "# Save the glove embeddings for each file \n",
    "import pickle\n",
    "\n",
    "iemocap_prefix = \"iemocap_\"\n",
    "iemocap_split_prefix = \"iemocap_split_\"\n",
    "glove_embedding_prefix = \"glove_embedding_\"\n",
    "\n",
    "def create_and_pickle_glove_embeddings(iemocap_data, output_file):\n",
    "    print(\"Creating vectorizer\")\n",
    "    text_vectorizer = create_text_vectorizer_for_train_samples(iemocap_data)\n",
    "    \n",
    "    print(\"Creating embedding matrix\")\n",
    "    embedding_matrix = create_glove_embedding_matrix_for_vectorizer(text_vectorizer)\n",
    "    \n",
    "    print(\"Dumping to pickle file\")\n",
    "    with open(output_file, 'wb') as f:\n",
    "        pickle.dump(embedding_matrix, f)\n",
    "    \n",
    "    print(\"Success!\")"
   ]
  },
  {
   "cell_type": "code",
   "execution_count": 82,
   "metadata": {},
   "outputs": [
    {
     "name": "stdout",
     "output_type": "stream",
     "text": [
      "Creating vectorizer\n",
      "Creating embedding matrix\n",
      "Converted 2565 words (403 misses)\n",
      "Dumping to pickle file\n",
      "Success!\n",
      "Creating vectorizer\n",
      "Creating embedding matrix\n",
      "Converted 2569 words (361 misses)\n",
      "Dumping to pickle file\n",
      "Success!\n",
      "Creating vectorizer\n",
      "Creating embedding matrix\n",
      "Converted 2675 words (257 misses)\n",
      "Dumping to pickle file\n",
      "Success!\n",
      "Creating vectorizer\n",
      "Creating embedding matrix\n",
      "Converted 2693 words (194 misses)\n",
      "Dumping to pickle file\n",
      "Success!\n",
      "Creating vectorizer\n",
      "Creating embedding matrix\n",
      "Converted 2641 words (328 misses)\n",
      "Dumping to pickle file\n",
      "Success!\n"
     ]
    }
   ],
   "source": [
    "# Create glove embeddings for each split\n",
    "output_file_split_1 = glove_embedding_prefix + iemocap_split_prefix + \"1\" + '.pickle'\n",
    "output_file_split_2 = glove_embedding_prefix + iemocap_split_prefix + \"2\" + '.pickle'\n",
    "output_file_split_3 = glove_embedding_prefix + iemocap_split_prefix + \"3\" + '.pickle'\n",
    "output_file_split_4 = glove_embedding_prefix + iemocap_split_prefix + \"4\" + '.pickle'\n",
    "output_file_split_5 = glove_embedding_prefix + iemocap_split_prefix + \"5\" + '.pickle'\n",
    "\n",
    "create_and_pickle_glove_embeddings(train_split_1, output_file_split_1)\n",
    "create_and_pickle_glove_embeddings(train_split_2, output_file_split_2)\n",
    "create_and_pickle_glove_embeddings(train_split_3, output_file_split_3)\n",
    "create_and_pickle_glove_embeddings(train_split_4, output_file_split_4)\n",
    "create_and_pickle_glove_embeddings(train_split_5, output_file_split_5)"
   ]
  },
  {
   "cell_type": "code",
   "execution_count": 83,
   "metadata": {},
   "outputs": [
    {
     "name": "stdout",
     "output_type": "stream",
     "text": [
      "Creating vectorizer\n",
      "Creating embedding matrix\n",
      "Converted 1706 words (97 misses)\n",
      "Dumping to pickle file\n",
      "Success!\n",
      "Creating vectorizer\n",
      "Creating embedding matrix\n",
      "Converted 1685 words (193 misses)\n",
      "Dumping to pickle file\n",
      "Success!\n",
      "Creating vectorizer\n",
      "Creating embedding matrix\n",
      "Converted 1680 words (163 misses)\n",
      "Dumping to pickle file\n",
      "Success!\n",
      "Creating vectorizer\n",
      "Creating embedding matrix\n",
      "Converted 1763 words (55 misses)\n",
      "Dumping to pickle file\n",
      "Success!\n",
      "Creating vectorizer\n",
      "Creating embedding matrix\n",
      "Converted 1841 words (83 misses)\n",
      "Dumping to pickle file\n",
      "Success!\n"
     ]
    }
   ],
   "source": [
    "# Create glove embeddings for individual files\n",
    "output_file_1 = glove_embedding_prefix + iemocap_prefix + \"1\" + '.pickle'\n",
    "output_file_2 = glove_embedding_prefix + iemocap_prefix + \"2\" + '.pickle'\n",
    "output_file_3 = glove_embedding_prefix + iemocap_prefix + \"3\" + '.pickle'\n",
    "output_file_4 = glove_embedding_prefix + iemocap_prefix + \"4\" + '.pickle'\n",
    "output_file_5 = glove_embedding_prefix + iemocap_prefix + \"5\" + '.pickle'\n",
    "\n",
    "create_and_pickle_glove_embeddings(iemocap1, output_file_1)\n",
    "create_and_pickle_glove_embeddings(iemocap2, output_file_2)\n",
    "create_and_pickle_glove_embeddings(iemocap3, output_file_3)\n",
    "create_and_pickle_glove_embeddings(iemocap4, output_file_4)\n",
    "create_and_pickle_glove_embeddings(iemocap5, output_file_5)"
   ]
  },
  {
   "cell_type": "code",
   "execution_count": 84,
   "metadata": {},
   "outputs": [],
   "source": [
    "import numpy as np\n",
    "# Load the Glove embedding matrix\n",
    "\n",
    "def load_glove_embedding_matrix(filename):\n",
    "    glove_embedding_matrix = np.array(np.load(filename, allow_pickle=True))\n",
    "    return glove_embedding_matrix"
   ]
  },
  {
   "cell_type": "code",
   "execution_count": 85,
   "metadata": {},
   "outputs": [],
   "source": [
    "# Load individual iemocap glove embeddings\n",
    "iemocap1_glove = load_glove_embedding_matrix('glove_embedding_iemocap_1.pickle')\n",
    "iemocap2_glove = load_glove_embedding_matrix('glove_embedding_iemocap_2.pickle')\n",
    "iemocap3_glove = load_glove_embedding_matrix('glove_embedding_iemocap_3.pickle')\n",
    "iemocap4_glove = load_glove_embedding_matrix('glove_embedding_iemocap_4.pickle')\n",
    "iemocap5_glove = load_glove_embedding_matrix('glove_embedding_iemocap_5.pickle')"
   ]
  },
  {
   "cell_type": "code",
   "execution_count": 86,
   "metadata": {},
   "outputs": [],
   "source": [
    "# Load combined glove embeddings\n",
    "iemocap_train_split_1_glove = load_glove_embedding_matrix('glove_embedding_iemocap_split_1.pickle')\n",
    "iemocap_train_split_2_glove = load_glove_embedding_matrix('glove_embedding_iemocap_split_2.pickle')\n",
    "iemocap_train_split_3_glove = load_glove_embedding_matrix('glove_embedding_iemocap_split_3.pickle')\n",
    "iemocap_train_split_4_glove = load_glove_embedding_matrix('glove_embedding_iemocap_split_4.pickle')\n",
    "iemocap_train_split_5_glove = load_glove_embedding_matrix('glove_embedding_iemocap_split_5.pickle')"
   ]
  },
  {
   "cell_type": "code",
   "execution_count": 87,
   "metadata": {},
   "outputs": [
    {
     "name": "stdout",
     "output_type": "stream",
     "text": [
      "1803\n",
      "2968\n"
     ]
    }
   ],
   "source": [
    "print(len(iemocap1_glove))\n",
    "print(len(iemocap_train_split_1_glove))"
   ]
  },
  {
   "cell_type": "code",
   "execution_count": 128,
   "metadata": {
    "colab": {
     "base_uri": "https://localhost:8080/"
    },
    "id": "FCMLqNR9GSA9",
    "outputId": "d0fdfb17-94fc-491e-f4e6-de89a711618e"
   },
   "outputs": [
    {
     "name": "stderr",
     "output_type": "stream",
     "text": [
      "All model checkpoint layers were used when initializing TFBertForSequenceClassification.\n",
      "\n",
      "Some layers of TFBertForSequenceClassification were not initialized from the model checkpoint at bert-base-uncased and are newly initialized: ['classifier']\n",
      "You should probably TRAIN this model on a down-stream task to be able to use it for predictions and inference.\n"
     ]
    }
   ],
   "source": [
    "# Create a BERT encoding of the data\n",
    "import tensorflow\n",
    "from transformers import BertTokenizer, TFBertForSequenceClassification\n",
    "from tensorflow.python.ops.numpy_ops import np_config\n",
    "\n",
    "np_config.enable_numpy_behavior()\n",
    "\n",
    "tokenizer = BertTokenizer.from_pretrained('bert-base-uncased')\n",
    "model = TFBertForSequenceClassification.from_pretrained('bert-base-uncased') \n",
    "\n",
    "def generate_bert_encoding(sentence):\n",
    "    inputs = tokenizer.encode(sentence, padding=True, truncation=True, max_length=50, return_tensors=\"tf\")\n",
    "    outputs = model(inputs, output_hidden_states=True)\n",
    "    last_hidden_layer = outputs.hidden_states[-1]\n",
    "    feature_vector = last_hidden_layer.numpy()\n",
    "    feature_vector.resize((300,))\n",
    "    return feature_vector\n",
    "\n",
    "def generate_bert_encodings_for_samples(samples):\n",
    "    bert_encodings = []\n",
    "    progress_count = 1\n",
    "    size = len(samples)\n",
    "    for s in samples:\n",
    "        if progress_count % 500 == 0:\n",
    "            print(f\"Progress: {progress_count}/{size}\")\n",
    "        b_encode = generate_bert_encoding(s)\n",
    "        bert_encodings.append(b_encode)\n",
    "        progress_count +=1\n",
    "    return bert_encodings"
   ]
  },
  {
   "cell_type": "code",
   "execution_count": 129,
   "metadata": {
    "id": "xmBwxhx8yryw"
   },
   "outputs": [],
   "source": [
    "# Save the feature input \n",
    "import pickle\n",
    "\n",
    "iemocap_prefix = \"iemocap_\"\n",
    "bert_embedding_prefix = \"bert_embedding_300_\"\n",
    "def features_pickeled(filename, results):\n",
    "    filename = filename + '.pickle'\n",
    "    with open(filename, 'wb') as f:\n",
    "        pickle.dump(results, f)"
   ]
  },
  {
   "cell_type": "code",
   "execution_count": 130,
   "metadata": {},
   "outputs": [
    {
     "name": "stdout",
     "output_type": "stream",
     "text": [
      "Progress: 500/1819\n",
      "Progress: 1000/1819\n",
      "Progress: 1500/1819\n"
     ]
    }
   ],
   "source": [
    "iemocap_1_utterances = [utterance for utterance in iemocap1['UTTERANCE']]\n",
    "iemocap_1_bert_encodings = generate_bert_encodings_for_samples(iemocap_1_utterances)\n",
    "fname = bert_embedding_prefix + iemocap_prefix + \"1\"\n",
    "features_pickeled(fname, iemocap_1_bert_encodings)"
   ]
  },
  {
   "cell_type": "code",
   "execution_count": 131,
   "metadata": {},
   "outputs": [
    {
     "name": "stdout",
     "output_type": "stream",
     "text": [
      "Progress: 500/1762\n",
      "Progress: 1000/1762\n",
      "Progress: 1500/1762\n"
     ]
    }
   ],
   "source": [
    "iemocap_2_utterances = [utterance for utterance in iemocap2['UTTERANCE']]\n",
    "iemocap_2_bert_encodings = generate_bert_encodings_for_samples(iemocap_2_utterances)\n",
    "fname = bert_embedding_prefix + iemocap_prefix + \"2\"\n",
    "features_pickeled(fname, iemocap_2_bert_encodings)"
   ]
  },
  {
   "cell_type": "code",
   "execution_count": 132,
   "metadata": {},
   "outputs": [
    {
     "name": "stdout",
     "output_type": "stream",
     "text": [
      "Progress: 500/1760\n",
      "Progress: 1000/1760\n",
      "Progress: 1500/1760\n"
     ]
    }
   ],
   "source": [
    "iemocap_3_utterances = [utterance for utterance in iemocap3['UTTERANCE']]\n",
    "iemocap_3_bert_encodings = generate_bert_encodings_for_samples(iemocap_3_utterances)\n",
    "fname = bert_embedding_prefix + iemocap_prefix + \"3\"\n",
    "features_pickeled(fname, iemocap_3_bert_encodings)"
   ]
  },
  {
   "cell_type": "code",
   "execution_count": 133,
   "metadata": {},
   "outputs": [
    {
     "name": "stdout",
     "output_type": "stream",
     "text": [
      "Progress: 500/1865\n",
      "Progress: 1000/1865\n",
      "Progress: 1500/1865\n"
     ]
    }
   ],
   "source": [
    "iemocap_4_utterances = [utterance for utterance in iemocap4['UTTERANCE']]\n",
    "iemocap_4_bert_encodings = generate_bert_encodings_for_samples(iemocap_4_utterances)\n",
    "fname = bert_embedding_prefix + iemocap_prefix + \"4\"\n",
    "features_pickeled(fname, iemocap_4_bert_encodings)"
   ]
  },
  {
   "cell_type": "code",
   "execution_count": 134,
   "metadata": {},
   "outputs": [
    {
     "name": "stdout",
     "output_type": "stream",
     "text": [
      "Progress: 500/2170\n",
      "Progress: 1000/2170\n",
      "Progress: 1500/2170\n",
      "Progress: 2000/2170\n"
     ]
    }
   ],
   "source": [
    "iemocap_5_utterances = [utterance for utterance in iemocap5['UTTERANCE']]\n",
    "iemocap_5_bert_encodings = generate_bert_encodings_for_samples(iemocap_5_utterances)\n",
    "fname = bert_embedding_prefix + iemocap_prefix + \"5\"\n",
    "features_pickeled(fname, iemocap_5_bert_encodings)"
   ]
  },
  {
   "cell_type": "code",
   "execution_count": 5,
   "metadata": {},
   "outputs": [
    {
     "name": "stdout",
     "output_type": "stream",
     "text": [
      "(1819, 300)\n",
      "(1762, 300)\n",
      "(1760, 300)\n",
      "(1865, 300)\n",
      "(2170, 300)\n"
     ]
    }
   ],
   "source": [
    "# Load Bert encodings\n",
    "import numpy as np\n",
    "iemocap_prefix = \"iemocap_\"\n",
    "bert_embedding_prefix = \"bert_embedding_300_\"\n",
    "\n",
    "\n",
    "iemocap1_bert_features = np.array(np.load(bert_embedding_prefix + iemocap_prefix + \"1.pickle\", allow_pickle=True))\n",
    "iemocap2_bert_features = np.array(np.load(bert_embedding_prefix + iemocap_prefix + \"2.pickle\", allow_pickle=True))\n",
    "iemocap3_bert_features = np.array(np.load(bert_embedding_prefix + iemocap_prefix + \"3.pickle\", allow_pickle=True))\n",
    "iemocap4_bert_features = np.array(np.load(bert_embedding_prefix + iemocap_prefix + \"4.pickle\", allow_pickle=True))\n",
    "iemocap5_bert_features = np.array(np.load(bert_embedding_prefix + iemocap_prefix + \"5.pickle\", allow_pickle=True))\n",
    "\n",
    "print(iemocap1_bert_features.shape)\n",
    "print(iemocap2_bert_features.shape)\n",
    "print(iemocap3_bert_features.shape)\n",
    "print(iemocap4_bert_features.shape)\n",
    "print(iemocap5_bert_features.shape)"
   ]
  },
  {
   "cell_type": "code",
   "execution_count": null,
   "metadata": {
    "colab": {
     "base_uri": "https://localhost:8080/",
     "height": 17
    },
    "id": "RD4BbrYUzLrV",
    "outputId": "411ef76a-0757-480c-883c-94321f173d58"
   },
   "outputs": [
    {
     "data": {
      "application/javascript": [
       "\n",
       "    async function download(id, filename, size) {\n",
       "      if (!google.colab.kernel.accessAllowed) {\n",
       "        return;\n",
       "      }\n",
       "      const div = document.createElement('div');\n",
       "      const label = document.createElement('label');\n",
       "      label.textContent = `Downloading \"${filename}\": `;\n",
       "      div.appendChild(label);\n",
       "      const progress = document.createElement('progress');\n",
       "      progress.max = size;\n",
       "      div.appendChild(progress);\n",
       "      document.body.appendChild(div);\n",
       "\n",
       "      const buffers = [];\n",
       "      let downloaded = 0;\n",
       "\n",
       "      const channel = await google.colab.kernel.comms.open(id);\n",
       "      // Send a message to notify the kernel that we're ready.\n",
       "      channel.send({})\n",
       "\n",
       "      for await (const message of channel.messages) {\n",
       "        // Send a message to notify the kernel that we're ready.\n",
       "        channel.send({})\n",
       "        if (message.buffers) {\n",
       "          for (const buffer of message.buffers) {\n",
       "            buffers.push(buffer);\n",
       "            downloaded += buffer.byteLength;\n",
       "            progress.value = downloaded;\n",
       "          }\n",
       "        }\n",
       "      }\n",
       "      const blob = new Blob(buffers, {type: 'application/binary'});\n",
       "      const a = document.createElement('a');\n",
       "      a.href = window.URL.createObjectURL(blob);\n",
       "      a.download = filename;\n",
       "      div.appendChild(a);\n",
       "      a.click();\n",
       "      div.remove();\n",
       "    }\n",
       "  "
      ],
      "text/plain": [
       "<IPython.core.display.Javascript object>"
      ]
     },
     "metadata": {},
     "output_type": "display_data"
    },
    {
     "data": {
      "application/javascript": [
       "download(\"download_54b5e1e4-1c66-4299-8e42-ed7b377992a8\", \"bert_train_features.txt\", 11028216)"
      ],
      "text/plain": [
       "<IPython.core.display.Javascript object>"
      ]
     },
     "metadata": {},
     "output_type": "display_data"
    },
    {
     "data": {
      "application/javascript": [
       "\n",
       "    async function download(id, filename, size) {\n",
       "      if (!google.colab.kernel.accessAllowed) {\n",
       "        return;\n",
       "      }\n",
       "      const div = document.createElement('div');\n",
       "      const label = document.createElement('label');\n",
       "      label.textContent = `Downloading \"${filename}\": `;\n",
       "      div.appendChild(label);\n",
       "      const progress = document.createElement('progress');\n",
       "      progress.max = size;\n",
       "      div.appendChild(progress);\n",
       "      document.body.appendChild(div);\n",
       "\n",
       "      const buffers = [];\n",
       "      let downloaded = 0;\n",
       "\n",
       "      const channel = await google.colab.kernel.comms.open(id);\n",
       "      // Send a message to notify the kernel that we're ready.\n",
       "      channel.send({})\n",
       "\n",
       "      for await (const message of channel.messages) {\n",
       "        // Send a message to notify the kernel that we're ready.\n",
       "        channel.send({})\n",
       "        if (message.buffers) {\n",
       "          for (const buffer of message.buffers) {\n",
       "            buffers.push(buffer);\n",
       "            downloaded += buffer.byteLength;\n",
       "            progress.value = downloaded;\n",
       "          }\n",
       "        }\n",
       "      }\n",
       "      const blob = new Blob(buffers, {type: 'application/binary'});\n",
       "      const a = document.createElement('a');\n",
       "      a.href = window.URL.createObjectURL(blob);\n",
       "      a.download = filename;\n",
       "      div.appendChild(a);\n",
       "      a.click();\n",
       "      div.remove();\n",
       "    }\n",
       "  "
      ],
      "text/plain": [
       "<IPython.core.display.Javascript object>"
      ]
     },
     "metadata": {},
     "output_type": "display_data"
    },
    {
     "data": {
      "application/javascript": [
       "download(\"download_c650e164-a29b-45fb-baf4-47267b870186\", \"bert_valid_features.txt\", 3837556)"
      ],
      "text/plain": [
       "<IPython.core.display.Javascript object>"
      ]
     },
     "metadata": {},
     "output_type": "display_data"
    },
    {
     "data": {
      "application/javascript": [
       "\n",
       "    async function download(id, filename, size) {\n",
       "      if (!google.colab.kernel.accessAllowed) {\n",
       "        return;\n",
       "      }\n",
       "      const div = document.createElement('div');\n",
       "      const label = document.createElement('label');\n",
       "      label.textContent = `Downloading \"${filename}\": `;\n",
       "      div.appendChild(label);\n",
       "      const progress = document.createElement('progress');\n",
       "      progress.max = size;\n",
       "      div.appendChild(progress);\n",
       "      document.body.appendChild(div);\n",
       "\n",
       "      const buffers = [];\n",
       "      let downloaded = 0;\n",
       "\n",
       "      const channel = await google.colab.kernel.comms.open(id);\n",
       "      // Send a message to notify the kernel that we're ready.\n",
       "      channel.send({})\n",
       "\n",
       "      for await (const message of channel.messages) {\n",
       "        // Send a message to notify the kernel that we're ready.\n",
       "        channel.send({})\n",
       "        if (message.buffers) {\n",
       "          for (const buffer of message.buffers) {\n",
       "            buffers.push(buffer);\n",
       "            downloaded += buffer.byteLength;\n",
       "            progress.value = downloaded;\n",
       "          }\n",
       "        }\n",
       "      }\n",
       "      const blob = new Blob(buffers, {type: 'application/binary'});\n",
       "      const a = document.createElement('a');\n",
       "      a.href = window.URL.createObjectURL(blob);\n",
       "      a.download = filename;\n",
       "      div.appendChild(a);\n",
       "      a.click();\n",
       "      div.remove();\n",
       "    }\n",
       "  "
      ],
      "text/plain": [
       "<IPython.core.display.Javascript object>"
      ]
     },
     "metadata": {},
     "output_type": "display_data"
    },
    {
     "data": {
      "application/javascript": [
       "download(\"download_bb105d2b-8ab1-4461-a45a-ff86afefe215\", \"bert_test_features.txt\", 4518756)"
      ],
      "text/plain": [
       "<IPython.core.display.Javascript object>"
      ]
     },
     "metadata": {},
     "output_type": "display_data"
    }
   ],
   "source": [
    "train_feature_file = 'bert_train_features'\n",
    "valid_feature_file = 'bert_valid_features'\n",
    "test_feature_file = 'bert_test_features'\n",
    "features_pickeled(train_feature_file, bert_encoded_train_samples)\n",
    "features_pickeled(valid_feature_file, bert_encoded_validation_samples)\n",
    "features_pickeled(test_feature_file, bert_encoded_test_samples)\n"
   ]
  },
  {
   "cell_type": "code",
   "execution_count": null,
   "metadata": {
    "id": "ZBOZvt6E0HBY"
   },
   "outputs": [],
   "source": [
    "import numpy as np\n",
    "# Upload pickle files\n",
    "train_feature_file = 'bert_train_features.txt'\n",
    "valid_feature_file = 'bert_valid_features.txt'\n",
    "test_feature_file = 'bert_test_features.txt'\n",
    "\n",
    "train_bert_features = np.load(train_feature_file, allow_pickle=True)\n",
    "valid_bert_features = np.load(valid_feature_file, allow_pickle=True)\n",
    "test_bert_features = np.load(test_feature_file, allow_pickle=True)\n"
   ]
  },
  {
   "cell_type": "code",
   "execution_count": null,
   "metadata": {
    "colab": {
     "base_uri": "https://localhost:8080/"
    },
    "id": "rGSUQUra2KNj",
    "outputId": "01688494-5f60-48c5-b3d5-4e10bbf03871"
   },
   "outputs": [
    {
     "name": "stdout",
     "output_type": "stream",
     "text": [
      "2679500\n",
      "932500\n",
      "1098000\n"
     ]
    }
   ],
   "source": [
    "print(np.array(train_bert_features).size)\n",
    "print(np.array(valid_bert_features).size)\n",
    "print(np.array(test_bert_features).size)"
   ]
  },
  {
   "cell_type": "code",
   "execution_count": 104,
   "metadata": {
    "id": "qO88hI7g0qQs"
   },
   "outputs": [],
   "source": [
    "from keras import layers, Input, Model\n",
    "from keras.callbacks import EarlyStopping\n",
    "def create_lstm_with_pretrained_embedding(X, y, valid_X, valid_y, embedding_layer):\n",
    "    \n",
    "    # Create callback\n",
    "    callback = EarlyStopping(monitor='val_loss', patience=3)\n",
    "    \n",
    "    int_sequences_input = Input(shape=(None,), dtype=\"int64\")\n",
    "    print(X.shape)\n",
    "    embedded_seq = embedding_layer(int_sequences_input)\n",
    "    x = layers.Bidirectional(layers.LSTM(20, return_sequences=True))(embedded_seq)\n",
    "    x = layers.Bidirectional(layers.LSTM(20))(x)\n",
    "    preds = layers.Dense(y.shape[1], activation=\"softmax\")(x)\n",
    "    model = Model(int_sequences_input, preds)\n",
    "    model.compile(loss='categorical_crossentropy', optimizer='adam', metrics=[\"acc\"])\n",
    "    model.fit(X, y, batch_size=128, epochs=100, validation_data=(valid_X, valid_y),\n",
    "                  callbacks=[callback])\n",
    "    return model"
   ]
  },
  {
   "cell_type": "code",
   "execution_count": 6,
   "metadata": {},
   "outputs": [],
   "source": [
    "import numpy as np\n",
    "\n",
    "# Split 1 Unimodal BERT\n",
    "unimodal_bert_train_split_1 = np.concatenate([iemocap1_bert_features, iemocap2_bert_features, iemocap3_bert_features], axis=0)\n",
    "unimodal_bert_valid_split_1 = iemocap4_bert_features\n",
    "unimodal_bert_test_split_1 = iemocap5_bert_features\n",
    "    \n",
    "# Split 2 Unimodal BERT\n",
    "unimodal_bert_train_split_2 = np.concatenate([iemocap2_bert_features, iemocap3_bert_features, iemocap4_bert_features], axis=0)\n",
    "unimodal_bert_valid_split_2 = iemocap5_bert_features\n",
    "unimodal_bert_test_split_2 = iemocap1_bert_features\n",
    "\n",
    "# Split 3 Unimodal BERT\n",
    "unimodal_bert_train_split_3 = np.concatenate([iemocap3_bert_features, iemocap4_bert_features, iemocap5_bert_features], axis=0)\n",
    "unimodal_bert_valid_split_3 = iemocap1_bert_features\n",
    "unimodal_bert_test_split_3 = iemocap2_bert_features\n",
    "\n",
    "# Split 4 Unimodal BERT\n",
    "unimodal_bert_train_split_4 = np.concatenate([iemocap4_bert_features, iemocap5_bert_features, iemocap1_bert_features], axis=0)\n",
    "unimodal_bert_valid_split_4 = iemocap2_bert_features\n",
    "unimodal_bert_test_split_4 = iemocap3_bert_features\n",
    "\n",
    "# Split 5 Unimodal BERT\n",
    "unimodal_bert_train_split_5 = np.concatenate([iemocap5_bert_features, iemocap1_bert_features, iemocap2_bert_features], axis=0)\n",
    "unimodal_bert_valid_split_5 = iemocap3_bert_features\n",
    "unimodal_bert_test_split_5 = iemocap4_bert_features\n",
    "\n"
   ]
  },
  {
   "cell_type": "code",
   "execution_count": 101,
   "metadata": {},
   "outputs": [],
   "source": [
    "def create_lstm_with_glove_embedding(embedding_matrix, train_split, valid_split, train_labels, valid_labels):\n",
    "    vectorizer = create_text_vectorizer_for_train_samples(train_split)\n",
    "    num_tokens_voc = len(vectorizer.get_vocabulary())\n",
    "    \n",
    "    x_train = vectorizer(np.array([[s] for s in train_split['UTTERANCE']])).numpy()\n",
    "    x_valid = vectorizer(np.array([[s] for s in valid_split['UTTERANCE']])).numpy()\n",
    "    \n",
    "    y_train = convert_da_labels_to_categorical(train_labels)\n",
    "    y_valid = convert_da_labels_to_categorical(valid_labels)\n",
    "    \n",
    "    print(num_tokens_voc)\n",
    "    print(embedding_matrix.shape)\n",
    "    embedding_layer = create_glove_embedding_layer_for_matrix(embedding_matrix, num_tokens_voc)\n",
    "    \n",
    "    model = create_lstm_with_pretrained_embedding(x_train, y_train, x_valid, y_valid, embedding_layer)\n",
    "    return model"
   ]
  },
  {
   "cell_type": "code",
   "execution_count": 102,
   "metadata": {},
   "outputs": [
    {
     "name": "stdout",
     "output_type": "stream",
     "text": [
      "2968\n",
      "(2968, 300)\n",
      "(5341, 300)\n",
      "Epoch 1/100\n",
      "42/42 [==============================] - 27s 546ms/step - loss: 2.1045 - acc: 0.2434 - val_loss: 1.8559 - val_acc: 0.3115\n",
      "Epoch 2/100\n",
      "42/42 [==============================] - 23s 544ms/step - loss: 1.7848 - acc: 0.3561 - val_loss: 1.6847 - val_acc: 0.3930\n",
      "Epoch 3/100\n",
      "42/42 [==============================] - 23s 556ms/step - loss: 1.6375 - acc: 0.4220 - val_loss: 1.6127 - val_acc: 0.4145\n",
      "Epoch 4/100\n",
      "42/42 [==============================] - 23s 558ms/step - loss: 1.5196 - acc: 0.4679 - val_loss: 1.5273 - val_acc: 0.4509\n",
      "Epoch 5/100\n",
      "42/42 [==============================] - 24s 565ms/step - loss: 1.4159 - acc: 0.5068 - val_loss: 1.4750 - val_acc: 0.4761\n",
      "Epoch 6/100\n",
      "42/42 [==============================] - 22s 523ms/step - loss: 1.3346 - acc: 0.5456 - val_loss: 1.4508 - val_acc: 0.4772\n",
      "Epoch 7/100\n",
      "42/42 [==============================] - 24s 567ms/step - loss: 1.2522 - acc: 0.5701 - val_loss: 1.4182 - val_acc: 0.5035\n",
      "Epoch 8/100\n",
      "42/42 [==============================] - 23s 539ms/step - loss: 1.2008 - acc: 0.5982 - val_loss: 1.3862 - val_acc: 0.5094\n",
      "Epoch 9/100\n",
      "42/42 [==============================] - 23s 549ms/step - loss: 1.1508 - acc: 0.6216 - val_loss: 1.3617 - val_acc: 0.5121\n",
      "Epoch 10/100\n",
      "42/42 [==============================] - 23s 550ms/step - loss: 1.0940 - acc: 0.6362 - val_loss: 1.3489 - val_acc: 0.5324\n",
      "Epoch 11/100\n",
      "42/42 [==============================] - 24s 584ms/step - loss: 1.0631 - acc: 0.6430 - val_loss: 1.3455 - val_acc: 0.5282\n",
      "Epoch 12/100\n",
      "42/42 [==============================] - 23s 556ms/step - loss: 1.0338 - acc: 0.6546 - val_loss: 1.3350 - val_acc: 0.5314\n",
      "Epoch 13/100\n",
      "42/42 [==============================] - 22s 536ms/step - loss: 0.9813 - acc: 0.6757 - val_loss: 1.2971 - val_acc: 0.5491\n",
      "Epoch 14/100\n",
      "42/42 [==============================] - 23s 557ms/step - loss: 0.9367 - acc: 0.6974 - val_loss: 1.3121 - val_acc: 0.5496\n",
      "Epoch 15/100\n",
      "42/42 [==============================] - 23s 544ms/step - loss: 0.9029 - acc: 0.7120 - val_loss: 1.3216 - val_acc: 0.5619\n",
      "Epoch 16/100\n",
      "42/42 [==============================] - 25s 591ms/step - loss: 0.8842 - acc: 0.7119 - val_loss: 1.3555 - val_acc: 0.5539\n",
      "Epoch 17/100\n",
      "42/42 [==============================] - 24s 581ms/step - loss: 0.8335 - acc: 0.7388 - val_loss: 1.2875 - val_acc: 0.5823\n",
      "Epoch 18/100\n",
      "42/42 [==============================] - 23s 554ms/step - loss: 0.8020 - acc: 0.7459 - val_loss: 1.3163 - val_acc: 0.5796\n",
      "Epoch 19/100\n",
      "42/42 [==============================] - 23s 539ms/step - loss: 0.7738 - acc: 0.7499 - val_loss: 1.3107 - val_acc: 0.5802\n",
      "Epoch 20/100\n",
      "42/42 [==============================] - 22s 536ms/step - loss: 0.7514 - acc: 0.7654 - val_loss: 1.2798 - val_acc: 0.5984\n",
      "Epoch 21/100\n",
      "42/42 [==============================] - 23s 549ms/step - loss: 0.7144 - acc: 0.7744 - val_loss: 1.3114 - val_acc: 0.5903\n",
      "Epoch 22/100\n",
      "42/42 [==============================] - 23s 539ms/step - loss: 0.7002 - acc: 0.7781 - val_loss: 1.3057 - val_acc: 0.5893\n",
      "Epoch 23/100\n",
      "42/42 [==============================] - 29s 685ms/step - loss: 0.6987 - acc: 0.7772 - val_loss: 1.2844 - val_acc: 0.5914\n",
      "Epoch 24/100\n",
      "42/42 [==============================] - 26s 634ms/step - loss: 0.6564 - acc: 0.7970 - val_loss: 1.2983 - val_acc: 0.5893\n",
      "Epoch 25/100\n",
      "42/42 [==============================] - 22s 526ms/step - loss: 0.6349 - acc: 0.8015 - val_loss: 1.3157 - val_acc: 0.6016\n",
      "Epoch 26/100\n",
      "42/42 [==============================] - 22s 517ms/step - loss: 0.6057 - acc: 0.8143 - val_loss: 1.3088 - val_acc: 0.6048\n",
      "Epoch 27/100\n",
      "42/42 [==============================] - 22s 536ms/step - loss: 0.5795 - acc: 0.8208 - val_loss: 1.3097 - val_acc: 0.5946\n",
      "Epoch 28/100\n",
      "42/42 [==============================] - 24s 561ms/step - loss: 0.5769 - acc: 0.8240 - val_loss: 1.3377 - val_acc: 0.6064\n",
      "Epoch 29/100\n",
      "42/42 [==============================] - 25s 594ms/step - loss: 0.5664 - acc: 0.8234 - val_loss: 1.3805 - val_acc: 0.5925\n",
      "Epoch 30/100\n",
      "42/42 [==============================] - 25s 590ms/step - loss: 0.5734 - acc: 0.8160 - val_loss: 1.3284 - val_acc: 0.6043\n",
      "Epoch 31/100\n",
      "42/42 [==============================] - 35s 834ms/step - loss: 0.5235 - acc: 0.8354 - val_loss: 1.3730 - val_acc: 0.6059\n",
      "Epoch 32/100\n",
      "42/42 [==============================] - 38s 899ms/step - loss: 0.5352 - acc: 0.8330 - val_loss: 1.3531 - val_acc: 0.6011\n",
      "Epoch 33/100\n",
      "42/42 [==============================] - 34s 815ms/step - loss: 0.4887 - acc: 0.8502 - val_loss: 1.3911 - val_acc: 0.5984\n",
      "Epoch 34/100\n",
      "42/42 [==============================] - 30s 711ms/step - loss: 0.4749 - acc: 0.8474 - val_loss: 1.3906 - val_acc: 0.6021\n",
      "Epoch 35/100\n",
      "42/42 [==============================] - 28s 663ms/step - loss: 0.4640 - acc: 0.8560 - val_loss: 1.4009 - val_acc: 0.5989\n",
      "Epoch 36/100\n",
      "42/42 [==============================] - 26s 630ms/step - loss: 0.4593 - acc: 0.8555 - val_loss: 1.4404 - val_acc: 0.6021\n",
      "Epoch 37/100\n",
      "42/42 [==============================] - 26s 616ms/step - loss: 0.4347 - acc: 0.8684 - val_loss: 1.4847 - val_acc: 0.5957\n",
      "Epoch 38/100\n",
      "42/42 [==============================] - 25s 601ms/step - loss: 0.4309 - acc: 0.8663 - val_loss: 1.4763 - val_acc: 0.6043\n",
      "Epoch 39/100\n",
      "42/42 [==============================] - 24s 582ms/step - loss: 0.4186 - acc: 0.8682 - val_loss: 1.5171 - val_acc: 0.5995\n",
      "Epoch 40/100\n",
      "42/42 [==============================] - 24s 574ms/step - loss: 0.4034 - acc: 0.8802 - val_loss: 1.4958 - val_acc: 0.5989\n",
      "Epoch 41/100\n",
      "42/42 [==============================] - 26s 612ms/step - loss: 0.4156 - acc: 0.8738 - val_loss: 1.4905 - val_acc: 0.6016\n",
      "Epoch 42/100\n",
      "42/42 [==============================] - 25s 601ms/step - loss: 0.3968 - acc: 0.8774 - val_loss: 1.5013 - val_acc: 0.6021\n",
      "Epoch 43/100\n",
      "42/42 [==============================] - 25s 598ms/step - loss: 0.3795 - acc: 0.8830 - val_loss: 1.5169 - val_acc: 0.6005\n",
      "Epoch 44/100\n",
      "42/42 [==============================] - 25s 602ms/step - loss: 0.3730 - acc: 0.8875 - val_loss: 1.5003 - val_acc: 0.5979\n",
      "Epoch 45/100\n",
      "42/42 [==============================] - 25s 605ms/step - loss: 0.3922 - acc: 0.8774 - val_loss: 1.5742 - val_acc: 0.5903\n",
      "Epoch 46/100\n",
      "42/42 [==============================] - 25s 600ms/step - loss: 0.4062 - acc: 0.8714 - val_loss: 1.5341 - val_acc: 0.6038\n",
      "Epoch 47/100\n",
      "42/42 [==============================] - 25s 587ms/step - loss: 0.3498 - acc: 0.8907 - val_loss: 1.6217 - val_acc: 0.5893\n",
      "Epoch 48/100\n",
      "42/42 [==============================] - 29s 695ms/step - loss: 0.3636 - acc: 0.8845 - val_loss: 1.5706 - val_acc: 0.6000\n",
      "Epoch 49/100\n",
      "42/42 [==============================] - 37s 884ms/step - loss: 0.3383 - acc: 0.8946 - val_loss: 1.5814 - val_acc: 0.6021\n",
      "Epoch 50/100\n",
      "42/42 [==============================] - 39s 916ms/step - loss: 0.3254 - acc: 0.9021 - val_loss: 1.6149 - val_acc: 0.6005\n",
      "Epoch 51/100\n",
      "42/42 [==============================] - 41s 978ms/step - loss: 0.3232 - acc: 0.8995 - val_loss: 1.6213 - val_acc: 0.5984\n",
      "Epoch 52/100\n",
      "42/42 [==============================] - 41s 966ms/step - loss: 0.3134 - acc: 0.9041 - val_loss: 1.6791 - val_acc: 0.5877\n",
      "Epoch 53/100\n",
      "42/42 [==============================] - 38s 904ms/step - loss: 0.3118 - acc: 0.9030 - val_loss: 1.6470 - val_acc: 0.5962\n",
      "Epoch 54/100\n",
      "42/42 [==============================] - 35s 826ms/step - loss: 0.2991 - acc: 0.9071 - val_loss: 1.6868 - val_acc: 0.5925\n",
      "Epoch 55/100\n",
      "42/42 [==============================] - 44s 1s/step - loss: 0.2836 - acc: 0.9133 - val_loss: 1.6839 - val_acc: 0.5920\n",
      "Epoch 56/100\n",
      "42/42 [==============================] - 41s 975ms/step - loss: 0.2851 - acc: 0.9090 - val_loss: 1.6942 - val_acc: 0.6005\n",
      "Epoch 57/100\n",
      "42/42 [==============================] - 53s 1s/step - loss: 0.2849 - acc: 0.9139 - val_loss: 1.7042 - val_acc: 0.6005\n",
      "Epoch 58/100\n",
      "42/42 [==============================] - 51s 1s/step - loss: 0.3115 - acc: 0.9010 - val_loss: 1.6981 - val_acc: 0.6064\n"
     ]
    }
   ],
   "source": [
    "model_1 = create_lstm_with_glove_embedding(iemocap_train_split_1_glove, train_split_1, iemocap4, train_split_1_da_labels, valid_split_1_da_labels)"
   ]
  },
  {
   "cell_type": "code",
   "execution_count": 105,
   "metadata": {},
   "outputs": [
    {
     "name": "stdout",
     "output_type": "stream",
     "text": [
      "TRAINING MODEL 1\n",
      "2968\n",
      "(2968, 300)\n",
      "(5341, 300)\n",
      "Epoch 1/100\n",
      "42/42 [==============================] - 38s 762ms/step - loss: 2.1222 - acc: 0.2202 - val_loss: 1.8380 - val_acc: 0.2767\n",
      "Epoch 2/100\n",
      "42/42 [==============================] - 30s 726ms/step - loss: 1.7825 - acc: 0.3627 - val_loss: 1.6784 - val_acc: 0.3930\n",
      "Epoch 3/100\n",
      "42/42 [==============================] - 31s 736ms/step - loss: 1.6303 - acc: 0.4308 - val_loss: 1.6049 - val_acc: 0.4225\n",
      "Epoch 4/100\n",
      "42/42 [==============================] - 29s 696ms/step - loss: 1.5298 - acc: 0.4838 - val_loss: 1.5495 - val_acc: 0.4472\n",
      "Epoch 5/100\n",
      "42/42 [==============================] - 31s 745ms/step - loss: 1.4374 - acc: 0.5160 - val_loss: 1.4836 - val_acc: 0.4638\n",
      "Epoch 6/100\n",
      "42/42 [==============================] - 41s 988ms/step - loss: 1.3661 - acc: 0.5484 - val_loss: 1.4347 - val_acc: 0.5003\n",
      "Epoch 7/100\n",
      "42/42 [==============================] - 30s 719ms/step - loss: 1.2860 - acc: 0.5705 - val_loss: 1.4102 - val_acc: 0.5056\n",
      "Epoch 8/100\n",
      "42/42 [==============================] - 31s 739ms/step - loss: 1.2241 - acc: 0.5935 - val_loss: 1.4213 - val_acc: 0.4997\n",
      "Epoch 9/100\n",
      "42/42 [==============================] - 25s 603ms/step - loss: 1.1756 - acc: 0.6076 - val_loss: 1.3670 - val_acc: 0.5357\n",
      "Epoch 10/100\n",
      "42/42 [==============================] - 25s 585ms/step - loss: 1.1111 - acc: 0.6345 - val_loss: 1.3259 - val_acc: 0.5480\n",
      "Epoch 11/100\n",
      "42/42 [==============================] - 26s 626ms/step - loss: 1.0691 - acc: 0.6471 - val_loss: 1.3440 - val_acc: 0.5421\n",
      "Epoch 12/100\n",
      "42/42 [==============================] - 27s 647ms/step - loss: 1.0212 - acc: 0.6677 - val_loss: 1.3291 - val_acc: 0.5469\n",
      "Epoch 13/100\n",
      "42/42 [==============================] - 29s 703ms/step - loss: 0.9783 - acc: 0.6761 - val_loss: 1.3158 - val_acc: 0.5432\n",
      "Epoch 14/100\n",
      "42/42 [==============================] - 30s 729ms/step - loss: 0.9560 - acc: 0.6907 - val_loss: 1.2986 - val_acc: 0.5700\n",
      "Epoch 15/100\n",
      "42/42 [==============================] - 31s 736ms/step - loss: 0.9074 - acc: 0.7057 - val_loss: 1.3003 - val_acc: 0.5668\n",
      "Epoch 16/100\n",
      "42/42 [==============================] - 32s 774ms/step - loss: 0.8791 - acc: 0.7158 - val_loss: 1.3001 - val_acc: 0.5673\n",
      "Epoch 17/100\n",
      "42/42 [==============================] - 35s 828ms/step - loss: 0.8589 - acc: 0.7272 - val_loss: 1.3143 - val_acc: 0.5641\n",
      "TRAINING MODEL 2\n",
      "2930\n",
      "(2930, 300)\n",
      "(5387, 300)\n",
      "Epoch 1/100\n",
      "43/43 [==============================] - 52s 1s/step - loss: 2.1127 - acc: 0.2430 - val_loss: 1.8562 - val_acc: 0.2382\n",
      "Epoch 2/100\n",
      "43/43 [==============================] - 41s 945ms/step - loss: 1.8126 - acc: 0.2996 - val_loss: 1.7358 - val_acc: 0.3359\n",
      "Epoch 3/100\n",
      "43/43 [==============================] - 37s 875ms/step - loss: 1.6649 - acc: 0.3909 - val_loss: 1.6207 - val_acc: 0.4101\n",
      "Epoch 4/100\n",
      "43/43 [==============================] - 36s 846ms/step - loss: 1.5625 - acc: 0.4411 - val_loss: 1.5346 - val_acc: 0.4438\n",
      "Epoch 5/100\n",
      "43/43 [==============================] - 36s 837ms/step - loss: 1.4583 - acc: 0.4914 - val_loss: 1.4789 - val_acc: 0.4724\n",
      "Epoch 6/100\n",
      "43/43 [==============================] - 36s 852ms/step - loss: 1.3644 - acc: 0.5339 - val_loss: 1.4288 - val_acc: 0.4935\n",
      "Epoch 7/100\n",
      "43/43 [==============================] - 35s 816ms/step - loss: 1.2928 - acc: 0.5608 - val_loss: 1.3988 - val_acc: 0.5111\n",
      "Epoch 8/100\n",
      "43/43 [==============================] - 35s 819ms/step - loss: 1.2400 - acc: 0.5931 - val_loss: 1.3278 - val_acc: 0.5327\n",
      "Epoch 9/100\n",
      "43/43 [==============================] - 35s 821ms/step - loss: 1.1572 - acc: 0.6182 - val_loss: 1.3258 - val_acc: 0.5392\n",
      "Epoch 10/100\n",
      "43/43 [==============================] - 35s 810ms/step - loss: 1.0898 - acc: 0.6428 - val_loss: 1.2737 - val_acc: 0.5576\n",
      "Epoch 11/100\n",
      "43/43 [==============================] - 35s 814ms/step - loss: 1.0365 - acc: 0.6647 - val_loss: 1.2615 - val_acc: 0.5700\n",
      "Epoch 12/100\n",
      "43/43 [==============================] - 41s 957ms/step - loss: 0.9867 - acc: 0.6796 - val_loss: 1.2343 - val_acc: 0.5682\n",
      "Epoch 13/100\n",
      "43/43 [==============================] - 33s 771ms/step - loss: 0.9546 - acc: 0.6902 - val_loss: 1.2616 - val_acc: 0.5737\n",
      "Epoch 14/100\n",
      "43/43 [==============================] - 34s 780ms/step - loss: 0.9784 - acc: 0.6746 - val_loss: 1.2224 - val_acc: 0.5816\n",
      "Epoch 15/100\n",
      "43/43 [==============================] - 31s 729ms/step - loss: 0.8965 - acc: 0.7097 - val_loss: 1.2379 - val_acc: 0.5811\n",
      "Epoch 16/100\n",
      "43/43 [==============================] - 31s 725ms/step - loss: 0.8530 - acc: 0.7247 - val_loss: 1.2069 - val_acc: 0.5894\n",
      "Epoch 17/100\n",
      "43/43 [==============================] - 31s 732ms/step - loss: 0.8178 - acc: 0.7373 - val_loss: 1.2298 - val_acc: 0.5719\n",
      "Epoch 18/100\n",
      "43/43 [==============================] - 30s 702ms/step - loss: 0.8162 - acc: 0.7375 - val_loss: 1.2121 - val_acc: 0.5899\n",
      "Epoch 19/100\n",
      "43/43 [==============================] - 31s 719ms/step - loss: 0.7710 - acc: 0.7576 - val_loss: 1.1847 - val_acc: 0.6124\n",
      "Epoch 20/100\n",
      "43/43 [==============================] - 33s 770ms/step - loss: 0.7370 - acc: 0.7707 - val_loss: 1.3225 - val_acc: 0.5788\n",
      "Epoch 21/100\n",
      "43/43 [==============================] - 34s 781ms/step - loss: 0.7216 - acc: 0.7758 - val_loss: 1.2423 - val_acc: 0.6065\n",
      "Epoch 22/100\n",
      "43/43 [==============================] - 44s 1s/step - loss: 0.7010 - acc: 0.7793 - val_loss: 1.2255 - val_acc: 0.6041\n",
      "TRAINING MODEL 3\n",
      "2932\n",
      "(2932, 300)\n",
      "(5795, 300)\n",
      "Epoch 1/100\n",
      "46/46 [==============================] - 52s 856ms/step - loss: 2.0572 - acc: 0.2442 - val_loss: 1.8674 - val_acc: 0.3161\n",
      "Epoch 2/100\n",
      "46/46 [==============================] - 34s 747ms/step - loss: 1.7381 - acc: 0.3575 - val_loss: 1.7206 - val_acc: 0.3777\n",
      "Epoch 3/100\n",
      "46/46 [==============================] - 39s 850ms/step - loss: 1.6147 - acc: 0.4333 - val_loss: 1.6240 - val_acc: 0.4393\n",
      "Epoch 4/100\n",
      "46/46 [==============================] - 36s 773ms/step - loss: 1.5151 - acc: 0.4799 - val_loss: 1.5625 - val_acc: 0.4568\n",
      "Epoch 5/100\n",
      "46/46 [==============================] - 22s 484ms/step - loss: 1.4265 - acc: 0.5032 - val_loss: 1.5192 - val_acc: 0.4673\n",
      "Epoch 6/100\n",
      "46/46 [==============================] - 22s 469ms/step - loss: 1.3613 - acc: 0.5287 - val_loss: 1.4779 - val_acc: 0.4821\n",
      "Epoch 7/100\n",
      "46/46 [==============================] - 21s 465ms/step - loss: 1.2722 - acc: 0.5605 - val_loss: 1.4386 - val_acc: 0.5019\n",
      "Epoch 8/100\n",
      "46/46 [==============================] - 22s 473ms/step - loss: 1.2207 - acc: 0.5750 - val_loss: 1.4325 - val_acc: 0.5124\n",
      "Epoch 9/100\n",
      "46/46 [==============================] - 21s 454ms/step - loss: 1.1476 - acc: 0.6060 - val_loss: 1.3944 - val_acc: 0.5184\n",
      "Epoch 10/100\n",
      "46/46 [==============================] - 21s 465ms/step - loss: 1.0937 - acc: 0.6305 - val_loss: 1.3714 - val_acc: 0.5366\n",
      "Epoch 11/100\n",
      "46/46 [==============================] - 24s 528ms/step - loss: 1.0525 - acc: 0.6435 - val_loss: 1.3874 - val_acc: 0.5316\n",
      "Epoch 12/100\n",
      "46/46 [==============================] - 22s 469ms/step - loss: 0.9935 - acc: 0.6638 - val_loss: 1.3460 - val_acc: 0.5498\n",
      "Epoch 13/100\n",
      "46/46 [==============================] - 21s 464ms/step - loss: 0.9613 - acc: 0.6726 - val_loss: 1.3571 - val_acc: 0.5509\n",
      "Epoch 14/100\n",
      "46/46 [==============================] - 22s 476ms/step - loss: 0.9120 - acc: 0.6932 - val_loss: 1.3550 - val_acc: 0.5591\n",
      "Epoch 15/100\n",
      "46/46 [==============================] - 22s 469ms/step - loss: 0.8747 - acc: 0.7103 - val_loss: 1.3730 - val_acc: 0.5591\n",
      "TRAINING MODEL 4\n",
      "2887\n",
      "(2887, 300)\n",
      "(5854, 300)\n",
      "Epoch 1/100\n",
      "46/46 [==============================] - 27s 499ms/step - loss: 2.0960 - acc: 0.2164 - val_loss: 1.9005 - val_acc: 0.2866\n",
      "Epoch 2/100\n",
      "46/46 [==============================] - 22s 474ms/step - loss: 1.8028 - acc: 0.3196 - val_loss: 1.7777 - val_acc: 0.3695\n",
      "Epoch 3/100\n",
      "46/46 [==============================] - 22s 472ms/step - loss: 1.6739 - acc: 0.4178 - val_loss: 1.6413 - val_acc: 0.4506\n",
      "Epoch 4/100\n",
      "46/46 [==============================] - 22s 479ms/step - loss: 1.5607 - acc: 0.4593 - val_loss: 1.5490 - val_acc: 0.4677\n",
      "Epoch 5/100\n",
      "46/46 [==============================] - 22s 476ms/step - loss: 1.4548 - acc: 0.5005 - val_loss: 1.4587 - val_acc: 0.5040\n",
      "Epoch 6/100\n",
      "46/46 [==============================] - 22s 482ms/step - loss: 1.3799 - acc: 0.5273 - val_loss: 1.4196 - val_acc: 0.5204\n",
      "Epoch 7/100\n",
      "46/46 [==============================] - 22s 469ms/step - loss: 1.2908 - acc: 0.5724 - val_loss: 1.3383 - val_acc: 0.5602\n",
      "Epoch 8/100\n",
      "46/46 [==============================] - 22s 478ms/step - loss: 1.2195 - acc: 0.5967 - val_loss: 1.3151 - val_acc: 0.5619\n",
      "Epoch 9/100\n",
      "46/46 [==============================] - 22s 478ms/step - loss: 1.1768 - acc: 0.6131 - val_loss: 1.2882 - val_acc: 0.5834\n",
      "Epoch 10/100\n",
      "46/46 [==============================] - 25s 539ms/step - loss: 1.1121 - acc: 0.6380 - val_loss: 1.2327 - val_acc: 0.5942\n",
      "Epoch 11/100\n",
      "46/46 [==============================] - 24s 518ms/step - loss: 1.0548 - acc: 0.6573 - val_loss: 1.2395 - val_acc: 0.5840\n",
      "Epoch 12/100\n",
      "46/46 [==============================] - 25s 536ms/step - loss: 1.0276 - acc: 0.6676 - val_loss: 1.1914 - val_acc: 0.6090\n",
      "Epoch 13/100\n",
      "46/46 [==============================] - 24s 521ms/step - loss: 0.9722 - acc: 0.6872 - val_loss: 1.1582 - val_acc: 0.6180\n",
      "Epoch 14/100\n",
      "46/46 [==============================] - 26s 567ms/step - loss: 0.9327 - acc: 0.7009 - val_loss: 1.1475 - val_acc: 0.6237\n",
      "Epoch 15/100\n",
      "46/46 [==============================] - 23s 497ms/step - loss: 0.9051 - acc: 0.7099 - val_loss: 1.1370 - val_acc: 0.6334\n",
      "Epoch 16/100\n",
      "46/46 [==============================] - 25s 553ms/step - loss: 0.8619 - acc: 0.7251 - val_loss: 1.1403 - val_acc: 0.6373\n",
      "Epoch 17/100\n",
      "46/46 [==============================] - 27s 579ms/step - loss: 0.8595 - acc: 0.7221 - val_loss: 1.1309 - val_acc: 0.6345\n",
      "Epoch 18/100\n",
      "46/46 [==============================] - 31s 676ms/step - loss: 0.8215 - acc: 0.7392 - val_loss: 1.1391 - val_acc: 0.6379\n",
      "Epoch 19/100\n",
      "46/46 [==============================] - 31s 672ms/step - loss: 0.7887 - acc: 0.7508 - val_loss: 1.1055 - val_acc: 0.6476\n",
      "Epoch 20/100\n",
      "46/46 [==============================] - 29s 628ms/step - loss: 0.7615 - acc: 0.7579 - val_loss: 1.1457 - val_acc: 0.6430\n",
      "Epoch 21/100\n",
      "46/46 [==============================] - 26s 555ms/step - loss: 0.7286 - acc: 0.7690 - val_loss: 1.1137 - val_acc: 0.6402\n",
      "Epoch 22/100\n",
      "46/46 [==============================] - 23s 491ms/step - loss: 0.7022 - acc: 0.7766 - val_loss: 1.1433 - val_acc: 0.6436\n",
      "TRAINING MODEL 5\n",
      "2969\n",
      "(2969, 300)\n",
      "(5751, 300)\n",
      "Epoch 1/100\n",
      "45/45 [==============================] - 29s 529ms/step - loss: 2.0960 - acc: 0.2316 - val_loss: 1.8822 - val_acc: 0.2756\n",
      "Epoch 2/100\n",
      "45/45 [==============================] - 21s 477ms/step - loss: 1.7892 - acc: 0.3434 - val_loss: 1.6934 - val_acc: 0.4136\n",
      "Epoch 3/100\n",
      "45/45 [==============================] - 21s 476ms/step - loss: 1.6154 - acc: 0.4260 - val_loss: 1.5835 - val_acc: 0.4153\n",
      "Epoch 4/100\n",
      "45/45 [==============================] - 22s 494ms/step - loss: 1.4845 - acc: 0.4808 - val_loss: 1.5047 - val_acc: 0.4409\n",
      "Epoch 5/100\n",
      "45/45 [==============================] - 22s 483ms/step - loss: 1.3914 - acc: 0.5135 - val_loss: 1.4313 - val_acc: 0.4932\n",
      "Epoch 6/100\n",
      "45/45 [==============================] - 21s 479ms/step - loss: 1.3144 - acc: 0.5439 - val_loss: 1.4174 - val_acc: 0.4898\n",
      "Epoch 7/100\n",
      "45/45 [==============================] - 22s 482ms/step - loss: 1.2503 - acc: 0.5658 - val_loss: 1.3570 - val_acc: 0.5199\n",
      "Epoch 8/100\n",
      "45/45 [==============================] - 22s 491ms/step - loss: 1.1747 - acc: 0.5912 - val_loss: 1.3407 - val_acc: 0.5256\n",
      "Epoch 9/100\n",
      "45/45 [==============================] - 24s 528ms/step - loss: 1.1245 - acc: 0.6178 - val_loss: 1.2898 - val_acc: 0.5506\n",
      "Epoch 10/100\n",
      "45/45 [==============================] - 22s 487ms/step - loss: 1.0750 - acc: 0.6399 - val_loss: 1.2952 - val_acc: 0.5580\n",
      "Epoch 11/100\n",
      "45/45 [==============================] - 24s 540ms/step - loss: 1.0254 - acc: 0.6601 - val_loss: 1.2628 - val_acc: 0.5773\n",
      "Epoch 12/100\n",
      "45/45 [==============================] - 24s 532ms/step - loss: 0.9801 - acc: 0.6806 - val_loss: 1.2711 - val_acc: 0.5665\n",
      "Epoch 13/100\n",
      "45/45 [==============================] - 22s 491ms/step - loss: 0.9317 - acc: 0.6955 - val_loss: 1.2261 - val_acc: 0.5886\n",
      "Epoch 14/100\n",
      "45/45 [==============================] - 22s 489ms/step - loss: 0.8971 - acc: 0.7084 - val_loss: 1.2380 - val_acc: 0.5852\n",
      "Epoch 15/100\n",
      "45/45 [==============================] - 24s 545ms/step - loss: 0.8480 - acc: 0.7263 - val_loss: 1.2644 - val_acc: 0.5807\n",
      "Epoch 16/100\n",
      "45/45 [==============================] - 24s 527ms/step - loss: 0.8130 - acc: 0.7383 - val_loss: 1.2376 - val_acc: 0.5881\n"
     ]
    }
   ],
   "source": [
    "unimodal_glove_models = []\n",
    "\n",
    "# Train a Unimodal model for each glove split\n",
    "print(\"TRAINING MODEL 1\")\n",
    "model_1 = create_lstm_with_glove_embedding(iemocap_train_split_1_glove, train_split_1, valid_split_1, train_split_1_da_labels, valid_split_1_da_labels)\n",
    "unimodal_glove_models.append(model_1)\n",
    "\n",
    "print(\"TRAINING MODEL 2\")\n",
    "model_2 = create_lstm_with_glove_embedding(iemocap_train_split_2_glove, train_split_2, valid_split_2, train_split_2_da_labels, valid_split_2_da_labels)\n",
    "unimodal_glove_models.append(model_2)\n",
    "\n",
    "print(\"TRAINING MODEL 3\")\n",
    "model_3 = create_lstm_with_glove_embedding(iemocap_train_split_3_glove, train_split_3, valid_split_3, train_split_3_da_labels, valid_split_3_da_labels)\n",
    "unimodal_glove_models.append(model_3)\n",
    "\n",
    "print(\"TRAINING MODEL 4\")\n",
    "model_4 = create_lstm_with_glove_embedding(iemocap_train_split_4_glove, train_split_4, valid_split_4, train_split_4_da_labels, valid_split_4_da_labels)\n",
    "unimodal_glove_models.append(model_4)\n",
    "\n",
    "print(\"TRAINING MODEL 5\")\n",
    "model_5 = create_lstm_with_glove_embedding(iemocap_train_split_5_glove, train_split_5, valid_split_5, train_split_5_da_labels, valid_split_5_da_labels)\n",
    "unimodal_glove_models.append(model_5)\n"
   ]
  },
  {
   "cell_type": "code",
   "execution_count": 114,
   "metadata": {},
   "outputs": [],
   "source": [
    "from sklearn.metrics import precision_score, recall_score, accuracy_score\n",
    "\n",
    "# Compare the model predictions for the 5 splits we have created\n",
    "# Takes as input a list of 5 different models\n",
    "# For all types of models we have the same 5 test splits, so we can use the same set of test data\n",
    "x_train_list= [train_split_1, train_split_2, train_split_3, train_split_4, train_split_5]\n",
    "x_test_list = [test_split_1, test_split_2, test_split_3, test_split_4, test_split_5]\n",
    "y_test_list = [test_split_1_da_labels, test_split_2_da_labels, test_split_3_da_labels, test_split_4_da_labels, test_split_5_da_labels]\n",
    "\n",
    "concat_all_predictions = []\n",
    "def compare_model_predictions_for_5_folds(model_list):\n",
    "    prec_list = []\n",
    "    recall_list = []\n",
    "    accuracy_list = []\n",
    "    \n",
    "    for i in range(5):\n",
    "        model = model_list[i]\n",
    "        x_test = x_test_list[i]\n",
    "        train_split = x_train_list[i]\n",
    "\n",
    "        vectorizer = create_text_vectorizer_for_train_samples(train_split)\n",
    "        test_encodings = vectorizer(np.array([[s] for s in x_test['UTTERANCE']])).numpy()\n",
    "        \n",
    "        y_test = y_test_list[i]\n",
    "        test_labels = np.argmax(convert_da_labels_to_categorical(y_test), axis=-1)\n",
    "        \n",
    "        print(f\"Calculating accuracy for split{i}\")\n",
    "        model_preds = model_list[i].predict(test_encodings)\n",
    "        unilabel_model_preds = np.argmax(model_preds, axis=-1)\n",
    "\n",
    "        concat_all_predictions.append(unilabel_model_preds)\n",
    "        \n",
    "        lstm_prec = precision_score(test_labels, unilabel_model_preds, average='macro')\n",
    "        lstm_recall = recall_score(test_labels, unilabel_model_preds, average='macro')        \n",
    "        accuracy = accuracy_score(test_labels, unilabel_model_preds)\n",
    "        \n",
    "        prec_list.append(lstm_prec)\n",
    "        recall_list.append(lstm_recall)\n",
    "        accuracy_list.append(accuracy)\n",
    "    \n",
    "    return prec_list, recall_list, accuracy_list, concat_all_predictions\n",
    "        "
   ]
  },
  {
   "cell_type": "code",
   "execution_count": 115,
   "metadata": {},
   "outputs": [
    {
     "name": "stdout",
     "output_type": "stream",
     "text": [
      "Calculating accuracy for split0\n"
     ]
    },
    {
     "name": "stderr",
     "output_type": "stream",
     "text": [
      "/usr/local/lib/python3.9/site-packages/sklearn/metrics/_classification.py:1318: UndefinedMetricWarning: Precision is ill-defined and being set to 0.0 in labels with no predicted samples. Use `zero_division` parameter to control this behavior.\n",
      "  _warn_prf(average, modifier, msg_start, len(result))\n"
     ]
    },
    {
     "name": "stdout",
     "output_type": "stream",
     "text": [
      "Calculating accuracy for split1\n"
     ]
    },
    {
     "name": "stderr",
     "output_type": "stream",
     "text": [
      "/usr/local/lib/python3.9/site-packages/sklearn/metrics/_classification.py:1318: UndefinedMetricWarning: Precision is ill-defined and being set to 0.0 in labels with no predicted samples. Use `zero_division` parameter to control this behavior.\n",
      "  _warn_prf(average, modifier, msg_start, len(result))\n"
     ]
    },
    {
     "name": "stdout",
     "output_type": "stream",
     "text": [
      "Calculating accuracy for split2\n"
     ]
    },
    {
     "name": "stderr",
     "output_type": "stream",
     "text": [
      "/usr/local/lib/python3.9/site-packages/sklearn/metrics/_classification.py:1318: UndefinedMetricWarning: Precision is ill-defined and being set to 0.0 in labels with no predicted samples. Use `zero_division` parameter to control this behavior.\n",
      "  _warn_prf(average, modifier, msg_start, len(result))\n"
     ]
    },
    {
     "name": "stdout",
     "output_type": "stream",
     "text": [
      "Calculating accuracy for split3\n"
     ]
    },
    {
     "name": "stderr",
     "output_type": "stream",
     "text": [
      "/usr/local/lib/python3.9/site-packages/sklearn/metrics/_classification.py:1318: UndefinedMetricWarning: Precision is ill-defined and being set to 0.0 in labels with no predicted samples. Use `zero_division` parameter to control this behavior.\n",
      "  _warn_prf(average, modifier, msg_start, len(result))\n"
     ]
    },
    {
     "name": "stdout",
     "output_type": "stream",
     "text": [
      "Calculating accuracy for split4\n",
      "[0.5997264700773027, 0.6044871141037683, 0.4782452774339567, 0.5637632416290396, 0.5426378333570033]\n",
      "[0.46314857313842955, 0.4865424522300146, 0.43823116513616167, 0.5053852507920494, 0.5287460672166497]\n",
      "[0.5709677419354838, 0.5816382627817482, 0.6254256526674233, 0.5931818181818181, 0.5849865951742628]\n"
     ]
    },
    {
     "name": "stderr",
     "output_type": "stream",
     "text": [
      "/usr/local/lib/python3.9/site-packages/sklearn/metrics/_classification.py:1318: UndefinedMetricWarning: Precision is ill-defined and being set to 0.0 in labels with no predicted samples. Use `zero_division` parameter to control this behavior.\n",
      "  _warn_prf(average, modifier, msg_start, len(result))\n"
     ]
    }
   ],
   "source": [
    "# Calculate precision, recall, and accuracy for all the unimodal glove models\n",
    "ug_prec, ug_recall, ug_accuracy, all_model_preds = compare_model_predictions_for_5_folds(unimodal_glove_models)\n",
    "print(ug_prec)\n",
    "print(ug_recall)\n",
    "print(ug_accuracy)"
   ]
  },
  {
   "cell_type": "code",
   "execution_count": null,
   "metadata": {
    "id": "jCbyIFjX4LeV"
   },
   "outputs": [],
   "source": [
    "from sklearn.metrics import precision_score, recall_score\n",
    "\n",
    "lstm_preds = lstm_with_glove.predict(x_test)"
   ]
  },
  {
   "cell_type": "code",
   "execution_count": null,
   "metadata": {
    "colab": {
     "base_uri": "https://localhost:8080/"
    },
    "id": "gSQm8gg867SM",
    "outputId": "6e7e55d6-abc3-41e2-fe09-671c305f8ad3"
   },
   "outputs": [
    {
     "data": {
      "text/plain": [
       "array([0.01358549, 0.06774132, 0.31696504, 0.0102386 , 0.03000929,\n",
       "       0.16078521, 0.0294242 , 0.0466288 , 0.02753933, 0.00931706,\n",
       "       0.0106237 , 0.277142  ], dtype=float32)"
      ]
     },
     "execution_count": 19,
     "metadata": {},
     "output_type": "execute_result"
    }
   ],
   "source": [
    "lstm_preds[0]"
   ]
  },
  {
   "cell_type": "code",
   "execution_count": null,
   "metadata": {
    "id": "g0jkUZbU7OVx"
   },
   "outputs": [],
   "source": [
    "import numpy as np\n",
    "\n",
    "lstm_pred_unilabel = np.argmax(lstm_preds, axis=-1)\n",
    "lstm_pred_unilabel[0]\n",
    "\n"
   ]
  },
  {
   "cell_type": "code",
   "execution_count": null,
   "metadata": {
    "colab": {
     "base_uri": "https://localhost:8080/"
    },
    "id": "uI5Sy1is41j9",
    "outputId": "946be09d-5f10-4394-a58b-07224368482c"
   },
   "outputs": [
    {
     "name": "stderr",
     "output_type": "stream",
     "text": [
      "/usr/local/lib/python3.7/dist-packages/sklearn/metrics/_classification.py:1318: UndefinedMetricWarning: Precision is ill-defined and being set to 0.0 in labels with no predicted samples. Use `zero_division` parameter to control this behavior.\n",
      "  _warn_prf(average, modifier, msg_start, len(result))\n"
     ]
    }
   ],
   "source": [
    "lstm_prec = precision_score(test_labels, lstm_pred_unilabel, average='macro')\n",
    "lstm_recall = recall_score(test_labels, lstm_pred_unilabel, average='macro')"
   ]
  },
  {
   "cell_type": "code",
   "execution_count": null,
   "metadata": {
    "colab": {
     "base_uri": "https://localhost:8080/"
    },
    "id": "myJt5zOK87_t",
    "outputId": "5254a301-a62f-4dc5-bfa8-abe82df1f76d"
   },
   "outputs": [
    {
     "name": "stdout",
     "output_type": "stream",
     "text": [
      "0.4612636786921445\n",
      "0.4054930325095512\n"
     ]
    }
   ],
   "source": [
    "print(lstm_prec)\n",
    "print(lstm_recall)"
   ]
  },
  {
   "cell_type": "code",
   "execution_count": null,
   "metadata": {
    "colab": {
     "base_uri": "https://localhost:8080/"
    },
    "id": "Xc6C_Zbn9SAy",
    "outputId": "52798703-c6f4-4a1b-aa8f-fe2ffb61cb0f"
   },
   "outputs": [
    {
     "data": {
      "text/plain": [
       "0.5182149362477231"
      ]
     },
     "execution_count": 26,
     "metadata": {},
     "output_type": "execute_result"
    }
   ],
   "source": [
    "from sklearn.metrics import accuracy_score\n",
    "\n",
    "accuracy_score(test_labels, lstm_pred_unilabel)"
   ]
  },
  {
   "cell_type": "code",
   "execution_count": null,
   "metadata": {
    "colab": {
     "base_uri": "https://localhost:8080/"
    },
    "id": "XKhI85H099LV",
    "outputId": "79c7bb4e-7fb7-45ff-fe64-47722bf9fec0"
   },
   "outputs": [
    {
     "name": "stdout",
     "output_type": "stream",
     "text": [
      "              precision    recall  f1-score   support\n",
      "\n",
      "           0       0.00      0.00      0.00         5\n",
      "           1       0.38      0.42      0.40       130\n",
      "           2       0.47      0.41      0.44       400\n",
      "           3       0.64      0.47      0.54        15\n",
      "           4       0.44      0.62      0.51        82\n",
      "           5       0.49      0.67      0.57        54\n",
      "           6       0.50      0.12      0.20        73\n",
      "           7       1.00      0.44      0.62        18\n",
      "           8       0.53      0.56      0.54       468\n",
      "           9       0.00      0.00      0.00        18\n",
      "          10       0.58      0.77      0.67       484\n",
      "          11       0.50      0.38      0.43       449\n",
      "\n",
      "    accuracy                           0.52      2196\n",
      "   macro avg       0.46      0.41      0.41      2196\n",
      "weighted avg       0.51      0.52      0.50      2196\n",
      "\n"
     ]
    },
    {
     "name": "stderr",
     "output_type": "stream",
     "text": [
      "/usr/local/lib/python3.7/dist-packages/sklearn/metrics/_classification.py:1318: UndefinedMetricWarning: Precision and F-score are ill-defined and being set to 0.0 in labels with no predicted samples. Use `zero_division` parameter to control this behavior.\n",
      "  _warn_prf(average, modifier, msg_start, len(result))\n",
      "/usr/local/lib/python3.7/dist-packages/sklearn/metrics/_classification.py:1318: UndefinedMetricWarning: Precision and F-score are ill-defined and being set to 0.0 in labels with no predicted samples. Use `zero_division` parameter to control this behavior.\n",
      "  _warn_prf(average, modifier, msg_start, len(result))\n",
      "/usr/local/lib/python3.7/dist-packages/sklearn/metrics/_classification.py:1318: UndefinedMetricWarning: Precision and F-score are ill-defined and being set to 0.0 in labels with no predicted samples. Use `zero_division` parameter to control this behavior.\n",
      "  _warn_prf(average, modifier, msg_start, len(result))\n"
     ]
    }
   ],
   "source": [
    "from sklearn.metrics import classification_report, confusion_matrix\n",
    "\n",
    "cr = classification_report(test_labels, lstm_pred_unilabel)\n",
    "print(cr)\n",
    "\n",
    "cm = confusion_matrix(test_labels, lstm_pred_unilabel)"
   ]
  },
  {
   "cell_type": "code",
   "execution_count": 8,
   "metadata": {
    "colab": {
     "base_uri": "https://localhost:8080/"
    },
    "id": "GCvsyLW7-bkm",
    "outputId": "edd7a1be-986d-4543-aae3-96502fb61fd8"
   },
   "outputs": [
    {
     "ename": "NameError",
     "evalue": "name 'da_encoder' is not defined",
     "output_type": "error",
     "traceback": [
      "\u001b[0;31m---------------------------------------------------------------------------\u001b[0m",
      "\u001b[0;31mNameError\u001b[0m                                 Traceback (most recent call last)",
      "\u001b[0;32m/var/folders/g0/nxm5h6qd04v_8zk3zfscq0_80000gn/T/ipykernel_42248/2173971135.py\u001b[0m in \u001b[0;36m<module>\u001b[0;34m\u001b[0m\n\u001b[0;32m----> 1\u001b[0;31m \u001b[0mle_name_mapping\u001b[0m \u001b[0;34m=\u001b[0m \u001b[0mdict\u001b[0m\u001b[0;34m(\u001b[0m\u001b[0mzip\u001b[0m\u001b[0;34m(\u001b[0m\u001b[0mda_encoder\u001b[0m\u001b[0;34m.\u001b[0m\u001b[0mclasses_\u001b[0m\u001b[0;34m,\u001b[0m \u001b[0mda_encoder\u001b[0m\u001b[0;34m.\u001b[0m\u001b[0mtransform\u001b[0m\u001b[0;34m(\u001b[0m\u001b[0mda_encoder\u001b[0m\u001b[0;34m.\u001b[0m\u001b[0mclasses_\u001b[0m\u001b[0;34m)\u001b[0m\u001b[0;34m)\u001b[0m\u001b[0;34m)\u001b[0m\u001b[0;34m\u001b[0m\u001b[0;34m\u001b[0m\u001b[0m\n\u001b[0m\u001b[1;32m      2\u001b[0m \u001b[0mprint\u001b[0m\u001b[0;34m(\u001b[0m\u001b[0mle_name_mapping\u001b[0m\u001b[0;34m)\u001b[0m\u001b[0;34m\u001b[0m\u001b[0;34m\u001b[0m\u001b[0m\n\u001b[1;32m      3\u001b[0m \u001b[0mda_labels\u001b[0m \u001b[0;34m=\u001b[0m \u001b[0mlist\u001b[0m\u001b[0;34m(\u001b[0m\u001b[0mle_name_mapping\u001b[0m\u001b[0;34m.\u001b[0m\u001b[0mkeys\u001b[0m\u001b[0;34m(\u001b[0m\u001b[0;34m)\u001b[0m\u001b[0;34m)\u001b[0m\u001b[0;34m\u001b[0m\u001b[0;34m\u001b[0m\u001b[0m\n",
      "\u001b[0;31mNameError\u001b[0m: name 'da_encoder' is not defined"
     ]
    }
   ],
   "source": [
    "le_name_mapping = dict(zip(da_encoder.classes_, da_encoder.transform(da_encoder.classes_)))\n",
    "print(le_name_mapping)\n",
    "da_labels = list(le_name_mapping.keys())"
   ]
  },
  {
   "cell_type": "code",
   "execution_count": null,
   "metadata": {
    "colab": {
     "base_uri": "https://localhost:8080/",
     "height": 265
    },
    "id": "PWG7i42P_LWp",
    "outputId": "3a2afbc8-7dfc-4555-cac1-e0f0fabd66fa"
   },
   "outputs": [
    {
     "data": {
      "image/png": "[encoded data removed]",
      "text/plain": [
       "<Figure size 432x288 with 2 Axes>"
      ]
     },
     "metadata": {
      "needs_background": "light"
     },
     "output_type": "display_data"
    }
   ],
   "source": [
    "import seaborn as sn\n",
    "\n",
    "df_cm = pd.DataFrame(cm, index=da_labels, columns=da_labels)\n",
    "\n",
    "ax = sn.heatmap(df_cm, cmap='Blues', annot=True)"
   ]
  },
  {
   "cell_type": "code",
   "execution_count": 71,
   "metadata": {
    "id": "1-NWBFFaItTk"
   },
   "outputs": [],
   "source": [
    "import seaborn as sn\n",
    "from sklearn.metrics import classification_report, confusion_matrix\n",
    "\n",
    "def calculate_accuracy_metrics_and_print_cm(actual, model_preds):\n",
    "  cr = classification_report(actual, model_preds)\n",
    "  cm = confusion_matrix(actual, model_preds)\n",
    "  df_cm = pd.DataFrame(cm, index=da_labels, columns=da_labels)\n",
    "  ax = sn.heatmap(df_cm, cmap='Blues', annot=True)\n",
    "  print(ax)\n",
    "  return cr"
   ]
  },
  {
   "cell_type": "code",
   "execution_count": 125,
   "metadata": {},
   "outputs": [
    {
     "ename": "ValueError",
     "evalue": "Found input variables with inconsistent numbers of samples: [9376, 5]",
     "output_type": "error",
     "traceback": [
      "\u001b[0;31m---------------------------------------------------------------------------\u001b[0m",
      "\u001b[0;31mValueError\u001b[0m                                Traceback (most recent call last)",
      "Input \u001b[0;32mIn [125]\u001b[0m, in \u001b[0;36m<cell line: 4>\u001b[0;34m()\u001b[0m\n\u001b[1;32m      1\u001b[0m all_y_values \u001b[38;5;241m=\u001b[39m np\u001b[38;5;241m.\u001b[39mconcatenate((test_split_1_da_labels, test_split_2_da_labels, test_split_3_da_labels, test_split_4_da_labels, test_split_5_da_labels), axis\u001b[38;5;241m=\u001b[39m\u001b[38;5;241m0\u001b[39m)\n\u001b[1;32m      2\u001b[0m unilabel_all_y_values \u001b[38;5;241m=\u001b[39m np\u001b[38;5;241m.\u001b[39margmax(convert_da_labels_to_categorical(all_y_values), axis\u001b[38;5;241m=\u001b[39m\u001b[38;5;241m-\u001b[39m\u001b[38;5;241m1\u001b[39m)\n\u001b[0;32m----> 4\u001b[0m \u001b[43mcalculate_accuracy_metrics_and_print_cm\u001b[49m\u001b[43m(\u001b[49m\u001b[43munilabel_all_y_values\u001b[49m\u001b[43m,\u001b[49m\u001b[43m \u001b[49m\u001b[43mall_model_preds\u001b[49m\u001b[43m)\u001b[49m\n",
      "Input \u001b[0;32mIn [117]\u001b[0m, in \u001b[0;36mcalculate_accuracy_metrics_and_print_cm\u001b[0;34m(actual, model_preds)\u001b[0m\n\u001b[1;32m      4\u001b[0m \u001b[38;5;28;01mdef\u001b[39;00m \u001b[38;5;21mcalculate_accuracy_metrics_and_print_cm\u001b[39m(actual, model_preds):\n\u001b[0;32m----> 5\u001b[0m   cr \u001b[38;5;241m=\u001b[39m \u001b[43mclassification_report\u001b[49m\u001b[43m(\u001b[49m\u001b[43mactual\u001b[49m\u001b[43m,\u001b[49m\u001b[43m \u001b[49m\u001b[43mmodel_preds\u001b[49m\u001b[43m)\u001b[49m\n\u001b[1;32m      6\u001b[0m   cm \u001b[38;5;241m=\u001b[39m confusion_matrix(actual, model_preds)\n\u001b[1;32m      7\u001b[0m   df_cm \u001b[38;5;241m=\u001b[39m pd\u001b[38;5;241m.\u001b[39mDataFrame(cm, index\u001b[38;5;241m=\u001b[39mda_labels, columns\u001b[38;5;241m=\u001b[39mda_labels)\n",
      "File \u001b[0;32m/usr/local/lib/python3.9/site-packages/sklearn/metrics/_classification.py:2110\u001b[0m, in \u001b[0;36mclassification_report\u001b[0;34m(y_true, y_pred, labels, target_names, sample_weight, digits, output_dict, zero_division)\u001b[0m\n\u001b[1;32m   1998\u001b[0m \u001b[38;5;28;01mdef\u001b[39;00m \u001b[38;5;21mclassification_report\u001b[39m(\n\u001b[1;32m   1999\u001b[0m     y_true,\n\u001b[1;32m   2000\u001b[0m     y_pred,\n\u001b[0;32m   (...)\u001b[0m\n\u001b[1;32m   2007\u001b[0m     zero_division\u001b[38;5;241m=\u001b[39m\u001b[38;5;124m\"\u001b[39m\u001b[38;5;124mwarn\u001b[39m\u001b[38;5;124m\"\u001b[39m,\n\u001b[1;32m   2008\u001b[0m ):\n\u001b[1;32m   2009\u001b[0m     \u001b[38;5;124;03m\"\"\"Build a text report showing the main classification metrics.\u001b[39;00m\n\u001b[1;32m   2010\u001b[0m \n\u001b[1;32m   2011\u001b[0m \u001b[38;5;124;03m    Read more in the :ref:`User Guide <classification_report>`.\u001b[39;00m\n\u001b[0;32m   (...)\u001b[0m\n\u001b[1;32m   2107\u001b[0m \u001b[38;5;124;03m    <BLANKLINE>\u001b[39;00m\n\u001b[1;32m   2108\u001b[0m \u001b[38;5;124;03m    \"\"\"\u001b[39;00m\n\u001b[0;32m-> 2110\u001b[0m     y_type, y_true, y_pred \u001b[38;5;241m=\u001b[39m \u001b[43m_check_targets\u001b[49m\u001b[43m(\u001b[49m\u001b[43my_true\u001b[49m\u001b[43m,\u001b[49m\u001b[43m \u001b[49m\u001b[43my_pred\u001b[49m\u001b[43m)\u001b[49m\n\u001b[1;32m   2112\u001b[0m     \u001b[38;5;28;01mif\u001b[39;00m labels \u001b[38;5;129;01mis\u001b[39;00m \u001b[38;5;28;01mNone\u001b[39;00m:\n\u001b[1;32m   2113\u001b[0m         labels \u001b[38;5;241m=\u001b[39m unique_labels(y_true, y_pred)\n",
      "File \u001b[0;32m/usr/local/lib/python3.9/site-packages/sklearn/metrics/_classification.py:84\u001b[0m, in \u001b[0;36m_check_targets\u001b[0;34m(y_true, y_pred)\u001b[0m\n\u001b[1;32m     57\u001b[0m \u001b[38;5;28;01mdef\u001b[39;00m \u001b[38;5;21m_check_targets\u001b[39m(y_true, y_pred):\n\u001b[1;32m     58\u001b[0m     \u001b[38;5;124;03m\"\"\"Check that y_true and y_pred belong to the same classification task.\u001b[39;00m\n\u001b[1;32m     59\u001b[0m \n\u001b[1;32m     60\u001b[0m \u001b[38;5;124;03m    This converts multiclass or binary types to a common shape, and raises a\u001b[39;00m\n\u001b[0;32m   (...)\u001b[0m\n\u001b[1;32m     82\u001b[0m \u001b[38;5;124;03m    y_pred : array or indicator matrix\u001b[39;00m\n\u001b[1;32m     83\u001b[0m \u001b[38;5;124;03m    \"\"\"\u001b[39;00m\n\u001b[0;32m---> 84\u001b[0m     \u001b[43mcheck_consistent_length\u001b[49m\u001b[43m(\u001b[49m\u001b[43my_true\u001b[49m\u001b[43m,\u001b[49m\u001b[43m \u001b[49m\u001b[43my_pred\u001b[49m\u001b[43m)\u001b[49m\n\u001b[1;32m     85\u001b[0m     type_true \u001b[38;5;241m=\u001b[39m type_of_target(y_true)\n\u001b[1;32m     86\u001b[0m     type_pred \u001b[38;5;241m=\u001b[39m type_of_target(y_pred)\n",
      "File \u001b[0;32m/usr/local/lib/python3.9/site-packages/sklearn/utils/validation.py:332\u001b[0m, in \u001b[0;36mcheck_consistent_length\u001b[0;34m(*arrays)\u001b[0m\n\u001b[1;32m    330\u001b[0m uniques \u001b[38;5;241m=\u001b[39m np\u001b[38;5;241m.\u001b[39munique(lengths)\n\u001b[1;32m    331\u001b[0m \u001b[38;5;28;01mif\u001b[39;00m \u001b[38;5;28mlen\u001b[39m(uniques) \u001b[38;5;241m>\u001b[39m \u001b[38;5;241m1\u001b[39m:\n\u001b[0;32m--> 332\u001b[0m     \u001b[38;5;28;01mraise\u001b[39;00m \u001b[38;5;167;01mValueError\u001b[39;00m(\n\u001b[1;32m    333\u001b[0m         \u001b[38;5;124m\"\u001b[39m\u001b[38;5;124mFound input variables with inconsistent numbers of samples: \u001b[39m\u001b[38;5;132;01m%r\u001b[39;00m\u001b[38;5;124m\"\u001b[39m\n\u001b[1;32m    334\u001b[0m         \u001b[38;5;241m%\u001b[39m [\u001b[38;5;28mint\u001b[39m(l) \u001b[38;5;28;01mfor\u001b[39;00m l \u001b[38;5;129;01min\u001b[39;00m lengths]\n\u001b[1;32m    335\u001b[0m     )\n",
      "\u001b[0;31mValueError\u001b[0m: Found input variables with inconsistent numbers of samples: [9376, 5]"
     ]
    }
   ],
   "source": [
    "all_y_values = np.concatenate((test_split_1_da_labels, test_split_2_da_labels, test_split_3_da_labels, test_split_4_da_labels, test_split_5_da_labels), axis=0)\n",
    "unilabel_all_y_values = np.argmax(convert_da_labels_to_categorical(all_y_values), axis=-1)\n",
    "\n",
    "calculate_accuracy_metrics_and_print_cm(unilabel_all_y_values, all_model_preds)"
   ]
  },
  {
   "cell_type": "code",
   "execution_count": 60,
   "metadata": {},
   "outputs": [],
   "source": [
    "from keras import layers, Input, Model, Sequential\n",
    "from keras.callbacks import EarlyStopping\n",
    "import tensorflow as tf\n",
    "\n",
    "# Create BERT Unimodal Models\n",
    "def create_unimodal_lstm_with_bert_embedding(x_train, x_valid, train_labels, valid_labels):\n",
    "    print(x_train.shape)\n",
    "    x_train = x_train.reshape(-1, 1, 300)\n",
    "    x_valid = x_valid.reshape(-1, 1, 300)\n",
    "    y_train = convert_da_labels_to_categorical(train_labels)\n",
    "    y_valid =  convert_da_labels_to_categorical(valid_labels)\n",
    "    \n",
    "    \n",
    "    train_dataset = tf.data.Dataset.from_tensor_slices((x_train, y_train)).batch(128)\n",
    "    valid_dataset = tf.data.Dataset.from_tensor_slices((x_valid, y_valid)).batch(128)\n",
    "    \n",
    "    \n",
    "    # Create callback\n",
    "    callback = EarlyStopping(monitor='val_loss', patience=3)\n",
    "    \n",
    "    model = Sequential()\n",
    "    model.add(layers.InputLayer(input_shape=(1,300)))\n",
    "    model.add(layers.Bidirectional(layers.LSTM(20, return_sequences=True)))\n",
    "    model.add(layers.Bidirectional(layers.LSTM(20)))\n",
    "    \n",
    "    model.add(layers.Dense(y_train.shape[1], activation=\"softmax\"))\n",
    "    model.compile(loss='categorical_crossentropy', optimizer='adam', metrics=[\"acc\"])\n",
    "    model.fit(train_dataset, batch_size=128, epochs=100, validation_data=valid_dataset,\n",
    "                  callbacks=[callback])\n",
    "    return model"
   ]
  },
  {
   "cell_type": "code",
   "execution_count": 62,
   "metadata": {},
   "outputs": [
    {
     "name": "stdout",
     "output_type": "stream",
     "text": [
      "Training on Split 1\n",
      "(5341, 300)\n",
      "Epoch 1/100\n",
      "42/42 [==============================] - 6s 32ms/step - loss: 2.2664 - acc: 0.2254 - val_loss: 1.9718 - val_acc: 0.3308\n",
      "Epoch 2/100\n",
      "42/42 [==============================] - 0s 6ms/step - loss: 1.8424 - acc: 0.4188 - val_loss: 1.6209 - val_acc: 0.4338\n",
      "Epoch 3/100\n",
      "42/42 [==============================] - 0s 5ms/step - loss: 1.5311 - acc: 0.4748 - val_loss: 1.4504 - val_acc: 0.4756\n",
      "Epoch 4/100\n",
      "42/42 [==============================] - 0s 5ms/step - loss: 1.3938 - acc: 0.5169 - val_loss: 1.3739 - val_acc: 0.5035\n",
      "Epoch 5/100\n",
      "42/42 [==============================] - 0s 6ms/step - loss: 1.3022 - acc: 0.5475 - val_loss: 1.3163 - val_acc: 0.5201\n",
      "Epoch 6/100\n",
      "42/42 [==============================] - 0s 5ms/step - loss: 1.2264 - acc: 0.5692 - val_loss: 1.2718 - val_acc: 0.5308\n",
      "Epoch 7/100\n",
      "42/42 [==============================] - 0s 5ms/step - loss: 1.1699 - acc: 0.5894 - val_loss: 1.2398 - val_acc: 0.5437\n",
      "Epoch 8/100\n",
      "42/42 [==============================] - 0s 6ms/step - loss: 1.1264 - acc: 0.6091 - val_loss: 1.2155 - val_acc: 0.5507\n",
      "Epoch 9/100\n",
      "42/42 [==============================] - 0s 5ms/step - loss: 1.0909 - acc: 0.6190 - val_loss: 1.1952 - val_acc: 0.5539\n",
      "Epoch 10/100\n",
      "42/42 [==============================] - 0s 5ms/step - loss: 1.0597 - acc: 0.6276 - val_loss: 1.1772 - val_acc: 0.5592\n",
      "Epoch 11/100\n",
      "42/42 [==============================] - 0s 5ms/step - loss: 1.0316 - acc: 0.6360 - val_loss: 1.1616 - val_acc: 0.5732\n",
      "Epoch 12/100\n",
      "42/42 [==============================] - 0s 5ms/step - loss: 1.0061 - acc: 0.6465 - val_loss: 1.1483 - val_acc: 0.5796\n",
      "Epoch 13/100\n",
      "42/42 [==============================] - 0s 6ms/step - loss: 0.9828 - acc: 0.6546 - val_loss: 1.1365 - val_acc: 0.5855\n",
      "Epoch 14/100\n",
      "42/42 [==============================] - 0s 6ms/step - loss: 0.9611 - acc: 0.6650 - val_loss: 1.1261 - val_acc: 0.5973\n",
      "Epoch 15/100\n",
      "42/42 [==============================] - 0s 5ms/step - loss: 0.9409 - acc: 0.6714 - val_loss: 1.1169 - val_acc: 0.5984\n",
      "Epoch 16/100\n",
      "42/42 [==============================] - 0s 6ms/step - loss: 0.9218 - acc: 0.6785 - val_loss: 1.1088 - val_acc: 0.5995\n",
      "Epoch 17/100\n",
      "42/42 [==============================] - 0s 5ms/step - loss: 0.9032 - acc: 0.6843 - val_loss: 1.1014 - val_acc: 0.5984\n",
      "Epoch 18/100\n",
      "42/42 [==============================] - 0s 5ms/step - loss: 0.8857 - acc: 0.6914 - val_loss: 1.0955 - val_acc: 0.5989\n",
      "Epoch 19/100\n",
      "42/42 [==============================] - 0s 6ms/step - loss: 0.8693 - acc: 0.6980 - val_loss: 1.0914 - val_acc: 0.6027\n",
      "Epoch 20/100\n",
      "42/42 [==============================] - 0s 5ms/step - loss: 0.8534 - acc: 0.7036 - val_loss: 1.0876 - val_acc: 0.6043\n",
      "Epoch 21/100\n",
      "42/42 [==============================] - 0s 5ms/step - loss: 0.8380 - acc: 0.7083 - val_loss: 1.0836 - val_acc: 0.6048\n",
      "Epoch 22/100\n",
      "42/42 [==============================] - 0s 5ms/step - loss: 0.8228 - acc: 0.7126 - val_loss: 1.0811 - val_acc: 0.6064\n",
      "Epoch 23/100\n",
      "42/42 [==============================] - 0s 5ms/step - loss: 0.8079 - acc: 0.7182 - val_loss: 1.0781 - val_acc: 0.6118\n",
      "Epoch 24/100\n",
      "42/42 [==============================] - 0s 5ms/step - loss: 0.7932 - acc: 0.7246 - val_loss: 1.0757 - val_acc: 0.6155\n",
      "Epoch 25/100\n",
      "42/42 [==============================] - 0s 5ms/step - loss: 0.7783 - acc: 0.7289 - val_loss: 1.0731 - val_acc: 0.6172\n",
      "Epoch 26/100\n",
      "42/42 [==============================] - 0s 5ms/step - loss: 0.7632 - acc: 0.7353 - val_loss: 1.0701 - val_acc: 0.6252\n",
      "Epoch 27/100\n",
      "42/42 [==============================] - 0s 5ms/step - loss: 0.7481 - acc: 0.7418 - val_loss: 1.0677 - val_acc: 0.6263\n",
      "Epoch 28/100\n",
      "42/42 [==============================] - 0s 5ms/step - loss: 0.7331 - acc: 0.7480 - val_loss: 1.0661 - val_acc: 0.6268\n",
      "Epoch 29/100\n",
      "42/42 [==============================] - 0s 5ms/step - loss: 0.7181 - acc: 0.7527 - val_loss: 1.0654 - val_acc: 0.6279\n",
      "Epoch 30/100\n",
      "42/42 [==============================] - 0s 5ms/step - loss: 0.7035 - acc: 0.7605 - val_loss: 1.0655 - val_acc: 0.6295\n",
      "Epoch 31/100\n",
      "42/42 [==============================] - 0s 5ms/step - loss: 0.6890 - acc: 0.7673 - val_loss: 1.0658 - val_acc: 0.6295\n",
      "Epoch 32/100\n",
      "42/42 [==============================] - 0s 5ms/step - loss: 0.6747 - acc: 0.7725 - val_loss: 1.0668 - val_acc: 0.6316\n",
      "Training on Split 2\n",
      "(5387, 300)\n",
      "Epoch 1/100\n",
      "43/43 [==============================] - 6s 30ms/step - loss: 2.2246 - acc: 0.2395 - val_loss: 1.9440 - val_acc: 0.2797\n",
      "Epoch 2/100\n",
      "43/43 [==============================] - 0s 5ms/step - loss: 1.7507 - acc: 0.4043 - val_loss: 1.5429 - val_acc: 0.4350\n",
      "Epoch 3/100\n",
      "43/43 [==============================] - 0s 6ms/step - loss: 1.5128 - acc: 0.4654 - val_loss: 1.4274 - val_acc: 0.4728\n",
      "Epoch 4/100\n",
      "43/43 [==============================] - 0s 5ms/step - loss: 1.4126 - acc: 0.4977 - val_loss: 1.3583 - val_acc: 0.4908\n",
      "Epoch 5/100\n",
      "43/43 [==============================] - 0s 5ms/step - loss: 1.3351 - acc: 0.5285 - val_loss: 1.3026 - val_acc: 0.5221\n",
      "Epoch 6/100\n",
      "43/43 [==============================] - 0s 6ms/step - loss: 1.2699 - acc: 0.5547 - val_loss: 1.2586 - val_acc: 0.5442\n",
      "Epoch 7/100\n",
      "43/43 [==============================] - 0s 5ms/step - loss: 1.2150 - acc: 0.5740 - val_loss: 1.2226 - val_acc: 0.5567\n",
      "Epoch 8/100\n",
      "43/43 [==============================] - 0s 6ms/step - loss: 1.1681 - acc: 0.5885 - val_loss: 1.1920 - val_acc: 0.5687\n",
      "Epoch 9/100\n",
      "43/43 [==============================] - 0s 6ms/step - loss: 1.1272 - acc: 0.6011 - val_loss: 1.1657 - val_acc: 0.5710\n",
      "Epoch 10/100\n",
      "43/43 [==============================] - 0s 5ms/step - loss: 1.0914 - acc: 0.6167 - val_loss: 1.1429 - val_acc: 0.5760\n",
      "Epoch 11/100\n",
      "43/43 [==============================] - 0s 5ms/step - loss: 1.0592 - acc: 0.6308 - val_loss: 1.1231 - val_acc: 0.5802\n",
      "Epoch 12/100\n",
      "43/43 [==============================] - 0s 6ms/step - loss: 1.0299 - acc: 0.6415 - val_loss: 1.1052 - val_acc: 0.5843\n",
      "Epoch 13/100\n",
      "43/43 [==============================] - 0s 6ms/step - loss: 1.0038 - acc: 0.6510 - val_loss: 1.0896 - val_acc: 0.5889\n",
      "Epoch 14/100\n",
      "43/43 [==============================] - 0s 6ms/step - loss: 0.9801 - acc: 0.6584 - val_loss: 1.0755 - val_acc: 0.5986\n",
      "Epoch 15/100\n",
      "43/43 [==============================] - 0s 5ms/step - loss: 0.9580 - acc: 0.6677 - val_loss: 1.0627 - val_acc: 0.6065\n",
      "Epoch 16/100\n",
      "43/43 [==============================] - 0s 5ms/step - loss: 0.9373 - acc: 0.6768 - val_loss: 1.0508 - val_acc: 0.6115\n",
      "Epoch 17/100\n",
      "43/43 [==============================] - 0s 6ms/step - loss: 0.9178 - acc: 0.6844 - val_loss: 1.0401 - val_acc: 0.6226\n",
      "Epoch 18/100\n",
      "43/43 [==============================] - 0s 6ms/step - loss: 0.8990 - acc: 0.6946 - val_loss: 1.0297 - val_acc: 0.6281\n",
      "Epoch 19/100\n",
      "43/43 [==============================] - 0s 5ms/step - loss: 0.8807 - acc: 0.6996 - val_loss: 1.0196 - val_acc: 0.6318\n",
      "Epoch 20/100\n",
      "43/43 [==============================] - 0s 6ms/step - loss: 0.8628 - acc: 0.7058 - val_loss: 1.0102 - val_acc: 0.6323\n",
      "Epoch 21/100\n",
      "43/43 [==============================] - 0s 6ms/step - loss: 0.8446 - acc: 0.7121 - val_loss: 1.0007 - val_acc: 0.6419\n",
      "Epoch 22/100\n",
      "43/43 [==============================] - 0s 6ms/step - loss: 0.8270 - acc: 0.7171 - val_loss: 0.9922 - val_acc: 0.6456\n",
      "Epoch 23/100\n",
      "43/43 [==============================] - 0s 5ms/step - loss: 0.8086 - acc: 0.7236 - val_loss: 0.9848 - val_acc: 0.6512\n",
      "Epoch 24/100\n",
      "43/43 [==============================] - 0s 5ms/step - loss: 0.7911 - acc: 0.7286 - val_loss: 0.9779 - val_acc: 0.6498\n",
      "Epoch 25/100\n",
      "43/43 [==============================] - 0s 6ms/step - loss: 0.7739 - acc: 0.7327 - val_loss: 0.9711 - val_acc: 0.6553\n",
      "Epoch 26/100\n",
      "43/43 [==============================] - 0s 6ms/step - loss: 0.7569 - acc: 0.7396 - val_loss: 0.9656 - val_acc: 0.6562\n",
      "Epoch 27/100\n",
      "43/43 [==============================] - 0s 6ms/step - loss: 0.7400 - acc: 0.7449 - val_loss: 0.9610 - val_acc: 0.6567\n",
      "Epoch 28/100\n",
      "43/43 [==============================] - 0s 6ms/step - loss: 0.7233 - acc: 0.7507 - val_loss: 0.9576 - val_acc: 0.6594\n",
      "Epoch 29/100\n",
      "43/43 [==============================] - 0s 5ms/step - loss: 0.7069 - acc: 0.7583 - val_loss: 0.9551 - val_acc: 0.6608\n",
      "Epoch 30/100\n",
      "43/43 [==============================] - 0s 6ms/step - loss: 0.6905 - acc: 0.7641 - val_loss: 0.9529 - val_acc: 0.6645\n"
     ]
    },
    {
     "name": "stdout",
     "output_type": "stream",
     "text": [
      "Epoch 31/100\n",
      "43/43 [==============================] - 0s 5ms/step - loss: 0.6744 - acc: 0.7704 - val_loss: 0.9516 - val_acc: 0.6631\n",
      "Epoch 32/100\n",
      "43/43 [==============================] - 0s 5ms/step - loss: 0.6584 - acc: 0.7758 - val_loss: 0.9505 - val_acc: 0.6659\n",
      "Epoch 33/100\n",
      "43/43 [==============================] - 0s 5ms/step - loss: 0.6428 - acc: 0.7826 - val_loss: 0.9500 - val_acc: 0.6677\n",
      "Epoch 34/100\n",
      "43/43 [==============================] - 0s 5ms/step - loss: 0.6275 - acc: 0.7906 - val_loss: 0.9498 - val_acc: 0.6710\n",
      "Epoch 35/100\n",
      "43/43 [==============================] - 0s 6ms/step - loss: 0.6123 - acc: 0.7973 - val_loss: 0.9499 - val_acc: 0.6728\n",
      "Epoch 36/100\n",
      "43/43 [==============================] - 0s 6ms/step - loss: 0.5972 - acc: 0.8040 - val_loss: 0.9503 - val_acc: 0.6765\n",
      "Epoch 37/100\n",
      "43/43 [==============================] - 0s 5ms/step - loss: 0.5824 - acc: 0.8103 - val_loss: 0.9515 - val_acc: 0.6760\n",
      "Training on Split 3\n",
      "(5795, 300)\n",
      "Epoch 1/100\n",
      "46/46 [==============================] - 6s 37ms/step - loss: 2.1664 - acc: 0.2601 - val_loss: 1.9385 - val_acc: 0.4008\n",
      "Epoch 2/100\n",
      "46/46 [==============================] - 0s 5ms/step - loss: 1.7135 - acc: 0.4342 - val_loss: 1.5885 - val_acc: 0.4629\n",
      "Epoch 3/100\n",
      "46/46 [==============================] - 0s 5ms/step - loss: 1.4784 - acc: 0.4777 - val_loss: 1.4379 - val_acc: 0.4816\n",
      "Epoch 4/100\n",
      "46/46 [==============================] - 0s 5ms/step - loss: 1.3680 - acc: 0.5084 - val_loss: 1.3453 - val_acc: 0.5091\n",
      "Epoch 5/100\n",
      "46/46 [==============================] - 0s 6ms/step - loss: 1.2841 - acc: 0.5465 - val_loss: 1.2780 - val_acc: 0.5399\n",
      "Epoch 6/100\n",
      "46/46 [==============================] - 0s 5ms/step - loss: 1.2211 - acc: 0.5691 - val_loss: 1.2341 - val_acc: 0.5629\n",
      "Epoch 7/100\n",
      "46/46 [==============================] - 0s 5ms/step - loss: 1.1724 - acc: 0.5877 - val_loss: 1.2006 - val_acc: 0.5789\n",
      "Epoch 8/100\n",
      "46/46 [==============================] - 0s 6ms/step - loss: 1.1310 - acc: 0.6016 - val_loss: 1.1726 - val_acc: 0.5882\n",
      "Epoch 9/100\n",
      "46/46 [==============================] - 0s 5ms/step - loss: 1.0942 - acc: 0.6142 - val_loss: 1.1490 - val_acc: 0.5926\n",
      "Epoch 10/100\n",
      "46/46 [==============================] - 0s 5ms/step - loss: 1.0616 - acc: 0.6204 - val_loss: 1.1308 - val_acc: 0.5937\n",
      "Epoch 11/100\n",
      "46/46 [==============================] - 0s 6ms/step - loss: 1.0332 - acc: 0.6305 - val_loss: 1.1170 - val_acc: 0.6009\n",
      "Epoch 12/100\n",
      "46/46 [==============================] - 0s 5ms/step - loss: 1.0080 - acc: 0.6423 - val_loss: 1.1064 - val_acc: 0.5981\n",
      "Epoch 13/100\n",
      "46/46 [==============================] - 0s 5ms/step - loss: 0.9852 - acc: 0.6514 - val_loss: 1.0980 - val_acc: 0.6014\n",
      "Epoch 14/100\n",
      "46/46 [==============================] - 0s 5ms/step - loss: 0.9641 - acc: 0.6599 - val_loss: 1.0914 - val_acc: 0.6042\n",
      "Epoch 15/100\n",
      "46/46 [==============================] - 0s 5ms/step - loss: 0.9443 - acc: 0.6644 - val_loss: 1.0863 - val_acc: 0.6014\n",
      "Epoch 16/100\n",
      "46/46 [==============================] - 0s 5ms/step - loss: 0.9251 - acc: 0.6709 - val_loss: 1.0818 - val_acc: 0.6003\n",
      "Epoch 17/100\n",
      "46/46 [==============================] - 0s 5ms/step - loss: 0.9065 - acc: 0.6778 - val_loss: 1.0776 - val_acc: 0.6069\n",
      "Epoch 18/100\n",
      "46/46 [==============================] - 0s 5ms/step - loss: 0.8883 - acc: 0.6854 - val_loss: 1.0745 - val_acc: 0.6135\n",
      "Epoch 19/100\n",
      "46/46 [==============================] - 0s 5ms/step - loss: 0.8704 - acc: 0.6903 - val_loss: 1.0722 - val_acc: 0.6163\n",
      "Epoch 20/100\n",
      "46/46 [==============================] - 0s 5ms/step - loss: 0.8528 - acc: 0.6953 - val_loss: 1.0705 - val_acc: 0.6190\n",
      "Epoch 21/100\n",
      "46/46 [==============================] - 0s 5ms/step - loss: 0.8354 - acc: 0.7022 - val_loss: 1.0689 - val_acc: 0.6229\n",
      "Epoch 22/100\n",
      "46/46 [==============================] - 0s 5ms/step - loss: 0.8179 - acc: 0.7072 - val_loss: 1.0675 - val_acc: 0.6262\n",
      "Epoch 23/100\n",
      "46/46 [==============================] - 0s 5ms/step - loss: 0.8008 - acc: 0.7134 - val_loss: 1.0666 - val_acc: 0.6273\n",
      "Epoch 24/100\n",
      "46/46 [==============================] - 0s 5ms/step - loss: 0.7838 - acc: 0.7227 - val_loss: 1.0667 - val_acc: 0.6256\n",
      "Epoch 25/100\n",
      "46/46 [==============================] - 0s 5ms/step - loss: 0.7672 - acc: 0.7280 - val_loss: 1.0679 - val_acc: 0.6245\n",
      "Epoch 26/100\n",
      "46/46 [==============================] - 0s 5ms/step - loss: 0.7508 - acc: 0.7363 - val_loss: 1.0697 - val_acc: 0.6273\n",
      "Training on Split 4\n",
      "(5854, 300)\n",
      "Epoch 1/100\n",
      "46/46 [==============================] - 6s 30ms/step - loss: 2.1746 - acc: 0.2222 - val_loss: 1.9355 - val_acc: 0.3740\n",
      "Epoch 2/100\n",
      "46/46 [==============================] - 0s 5ms/step - loss: 1.7757 - acc: 0.4098 - val_loss: 1.6105 - val_acc: 0.4495\n",
      "Epoch 3/100\n",
      "46/46 [==============================] - 0s 5ms/step - loss: 1.4759 - acc: 0.4686 - val_loss: 1.4216 - val_acc: 0.5125\n",
      "Epoch 4/100\n",
      "46/46 [==============================] - 0s 5ms/step - loss: 1.3525 - acc: 0.5080 - val_loss: 1.3201 - val_acc: 0.5630\n",
      "Epoch 5/100\n",
      "46/46 [==============================] - 0s 7ms/step - loss: 1.2681 - acc: 0.5499 - val_loss: 1.2459 - val_acc: 0.5783\n",
      "Epoch 6/100\n",
      "46/46 [==============================] - 0s 5ms/step - loss: 1.2052 - acc: 0.5750 - val_loss: 1.1984 - val_acc: 0.5902\n",
      "Epoch 7/100\n",
      "46/46 [==============================] - 0s 5ms/step - loss: 1.1585 - acc: 0.5892 - val_loss: 1.1659 - val_acc: 0.6084\n",
      "Epoch 8/100\n",
      "46/46 [==============================] - 0s 5ms/step - loss: 1.1211 - acc: 0.6025 - val_loss: 1.1418 - val_acc: 0.6073\n",
      "Epoch 9/100\n",
      "46/46 [==============================] - 0s 5ms/step - loss: 1.0891 - acc: 0.6124 - val_loss: 1.1214 - val_acc: 0.6141\n",
      "Epoch 10/100\n",
      "46/46 [==============================] - 0s 6ms/step - loss: 1.0609 - acc: 0.6160 - val_loss: 1.1034 - val_acc: 0.6271\n",
      "Epoch 11/100\n",
      "46/46 [==============================] - 0s 6ms/step - loss: 1.0352 - acc: 0.6249 - val_loss: 1.0864 - val_acc: 0.6271\n",
      "Epoch 12/100\n",
      "46/46 [==============================] - 0s 6ms/step - loss: 1.0115 - acc: 0.6332 - val_loss: 1.0716 - val_acc: 0.6339\n",
      "Epoch 13/100\n",
      "46/46 [==============================] - 0s 5ms/step - loss: 0.9897 - acc: 0.6431 - val_loss: 1.0579 - val_acc: 0.6379\n",
      "Epoch 14/100\n",
      "46/46 [==============================] - 0s 6ms/step - loss: 0.9692 - acc: 0.6495 - val_loss: 1.0455 - val_acc: 0.6390\n",
      "Epoch 15/100\n",
      "46/46 [==============================] - 0s 6ms/step - loss: 0.9497 - acc: 0.6549 - val_loss: 1.0344 - val_acc: 0.6402\n",
      "Epoch 16/100\n",
      "46/46 [==============================] - 0s 6ms/step - loss: 0.9312 - acc: 0.6602 - val_loss: 1.0243 - val_acc: 0.6464\n",
      "Epoch 17/100\n",
      "46/46 [==============================] - 0s 5ms/step - loss: 0.9136 - acc: 0.6648 - val_loss: 1.0148 - val_acc: 0.6549\n",
      "Epoch 18/100\n",
      "46/46 [==============================] - 0s 5ms/step - loss: 0.8964 - acc: 0.6712 - val_loss: 1.0050 - val_acc: 0.6583\n",
      "Epoch 19/100\n",
      "46/46 [==============================] - 0s 6ms/step - loss: 0.8792 - acc: 0.6800 - val_loss: 0.9952 - val_acc: 0.6600\n",
      "Epoch 20/100\n",
      "46/46 [==============================] - 0s 6ms/step - loss: 0.8618 - acc: 0.6877 - val_loss: 0.9867 - val_acc: 0.6600\n",
      "Epoch 21/100\n",
      "46/46 [==============================] - 0s 5ms/step - loss: 0.8448 - acc: 0.6951 - val_loss: 0.9787 - val_acc: 0.6617\n",
      "Epoch 22/100\n",
      "46/46 [==============================] - 0s 5ms/step - loss: 0.8284 - acc: 0.6992 - val_loss: 0.9712 - val_acc: 0.6629\n",
      "Epoch 23/100\n",
      "46/46 [==============================] - 0s 5ms/step - loss: 0.8124 - acc: 0.7053 - val_loss: 0.9643 - val_acc: 0.6703\n",
      "Epoch 24/100\n",
      "46/46 [==============================] - 0s 5ms/step - loss: 0.7969 - acc: 0.7113 - val_loss: 0.9578 - val_acc: 0.6737\n",
      "Epoch 25/100\n",
      "46/46 [==============================] - 0s 5ms/step - loss: 0.7815 - acc: 0.7173 - val_loss: 0.9516 - val_acc: 0.6771\n",
      "Epoch 26/100\n",
      "46/46 [==============================] - 0s 6ms/step - loss: 0.7662 - acc: 0.7234 - val_loss: 0.9464 - val_acc: 0.6788\n",
      "Epoch 27/100\n",
      "46/46 [==============================] - 0s 6ms/step - loss: 0.7509 - acc: 0.7304 - val_loss: 0.9417 - val_acc: 0.6810\n",
      "Epoch 28/100\n",
      "46/46 [==============================] - 0s 5ms/step - loss: 0.7356 - acc: 0.7380 - val_loss: 0.9378 - val_acc: 0.6844\n",
      "Epoch 29/100\n",
      "46/46 [==============================] - 0s 5ms/step - loss: 0.7202 - acc: 0.7443 - val_loss: 0.9346 - val_acc: 0.6873\n"
     ]
    },
    {
     "name": "stdout",
     "output_type": "stream",
     "text": [
      "Epoch 30/100\n",
      "46/46 [==============================] - 0s 5ms/step - loss: 0.7045 - acc: 0.7533 - val_loss: 0.9322 - val_acc: 0.6930\n",
      "Epoch 31/100\n",
      "46/46 [==============================] - 0s 5ms/step - loss: 0.6884 - acc: 0.7610 - val_loss: 0.9307 - val_acc: 0.6952\n",
      "Epoch 32/100\n",
      "46/46 [==============================] - 0s 5ms/step - loss: 0.6723 - acc: 0.7672 - val_loss: 0.9298 - val_acc: 0.6964\n",
      "Epoch 33/100\n",
      "46/46 [==============================] - 0s 5ms/step - loss: 0.6565 - acc: 0.7755 - val_loss: 0.9295 - val_acc: 0.6986\n",
      "Epoch 34/100\n",
      "46/46 [==============================] - 0s 5ms/step - loss: 0.6412 - acc: 0.7812 - val_loss: 0.9298 - val_acc: 0.6998\n",
      "Epoch 35/100\n",
      "46/46 [==============================] - 0s 5ms/step - loss: 0.6262 - acc: 0.7877 - val_loss: 0.9307 - val_acc: 0.7003\n",
      "Epoch 36/100\n",
      "46/46 [==============================] - 0s 5ms/step - loss: 0.6116 - acc: 0.7919 - val_loss: 0.9322 - val_acc: 0.7003\n",
      "Training on Split 5\n",
      "(5751, 300)\n",
      "Epoch 1/100\n",
      "45/45 [==============================] - 6s 30ms/step - loss: 2.2500 - acc: 0.2506 - val_loss: 1.9538 - val_acc: 0.3739\n",
      "Epoch 2/100\n",
      "45/45 [==============================] - 0s 6ms/step - loss: 1.7719 - acc: 0.4017 - val_loss: 1.5965 - val_acc: 0.4500\n",
      "Epoch 3/100\n",
      "45/45 [==============================] - 0s 5ms/step - loss: 1.4976 - acc: 0.4566 - val_loss: 1.4589 - val_acc: 0.4830\n",
      "Epoch 4/100\n",
      "45/45 [==============================] - 0s 5ms/step - loss: 1.3892 - acc: 0.4917 - val_loss: 1.3820 - val_acc: 0.5324\n",
      "Epoch 5/100\n",
      "45/45 [==============================] - 0s 5ms/step - loss: 1.3093 - acc: 0.5307 - val_loss: 1.3169 - val_acc: 0.5500\n",
      "Epoch 6/100\n",
      "45/45 [==============================] - 0s 5ms/step - loss: 1.2421 - acc: 0.5599 - val_loss: 1.2692 - val_acc: 0.5693\n",
      "Epoch 7/100\n",
      "45/45 [==============================] - 0s 5ms/step - loss: 1.1878 - acc: 0.5837 - val_loss: 1.2353 - val_acc: 0.5778\n",
      "Epoch 8/100\n",
      "45/45 [==============================] - 0s 5ms/step - loss: 1.1433 - acc: 0.6006 - val_loss: 1.2079 - val_acc: 0.5756\n",
      "Epoch 9/100\n",
      "45/45 [==============================] - 0s 6ms/step - loss: 1.1056 - acc: 0.6154 - val_loss: 1.1860 - val_acc: 0.5813\n",
      "Epoch 10/100\n",
      "45/45 [==============================] - 0s 6ms/step - loss: 1.0718 - acc: 0.6222 - val_loss: 1.1651 - val_acc: 0.5824\n",
      "Epoch 11/100\n",
      "45/45 [==============================] - 1s 11ms/step - loss: 1.0410 - acc: 0.6295 - val_loss: 1.1473 - val_acc: 0.5858\n",
      "Epoch 12/100\n",
      "45/45 [==============================] - 0s 5ms/step - loss: 1.0125 - acc: 0.6404 - val_loss: 1.1313 - val_acc: 0.5943\n",
      "Epoch 13/100\n",
      "45/45 [==============================] - 0s 5ms/step - loss: 0.9861 - acc: 0.6512 - val_loss: 1.1178 - val_acc: 0.6057\n",
      "Epoch 14/100\n",
      "45/45 [==============================] - 0s 5ms/step - loss: 0.9618 - acc: 0.6581 - val_loss: 1.1061 - val_acc: 0.6097\n",
      "Epoch 15/100\n",
      "45/45 [==============================] - 0s 5ms/step - loss: 0.9392 - acc: 0.6681 - val_loss: 1.0962 - val_acc: 0.6148\n",
      "Epoch 16/100\n",
      "45/45 [==============================] - 0s 6ms/step - loss: 0.9181 - acc: 0.6724 - val_loss: 1.0875 - val_acc: 0.6136\n",
      "Epoch 17/100\n",
      "45/45 [==============================] - 0s 5ms/step - loss: 0.8980 - acc: 0.6813 - val_loss: 1.0800 - val_acc: 0.6193\n",
      "Epoch 18/100\n",
      "45/45 [==============================] - 0s 5ms/step - loss: 0.8791 - acc: 0.6854 - val_loss: 1.0737 - val_acc: 0.6244\n",
      "Epoch 19/100\n",
      "45/45 [==============================] - 0s 5ms/step - loss: 0.8610 - acc: 0.6938 - val_loss: 1.0679 - val_acc: 0.6335\n",
      "Epoch 20/100\n",
      "45/45 [==============================] - 0s 5ms/step - loss: 0.8433 - acc: 0.6995 - val_loss: 1.0631 - val_acc: 0.6426\n",
      "Epoch 21/100\n",
      "45/45 [==============================] - 0s 5ms/step - loss: 0.8259 - acc: 0.7098 - val_loss: 1.0587 - val_acc: 0.6449\n",
      "Epoch 22/100\n",
      "45/45 [==============================] - 0s 5ms/step - loss: 0.8092 - acc: 0.7157 - val_loss: 1.0548 - val_acc: 0.6432\n",
      "Epoch 23/100\n",
      "45/45 [==============================] - 0s 6ms/step - loss: 0.7930 - acc: 0.7214 - val_loss: 1.0515 - val_acc: 0.6455\n",
      "Epoch 24/100\n",
      "45/45 [==============================] - 1s 15ms/step - loss: 0.7769 - acc: 0.7261 - val_loss: 1.0480 - val_acc: 0.6472\n",
      "Epoch 25/100\n",
      "45/45 [==============================] - 0s 11ms/step - loss: 0.7613 - acc: 0.7322 - val_loss: 1.0447 - val_acc: 0.6506\n",
      "Epoch 26/100\n",
      "45/45 [==============================] - 1s 18ms/step - loss: 0.7463 - acc: 0.7383 - val_loss: 1.0428 - val_acc: 0.6534\n",
      "Epoch 27/100\n",
      "45/45 [==============================] - 0s 8ms/step - loss: 0.7315 - acc: 0.7430 - val_loss: 1.0413 - val_acc: 0.6523\n",
      "Epoch 28/100\n",
      "45/45 [==============================] - 0s 7ms/step - loss: 0.7173 - acc: 0.7491 - val_loss: 1.0413 - val_acc: 0.6545\n",
      "Epoch 29/100\n",
      "45/45 [==============================] - 0s 11ms/step - loss: 0.7029 - acc: 0.7548 - val_loss: 1.0410 - val_acc: 0.6545\n",
      "Epoch 30/100\n",
      "45/45 [==============================] - 0s 10ms/step - loss: 0.6888 - acc: 0.7606 - val_loss: 1.0412 - val_acc: 0.6557\n",
      "Epoch 31/100\n",
      "45/45 [==============================] - 0s 10ms/step - loss: 0.6745 - acc: 0.7666 - val_loss: 1.0415 - val_acc: 0.6574\n",
      "Epoch 32/100\n",
      "45/45 [==============================] - 0s 11ms/step - loss: 0.6603 - acc: 0.7734 - val_loss: 1.0420 - val_acc: 0.6568\n"
     ]
    }
   ],
   "source": [
    "# Create 5 Unimodal BERT models to evaluate\n",
    "unimodal_bert_models_list = []\n",
    "\n",
    "print(\"Training on Split 1\")\n",
    "model1 = create_unimodal_lstm_with_bert_embedding(unimodal_bert_train_split_1, unimodal_bert_valid_split_1, train_split_1_da_labels, valid_split_1_da_labels)\n",
    "unimodal_bert_models_list.append(model1)\n",
    "\n",
    "\n",
    "print(\"Training on Split 2\")\n",
    "model2 = create_unimodal_lstm_with_bert_embedding(unimodal_bert_train_split_2, unimodal_bert_valid_split_2, train_split_2_da_labels, valid_split_2_da_labels)\n",
    "unimodal_bert_models_list.append(model2)\n",
    "\n",
    "\n",
    "print(\"Training on Split 3\")\n",
    "model3 = create_unimodal_lstm_with_bert_embedding(unimodal_bert_train_split_3, unimodal_bert_valid_split_3, train_split_3_da_labels, valid_split_3_da_labels)\n",
    "unimodal_bert_models_list.append(model3)\n",
    "\n",
    "\n",
    "print(\"Training on Split 4\")\n",
    "model4 = create_unimodal_lstm_with_bert_embedding(unimodal_bert_train_split_4, unimodal_bert_valid_split_4, train_split_4_da_labels, valid_split_4_da_labels)\n",
    "unimodal_bert_models_list.append(model4)\n",
    "\n",
    "print(\"Training on Split 5\")\n",
    "model5 = create_unimodal_lstm_with_bert_embedding(unimodal_bert_train_split_5, unimodal_bert_valid_split_5, train_split_5_da_labels, valid_split_5_da_labels)\n",
    "unimodal_bert_models_list.append(model5)\n"
   ]
  },
  {
   "cell_type": "code",
   "execution_count": 69,
   "metadata": {},
   "outputs": [],
   "source": [
    "# Compare the BERT model predictions for the 5 splits we have created\n",
    "# Takes as input a list of 5 different models\n",
    "# For all types of models we have the same 5 test splits, so we can use the same set of test data\n",
    "x_bert_test_list = [unimodal_bert_test_split_1, unimodal_bert_test_split_2, unimodal_bert_test_split_3, unimodal_bert_test_split_4, unimodal_bert_test_split_5]\n",
    "y_test_list = [test_split_1_da_labels, test_split_2_da_labels, test_split_3_da_labels, test_split_4_da_labels, test_split_5_da_labels]\n",
    "\n",
    "def compare_results_of_bert_models(model_list):\n",
    "    from sklearn.metrics import precision_score, recall_score, accuracy_score\n",
    "\n",
    "    prec_list = []\n",
    "    recall_list = []\n",
    "    accuracy_list = []\n",
    "    all_predictions = []\n",
    "    \n",
    "    for i in range(5):\n",
    "        model = model_list[i]\n",
    "        x_test = x_bert_test_list[i].reshape(-1, 1, 300)\n",
    "        \n",
    "        y_test = y_test_list[i]\n",
    "        test_labels = np.argmax(convert_da_labels_to_categorical(y_test), axis=-1)\n",
    "        \n",
    "        print(f\"Calculating accuracy for split{i}\")\n",
    "        model_preds = model_list[i].predict(x_test)\n",
    "        unilabel_model_preds = np.argmax(model_preds, axis=-1)\n",
    "        \n",
    "        all_predictions.extend(unilabel_model_preds)\n",
    "        \n",
    "        lstm_prec = precision_score(test_labels, unilabel_model_preds, average='macro')\n",
    "        lstm_recall = recall_score(test_labels, unilabel_model_preds, average='macro')        \n",
    "        accuracy = accuracy_score(test_labels, unilabel_model_preds)\n",
    "        \n",
    "        prec_list.append(lstm_prec)\n",
    "        recall_list.append(lstm_recall)\n",
    "        accuracy_list.append(accuracy)\n",
    "        \n",
    "    \n",
    "    return prec_list, recall_list, accuracy_list, all_predictions"
   ]
  },
  {
   "cell_type": "code",
   "execution_count": 70,
   "metadata": {},
   "outputs": [
    {
     "name": "stdout",
     "output_type": "stream",
     "text": [
      "Calculating accuracy for split0\n",
      "Calculating accuracy for split1\n",
      "Calculating accuracy for split2\n",
      "Calculating accuracy for split3\n",
      "Calculating accuracy for split4\n",
      "[0.6035973161241732, 0.7508829463281087, 0.7613355212200106, 0.5977785231640032, 0.5671259415422786]\n",
      "[0.5809442857665088, 0.5895406111217334, 0.5888617574958708, 0.5828870277472518, 0.520858834076077]\n",
      "[0.6437788018433179, 0.6481583287520616, 0.6895573212258796, 0.6375, 0.6348525469168901]\n",
      "9376\n"
     ]
    }
   ],
   "source": [
    "# Compare all bert model results\n",
    "bert_base_prec, bert_base_recall, bert_base_accuracy, bert_base_preds = compare_results_of_bert_models(unimodal_bert_models_list)\n",
    "print(bert_base_prec)\n",
    "print(bert_base_recall)\n",
    "print(bert_base_accuracy)\n",
    "print((len(bert_base_preds)))"
   ]
  },
  {
   "cell_type": "code",
   "execution_count": 73,
   "metadata": {},
   "outputs": [
    {
     "name": "stdout",
     "output_type": "stream",
     "text": [
      "AxesSubplot(0.125,0.125;0.62x0.755)\n"
     ]
    },
    {
     "data": {
      "text/plain": [
       "'              precision    recall  f1-score   support\\n\\n           0       0.27      0.07      0.12        54\\n           1       0.51      0.51      0.51       497\\n           2       0.51      0.53      0.52      1429\\n           3       0.63      0.56      0.59        75\\n           4       0.59      0.57      0.58       284\\n           5       0.68      0.73      0.71       350\\n           6       0.63      0.52      0.57       372\\n           7       0.62      0.49      0.55        59\\n           8       0.63      0.63      0.63      2073\\n           9       0.95      0.81      0.87        68\\n          10       0.87      0.90      0.89      1945\\n          11       0.60      0.59      0.59      2170\\n\\n    accuracy                           0.65      9376\\n   macro avg       0.62      0.58      0.59      9376\\nweighted avg       0.65      0.65      0.65      9376\\n'"
      ]
     },
     "execution_count": 73,
     "metadata": {},
     "output_type": "execute_result"
    },
    {
     "data": {
      "image/png": "[encoded data removed]",
      "text/plain": [
       "<Figure size 432x288 with 2 Axes>"
      ]
     },
     "metadata": {
      "needs_background": "light"
     },
     "output_type": "display_data"
    }
   ],
   "source": [
    "all_actual_values = []\n",
    "for i in range(len(y_test_list)):\n",
    "    test_labels = np.argmax(convert_da_labels_to_categorical(y_test_list[i]), axis=-1)\n",
    "    all_actual_values.extend(test_labels)\n",
    "calculate_accuracy_metrics_and_print_cm(all_actual_values, bert_base_preds)"
   ]
  },
  {
   "cell_type": "code",
   "execution_count": 3,
   "metadata": {},
   "outputs": [
    {
     "data": {
      "text/plain": [
       "0.6507693997476298"
      ]
     },
     "execution_count": 3,
     "metadata": {},
     "output_type": "execute_result"
    }
   ],
   "source": [
    "import numpy as np\n",
    "np.average([0.6437788018433179, 0.6481583287520616, 0.6895573212258796, 0.6375, 0.6348525469168901])"
   ]
  },
  {
   "cell_type": "code",
   "execution_count": null,
   "metadata": {},
   "outputs": [],
   "source": []
  }
 ],
 "metadata": {
  "colab": {
   "collapsed_sections": [],
   "name": "FinalProject_DeepLearning.ipynb",
   "provenance": []
  },
  "kernelspec": {
   "display_name": "Python 3 (ipykernel)",
   "language": "python",
   "name": "python3"
  },
  "language_info": {
   "codemirror_mode": {
    "name": "ipython",
    "version": 3
   },
   "file_extension": ".py",
   "mimetype": "text/x-python",
   "name": "python",
   "nbconvert_exporter": "python",
   "pygments_lexer": "ipython3",
   "version": "3.9.12"
  }
 },
 "nbformat": 4,
 "nbformat_minor": 4
}
