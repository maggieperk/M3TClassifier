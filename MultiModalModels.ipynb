{
 "cells": [
  {
   "cell_type": "code",
   "execution_count": 7,
   "id": "efb701cd",
   "metadata": {},
   "outputs": [],
   "source": [
    "# Read in the data\n",
    "import pandas as pd\n",
    "\n",
    "# Read in the CSV files\n",
    "iemocap1 = pd.read_csv('iemocap_session1_af.csv')\n",
    "iemocap2 = pd.read_csv('iemocap_session2_af.csv')\n",
    "iemocap3 = pd.read_csv('iemocap_session3_af.csv')\n",
    "iemocap4 = pd.read_csv('iemocap_session4_af.csv')\n",
    "iemocap5 = pd.read_csv('iemocap_session5_af.csv')"
   ]
  },
  {
   "cell_type": "code",
   "execution_count": 8,
   "id": "c9ba92df",
   "metadata": {},
   "outputs": [],
   "source": [
    "# Get the DA labels\n",
    "da_labels_iemocap1 = iemocap1['DA']\n",
    "da_labels_iemocap2 = iemocap2['DA']\n",
    "da_labels_iemocap3 = iemocap3['DA']\n",
    "da_labels_iemocap4 = iemocap4['DA']\n",
    "da_labels_iemocap5 = iemocap5['DA']\n",
    "\n",
    "# Emotion labels\n",
    "emot_labels_iemocap1 = iemocap1['EMOTION']\n",
    "emot_labels_iemocap2 = iemocap2['EMOTION']\n",
    "emot_labels_iemocap3 = iemocap3['EMOTION']\n",
    "emot_labels_iemocap4 = iemocap4['EMOTION']\n",
    "emot_labels_iemocap5 = iemocap5['EMOTION']"
   ]
  },
  {
   "cell_type": "code",
   "execution_count": 10,
   "id": "ac8f0a5d",
   "metadata": {},
   "outputs": [],
   "source": [
    "# CREATE THE 5 SPLITS OF LABELS\n",
    "## SPLIT 1\n",
    "# Split 1 DA Labels\n",
    "train_split_1_da_labels = pd.concat([da_labels_iemocap1, da_labels_iemocap2, da_labels_iemocap3])\n",
    "valid_split_1_da_labels = da_labels_iemocap4\n",
    "test_split_1_da_labels = da_labels_iemocap5\n",
    "\n",
    "# Split 1 ER Labels\n",
    "train_split_1_er_labels = pd.concat([emot_labels_iemocap1, emot_labels_iemocap2, emot_labels_iemocap3])\n",
    "valid_split_1_er_labels = pd.concat([emot_labels_iemocap4])\n",
    "test_split_1_er_labels = pd.concat([emot_labels_iemocap5])\n",
    "\n",
    "## SPLIT 2\n",
    "# Split 2 DA Labels\n",
    "train_split_2_da_labels = pd.concat([da_labels_iemocap2, da_labels_iemocap3, da_labels_iemocap4])\n",
    "valid_split_2_da_labels = da_labels_iemocap5\n",
    "test_split_2_da_labels = da_labels_iemocap1\n",
    "\n",
    "# Split 2 ER Labels\n",
    "train_split_2_er_labels = pd.concat([emot_labels_iemocap2, emot_labels_iemocap3, emot_labels_iemocap4])\n",
    "valid_split_2_er_labels = pd.concat([emot_labels_iemocap5])\n",
    "test_split_2_er_labels = pd.concat([emot_labels_iemocap1])\n",
    "\n",
    "## SPLIT 3\n",
    "# Split 3 DA Labels\n",
    "train_split_3_da_labels = pd.concat([da_labels_iemocap3, da_labels_iemocap4, da_labels_iemocap5])\n",
    "valid_split_3_da_labels = da_labels_iemocap1\n",
    "test_split_3_da_labels = da_labels_iemocap2\n",
    "\n",
    "# Split 3 ER Labels\n",
    "train_split_3_er_labels = pd.concat([emot_labels_iemocap3, emot_labels_iemocap4, emot_labels_iemocap5])\n",
    "valid_split_3_er_labels = pd.concat([emot_labels_iemocap1])\n",
    "test_split_3_er_labels = pd.concat([emot_labels_iemocap2])\n",
    "\n",
    "\n",
    "## SPLIT 4\n",
    "# Split 4 DA Labels\n",
    "train_split_4_da_labels = pd.concat([da_labels_iemocap4, da_labels_iemocap5, da_labels_iemocap1])\n",
    "valid_split_4_da_labels = da_labels_iemocap2\n",
    "test_split_4_da_labels = da_labels_iemocap3\n",
    "\n",
    "# Split 4 ER Labels\n",
    "train_split_4_er_labels = pd.concat([emot_labels_iemocap4, emot_labels_iemocap5, emot_labels_iemocap1])\n",
    "valid_split_4_er_labels = pd.concat([emot_labels_iemocap2])\n",
    "test_split_4_er_labels = pd.concat([emot_labels_iemocap3])\n",
    "\n",
    "## SPLIT 5\n",
    "# Split 5 DA Labels\n",
    "train_split_5_da_labels = pd.concat([da_labels_iemocap5, da_labels_iemocap1, da_labels_iemocap2])\n",
    "valid_split_5_da_labels = da_labels_iemocap3\n",
    "test_split_5_da_labels = da_labels_iemocap4\n",
    "\n",
    "# Split 5 ER Labels\n",
    "train_split_5_er_labels = pd.concat([emot_labels_iemocap5, emot_labels_iemocap1, emot_labels_iemocap2])\n",
    "valid_split_5_er_labels = pd.concat([emot_labels_iemocap3])\n",
    "test_split_5_er_labels = pd.concat([emot_labels_iemocap4])"
   ]
  },
  {
   "cell_type": "code",
   "execution_count": 11,
   "id": "94affede",
   "metadata": {},
   "outputs": [
    {
     "name": "stdout",
     "output_type": "stream",
     "text": [
      "(1819, 300)\n",
      "(1762, 300)\n",
      "(1760, 300)\n",
      "(1865, 300)\n",
      "(2170, 300)\n"
     ]
    }
   ],
   "source": [
    "# Load Bert encodings\n",
    "import numpy as np\n",
    "iemocap_prefix = \"iemocap_\"\n",
    "bert_embedding_prefix = \"bert_embedding_300_\"\n",
    "\n",
    "\n",
    "iemocap1_bert_features = np.array(np.load(bert_embedding_prefix + iemocap_prefix + \"1.pickle\", allow_pickle=True))\n",
    "iemocap2_bert_features = np.array(np.load(bert_embedding_prefix + iemocap_prefix + \"2.pickle\", allow_pickle=True))\n",
    "iemocap3_bert_features = np.array(np.load(bert_embedding_prefix + iemocap_prefix + \"3.pickle\", allow_pickle=True))\n",
    "iemocap4_bert_features = np.array(np.load(bert_embedding_prefix + iemocap_prefix + \"4.pickle\", allow_pickle=True))\n",
    "iemocap5_bert_features = np.array(np.load(bert_embedding_prefix + iemocap_prefix + \"5.pickle\", allow_pickle=True))\n",
    "\n",
    "print(iemocap1_bert_features.shape)\n",
    "print(iemocap2_bert_features.shape)\n",
    "print(iemocap3_bert_features.shape)\n",
    "print(iemocap4_bert_features.shape)\n",
    "print(iemocap5_bert_features.shape)"
   ]
  },
  {
   "cell_type": "code",
   "execution_count": 12,
   "id": "a5cdebe1",
   "metadata": {},
   "outputs": [],
   "source": [
    "import numpy as np\n",
    "\n",
    "# Split 1 Unimodal BERT\n",
    "unimodal_bert_train_split_1 = np.concatenate([iemocap1_bert_features, iemocap2_bert_features, iemocap3_bert_features], axis=0)\n",
    "unimodal_bert_valid_split_1 = iemocap4_bert_features\n",
    "unimodal_bert_test_split_1 = iemocap5_bert_features\n",
    "    \n",
    "# Split 2 Unimodal BERT\n",
    "unimodal_bert_train_split_2 = np.concatenate([iemocap2_bert_features, iemocap3_bert_features, iemocap4_bert_features], axis=0)\n",
    "unimodal_bert_valid_split_2 = iemocap5_bert_features\n",
    "unimodal_bert_test_split_2 = iemocap1_bert_features\n",
    "\n",
    "# Split 3 Unimodal BERT\n",
    "unimodal_bert_train_split_3 = np.concatenate([iemocap3_bert_features, iemocap4_bert_features, iemocap5_bert_features], axis=0)\n",
    "unimodal_bert_valid_split_3 = iemocap1_bert_features\n",
    "unimodal_bert_test_split_3 = iemocap2_bert_features\n",
    "\n",
    "# Split 4 Unimodal BERT\n",
    "unimodal_bert_train_split_4 = np.concatenate([iemocap4_bert_features, iemocap5_bert_features, iemocap1_bert_features], axis=0)\n",
    "unimodal_bert_valid_split_4 = iemocap2_bert_features\n",
    "unimodal_bert_test_split_4 = iemocap3_bert_features\n",
    "\n",
    "# Split 5 Unimodal BERT\n",
    "unimodal_bert_train_split_5 = np.concatenate([iemocap5_bert_features, iemocap1_bert_features, iemocap2_bert_features], axis=0)\n",
    "unimodal_bert_valid_split_5 = iemocap3_bert_features\n",
    "unimodal_bert_test_split_5 = iemocap4_bert_features"
   ]
  },
  {
   "cell_type": "code",
   "execution_count": 13,
   "id": "544f9481",
   "metadata": {},
   "outputs": [
    {
     "data": {
      "text/html": [
       "<div>\n",
       "<style scoped>\n",
       "    .dataframe tbody tr th:only-of-type {\n",
       "        vertical-align: middle;\n",
       "    }\n",
       "\n",
       "    .dataframe tbody tr th {\n",
       "        vertical-align: top;\n",
       "    }\n",
       "\n",
       "    .dataframe thead th {\n",
       "        text-align: right;\n",
       "    }\n",
       "</style>\n",
       "<table border=\"1\" class=\"dataframe\">\n",
       "  <thead>\n",
       "    <tr style=\"text-align: right;\">\n",
       "      <th></th>\n",
       "      <th>Unnamed: 0</th>\n",
       "      <th>audio_file</th>\n",
       "      <th>acoustic_embedding</th>\n",
       "    </tr>\n",
       "  </thead>\n",
       "  <tbody>\n",
       "    <tr>\n",
       "      <th>0</th>\n",
       "      <td>0</td>\n",
       "      <td>Ses05F_impro01_F000</td>\n",
       "      <td>[0. 0. 0. 0. 0. 0. 0. 0. 0. 0. 0. 0. 0. 0. 0. ...</td>\n",
       "    </tr>\n",
       "    <tr>\n",
       "      <th>1</th>\n",
       "      <td>1</td>\n",
       "      <td>Ses05F_impro01_M000</td>\n",
       "      <td>[0. 0. 0. 0. 0. 0. 0. 0. 0. 0. 0. 0. 0. 0. 0. ...</td>\n",
       "    </tr>\n",
       "    <tr>\n",
       "      <th>2</th>\n",
       "      <td>2</td>\n",
       "      <td>Ses05F_impro01_F001</td>\n",
       "      <td>[0. 0. 0. 0. 0. 0. 0. 0. 0. 0. 0. 0. 0. 0. 0. ...</td>\n",
       "    </tr>\n",
       "    <tr>\n",
       "      <th>3</th>\n",
       "      <td>3</td>\n",
       "      <td>Ses05F_impro01_M001</td>\n",
       "      <td>[0. 0. 0. 0. 0. 0. 0. 0. 0. 0. 0. 0. 0. 0. 0. ...</td>\n",
       "    </tr>\n",
       "    <tr>\n",
       "      <th>4</th>\n",
       "      <td>4</td>\n",
       "      <td>Ses05F_impro01_F002</td>\n",
       "      <td>[0. 0. 0. 0. 0. 0. 0. 0. 0. 0. 0. 0. 0. 0. 0. ...</td>\n",
       "    </tr>\n",
       "    <tr>\n",
       "      <th>...</th>\n",
       "      <td>...</td>\n",
       "      <td>...</td>\n",
       "      <td>...</td>\n",
       "    </tr>\n",
       "    <tr>\n",
       "      <th>9371</th>\n",
       "      <td>1814</td>\n",
       "      <td>Ses01M_script03_2_F040</td>\n",
       "      <td>[0.         0.         0.         0.         0...</td>\n",
       "    </tr>\n",
       "    <tr>\n",
       "      <th>9372</th>\n",
       "      <td>1815</td>\n",
       "      <td>Ses01M_script03_2_M041</td>\n",
       "      <td>[0.         0.         0.         0.         0...</td>\n",
       "    </tr>\n",
       "    <tr>\n",
       "      <th>9373</th>\n",
       "      <td>1816</td>\n",
       "      <td>Ses01M_script03_2_F041</td>\n",
       "      <td>[0.         0.         0.         0.         0...</td>\n",
       "    </tr>\n",
       "    <tr>\n",
       "      <th>9374</th>\n",
       "      <td>1817</td>\n",
       "      <td>Ses01M_script03_2_M042</td>\n",
       "      <td>[0.         0.         0.         0.         0...</td>\n",
       "    </tr>\n",
       "    <tr>\n",
       "      <th>9375</th>\n",
       "      <td>1818</td>\n",
       "      <td>Ses01M_script03_2_M043</td>\n",
       "      <td>[0.         0.         0.         0.         0...</td>\n",
       "    </tr>\n",
       "  </tbody>\n",
       "</table>\n",
       "<p>9376 rows × 3 columns</p>\n",
       "</div>"
      ],
      "text/plain": [
       "      Unnamed: 0              audio_file  \\\n",
       "0              0     Ses05F_impro01_F000   \n",
       "1              1     Ses05F_impro01_M000   \n",
       "2              2     Ses05F_impro01_F001   \n",
       "3              3     Ses05F_impro01_M001   \n",
       "4              4     Ses05F_impro01_F002   \n",
       "...          ...                     ...   \n",
       "9371        1814  Ses01M_script03_2_F040   \n",
       "9372        1815  Ses01M_script03_2_M041   \n",
       "9373        1816  Ses01M_script03_2_F041   \n",
       "9374        1817  Ses01M_script03_2_M042   \n",
       "9375        1818  Ses01M_script03_2_M043   \n",
       "\n",
       "                                     acoustic_embedding  \n",
       "0     [0. 0. 0. 0. 0. 0. 0. 0. 0. 0. 0. 0. 0. 0. 0. ...  \n",
       "1     [0. 0. 0. 0. 0. 0. 0. 0. 0. 0. 0. 0. 0. 0. 0. ...  \n",
       "2     [0. 0. 0. 0. 0. 0. 0. 0. 0. 0. 0. 0. 0. 0. 0. ...  \n",
       "3     [0. 0. 0. 0. 0. 0. 0. 0. 0. 0. 0. 0. 0. 0. 0. ...  \n",
       "4     [0. 0. 0. 0. 0. 0. 0. 0. 0. 0. 0. 0. 0. 0. 0. ...  \n",
       "...                                                 ...  \n",
       "9371  [0.         0.         0.         0.         0...  \n",
       "9372  [0.         0.         0.         0.         0...  \n",
       "9373  [0.         0.         0.         0.         0...  \n",
       "9374  [0.         0.         0.         0.         0...  \n",
       "9375  [0.         0.         0.         0.         0...  \n",
       "\n",
       "[9376 rows x 3 columns]"
      ]
     },
     "execution_count": 13,
     "metadata": {},
     "output_type": "execute_result"
    }
   ],
   "source": [
    "# Read in acoustic features\n",
    "acoustic_feat_df = pd.read_csv('acoustic_embeddings.csv')\n",
    "acoustic_feat_df"
   ]
  },
  {
   "cell_type": "code",
   "execution_count": 14,
   "id": "a747caa1",
   "metadata": {},
   "outputs": [],
   "source": [
    "def get_numpy_embeddings_from_str_vectors(df):\n",
    "    res = []\n",
    "    for r in df.iterrows():\n",
    "        str_rep = r[1]['acoustic_embedding'].replace('\\n','').replace('[','').replace(']','').split()\n",
    "        vec = [float(x) for x in str_rep]\n",
    "        res.append(np.array(vec))\n",
    "    return np.array(res)"
   ]
  },
  {
   "cell_type": "code",
   "execution_count": 47,
   "id": "4cf86216",
   "metadata": {},
   "outputs": [],
   "source": [
    "iemocap1_merged = iemocap1.merge(acoustic_feat_df, how='inner', left_on='TURN', right_on='audio_file')\n",
    "iemocap2_merged = iemocap2.merge(acoustic_feat_df, how='inner', left_on='TURN', right_on='audio_file')\n",
    "iemocap3_merged = iemocap3.merge(acoustic_feat_df, how='inner', left_on='TURN', right_on='audio_file')\n",
    "iemocap4_merged = iemocap4.merge(acoustic_feat_df, how='inner', left_on='TURN', right_on='audio_file')\n",
    "iemocap5_merged = iemocap5.merge(acoustic_feat_df, how='inner', left_on='TURN', right_on='audio_file')"
   ]
  },
  {
   "cell_type": "code",
   "execution_count": 50,
   "id": "c1ccbb4f",
   "metadata": {},
   "outputs": [],
   "source": [
    "# CREATE OUR 5 TRAIN DATA SPLITS\n",
    "train_split_1 = pd.concat([iemocap1_merged, iemocap2_merged, iemocap3_merged])\n",
    "train_split_2 = pd.concat([iemocap2_merged, iemocap3_merged, iemocap4_merged])\n",
    "train_split_3 = pd.concat([iemocap3_merged, iemocap4_merged, iemocap5_merged])\n",
    "train_split_4 = pd.concat([iemocap4_merged, iemocap5_merged, iemocap1_merged])\n",
    "train_split_5 = pd.concat([iemocap5_merged, iemocap1_merged, iemocap2_merged])\n",
    "\n",
    "valid_split_1 = iemocap4_merged\n",
    "test_split_1 = iemocap5_merged\n",
    "\n",
    "valid_split_2 = iemocap5_merged\n",
    "test_split_2 = iemocap1_merged\n",
    "\n",
    "valid_split_3 = iemocap1_merged\n",
    "test_split_3 = iemocap2_merged\n",
    "\n",
    "valid_split_4 = iemocap2_merged\n",
    "test_split_4 = iemocap3_merged\n",
    "\n",
    "valid_split_5 = iemocap3_merged\n",
    "test_split_5 = iemocap4_merged"
   ]
  },
  {
   "cell_type": "code",
   "execution_count": 51,
   "id": "82d6caa2",
   "metadata": {},
   "outputs": [
    {
     "data": {
      "text/plain": [
       "5341"
      ]
     },
     "execution_count": 51,
     "metadata": {},
     "output_type": "execute_result"
    }
   ],
   "source": [
    "len(train_split_1)"
   ]
  },
  {
   "cell_type": "code",
   "execution_count": 15,
   "id": "bee4d8f3",
   "metadata": {},
   "outputs": [],
   "source": [
    "acoustic_feat_iemocap1 = get_numpy_embeddings_from_str_vectors(iemocap1.merge(acoustic_feat_df, how='inner', left_on='TURN', right_on='audio_file'))\n",
    "acoustic_feat_iemocap2 = get_numpy_embeddings_from_str_vectors(iemocap2.merge(acoustic_feat_df, how='inner', left_on='TURN', right_on='audio_file'))\n",
    "acoustic_feat_iemocap3 = get_numpy_embeddings_from_str_vectors(iemocap3.merge(acoustic_feat_df, how='inner', left_on='TURN', right_on='audio_file'))\n",
    "acoustic_feat_iemocap4 = get_numpy_embeddings_from_str_vectors(iemocap4.merge(acoustic_feat_df, how='inner', left_on='TURN', right_on='audio_file'))\n",
    "acoustic_feat_iemocap5 = get_numpy_embeddings_from_str_vectors(iemocap5.merge(acoustic_feat_df, how='inner', left_on='TURN', right_on='audio_file'))"
   ]
  },
  {
   "cell_type": "code",
   "execution_count": 16,
   "id": "c6e3412e",
   "metadata": {},
   "outputs": [
    {
     "data": {
      "text/plain": [
       "array([[0.        , 0.        , 0.        , ..., 0.        , 0.        ,\n",
       "        3.813972  ],\n",
       "       [0.        , 0.        , 0.        , ..., 0.        , 0.        ,\n",
       "        0.14972006],\n",
       "       [0.        , 0.        , 0.        , ..., 0.        , 0.        ,\n",
       "        3.3523436 ],\n",
       "       ...,\n",
       "       [0.        , 0.        , 0.        , ..., 0.        , 0.        ,\n",
       "        0.14972006],\n",
       "       [0.        , 0.        , 0.        , ..., 0.        , 0.        ,\n",
       "        0.14972006],\n",
       "       [0.        , 0.        , 0.        , ..., 0.        , 0.        ,\n",
       "        0.14972006]])"
      ]
     },
     "execution_count": 16,
     "metadata": {},
     "output_type": "execute_result"
    }
   ],
   "source": [
    "acoustic_feat_iemocap1"
   ]
  },
  {
   "cell_type": "code",
   "execution_count": 17,
   "id": "6d63d2be",
   "metadata": {},
   "outputs": [],
   "source": [
    "import numpy as np\n",
    "\n",
    "# Split 1 ACOUSTIC\n",
    "acoustic_train_split_1 = np.concatenate([acoustic_feat_iemocap1, acoustic_feat_iemocap2, acoustic_feat_iemocap3], axis=0)\n",
    "acoustic_valid_split_1 = acoustic_feat_iemocap4\n",
    "acoustic_test_split_1 = acoustic_feat_iemocap5\n",
    "    \n",
    "# Split 2 ACOUSTIC\n",
    "acoustic_train_split_2 = np.concatenate([acoustic_feat_iemocap2, acoustic_feat_iemocap3, acoustic_feat_iemocap4], axis=0)\n",
    "acoustic_valid_split_2 = acoustic_feat_iemocap5\n",
    "acoustic_test_split_2 = acoustic_feat_iemocap1\n",
    "\n",
    "# Split 3 ACOUSTIC\n",
    "acoustic_train_split_3 = np.concatenate([acoustic_feat_iemocap3, acoustic_feat_iemocap4, acoustic_feat_iemocap5], axis=0)\n",
    "acoustic_valid_split_3 = acoustic_feat_iemocap1\n",
    "acoustic_test_split_3 = acoustic_feat_iemocap2\n",
    "\n",
    "# Split 4 ACOUSTIC\n",
    "acoustic_train_split_4 = np.concatenate([acoustic_feat_iemocap4, acoustic_feat_iemocap5, acoustic_feat_iemocap1], axis=0)\n",
    "acoustic_valid_split_4 = acoustic_feat_iemocap2\n",
    "acoustic_test_split_4 = acoustic_feat_iemocap3\n",
    "\n",
    "# Split 5 ACOUSTIC\n",
    "acoustic_train_split_5 = np.concatenate([acoustic_feat_iemocap5, acoustic_feat_iemocap1, acoustic_feat_iemocap2], axis=0)\n",
    "acoustic_valid_split_5 = acoustic_feat_iemocap3\n",
    "acoustic_test_split_5 = acoustic_feat_iemocap4\n",
    "\n",
    "# FULL LISTS\n",
    "acoustic_train_splits = [acoustic_train_split_1, acoustic_train_split_2, acoustic_train_split_3, acoustic_train_split_4, acoustic_train_split_5]\n",
    "acoustic_valid_splits = [acoustic_valid_split_1, acoustic_valid_split_2, acoustic_valid_split_3, acoustic_valid_split_4, acoustic_valid_split_5]\n",
    "acoustic_test_splits = [acoustic_test_split_1, acoustic_test_split_2, acoustic_test_split_3, acoustic_test_split_4, acoustic_test_split_5]\n"
   ]
  },
  {
   "cell_type": "code",
   "execution_count": 18,
   "id": "4a4e597d",
   "metadata": {},
   "outputs": [
    {
     "data": {
      "text/plain": [
       "array([[ 0.13593218,  0.25189534, -0.09371963, ...,  0.01768046,\n",
       "        -0.1180291 , -0.29474685],\n",
       "       [ 0.29623467,  0.13712762,  0.19851115, ...,  0.29339835,\n",
       "         0.12679285,  0.07483217],\n",
       "       [-0.32706037, -0.01159372, -0.0164483 , ..., -0.02444044,\n",
       "        -0.04489856, -0.11471435],\n",
       "       ...,\n",
       "       [ 0.27807465,  0.13579798, -0.09710051, ...,  0.13515592,\n",
       "         0.1549896 , -0.09676376],\n",
       "       [-0.4587921 ,  0.13971102, -0.04750163, ...,  0.07599118,\n",
       "         0.40137768, -0.08336773],\n",
       "       [-0.2814192 ,  0.18770644, -0.06917511, ...,  0.05936834,\n",
       "        -0.2707988 ,  0.2492704 ]], dtype=float32)"
      ]
     },
     "execution_count": 18,
     "metadata": {},
     "output_type": "execute_result"
    }
   ],
   "source": [
    "unimodal_bert_train_split_1"
   ]
  },
  {
   "cell_type": "code",
   "execution_count": 19,
   "id": "f180d872",
   "metadata": {},
   "outputs": [],
   "source": [
    "# Load Glove Embeddings\n",
    "from glove_embeddings import *\n",
    "\n",
    "# Load individual iemocap glove embeddings\n",
    "iemocap1_glove = load_glove_embedding_matrix('glove_embedding_iemocap_1.pickle')\n",
    "iemocap2_glove = load_glove_embedding_matrix('glove_embedding_iemocap_2.pickle')\n",
    "iemocap3_glove = load_glove_embedding_matrix('glove_embedding_iemocap_3.pickle')\n",
    "iemocap4_glove = load_glove_embedding_matrix('glove_embedding_iemocap_4.pickle')\n",
    "iemocap5_glove = load_glove_embedding_matrix('glove_embedding_iemocap_5.pickle')\n",
    "\n",
    "# Load combined glove embeddings\n",
    "iemocap_train_split_1_glove = load_glove_embedding_matrix('glove_embedding_iemocap_split_1.pickle')\n",
    "iemocap_train_split_2_glove = load_glove_embedding_matrix('glove_embedding_iemocap_split_2.pickle')\n",
    "iemocap_train_split_3_glove = load_glove_embedding_matrix('glove_embedding_iemocap_split_3.pickle')\n",
    "iemocap_train_split_4_glove = load_glove_embedding_matrix('glove_embedding_iemocap_split_4.pickle')\n",
    "iemocap_train_split_5_glove = load_glove_embedding_matrix('glove_embedding_iemocap_split_5.pickle')"
   ]
  },
  {
   "cell_type": "code",
   "execution_count": 57,
   "id": "cc6199c5",
   "metadata": {},
   "outputs": [
    {
     "name": "stdout",
     "output_type": "stream",
     "text": [
      "Creating glove features for split 0\n",
      "5341\n",
      "Creating glove features for split 1\n",
      "5387\n",
      "Creating glove features for split 2\n",
      "5795\n",
      "Creating glove features for split 3\n",
      "5854\n",
      "Creating glove features for split 4\n",
      "5751\n"
     ]
    }
   ],
   "source": [
    "from keras import Sequential\n",
    "from keras.layers import Dense, Flatten\n",
    "\n",
    "def create_glove_embedded_vectors_for_split(embedding_matrix, train_split, valid_split, test_split):\n",
    "    vectorizer = create_text_vectorizer_for_train_samples(train_split)\n",
    "    num_tokens_voc = len(vectorizer.get_vocabulary())\n",
    "    x_train = vectorizer(np.array([[s] for s in train_split['UTTERANCE']])).numpy()\n",
    "    x_valid = vectorizer(np.array([[s] for s in valid_split['UTTERANCE']])).numpy()\n",
    "    x_test = vectorizer(np.array([[s] for s in test_split['UTTERANCE']])).numpy()\n",
    "            \n",
    "    embedding_model = Sequential()\n",
    "    embedding_layer = create_glove_embedding_layer_for_matrix(embedding_matrix, num_tokens_voc)\n",
    "    embedding_model.add(embedding_layer)\n",
    "    embedding_model.add(Flatten())\n",
    "    \n",
    "    x_train_vectors = embedding_model.predict(x_train)\n",
    "    x_valid_vectors = embedding_model.predict(x_valid)\n",
    "    x_test_vectors = embedding_model.predict(x_test)\n",
    "    \n",
    "    return x_train_vectors, x_valid_vectors, x_test_vectors\n",
    "\n",
    "glove_train_embedding_matrices = [iemocap_train_split_1_glove, iemocap_train_split_2_glove, iemocap_train_split_3_glove, iemocap_train_split_4_glove, iemocap_train_split_5_glove]\n",
    "x_train_list= [train_split_1, train_split_2, train_split_3, train_split_4, train_split_5]\n",
    "x_valid_list = [valid_split_1, valid_split_2, valid_split_3, valid_split_4, valid_split_5]\n",
    "x_test_list = [test_split_1, test_split_2, test_split_3, test_split_4, test_split_5]\n",
    "\n",
    "glove_train_features = []\n",
    "glove_valid_features = []\n",
    "glove_test_features = []\n",
    "    \n",
    "for i in range(5):\n",
    "    print(f\"Creating glove features for split {i}\")\n",
    "    \n",
    "    embedding_matrix = glove_train_embedding_matrices[i]\n",
    "    train_split = x_train_list[i]\n",
    "    print(len(train_split))\n",
    "    valid_split = x_valid_list[i]\n",
    "    test_split = x_test_list[i]\n",
    "    \n",
    "    x_train_vectors, x_valid_vectors, x_test_vectors = create_glove_embedded_vectors_for_split(embedding_matrix, train_split, valid_split, test_split)\n",
    "    glove_train_features.append(x_train_vectors)\n",
    "    glove_valid_features.append(x_valid_vectors)\n",
    "    glove_test_features.append(x_test_vectors)\n",
    "    "
   ]
  },
  {
   "cell_type": "code",
   "execution_count": 58,
   "id": "2aa07a21",
   "metadata": {},
   "outputs": [
    {
     "name": "stdout",
     "output_type": "stream",
     "text": [
      "5341\n",
      "5387\n"
     ]
    }
   ],
   "source": [
    "print(len(glove_train_features[0]))\n",
    "print(len(glove_train_features[1]))"
   ]
  },
  {
   "cell_type": "code",
   "execution_count": 68,
   "id": "5d7fe0f3",
   "metadata": {},
   "outputs": [],
   "source": [
    "# Train feature list\n",
    "bert_train_features = [unimodal_bert_train_split_1,unimodal_bert_train_split_2, unimodal_bert_train_split_3, unimodal_bert_train_split_4, unimodal_bert_train_split_5]\n",
    "\n",
    "# Valid feature list\n",
    "bert_valid_features = [unimodal_bert_valid_split_1, unimodal_bert_valid_split_2, unimodal_bert_valid_split_3, unimodal_bert_valid_split_4, unimodal_bert_valid_split_5]\n",
    "\n",
    "# Test feature list\n",
    "bert_test_features = [unimodal_bert_test_split_1, unimodal_bert_test_split_2, unimodal_bert_test_split_3, unimodal_bert_test_split_4, unimodal_bert_test_split_5]"
   ]
  },
  {
   "cell_type": "code",
   "execution_count": 69,
   "id": "aaee6eda",
   "metadata": {},
   "outputs": [],
   "source": [
    "from keras import layers, Input, Model, Sequential\n",
    "from keras.callbacks import EarlyStopping\n",
    "import tensorflow as tf\n",
    "\n",
    "def train_multi_modal_lstm(x_train_text_feat, x_train_acous_feat, x_valid_text_feat, x_valid_acous_feat, \n",
    "                          y_train, y_valid):\n",
    "    # Step 1 Merge acoustic and text features\n",
    "    x_train_combined = np.concatenate([x_train_text_feat, x_train_acous_feat], axis=1)\n",
    "    x_valid_combined = np.concatenate([x_valid_text_feat, x_valid_acous_feat], axis=1)\n",
    "    num_dims = x_train_combined.shape[1]\n",
    "    print(num_dims)\n",
    "    \n",
    "    # Step 2 Reshape for tensors\n",
    "    x_train_combined = x_train_combined.reshape(-1, 1, num_dims)\n",
    "    x_valid_combined = x_valid_combined.reshape(-1, 1, num_dims)\n",
    "    \n",
    "    # Step 3 Create Train and Valid Dataset objects\n",
    "    train_dataset = tf.data.Dataset.from_tensor_slices((x_train_combined, y_train)).batch(128)\n",
    "    valid_dataset = tf.data.Dataset.from_tensor_slices((x_valid_combined, y_valid)).batch(128)\n",
    "    \n",
    "    # Step 4 Create the LSTM\n",
    "    #callback = EarlyStopping(monitor='val_loss', patience=3)\n",
    "    \n",
    "    model = Sequential()\n",
    "    model.add(layers.InputLayer(input_shape=(1,num_dims)))\n",
    "    model.add(layers.Bidirectional(layers.LSTM(20, return_sequences=True)))\n",
    "    model.add(layers.Bidirectional(layers.LSTM(20)))\n",
    "    \n",
    "    model.add(layers.Dense(y_train.shape[1], activation=\"softmax\"))\n",
    "    model.compile(loss='categorical_crossentropy', optimizer='adam', metrics=[\"acc\"])\n",
    "    #model.fit(train_dataset, batch_size=128, epochs=100, validation_data=valid_dataset,\n",
    "     #             callbacks=[callback])\n",
    "    model.fit(train_dataset, batch_size=128, epochs=15, validation_data=valid_dataset)\n",
    "    return model\n",
    "    "
   ]
  },
  {
   "cell_type": "code",
   "execution_count": 60,
   "id": "7bf6d050",
   "metadata": {},
   "outputs": [
    {
     "name": "stdout",
     "output_type": "stream",
     "text": [
      "90128\n",
      "Epoch 1/100\n",
      "42/42 [==============================] - 15s 230ms/step - loss: 2.0861 - acc: 0.2456 - val_loss: 1.8611 - val_acc: 0.3292\n",
      "Epoch 2/100\n",
      "42/42 [==============================] - 8s 198ms/step - loss: 1.7646 - acc: 0.4031 - val_loss: 1.6684 - val_acc: 0.4466\n",
      "Epoch 3/100\n",
      "42/42 [==============================] - 8s 185ms/step - loss: 1.4784 - acc: 0.5387 - val_loss: 1.5095 - val_acc: 0.4826\n",
      "Epoch 4/100\n",
      "42/42 [==============================] - 8s 181ms/step - loss: 1.1856 - acc: 0.6364 - val_loss: 1.4474 - val_acc: 0.5040\n",
      "Epoch 5/100\n",
      "42/42 [==============================] - 7s 178ms/step - loss: 0.9575 - acc: 0.7255 - val_loss: 1.4510 - val_acc: 0.5244\n",
      "Epoch 6/100\n",
      "42/42 [==============================] - 7s 178ms/step - loss: 0.7954 - acc: 0.7813 - val_loss: 1.4499 - val_acc: 0.5410\n",
      "Epoch 7/100\n",
      "42/42 [==============================] - 7s 178ms/step - loss: 0.6791 - acc: 0.8184 - val_loss: 1.4978 - val_acc: 0.5416\n"
     ]
    },
    {
     "data": {
      "text/plain": [
       "<keras.engine.sequential.Sequential at 0x131fd58b0>"
      ]
     },
     "execution_count": 60,
     "metadata": {},
     "output_type": "execute_result"
    }
   ],
   "source": [
    "from data_preprocess import *\n",
    "\n",
    "y_train = convert_da_labels_to_categorical(train_split_1_da_labels)\n",
    "y_valid =  convert_da_labels_to_categorical(valid_split_1_da_labels)\n",
    "\n",
    "train_multi_modal_lstm(glove_train_features[0], acoustic_train_split_1, glove_valid_features[0], acoustic_valid_split_1, \n",
    "                          y_train, y_valid)"
   ]
  },
  {
   "cell_type": "code",
   "execution_count": null,
   "id": "12714c68",
   "metadata": {},
   "outputs": [],
   "source": [
    "from data_preprocess import *\n",
    "\n",
    "y_train = convert_da_labels_to_categorical(train_split_1_da_labels)\n",
    "y_valid =  convert_da_labels_to_categorical(valid_split_1_da_labels)\n",
    "\n",
    "train_multi_modal_lstm(unimodal_bert_train_split_1, acoustic_train_split_1, unimodal_bert_valid_split_1, acoustic_valid_split_1, \n",
    "                          y_train, y_valid)"
   ]
  },
  {
   "cell_type": "code",
   "execution_count": 70,
   "id": "3df8fb27",
   "metadata": {},
   "outputs": [],
   "source": [
    "from data_preprocess import *\n",
    "import numpy as np\n",
    "\n",
    "train_split_da_labels = [train_split_1_da_labels, train_split_2_da_labels, train_split_3_da_labels, train_split_4_da_labels, train_split_5_da_labels]\n",
    "valid_split_da_labels = [valid_split_1_da_labels, valid_split_2_da_labels, valid_split_3_da_labels, valid_split_4_da_labels, valid_split_5_da_labels]\n",
    "x_train_list= [train_split_1, train_split_2, train_split_3, train_split_4, train_split_5]\n",
    "x_valid_list = [valid_split_1, valid_split_2, valid_split_3, valid_split_4, valid_split_5]\n",
    "x_test_list = [test_split_1, test_split_2, test_split_3, test_split_4, test_split_5]\n",
    "def train_five_multimodal_models(text_feat_type):\n",
    "    print(f\"Training models with {text_feat_type} text features and acoustic features\")\n",
    "    # Pick text features set\n",
    "    text_train_feat_list = []\n",
    "    text_valid_feat_list = []\n",
    "    if text_feat_type == 'BERT':\n",
    "        text_train_feat_list = bert_train_features\n",
    "        text_valid_feat_list = bert_valid_features\n",
    "    elif text_feat_type == 'GLOVE':\n",
    "        text_train_feat_list = glove_train_features\n",
    "        text_valid_feat_list = glove_valid_features\n",
    "    else:\n",
    "        raise ValueError(f\"Incorrect text feature type {text_feat_type}\")\n",
    "    \n",
    "    train_size = len(text_train_feat_list)\n",
    "    valid_size = len(text_valid_feat_list)\n",
    "    \n",
    "    # Train 5 models\n",
    "    mm_models_list = []\n",
    "    \n",
    "    for i in range(5):\n",
    "        x_train_text_feat = text_train_feat_list[i]\n",
    "        x_valid_text_feat = text_valid_feat_list[i]\n",
    "        train_split = x_train_list[i]\n",
    "        valid_split = x_valid_list[i]\n",
    "        \n",
    "        x_train_acous_feat = acoustic_train_splits[i]\n",
    "        x_valid_acous_feat = acoustic_valid_splits[i]\n",
    "        \n",
    "        # Convert DA labels to categorical values\n",
    "        train_labels = train_split_da_labels[i]\n",
    "        valid_labels = valid_split_da_labels[i]\n",
    "        \n",
    "        y_train = convert_da_labels_to_categorical(train_labels)\n",
    "        y_valid =  convert_da_labels_to_categorical(valid_labels)\n",
    "        \n",
    "        print(f\"Training model {i}\") \n",
    "        model = train_multi_modal_lstm(x_train_text_feat, x_train_acous_feat, x_valid_text_feat, x_valid_acous_feat, \n",
    "                              y_train, y_valid)\n",
    "        mm_models_list.append(model)\n",
    "    \n",
    "    return mm_models_list\n",
    "        "
   ]
  },
  {
   "cell_type": "code",
   "execution_count": 71,
   "id": "97757738",
   "metadata": {},
   "outputs": [
    {
     "name": "stdout",
     "output_type": "stream",
     "text": [
      "Training models with BERT text features and acoustic features\n",
      "Training model 0\n",
      "428\n",
      "Epoch 1/15\n",
      "42/42 [==============================] - 13s 79ms/step - loss: 2.1804 - acc: 0.2309 - val_loss: 1.9018 - val_acc: 0.2547\n",
      "Epoch 2/15\n",
      "42/42 [==============================] - 0s 7ms/step - loss: 1.8186 - acc: 0.4046 - val_loss: 1.6954 - val_acc: 0.3930\n",
      "Epoch 3/15\n",
      "42/42 [==============================] - 0s 10ms/step - loss: 1.5284 - acc: 0.4705 - val_loss: 1.5560 - val_acc: 0.4450\n",
      "Epoch 4/15\n",
      "42/42 [==============================] - 0s 8ms/step - loss: 1.3856 - acc: 0.5199 - val_loss: 1.4835 - val_acc: 0.4681\n",
      "Epoch 5/15\n",
      "42/42 [==============================] - 0s 9ms/step - loss: 1.2938 - acc: 0.5478 - val_loss: 1.4554 - val_acc: 0.4627\n",
      "Epoch 6/15\n",
      "42/42 [==============================] - 0s 8ms/step - loss: 1.2286 - acc: 0.5724 - val_loss: 1.4501 - val_acc: 0.4633\n",
      "Epoch 7/15\n",
      "42/42 [==============================] - 0s 7ms/step - loss: 1.1776 - acc: 0.5902 - val_loss: 1.4322 - val_acc: 0.4713\n",
      "Epoch 8/15\n",
      "42/42 [==============================] - 0s 10ms/step - loss: 1.1407 - acc: 0.5990 - val_loss: 1.4601 - val_acc: 0.4627\n",
      "Epoch 9/15\n",
      "42/42 [==============================] - 0s 8ms/step - loss: 1.1123 - acc: 0.6064 - val_loss: 1.4926 - val_acc: 0.4574\n",
      "Epoch 10/15\n",
      "42/42 [==============================] - 0s 11ms/step - loss: 1.0826 - acc: 0.6081 - val_loss: 1.5667 - val_acc: 0.4268\n",
      "Epoch 11/15\n",
      "42/42 [==============================] - 0s 7ms/step - loss: 1.0520 - acc: 0.6224 - val_loss: 1.5527 - val_acc: 0.4322\n",
      "Epoch 12/15\n",
      "42/42 [==============================] - 0s 9ms/step - loss: 1.0203 - acc: 0.6310 - val_loss: 1.5756 - val_acc: 0.4252\n",
      "Epoch 13/15\n",
      "42/42 [==============================] - 0s 8ms/step - loss: 0.9938 - acc: 0.6435 - val_loss: 1.5611 - val_acc: 0.4300\n",
      "Epoch 14/15\n",
      "42/42 [==============================] - 0s 7ms/step - loss: 0.9668 - acc: 0.6527 - val_loss: 1.5956 - val_acc: 0.4214\n",
      "Epoch 15/15\n",
      "42/42 [==============================] - 0s 8ms/step - loss: 0.9447 - acc: 0.6585 - val_loss: 1.5863 - val_acc: 0.4290\n",
      "Training model 1\n",
      "428\n",
      "Epoch 1/15\n",
      "43/43 [==============================] - 13s 75ms/step - loss: 2.1873 - acc: 0.2252 - val_loss: 1.9307 - val_acc: 0.2074\n",
      "Epoch 2/15\n",
      "43/43 [==============================] - 0s 7ms/step - loss: 1.7900 - acc: 0.3934 - val_loss: 1.6083 - val_acc: 0.4429\n",
      "Epoch 3/15\n",
      "43/43 [==============================] - 0s 8ms/step - loss: 1.5297 - acc: 0.4754 - val_loss: 1.4486 - val_acc: 0.4733\n",
      "Epoch 4/15\n",
      "43/43 [==============================] - 0s 8ms/step - loss: 1.4106 - acc: 0.5136 - val_loss: 1.3753 - val_acc: 0.5018\n",
      "Epoch 5/15\n",
      "43/43 [==============================] - 0s 8ms/step - loss: 1.3353 - acc: 0.5417 - val_loss: 1.3233 - val_acc: 0.5212\n",
      "Epoch 6/15\n",
      "43/43 [==============================] - 0s 8ms/step - loss: 1.2792 - acc: 0.5625 - val_loss: 1.2788 - val_acc: 0.5396\n",
      "Epoch 7/15\n",
      "43/43 [==============================] - 0s 7ms/step - loss: 1.2396 - acc: 0.5714 - val_loss: 1.2484 - val_acc: 0.5452\n",
      "Epoch 8/15\n",
      "43/43 [==============================] - 0s 8ms/step - loss: 1.2095 - acc: 0.5758 - val_loss: 1.2383 - val_acc: 0.5493\n",
      "Epoch 9/15\n",
      "43/43 [==============================] - 0s 7ms/step - loss: 1.1861 - acc: 0.5799 - val_loss: 1.2186 - val_acc: 0.5530\n",
      "Epoch 10/15\n",
      "43/43 [==============================] - 0s 8ms/step - loss: 1.1533 - acc: 0.5896 - val_loss: 1.1992 - val_acc: 0.5585\n",
      "Epoch 11/15\n",
      "43/43 [==============================] - 0s 7ms/step - loss: 1.1139 - acc: 0.6066 - val_loss: 1.1795 - val_acc: 0.5622\n",
      "Epoch 12/15\n",
      "43/43 [==============================] - 0s 8ms/step - loss: 1.0771 - acc: 0.6213 - val_loss: 1.1550 - val_acc: 0.5783\n",
      "Epoch 13/15\n",
      "43/43 [==============================] - 0s 6ms/step - loss: 1.0463 - acc: 0.6343 - val_loss: 1.1327 - val_acc: 0.5825\n",
      "Epoch 14/15\n",
      "43/43 [==============================] - 0s 8ms/step - loss: 1.0214 - acc: 0.6453 - val_loss: 1.1175 - val_acc: 0.5889\n",
      "Epoch 15/15\n",
      "43/43 [==============================] - 0s 8ms/step - loss: 0.9970 - acc: 0.6525 - val_loss: 1.1072 - val_acc: 0.5926\n",
      "Training model 2\n",
      "428\n",
      "Epoch 1/15\n",
      "46/46 [==============================] - 12s 63ms/step - loss: 2.1486 - acc: 0.3094 - val_loss: 1.9621 - val_acc: 0.3744\n",
      "Epoch 2/15\n",
      "46/46 [==============================] - 1s 11ms/step - loss: 1.7816 - acc: 0.4060 - val_loss: 1.6737 - val_acc: 0.4404\n",
      "Epoch 3/15\n",
      "46/46 [==============================] - 1s 11ms/step - loss: 1.5277 - acc: 0.4575 - val_loss: 1.5091 - val_acc: 0.4607\n",
      "Epoch 4/15\n",
      "46/46 [==============================] - 0s 8ms/step - loss: 1.4153 - acc: 0.4890 - val_loss: 1.4302 - val_acc: 0.4810\n",
      "Epoch 5/15\n",
      "46/46 [==============================] - 0s 7ms/step - loss: 1.3349 - acc: 0.5194 - val_loss: 1.3631 - val_acc: 0.5096\n",
      "Epoch 6/15\n",
      "46/46 [==============================] - 0s 8ms/step - loss: 1.2634 - acc: 0.5498 - val_loss: 1.3165 - val_acc: 0.5278\n",
      "Epoch 7/15\n",
      "46/46 [==============================] - 0s 11ms/step - loss: 1.2080 - acc: 0.5684 - val_loss: 1.2913 - val_acc: 0.5371\n",
      "Epoch 8/15\n",
      "46/46 [==============================] - 0s 7ms/step - loss: 1.1625 - acc: 0.5850 - val_loss: 1.2807 - val_acc: 0.5366\n",
      "Epoch 9/15\n",
      "46/46 [==============================] - 0s 8ms/step - loss: 1.1230 - acc: 0.6026 - val_loss: 1.2713 - val_acc: 0.5366\n",
      "Epoch 10/15\n",
      "46/46 [==============================] - 1s 11ms/step - loss: 1.0891 - acc: 0.6102 - val_loss: 1.2675 - val_acc: 0.5388\n",
      "Epoch 11/15\n",
      "46/46 [==============================] - 0s 9ms/step - loss: 1.0600 - acc: 0.6214 - val_loss: 1.2661 - val_acc: 0.5366\n",
      "Epoch 12/15\n",
      "46/46 [==============================] - 0s 10ms/step - loss: 1.0355 - acc: 0.6274 - val_loss: 1.2677 - val_acc: 0.5366\n",
      "Epoch 13/15\n",
      "46/46 [==============================] - 0s 9ms/step - loss: 1.0149 - acc: 0.6368 - val_loss: 1.2659 - val_acc: 0.5388\n",
      "Epoch 14/15\n",
      "46/46 [==============================] - 0s 10ms/step - loss: 1.0001 - acc: 0.6397 - val_loss: 1.2605 - val_acc: 0.5399\n",
      "Epoch 15/15\n",
      "46/46 [==============================] - 0s 9ms/step - loss: 0.9830 - acc: 0.6449 - val_loss: 1.2539 - val_acc: 0.5437\n",
      "Training model 3\n",
      "428\n",
      "Epoch 1/15\n",
      "46/46 [==============================] - 15s 84ms/step - loss: 2.2034 - acc: 0.2222 - val_loss: 1.9462 - val_acc: 0.3280\n",
      "Epoch 2/15\n",
      "46/46 [==============================] - 0s 9ms/step - loss: 1.7213 - acc: 0.4067 - val_loss: 1.5629 - val_acc: 0.4762\n",
      "Epoch 3/15\n",
      "46/46 [==============================] - 0s 9ms/step - loss: 1.4667 - acc: 0.4646 - val_loss: 1.4396 - val_acc: 0.4983\n",
      "Epoch 4/15\n",
      "46/46 [==============================] - 0s 8ms/step - loss: 1.3657 - acc: 0.5132 - val_loss: 1.3733 - val_acc: 0.5176\n",
      "Epoch 5/15\n",
      "46/46 [==============================] - 0s 9ms/step - loss: 1.2908 - acc: 0.5444 - val_loss: 1.3187 - val_acc: 0.5460\n",
      "Epoch 6/15\n",
      "46/46 [==============================] - 0s 9ms/step - loss: 1.2324 - acc: 0.5678 - val_loss: 1.2740 - val_acc: 0.5653\n",
      "Epoch 7/15\n",
      "46/46 [==============================] - 0s 9ms/step - loss: 1.1862 - acc: 0.5820 - val_loss: 1.2402 - val_acc: 0.5778\n",
      "Epoch 8/15\n",
      "46/46 [==============================] - 0s 8ms/step - loss: 1.1439 - acc: 0.5981 - val_loss: 1.2133 - val_acc: 0.5874\n",
      "Epoch 9/15\n",
      "46/46 [==============================] - 0s 9ms/step - loss: 1.1023 - acc: 0.6097 - val_loss: 1.1913 - val_acc: 0.5942\n",
      "Epoch 10/15\n",
      "46/46 [==============================] - 0s 7ms/step - loss: 1.0684 - acc: 0.6184 - val_loss: 1.1699 - val_acc: 0.6056\n",
      "Epoch 11/15\n",
      "46/46 [==============================] - 0s 8ms/step - loss: 1.0426 - acc: 0.6271 - val_loss: 1.1479 - val_acc: 0.6169\n",
      "Epoch 12/15\n",
      "46/46 [==============================] - 0s 7ms/step - loss: 1.0231 - acc: 0.6338 - val_loss: 1.1321 - val_acc: 0.6198\n",
      "Epoch 13/15\n",
      "46/46 [==============================] - 0s 7ms/step - loss: 1.0070 - acc: 0.6389 - val_loss: 1.1219 - val_acc: 0.6232\n",
      "Epoch 14/15\n",
      "46/46 [==============================] - 0s 9ms/step - loss: 0.9858 - acc: 0.6466 - val_loss: 1.1115 - val_acc: 0.6249\n",
      "Epoch 15/15\n",
      "46/46 [==============================] - 0s 8ms/step - loss: 0.9650 - acc: 0.6537 - val_loss: 1.1080 - val_acc: 0.6146\n",
      "Training model 4\n",
      "428\n",
      "Epoch 1/15\n",
      "45/45 [==============================] - 13s 60ms/step - loss: 2.2152 - acc: 0.2360 - val_loss: 1.9459 - val_acc: 0.4045\n",
      "Epoch 2/15\n"
     ]
    },
    {
     "name": "stdout",
     "output_type": "stream",
     "text": [
      "45/45 [==============================] - 0s 7ms/step - loss: 1.8290 - acc: 0.4279 - val_loss: 1.6743 - val_acc: 0.4608\n",
      "Epoch 3/15\n",
      "45/45 [==============================] - 0s 9ms/step - loss: 1.5278 - acc: 0.4843 - val_loss: 1.4439 - val_acc: 0.5085\n",
      "Epoch 4/15\n",
      "45/45 [==============================] - 0s 7ms/step - loss: 1.3712 - acc: 0.5190 - val_loss: 1.3497 - val_acc: 0.5256\n",
      "Epoch 5/15\n",
      "45/45 [==============================] - 0s 9ms/step - loss: 1.2834 - acc: 0.5448 - val_loss: 1.2889 - val_acc: 0.5472\n",
      "Epoch 6/15\n",
      "45/45 [==============================] - 0s 7ms/step - loss: 1.2179 - acc: 0.5785 - val_loss: 1.2514 - val_acc: 0.5676\n",
      "Epoch 7/15\n",
      "45/45 [==============================] - 0s 7ms/step - loss: 1.1663 - acc: 0.5957 - val_loss: 1.2263 - val_acc: 0.5761\n",
      "Epoch 8/15\n",
      "45/45 [==============================] - 0s 9ms/step - loss: 1.1298 - acc: 0.6084 - val_loss: 1.2214 - val_acc: 0.5750\n",
      "Epoch 9/15\n",
      "45/45 [==============================] - 0s 8ms/step - loss: 1.1040 - acc: 0.6129 - val_loss: 1.2464 - val_acc: 0.5705\n",
      "Epoch 10/15\n",
      "45/45 [==============================] - 0s 8ms/step - loss: 1.0756 - acc: 0.6190 - val_loss: 1.2700 - val_acc: 0.5585\n",
      "Epoch 11/15\n",
      "45/45 [==============================] - 0s 8ms/step - loss: 1.0409 - acc: 0.6336 - val_loss: 1.2439 - val_acc: 0.5659\n",
      "Epoch 12/15\n",
      "45/45 [==============================] - 0s 8ms/step - loss: 1.0150 - acc: 0.6420 - val_loss: 1.2345 - val_acc: 0.5585\n",
      "Epoch 13/15\n",
      "45/45 [==============================] - 0s 8ms/step - loss: 0.9970 - acc: 0.6449 - val_loss: 1.2514 - val_acc: 0.5517\n",
      "Epoch 14/15\n",
      "45/45 [==============================] - 0s 9ms/step - loss: 0.9846 - acc: 0.6446 - val_loss: 1.2608 - val_acc: 0.5449\n",
      "Epoch 15/15\n",
      "45/45 [==============================] - 0s 9ms/step - loss: 0.9803 - acc: 0.6418 - val_loss: 1.2219 - val_acc: 0.5545\n"
     ]
    }
   ],
   "source": [
    "bert_model_list = train_five_multimodal_models('BERT')"
   ]
  },
  {
   "cell_type": "code",
   "execution_count": 72,
   "id": "05e690e7",
   "metadata": {},
   "outputs": [],
   "source": [
    "from evaluate_results import *\n",
    "from sklearn.metrics import precision_score, recall_score, accuracy_score\n",
    "import pandas as pd\n",
    "\n",
    "test_split_da_labels = [test_split_1_da_labels, test_split_2_da_labels, test_split_3_da_labels, test_split_4_da_labels, test_split_5_da_labels]\n",
    "x_bert_test_list = [unimodal_bert_test_split_1, unimodal_bert_test_split_2, unimodal_bert_test_split_3, unimodal_bert_test_split_4, unimodal_bert_test_split_5]\n",
    "y_test_list = [test_split_1_da_labels, test_split_2_da_labels, test_split_3_da_labels, test_split_4_da_labels, test_split_5_da_labels]\n",
    "\n",
    "def compare_mm_preds(text_feat_type, models):\n",
    "    prec_list = []\n",
    "    recall_list = []\n",
    "    accuracy_list = []\n",
    "    all_model_preds = []\n",
    "    \n",
    "    for i in range(5):\n",
    "        print(f\"Calculating accuracy for split{i}\")\n",
    "    \n",
    "        model = models[i]\n",
    "        true_labels = test_split_da_labels[i]\n",
    "        true_unilabels = np.argmax(convert_da_labels_to_categorical(true_labels), axis=-1)\n",
    "        \n",
    "        x_test_text = []\n",
    "        if (text_feat_type == 'BERT'):\n",
    "            x_test_text = x_bert_test_list[i]\n",
    "        elif (text_feat_type == 'GLOVE'):\n",
    "            x_test_text = glove_test_features[i]\n",
    "        else:\n",
    "            raise ValueError(f\"Invalid text feature type {text_feat_type}\")\n",
    "            \n",
    "        x_test_acoustic = acoustic_test_splits[i]\n",
    "        \n",
    "        # Combine the features\n",
    "        x_test_combined = np.concatenate((x_test_text, x_test_acoustic), axis=1)\n",
    "        num_dims = x_test_text.shape[1] + x_test_acoustic.shape[1]\n",
    "        x_test_combined = x_test_combined.reshape(-1, 1, num_dims)\n",
    "    \n",
    "        y_test = y_test_list[i]\n",
    "        test_labels = np.argmax(convert_da_labels_to_categorical(y_test), axis=-1)\n",
    "        \n",
    "        model_preds = model.predict(x_test_combined)\n",
    "        unilabel_model_preds = np.argmax(model_preds, axis=-1)\n",
    "        \n",
    "        all_model_preds.extend(unilabel_model_preds)\n",
    "        \n",
    "        lstm_prec = precision_score(test_labels, unilabel_model_preds, average='macro')\n",
    "        lstm_recall = recall_score(test_labels, unilabel_model_preds, average='macro')        \n",
    "        accuracy = accuracy_score(test_labels, unilabel_model_preds)\n",
    "        \n",
    "        prec_list.append(lstm_prec)\n",
    "        recall_list.append(lstm_recall)\n",
    "        accuracy_list.append(accuracy)\n",
    "    \n",
    "    print(prec_list)\n",
    "    print(recall_list)\n",
    "    print(accuracy_list)\n",
    "    \n",
    "    # Calculate CM for results from all 5 models\n",
    "    print(\"Creating confusion matrix\")\n",
    "    all_y_values = np.concatenate((test_split_1_da_labels, test_split_2_da_labels, test_split_3_da_labels, test_split_4_da_labels, test_split_5_da_labels), axis=0)\n",
    "    unilabel_all_y_values = np.argmax(convert_da_labels_to_categorical(all_y_values), axis=-1)\n",
    "    calculate_accuracy_metrics_and_print_cm(unilabel_all_y_values, all_model_preds)\n",
    "    "
   ]
  },
  {
   "cell_type": "code",
   "execution_count": 73,
   "id": "d631d7ec",
   "metadata": {},
   "outputs": [
    {
     "name": "stdout",
     "output_type": "stream",
     "text": [
      "Training models with GLOVE text features and acoustic features\n",
      "Training model 0\n",
      "90128\n",
      "Epoch 1/15\n",
      "42/42 [==============================] - 34s 464ms/step - loss: 2.0772 - acc: 0.2466 - val_loss: 1.8359 - val_acc: 0.3190\n",
      "Epoch 2/15\n",
      "42/42 [==============================] - 15s 351ms/step - loss: 1.7343 - acc: 0.3994 - val_loss: 1.6521 - val_acc: 0.4375\n",
      "Epoch 3/15\n",
      "42/42 [==============================] - 13s 316ms/step - loss: 1.4565 - acc: 0.5456 - val_loss: 1.5043 - val_acc: 0.4794\n",
      "Epoch 4/15\n",
      "42/42 [==============================] - 14s 341ms/step - loss: 1.1575 - acc: 0.6469 - val_loss: 1.4225 - val_acc: 0.5265\n",
      "Epoch 5/15\n",
      "42/42 [==============================] - 16s 385ms/step - loss: 0.9043 - acc: 0.7452 - val_loss: 1.4151 - val_acc: 0.5442\n",
      "Epoch 6/15\n",
      "42/42 [==============================] - 13s 316ms/step - loss: 0.7215 - acc: 0.8034 - val_loss: 1.4252 - val_acc: 0.5512\n",
      "Epoch 7/15\n",
      "42/42 [==============================] - 15s 363ms/step - loss: 0.6071 - acc: 0.8343 - val_loss: 1.4466 - val_acc: 0.5367\n",
      "Epoch 8/15\n",
      "42/42 [==============================] - 16s 372ms/step - loss: 0.5289 - acc: 0.8519 - val_loss: 1.6277 - val_acc: 0.5153\n",
      "Epoch 9/15\n",
      "42/42 [==============================] - 15s 369ms/step - loss: 0.4914 - acc: 0.8573 - val_loss: 1.6682 - val_acc: 0.5185\n",
      "Epoch 10/15\n",
      "42/42 [==============================] - 16s 385ms/step - loss: 0.4391 - acc: 0.8749 - val_loss: 2.0109 - val_acc: 0.4643\n",
      "Epoch 11/15\n",
      "42/42 [==============================] - 15s 371ms/step - loss: 0.4722 - acc: 0.8562 - val_loss: 1.7697 - val_acc: 0.5121\n",
      "Epoch 12/15\n",
      "42/42 [==============================] - 12s 300ms/step - loss: 0.3983 - acc: 0.8759 - val_loss: 1.7504 - val_acc: 0.5212\n",
      "Epoch 13/15\n",
      "42/42 [==============================] - 12s 300ms/step - loss: 0.3205 - acc: 0.9064 - val_loss: 1.8232 - val_acc: 0.5239\n",
      "Epoch 14/15\n",
      "42/42 [==============================] - 13s 309ms/step - loss: 0.2744 - acc: 0.9236 - val_loss: 1.9297 - val_acc: 0.5367\n",
      "Epoch 15/15\n",
      "42/42 [==============================] - 13s 303ms/step - loss: 0.2215 - acc: 0.9388 - val_loss: 2.0985 - val_acc: 0.5206\n",
      "Training model 1\n",
      "90128\n",
      "Epoch 1/15\n",
      "43/43 [==============================] - 26s 399ms/step - loss: 2.0982 - acc: 0.2621 - val_loss: 1.8574 - val_acc: 0.3272\n",
      "Epoch 2/15\n",
      "43/43 [==============================] - 9s 216ms/step - loss: 1.7234 - acc: 0.4182 - val_loss: 1.6554 - val_acc: 0.4189\n",
      "Epoch 3/15\n",
      "43/43 [==============================] - 13s 310ms/step - loss: 1.4081 - acc: 0.5703 - val_loss: 1.4877 - val_acc: 0.4903\n",
      "Epoch 4/15\n",
      "43/43 [==============================] - 16s 371ms/step - loss: 1.0882 - acc: 0.6829 - val_loss: 1.4377 - val_acc: 0.5097\n",
      "Epoch 5/15\n",
      "43/43 [==============================] - 17s 393ms/step - loss: 0.8250 - acc: 0.7756 - val_loss: 1.4440 - val_acc: 0.5304\n",
      "Epoch 6/15\n",
      "43/43 [==============================] - 13s 312ms/step - loss: 0.6452 - acc: 0.8296 - val_loss: 1.4894 - val_acc: 0.5198\n",
      "Epoch 7/15\n",
      "43/43 [==============================] - 13s 311ms/step - loss: 0.5358 - acc: 0.8645 - val_loss: 1.5812 - val_acc: 0.5244\n",
      "Epoch 8/15\n",
      "43/43 [==============================] - 13s 311ms/step - loss: 0.4726 - acc: 0.8762 - val_loss: 1.5764 - val_acc: 0.5175\n",
      "Epoch 9/15\n",
      "43/43 [==============================] - 13s 308ms/step - loss: 0.4235 - acc: 0.8879 - val_loss: 1.6491 - val_acc: 0.5101\n",
      "Epoch 10/15\n",
      "43/43 [==============================] - 14s 322ms/step - loss: 0.3881 - acc: 0.8940 - val_loss: 1.6943 - val_acc: 0.5189\n",
      "Epoch 11/15\n",
      "43/43 [==============================] - 13s 308ms/step - loss: 0.3257 - acc: 0.9131 - val_loss: 1.7137 - val_acc: 0.5346\n",
      "Epoch 12/15\n",
      "43/43 [==============================] - 13s 305ms/step - loss: 0.2837 - acc: 0.9274 - val_loss: 1.8615 - val_acc: 0.4995\n",
      "Epoch 13/15\n",
      "43/43 [==============================] - 13s 311ms/step - loss: 0.2532 - acc: 0.9322 - val_loss: 1.8230 - val_acc: 0.5272\n",
      "Epoch 14/15\n",
      "43/43 [==============================] - 13s 305ms/step - loss: 0.2080 - acc: 0.9464 - val_loss: 1.8745 - val_acc: 0.5488\n",
      "Epoch 15/15\n",
      "43/43 [==============================] - 13s 311ms/step - loss: 0.2091 - acc: 0.9417 - val_loss: 1.8785 - val_acc: 0.5576\n",
      "Training model 2\n",
      "90128\n",
      "Epoch 1/15\n",
      "46/46 [==============================] - 26s 350ms/step - loss: 2.1087 - acc: 0.2613 - val_loss: 1.8809 - val_acc: 0.2952\n",
      "Epoch 2/15\n",
      "46/46 [==============================] - 13s 291ms/step - loss: 1.7386 - acc: 0.3869 - val_loss: 1.6867 - val_acc: 0.4371\n",
      "Epoch 3/15\n",
      "46/46 [==============================] - 13s 292ms/step - loss: 1.4420 - acc: 0.5381 - val_loss: 1.5427 - val_acc: 0.4590\n",
      "Epoch 4/15\n",
      "46/46 [==============================] - 13s 287ms/step - loss: 1.1250 - acc: 0.6552 - val_loss: 1.5041 - val_acc: 0.4777\n",
      "Epoch 5/15\n",
      "46/46 [==============================] - 13s 284ms/step - loss: 0.8904 - acc: 0.7446 - val_loss: 1.5409 - val_acc: 0.4794\n",
      "Epoch 6/15\n",
      "46/46 [==============================] - 13s 286ms/step - loss: 0.7257 - acc: 0.8005 - val_loss: 1.6386 - val_acc: 0.4920\n",
      "Epoch 7/15\n",
      "46/46 [==============================] - 13s 290ms/step - loss: 0.6143 - acc: 0.8235 - val_loss: 1.7063 - val_acc: 0.4777\n",
      "Epoch 8/15\n",
      "46/46 [==============================] - 13s 280ms/step - loss: 0.5174 - acc: 0.8547 - val_loss: 1.7874 - val_acc: 0.4882\n",
      "Epoch 9/15\n",
      "46/46 [==============================] - 13s 287ms/step - loss: 0.4344 - acc: 0.8782 - val_loss: 1.8554 - val_acc: 0.4909\n",
      "Epoch 10/15\n",
      "46/46 [==============================] - 13s 290ms/step - loss: 0.3939 - acc: 0.8913 - val_loss: 1.8492 - val_acc: 0.4926\n",
      "Epoch 11/15\n",
      "46/46 [==============================] - 13s 283ms/step - loss: 0.3509 - acc: 0.9023 - val_loss: 1.8468 - val_acc: 0.5151\n",
      "Epoch 12/15\n",
      "46/46 [==============================] - 13s 285ms/step - loss: 0.3142 - acc: 0.9094 - val_loss: 1.9040 - val_acc: 0.5008\n",
      "Epoch 13/15\n",
      "46/46 [==============================] - 9s 206ms/step - loss: 0.2538 - acc: 0.9320 - val_loss: 1.9483 - val_acc: 0.5025\n",
      "Epoch 14/15\n",
      "46/46 [==============================] - 13s 282ms/step - loss: 0.2048 - acc: 0.9493 - val_loss: 1.9887 - val_acc: 0.5030\n",
      "Epoch 15/15\n",
      "46/46 [==============================] - 13s 289ms/step - loss: 0.1684 - acc: 0.9608 - val_loss: 2.0643 - val_acc: 0.4981\n",
      "Training model 3\n",
      "90128\n",
      "Epoch 1/15\n",
      "46/46 [==============================] - 31s 376ms/step - loss: 2.0790 - acc: 0.2701 - val_loss: 1.8683 - val_acc: 0.2957\n",
      "Epoch 2/15\n",
      "46/46 [==============================] - 13s 279ms/step - loss: 1.7397 - acc: 0.3717 - val_loss: 1.6928 - val_acc: 0.3842\n",
      "Epoch 3/15\n",
      "46/46 [==============================] - 13s 289ms/step - loss: 1.4983 - acc: 0.5094 - val_loss: 1.5285 - val_acc: 0.4818\n",
      "Epoch 4/15\n",
      "46/46 [==============================] - 13s 284ms/step - loss: 1.2153 - acc: 0.6314 - val_loss: 1.4091 - val_acc: 0.5244\n",
      "Epoch 5/15\n",
      "46/46 [==============================] - 13s 285ms/step - loss: 0.9487 - acc: 0.7356 - val_loss: 1.3667 - val_acc: 0.5414\n",
      "Epoch 6/15\n",
      "46/46 [==============================] - 13s 294ms/step - loss: 0.7475 - acc: 0.7971 - val_loss: 1.3598 - val_acc: 0.5397\n",
      "Epoch 7/15\n",
      "46/46 [==============================] - 13s 293ms/step - loss: 0.6266 - acc: 0.8276 - val_loss: 1.3980 - val_acc: 0.5692\n",
      "Epoch 8/15\n",
      "46/46 [==============================] - 13s 283ms/step - loss: 0.5686 - acc: 0.8369 - val_loss: 1.5635 - val_acc: 0.5494\n",
      "Epoch 9/15\n",
      "46/46 [==============================] - 18s 408ms/step - loss: 0.5129 - acc: 0.8512 - val_loss: 1.4418 - val_acc: 0.5812\n",
      "Epoch 10/15\n",
      "46/46 [==============================] - 17s 367ms/step - loss: 0.4282 - acc: 0.8791 - val_loss: 1.4923 - val_acc: 0.5880\n",
      "Epoch 11/15\n",
      "46/46 [==============================] - 18s 404ms/step - loss: 0.3457 - acc: 0.9030 - val_loss: 1.6259 - val_acc: 0.5687\n",
      "Epoch 12/15\n",
      "46/46 [==============================] - 14s 315ms/step - loss: 0.3305 - acc: 0.9057 - val_loss: 1.7004 - val_acc: 0.5556\n",
      "Epoch 13/15\n",
      "46/46 [==============================] - 14s 305ms/step - loss: 0.2969 - acc: 0.9146 - val_loss: 1.6826 - val_acc: 0.5619\n",
      "Epoch 14/15\n",
      "46/46 [==============================] - 15s 318ms/step - loss: 0.2760 - acc: 0.9185 - val_loss: 1.6246 - val_acc: 0.5743\n",
      "Epoch 15/15\n",
      "46/46 [==============================] - 16s 351ms/step - loss: 0.2289 - acc: 0.9301 - val_loss: 1.6720 - val_acc: 0.5772\n",
      "Training model 4\n",
      "90128\n",
      "Epoch 1/15\n"
     ]
    },
    {
     "name": "stdout",
     "output_type": "stream",
     "text": [
      "45/45 [==============================] - 34s 382ms/step - loss: 2.0795 - acc: 0.2351 - val_loss: 1.8577 - val_acc: 0.3398\n",
      "Epoch 2/15\n",
      "45/45 [==============================] - 13s 294ms/step - loss: 1.7308 - acc: 0.4417 - val_loss: 1.6679 - val_acc: 0.4443\n",
      "Epoch 3/15\n",
      "45/45 [==============================] - 13s 297ms/step - loss: 1.4398 - acc: 0.5559 - val_loss: 1.5242 - val_acc: 0.4648\n",
      "Epoch 4/15\n",
      "45/45 [==============================] - 13s 292ms/step - loss: 1.1355 - acc: 0.6660 - val_loss: 1.4763 - val_acc: 0.4920\n",
      "Epoch 5/15\n",
      "45/45 [==============================] - 13s 295ms/step - loss: 0.8969 - acc: 0.7493 - val_loss: 1.4790 - val_acc: 0.5114\n",
      "Epoch 6/15\n",
      "45/45 [==============================] - 11s 241ms/step - loss: 0.7511 - acc: 0.7906 - val_loss: 1.5004 - val_acc: 0.5239\n",
      "Epoch 7/15\n",
      "45/45 [==============================] - 12s 273ms/step - loss: 0.6538 - acc: 0.8202 - val_loss: 1.5612 - val_acc: 0.5000\n",
      "Epoch 8/15\n",
      "45/45 [==============================] - 12s 272ms/step - loss: 0.5513 - acc: 0.8513 - val_loss: 1.7216 - val_acc: 0.4955\n",
      "Epoch 9/15\n",
      "45/45 [==============================] - 13s 300ms/step - loss: 0.4889 - acc: 0.8642 - val_loss: 1.7369 - val_acc: 0.4898\n",
      "Epoch 10/15\n",
      "45/45 [==============================] - 13s 292ms/step - loss: 0.4168 - acc: 0.8870 - val_loss: 1.7783 - val_acc: 0.4886\n",
      "Epoch 11/15\n",
      "45/45 [==============================] - 13s 290ms/step - loss: 0.3685 - acc: 0.8997 - val_loss: 1.9617 - val_acc: 0.4767\n",
      "Epoch 12/15\n",
      "45/45 [==============================] - 13s 298ms/step - loss: 0.3458 - acc: 0.9021 - val_loss: 2.0885 - val_acc: 0.4580\n",
      "Epoch 13/15\n",
      "45/45 [==============================] - 13s 295ms/step - loss: 0.3430 - acc: 0.8943 - val_loss: 1.8789 - val_acc: 0.4744\n",
      "Epoch 14/15\n",
      "45/45 [==============================] - 13s 295ms/step - loss: 0.3328 - acc: 0.8960 - val_loss: 1.7793 - val_acc: 0.5023\n",
      "Epoch 15/15\n",
      "45/45 [==============================] - 15s 347ms/step - loss: 0.2722 - acc: 0.9240 - val_loss: 1.9171 - val_acc: 0.5057\n"
     ]
    }
   ],
   "source": [
    "glove_model_list = train_five_multimodal_models('GLOVE')"
   ]
  },
  {
   "cell_type": "code",
   "execution_count": 74,
   "id": "20a110cd",
   "metadata": {},
   "outputs": [
    {
     "name": "stdout",
     "output_type": "stream",
     "text": [
      "Calculating accuracy for split0\n",
      "Calculating accuracy for split1\n"
     ]
    },
    {
     "name": "stderr",
     "output_type": "stream",
     "text": [
      "/usr/local/lib/python3.9/site-packages/sklearn/metrics/_classification.py:1318: UndefinedMetricWarning: Precision is ill-defined and being set to 0.0 in labels with no predicted samples. Use `zero_division` parameter to control this behavior.\n",
      "  _warn_prf(average, modifier, msg_start, len(result))\n"
     ]
    },
    {
     "name": "stdout",
     "output_type": "stream",
     "text": [
      "Calculating accuracy for split2\n"
     ]
    },
    {
     "name": "stderr",
     "output_type": "stream",
     "text": [
      "/usr/local/lib/python3.9/site-packages/sklearn/metrics/_classification.py:1318: UndefinedMetricWarning: Precision is ill-defined and being set to 0.0 in labels with no predicted samples. Use `zero_division` parameter to control this behavior.\n",
      "  _warn_prf(average, modifier, msg_start, len(result))\n"
     ]
    },
    {
     "name": "stdout",
     "output_type": "stream",
     "text": [
      "Calculating accuracy for split3\n",
      "Calculating accuracy for split4\n"
     ]
    },
    {
     "name": "stderr",
     "output_type": "stream",
     "text": [
      "/usr/local/lib/python3.9/site-packages/sklearn/metrics/_classification.py:1318: UndefinedMetricWarning: Precision is ill-defined and being set to 0.0 in labels with no predicted samples. Use `zero_division` parameter to control this behavior.\n",
      "  _warn_prf(average, modifier, msg_start, len(result))\n"
     ]
    },
    {
     "name": "stdout",
     "output_type": "stream",
     "text": [
      "[0.5710135880388253, 0.5236639274832785, 0.6619673039315396, 0.5478171224935889, 0.5148281832671748]\n",
      "[0.5277011565686383, 0.4650378585009809, 0.47615149489341957, 0.4437163033358809, 0.49392591730659263]\n",
      "[0.528110599078341, 0.508521165475536, 0.5845629965947786, 0.5017045454545455, 0.5345844504021448]\n",
      "Creating confusion matrix\n",
      "AxesSubplot(0.125,0.125;0.62x0.755)\n"
     ]
    },
    {
     "data": {
      "image/png": "[encoded data removed]",
      "text/plain": [
       "<Figure size 432x288 with 2 Axes>"
      ]
     },
     "metadata": {
      "needs_background": "light"
     },
     "output_type": "display_data"
    }
   ],
   "source": [
    "compare_mm_preds('GLOVE', glove_model_list)"
   ]
  },
  {
   "cell_type": "code",
   "execution_count": 76,
   "id": "9d07d86c",
   "metadata": {},
   "outputs": [
    {
     "name": "stdout",
     "output_type": "stream",
     "text": [
      "Calculating accuracy for split0\n"
     ]
    },
    {
     "name": "stderr",
     "output_type": "stream",
     "text": [
      "/usr/local/lib/python3.9/site-packages/sklearn/metrics/_classification.py:1318: UndefinedMetricWarning: Precision is ill-defined and being set to 0.0 in labels with no predicted samples. Use `zero_division` parameter to control this behavior.\n",
      "  _warn_prf(average, modifier, msg_start, len(result))\n"
     ]
    },
    {
     "name": "stdout",
     "output_type": "stream",
     "text": [
      "Calculating accuracy for split1\n"
     ]
    },
    {
     "name": "stderr",
     "output_type": "stream",
     "text": [
      "/usr/local/lib/python3.9/site-packages/sklearn/metrics/_classification.py:1318: UndefinedMetricWarning: Precision is ill-defined and being set to 0.0 in labels with no predicted samples. Use `zero_division` parameter to control this behavior.\n",
      "  _warn_prf(average, modifier, msg_start, len(result))\n"
     ]
    },
    {
     "name": "stdout",
     "output_type": "stream",
     "text": [
      "Calculating accuracy for split2\n"
     ]
    },
    {
     "name": "stderr",
     "output_type": "stream",
     "text": [
      "/usr/local/lib/python3.9/site-packages/sklearn/metrics/_classification.py:1318: UndefinedMetricWarning: Precision is ill-defined and being set to 0.0 in labels with no predicted samples. Use `zero_division` parameter to control this behavior.\n",
      "  _warn_prf(average, modifier, msg_start, len(result))\n"
     ]
    },
    {
     "name": "stdout",
     "output_type": "stream",
     "text": [
      "Calculating accuracy for split3\n"
     ]
    },
    {
     "name": "stderr",
     "output_type": "stream",
     "text": [
      "/usr/local/lib/python3.9/site-packages/sklearn/metrics/_classification.py:1318: UndefinedMetricWarning: Precision is ill-defined and being set to 0.0 in labels with no predicted samples. Use `zero_division` parameter to control this behavior.\n",
      "  _warn_prf(average, modifier, msg_start, len(result))\n"
     ]
    },
    {
     "name": "stdout",
     "output_type": "stream",
     "text": [
      "Calculating accuracy for split4\n"
     ]
    },
    {
     "name": "stderr",
     "output_type": "stream",
     "text": [
      "/usr/local/lib/python3.9/site-packages/sklearn/metrics/_classification.py:1318: UndefinedMetricWarning: Precision is ill-defined and being set to 0.0 in labels with no predicted samples. Use `zero_division` parameter to control this behavior.\n",
      "  _warn_prf(average, modifier, msg_start, len(result))\n",
      "/usr/local/lib/python3.9/site-packages/sklearn/metrics/_classification.py:1318: UndefinedMetricWarning: Precision and F-score are ill-defined and being set to 0.0 in labels with no predicted samples. Use `zero_division` parameter to control this behavior.\n",
      "  _warn_prf(average, modifier, msg_start, len(result))\n",
      "/usr/local/lib/python3.9/site-packages/sklearn/metrics/_classification.py:1318: UndefinedMetricWarning: Precision and F-score are ill-defined and being set to 0.0 in labels with no predicted samples. Use `zero_division` parameter to control this behavior.\n",
      "  _warn_prf(average, modifier, msg_start, len(result))\n",
      "/usr/local/lib/python3.9/site-packages/sklearn/metrics/_classification.py:1318: UndefinedMetricWarning: Precision and F-score are ill-defined and being set to 0.0 in labels with no predicted samples. Use `zero_division` parameter to control this behavior.\n",
      "  _warn_prf(average, modifier, msg_start, len(result))\n"
     ]
    },
    {
     "name": "stdout",
     "output_type": "stream",
     "text": [
      "[0.595395475276474, 0.46261912821137224, 0.6383567765614693, 0.5501383412758518, 0.39123917986801765]\n",
      "[0.5534168693675138, 0.3871699276116228, 0.41514585394867326, 0.4560900094346796, 0.2883099993743173]\n",
      "[0.6096774193548387, 0.5607476635514018, 0.6112372304199774, 0.5539772727272727, 0.500804289544236]\n",
      "Creating confusion matrix\n",
      "AxesSubplot(0.125,0.125;0.62x0.755)\n"
     ]
    },
    {
     "data": {
      "image/png": "[encoded data removed]",
      "text/plain": [
       "<Figure size 432x288 with 2 Axes>"
      ]
     },
     "metadata": {
      "needs_background": "light"
     },
     "output_type": "display_data"
    }
   ],
   "source": [
    "compare_mm_preds('BERT', bert_model_list)"
   ]
  },
  {
   "cell_type": "code",
   "execution_count": 78,
   "id": "ea9c5e21",
   "metadata": {},
   "outputs": [
    {
     "name": "stdout",
     "output_type": "stream",
     "text": [
      "0.527549780238637\n",
      "0.4200265319473614\n",
      "0.5672887751195453\n"
     ]
    }
   ],
   "source": [
    "# Aggregate bert multimodal results\n",
    "bert_prec = [0.595395475276474, 0.46261912821137224, 0.6383567765614693, 0.5501383412758518, 0.39123917986801765]\n",
    "bert_rec = [0.5534168693675138, 0.3871699276116228, 0.41514585394867326, 0.4560900094346796, 0.2883099993743173]\n",
    "bert_acc = [0.6096774193548387, 0.5607476635514018, 0.6112372304199774, 0.5539772727272727, 0.500804289544236]\n",
    "print(np.average(bert_prec))\n",
    "print(np.average(bert_rec))\n",
    "print(np.average(bert_acc))"
   ]
  },
  {
   "cell_type": "code",
   "execution_count": 79,
   "id": "0f73d989",
   "metadata": {},
   "outputs": [
    {
     "name": "stdout",
     "output_type": "stream",
     "text": [
      "0.5638580250428814\n",
      "0.48130654612110246\n",
      "0.5314967514010691\n"
     ]
    }
   ],
   "source": [
    "glove_prec = [0.5710135880388253, 0.5236639274832785, 0.6619673039315396, 0.5478171224935889, 0.5148281832671748]\n",
    "glove_rec = [0.5277011565686383, 0.4650378585009809, 0.47615149489341957, 0.4437163033358809, 0.49392591730659263]\n",
    "glove_acc = [0.528110599078341, 0.508521165475536, 0.5845629965947786, 0.5017045454545455, 0.5345844504021448]\n",
    "print(np.average(glove_prec))\n",
    "print(np.average(glove_rec))\n",
    "print(np.average(glove_acc))"
   ]
  },
  {
   "cell_type": "code",
   "execution_count": null,
   "id": "ce6ad45d",
   "metadata": {},
   "outputs": [],
   "source": []
  }
 ],
 "metadata": {
  "kernelspec": {
   "display_name": "Python 3 (ipykernel)",
   "language": "python",
   "name": "python3"
  },
  "language_info": {
   "codemirror_mode": {
    "name": "ipython",
    "version": 3
   },
   "file_extension": ".py",
   "mimetype": "text/x-python",
   "name": "python",
   "nbconvert_exporter": "python",
   "pygments_lexer": "ipython3",
   "version": "3.9.12"
  }
 },
 "nbformat": 4,
 "nbformat_minor": 5
}
