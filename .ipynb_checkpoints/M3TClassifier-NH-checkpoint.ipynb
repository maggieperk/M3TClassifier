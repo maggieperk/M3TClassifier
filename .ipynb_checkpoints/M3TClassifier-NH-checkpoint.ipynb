{
 "cells": [
  {
   "cell_type": "code",
   "execution_count": 4,
   "metadata": {},
   "outputs": [
    {
     "name": "stdout",
     "output_type": "stream",
     "text": [
      "Collecting pickle5\n",
      "  Downloading pickle5-0.0.12-cp37-cp37m-win_amd64.whl (124 kB)\n",
      "Installing collected packages: pickle5\n",
      "Successfully installed pickle5-0.0.12\n"
     ]
    },
    {
     "name": "stderr",
     "output_type": "stream",
     "text": [
      "WARNING: You are using pip version 21.3.1; however, version 22.0.4 is available.\n",
      "You should consider upgrading via the 'C:\\Users\\nihu6149\\Anaconda3\\envs\\cm2\\python.exe -m pip install --upgrade pip' command.\n"
     ]
    }
   ],
   "source": [
    "!pip3 install pickle5\n",
    "import pickle5 as pickle\n",
    "import pandas as pd"
   ]
  },
  {
   "cell_type": "code",
   "execution_count": 17,
   "metadata": {},
   "outputs": [],
   "source": [
    "def load_pickle_file(fname):\n",
    "    try:\n",
    "        data = pd.read_pickle(fname)\n",
    "    except:\n",
    "        with open(fname, \"rb\") as fh:\n",
    "            data = pickle.load(fh)\n",
    "            data = data.loc[:, ~data.columns.str.contains('^Unnamed')]\n",
    "    return data"
   ]
  },
  {
   "cell_type": "code",
   "execution_count": 18,
   "metadata": {},
   "outputs": [],
   "source": [
    "iemocap1 = load_pickle_file('iemocap_session1_af.pickle')\n",
    "iemocap2 = load_pickle_file('iemocap_session2_af.pickle')\n",
    "iemocap3 = load_pickle_file('iemocap_session3_af.pickle')\n",
    "iemocap4 = load_pickle_file('iemocap_session4_af.pickle')\n",
    "iemocap5 = load_pickle_file('iemocap_session5_af.pickle')"
   ]
  },
  {
   "cell_type": "code",
   "execution_count": 19,
   "metadata": {
    "colab": {
     "base_uri": "https://localhost:8080/"
    },
    "id": "v1XzqZtRp4Vm",
    "outputId": "7a575555-6ac0-47f6-a6e7-c6073820ae78"
   },
   "outputs": [
    {
     "name": "stdout",
     "output_type": "stream",
     "text": [
      "1819\n",
      "1762\n",
      "1760\n",
      "1865\n",
      "2170\n"
     ]
    },
    {
     "data": {
      "text/plain": [
       "9376"
      ]
     },
     "execution_count": 19,
     "metadata": {},
     "output_type": "execute_result"
    }
   ],
   "source": [
    "print(len(iemocap1))\n",
    "print(len(iemocap2))\n",
    "print(len(iemocap3))\n",
    "print(len(iemocap4))\n",
    "print(len(iemocap5))\n",
    "len(iemocap1) + len(iemocap2) + len(iemocap3) + len(iemocap4) + len(iemocap5)"
   ]
  },
  {
   "cell_type": "code",
   "execution_count": 30,
   "metadata": {},
   "outputs": [],
   "source": [
    "acoustic_feature_columns = [c for c in iemocap1.columns][5:]"
   ]
  },
  {
   "cell_type": "code",
   "execution_count": 21,
   "metadata": {
    "colab": {
     "base_uri": "https://localhost:8080/",
     "height": 423
    },
    "id": "Dyv30Vd21sjg",
    "outputId": "5e0dacc4-43c7-427d-ee76-8ff5c56df0a5"
   },
   "outputs": [
    {
     "data": {
      "text/html": [
       "<div>\n",
       "<style scoped>\n",
       "    .dataframe tbody tr th:only-of-type {\n",
       "        vertical-align: middle;\n",
       "    }\n",
       "\n",
       "    .dataframe tbody tr th {\n",
       "        vertical-align: top;\n",
       "    }\n",
       "\n",
       "    .dataframe thead th {\n",
       "        text-align: right;\n",
       "    }\n",
       "</style>\n",
       "<table border=\"1\" class=\"dataframe\">\n",
       "  <thead>\n",
       "    <tr style=\"text-align: right;\">\n",
       "      <th></th>\n",
       "      <th>TURN</th>\n",
       "      <th>UTTERANCE</th>\n",
       "      <th>DA</th>\n",
       "      <th>EMOTION</th>\n",
       "      <th>audio_file</th>\n",
       "      <th>F0semitoneFrom27.5Hz_sma3nz_amean</th>\n",
       "      <th>F0semitoneFrom27.5Hz_sma3nz_stddevNorm</th>\n",
       "      <th>F0semitoneFrom27.5Hz_sma3nz_percentile20.0</th>\n",
       "      <th>F0semitoneFrom27.5Hz_sma3nz_percentile50.0</th>\n",
       "      <th>F0semitoneFrom27.5Hz_sma3nz_percentile80.0</th>\n",
       "      <th>...</th>\n",
       "      <th>slopeUV0-500_sma3nz_amean</th>\n",
       "      <th>slopeUV500-1500_sma3nz_amean</th>\n",
       "      <th>spectralFluxUV_sma3nz_amean</th>\n",
       "      <th>loudnessPeaksPerSec</th>\n",
       "      <th>VoicedSegmentsPerSec</th>\n",
       "      <th>MeanVoicedSegmentLengthSec</th>\n",
       "      <th>StddevVoicedSegmentLengthSec</th>\n",
       "      <th>MeanUnvoicedSegmentLength</th>\n",
       "      <th>StddevUnvoicedSegmentLength</th>\n",
       "      <th>equivalentSoundLevel_dBp</th>\n",
       "    </tr>\n",
       "  </thead>\n",
       "  <tbody>\n",
       "    <tr>\n",
       "      <th>0</th>\n",
       "      <td>Ses01F_impro01_F000</td>\n",
       "      <td>Excuse me.</td>\n",
       "      <td>c</td>\n",
       "      <td>neu</td>\n",
       "      <td>Ses01F_impro01_F000</td>\n",
       "      <td>37.039505</td>\n",
       "      <td>0.043355</td>\n",
       "      <td>35.528027</td>\n",
       "      <td>36.891544</td>\n",
       "      <td>39.031944</td>\n",
       "      <td>...</td>\n",
       "      <td>-0.001585</td>\n",
       "      <td>0.002005</td>\n",
       "      <td>0.029974</td>\n",
       "      <td>2.590674</td>\n",
       "      <td>1.063830</td>\n",
       "      <td>0.155000</td>\n",
       "      <td>0.135000</td>\n",
       "      <td>0.506667</td>\n",
       "      <td>0.347787</td>\n",
       "      <td>-37.741990</td>\n",
       "    </tr>\n",
       "    <tr>\n",
       "      <th>1</th>\n",
       "      <td>Ses01F_impro01_M000</td>\n",
       "      <td>Do you have your forms?</td>\n",
       "      <td>q</td>\n",
       "      <td>fru</td>\n",
       "      <td>Ses01F_impro01_M000</td>\n",
       "      <td>28.274813</td>\n",
       "      <td>0.048612</td>\n",
       "      <td>26.375908</td>\n",
       "      <td>28.999374</td>\n",
       "      <td>29.370120</td>\n",
       "      <td>...</td>\n",
       "      <td>0.001257</td>\n",
       "      <td>0.000978</td>\n",
       "      <td>0.047218</td>\n",
       "      <td>2.076125</td>\n",
       "      <td>0.704225</td>\n",
       "      <td>0.275000</td>\n",
       "      <td>0.055000</td>\n",
       "      <td>0.746667</td>\n",
       "      <td>0.640121</td>\n",
       "      <td>-32.977577</td>\n",
       "    </tr>\n",
       "    <tr>\n",
       "      <th>2</th>\n",
       "      <td>Ses01F_impro01_F001</td>\n",
       "      <td>Yeah.</td>\n",
       "      <td>ans</td>\n",
       "      <td>neu</td>\n",
       "      <td>Ses01F_impro01_F001</td>\n",
       "      <td>33.765970</td>\n",
       "      <td>0.028573</td>\n",
       "      <td>32.794120</td>\n",
       "      <td>33.964375</td>\n",
       "      <td>34.719210</td>\n",
       "      <td>...</td>\n",
       "      <td>0.000189</td>\n",
       "      <td>0.002216</td>\n",
       "      <td>0.051167</td>\n",
       "      <td>0.729927</td>\n",
       "      <td>0.757576</td>\n",
       "      <td>0.100000</td>\n",
       "      <td>0.000000</td>\n",
       "      <td>0.595000</td>\n",
       "      <td>0.065000</td>\n",
       "      <td>-35.053116</td>\n",
       "    </tr>\n",
       "    <tr>\n",
       "      <th>3</th>\n",
       "      <td>Ses01F_impro01_M001</td>\n",
       "      <td>Let me see them.</td>\n",
       "      <td>s</td>\n",
       "      <td>fru</td>\n",
       "      <td>Ses01F_impro01_M001</td>\n",
       "      <td>26.122112</td>\n",
       "      <td>0.032891</td>\n",
       "      <td>26.099644</td>\n",
       "      <td>26.244362</td>\n",
       "      <td>26.424637</td>\n",
       "      <td>...</td>\n",
       "      <td>-0.008721</td>\n",
       "      <td>0.000627</td>\n",
       "      <td>0.030808</td>\n",
       "      <td>1.612903</td>\n",
       "      <td>0.544959</td>\n",
       "      <td>0.180000</td>\n",
       "      <td>0.140000</td>\n",
       "      <td>1.086667</td>\n",
       "      <td>1.060073</td>\n",
       "      <td>-40.714752</td>\n",
       "    </tr>\n",
       "    <tr>\n",
       "      <th>4</th>\n",
       "      <td>Ses01F_impro01_F002</td>\n",
       "      <td>Is there a problem?</td>\n",
       "      <td>q</td>\n",
       "      <td>neu</td>\n",
       "      <td>Ses01F_impro01_F002</td>\n",
       "      <td>33.930020</td>\n",
       "      <td>0.080026</td>\n",
       "      <td>31.300814</td>\n",
       "      <td>32.698670</td>\n",
       "      <td>37.084625</td>\n",
       "      <td>...</td>\n",
       "      <td>-0.002343</td>\n",
       "      <td>-0.000944</td>\n",
       "      <td>0.025375</td>\n",
       "      <td>1.282051</td>\n",
       "      <td>0.977199</td>\n",
       "      <td>0.150000</td>\n",
       "      <td>0.008165</td>\n",
       "      <td>0.846667</td>\n",
       "      <td>0.950731</td>\n",
       "      <td>-37.175972</td>\n",
       "    </tr>\n",
       "    <tr>\n",
       "      <th>...</th>\n",
       "      <td>...</td>\n",
       "      <td>...</td>\n",
       "      <td>...</td>\n",
       "      <td>...</td>\n",
       "      <td>...</td>\n",
       "      <td>...</td>\n",
       "      <td>...</td>\n",
       "      <td>...</td>\n",
       "      <td>...</td>\n",
       "      <td>...</td>\n",
       "      <td>...</td>\n",
       "      <td>...</td>\n",
       "      <td>...</td>\n",
       "      <td>...</td>\n",
       "      <td>...</td>\n",
       "      <td>...</td>\n",
       "      <td>...</td>\n",
       "      <td>...</td>\n",
       "      <td>...</td>\n",
       "      <td>...</td>\n",
       "      <td>...</td>\n",
       "    </tr>\n",
       "    <tr>\n",
       "      <th>1814</th>\n",
       "      <td>Ses01M_script03_2_F040</td>\n",
       "      <td>This is the end do you hear me?  Finally and f...</td>\n",
       "      <td>s</td>\n",
       "      <td>ang</td>\n",
       "      <td>Ses01M_script03_2_F040</td>\n",
       "      <td>34.657340</td>\n",
       "      <td>0.099078</td>\n",
       "      <td>32.221820</td>\n",
       "      <td>33.553024</td>\n",
       "      <td>38.790980</td>\n",
       "      <td>...</td>\n",
       "      <td>-0.007046</td>\n",
       "      <td>0.003324</td>\n",
       "      <td>0.123019</td>\n",
       "      <td>1.434426</td>\n",
       "      <td>1.863354</td>\n",
       "      <td>0.221111</td>\n",
       "      <td>0.203876</td>\n",
       "      <td>0.293333</td>\n",
       "      <td>0.364326</td>\n",
       "      <td>-15.226114</td>\n",
       "    </tr>\n",
       "    <tr>\n",
       "      <th>1815</th>\n",
       "      <td>Ses01M_script03_2_M041</td>\n",
       "      <td>You're not going like this.</td>\n",
       "      <td>c</td>\n",
       "      <td>ang</td>\n",
       "      <td>Ses01M_script03_2_M041</td>\n",
       "      <td>28.549955</td>\n",
       "      <td>0.118059</td>\n",
       "      <td>26.399270</td>\n",
       "      <td>27.669481</td>\n",
       "      <td>29.508030</td>\n",
       "      <td>...</td>\n",
       "      <td>0.003630</td>\n",
       "      <td>0.002219</td>\n",
       "      <td>0.095085</td>\n",
       "      <td>2.643172</td>\n",
       "      <td>2.252252</td>\n",
       "      <td>0.096000</td>\n",
       "      <td>0.057131</td>\n",
       "      <td>0.271667</td>\n",
       "      <td>0.247212</td>\n",
       "      <td>-28.987110</td>\n",
       "    </tr>\n",
       "    <tr>\n",
       "      <th>1816</th>\n",
       "      <td>Ses01M_script03_2_F041</td>\n",
       "      <td>Oh yes I am...Oh yes I am. Let go of me. You l...</td>\n",
       "      <td>o</td>\n",
       "      <td>ang</td>\n",
       "      <td>Ses01M_script03_2_F041</td>\n",
       "      <td>42.529194</td>\n",
       "      <td>0.136745</td>\n",
       "      <td>38.163800</td>\n",
       "      <td>42.774338</td>\n",
       "      <td>47.309406</td>\n",
       "      <td>...</td>\n",
       "      <td>0.018799</td>\n",
       "      <td>-0.007294</td>\n",
       "      <td>1.664860</td>\n",
       "      <td>2.908514</td>\n",
       "      <td>2.067869</td>\n",
       "      <td>0.346923</td>\n",
       "      <td>0.341851</td>\n",
       "      <td>0.128286</td>\n",
       "      <td>0.201771</td>\n",
       "      <td>-5.914352</td>\n",
       "    </tr>\n",
       "    <tr>\n",
       "      <th>1817</th>\n",
       "      <td>Ses01M_script03_2_M042</td>\n",
       "      <td>No you're not.</td>\n",
       "      <td>dag</td>\n",
       "      <td>ang</td>\n",
       "      <td>Ses01M_script03_2_M042</td>\n",
       "      <td>32.337185</td>\n",
       "      <td>0.062898</td>\n",
       "      <td>30.730673</td>\n",
       "      <td>31.341507</td>\n",
       "      <td>34.631016</td>\n",
       "      <td>...</td>\n",
       "      <td>0.022859</td>\n",
       "      <td>-0.017361</td>\n",
       "      <td>0.360638</td>\n",
       "      <td>2.923977</td>\n",
       "      <td>3.614458</td>\n",
       "      <td>0.136667</td>\n",
       "      <td>0.140791</td>\n",
       "      <td>0.120000</td>\n",
       "      <td>0.077244</td>\n",
       "      <td>-22.316116</td>\n",
       "    </tr>\n",
       "    <tr>\n",
       "      <th>1818</th>\n",
       "      <td>Ses01M_script03_2_M043</td>\n",
       "      <td>Shut up. Shut up. I wouldn't marry you again i...</td>\n",
       "      <td>o</td>\n",
       "      <td>ang</td>\n",
       "      <td>Ses01M_script03_2_M043</td>\n",
       "      <td>44.081640</td>\n",
       "      <td>0.109123</td>\n",
       "      <td>40.206905</td>\n",
       "      <td>44.039223</td>\n",
       "      <td>47.049930</td>\n",
       "      <td>...</td>\n",
       "      <td>0.038988</td>\n",
       "      <td>-0.013862</td>\n",
       "      <td>2.670693</td>\n",
       "      <td>4.002809</td>\n",
       "      <td>2.115656</td>\n",
       "      <td>0.398333</td>\n",
       "      <td>0.420857</td>\n",
       "      <td>0.061923</td>\n",
       "      <td>0.039712</td>\n",
       "      <td>-5.567938</td>\n",
       "    </tr>\n",
       "  </tbody>\n",
       "</table>\n",
       "<p>1819 rows × 93 columns</p>\n",
       "</div>"
      ],
      "text/plain": [
       "                        TURN  \\\n",
       "0        Ses01F_impro01_F000   \n",
       "1        Ses01F_impro01_M000   \n",
       "2        Ses01F_impro01_F001   \n",
       "3        Ses01F_impro01_M001   \n",
       "4        Ses01F_impro01_F002   \n",
       "...                      ...   \n",
       "1814  Ses01M_script03_2_F040   \n",
       "1815  Ses01M_script03_2_M041   \n",
       "1816  Ses01M_script03_2_F041   \n",
       "1817  Ses01M_script03_2_M042   \n",
       "1818  Ses01M_script03_2_M043   \n",
       "\n",
       "                                              UTTERANCE   DA EMOTION  \\\n",
       "0                                            Excuse me.    c     neu   \n",
       "1                               Do you have your forms?    q     fru   \n",
       "2                                                 Yeah.  ans     neu   \n",
       "3                                      Let me see them.    s     fru   \n",
       "4                                   Is there a problem?    q     neu   \n",
       "...                                                 ...  ...     ...   \n",
       "1814  This is the end do you hear me?  Finally and f...    s     ang   \n",
       "1815                        You're not going like this.    c     ang   \n",
       "1816  Oh yes I am...Oh yes I am. Let go of me. You l...    o     ang   \n",
       "1817                                     No you're not.  dag     ang   \n",
       "1818  Shut up. Shut up. I wouldn't marry you again i...    o     ang   \n",
       "\n",
       "                  audio_file  F0semitoneFrom27.5Hz_sma3nz_amean  \\\n",
       "0        Ses01F_impro01_F000                          37.039505   \n",
       "1        Ses01F_impro01_M000                          28.274813   \n",
       "2        Ses01F_impro01_F001                          33.765970   \n",
       "3        Ses01F_impro01_M001                          26.122112   \n",
       "4        Ses01F_impro01_F002                          33.930020   \n",
       "...                      ...                                ...   \n",
       "1814  Ses01M_script03_2_F040                          34.657340   \n",
       "1815  Ses01M_script03_2_M041                          28.549955   \n",
       "1816  Ses01M_script03_2_F041                          42.529194   \n",
       "1817  Ses01M_script03_2_M042                          32.337185   \n",
       "1818  Ses01M_script03_2_M043                          44.081640   \n",
       "\n",
       "      F0semitoneFrom27.5Hz_sma3nz_stddevNorm  \\\n",
       "0                                   0.043355   \n",
       "1                                   0.048612   \n",
       "2                                   0.028573   \n",
       "3                                   0.032891   \n",
       "4                                   0.080026   \n",
       "...                                      ...   \n",
       "1814                                0.099078   \n",
       "1815                                0.118059   \n",
       "1816                                0.136745   \n",
       "1817                                0.062898   \n",
       "1818                                0.109123   \n",
       "\n",
       "      F0semitoneFrom27.5Hz_sma3nz_percentile20.0  \\\n",
       "0                                      35.528027   \n",
       "1                                      26.375908   \n",
       "2                                      32.794120   \n",
       "3                                      26.099644   \n",
       "4                                      31.300814   \n",
       "...                                          ...   \n",
       "1814                                   32.221820   \n",
       "1815                                   26.399270   \n",
       "1816                                   38.163800   \n",
       "1817                                   30.730673   \n",
       "1818                                   40.206905   \n",
       "\n",
       "      F0semitoneFrom27.5Hz_sma3nz_percentile50.0  \\\n",
       "0                                      36.891544   \n",
       "1                                      28.999374   \n",
       "2                                      33.964375   \n",
       "3                                      26.244362   \n",
       "4                                      32.698670   \n",
       "...                                          ...   \n",
       "1814                                   33.553024   \n",
       "1815                                   27.669481   \n",
       "1816                                   42.774338   \n",
       "1817                                   31.341507   \n",
       "1818                                   44.039223   \n",
       "\n",
       "      F0semitoneFrom27.5Hz_sma3nz_percentile80.0  ...  \\\n",
       "0                                      39.031944  ...   \n",
       "1                                      29.370120  ...   \n",
       "2                                      34.719210  ...   \n",
       "3                                      26.424637  ...   \n",
       "4                                      37.084625  ...   \n",
       "...                                          ...  ...   \n",
       "1814                                   38.790980  ...   \n",
       "1815                                   29.508030  ...   \n",
       "1816                                   47.309406  ...   \n",
       "1817                                   34.631016  ...   \n",
       "1818                                   47.049930  ...   \n",
       "\n",
       "      slopeUV0-500_sma3nz_amean  slopeUV500-1500_sma3nz_amean  \\\n",
       "0                     -0.001585                      0.002005   \n",
       "1                      0.001257                      0.000978   \n",
       "2                      0.000189                      0.002216   \n",
       "3                     -0.008721                      0.000627   \n",
       "4                     -0.002343                     -0.000944   \n",
       "...                         ...                           ...   \n",
       "1814                  -0.007046                      0.003324   \n",
       "1815                   0.003630                      0.002219   \n",
       "1816                   0.018799                     -0.007294   \n",
       "1817                   0.022859                     -0.017361   \n",
       "1818                   0.038988                     -0.013862   \n",
       "\n",
       "      spectralFluxUV_sma3nz_amean  loudnessPeaksPerSec  VoicedSegmentsPerSec  \\\n",
       "0                        0.029974             2.590674              1.063830   \n",
       "1                        0.047218             2.076125              0.704225   \n",
       "2                        0.051167             0.729927              0.757576   \n",
       "3                        0.030808             1.612903              0.544959   \n",
       "4                        0.025375             1.282051              0.977199   \n",
       "...                           ...                  ...                   ...   \n",
       "1814                     0.123019             1.434426              1.863354   \n",
       "1815                     0.095085             2.643172              2.252252   \n",
       "1816                     1.664860             2.908514              2.067869   \n",
       "1817                     0.360638             2.923977              3.614458   \n",
       "1818                     2.670693             4.002809              2.115656   \n",
       "\n",
       "      MeanVoicedSegmentLengthSec  StddevVoicedSegmentLengthSec  \\\n",
       "0                       0.155000                      0.135000   \n",
       "1                       0.275000                      0.055000   \n",
       "2                       0.100000                      0.000000   \n",
       "3                       0.180000                      0.140000   \n",
       "4                       0.150000                      0.008165   \n",
       "...                          ...                           ...   \n",
       "1814                    0.221111                      0.203876   \n",
       "1815                    0.096000                      0.057131   \n",
       "1816                    0.346923                      0.341851   \n",
       "1817                    0.136667                      0.140791   \n",
       "1818                    0.398333                      0.420857   \n",
       "\n",
       "      MeanUnvoicedSegmentLength  StddevUnvoicedSegmentLength  \\\n",
       "0                      0.506667                     0.347787   \n",
       "1                      0.746667                     0.640121   \n",
       "2                      0.595000                     0.065000   \n",
       "3                      1.086667                     1.060073   \n",
       "4                      0.846667                     0.950731   \n",
       "...                         ...                          ...   \n",
       "1814                   0.293333                     0.364326   \n",
       "1815                   0.271667                     0.247212   \n",
       "1816                   0.128286                     0.201771   \n",
       "1817                   0.120000                     0.077244   \n",
       "1818                   0.061923                     0.039712   \n",
       "\n",
       "      equivalentSoundLevel_dBp  \n",
       "0                   -37.741990  \n",
       "1                   -32.977577  \n",
       "2                   -35.053116  \n",
       "3                   -40.714752  \n",
       "4                   -37.175972  \n",
       "...                        ...  \n",
       "1814                -15.226114  \n",
       "1815                -28.987110  \n",
       "1816                 -5.914352  \n",
       "1817                -22.316116  \n",
       "1818                 -5.567938  \n",
       "\n",
       "[1819 rows x 93 columns]"
      ]
     },
     "execution_count": 21,
     "metadata": {},
     "output_type": "execute_result"
    }
   ],
   "source": [
    "iemocap1"
   ]
  },
  {
   "cell_type": "code",
   "execution_count": 22,
   "metadata": {
    "colab": {
     "base_uri": "https://localhost:8080/"
    },
    "id": "rHJE-DJPH83N",
    "outputId": "798a5f27-2d5a-4ce9-8388-ee7ce0fb9678"
   },
   "outputs": [
    {
     "name": "stdout",
     "output_type": "stream",
     "text": [
      "split 1 counts\n",
      "TURN                            1819\n",
      "UTTERANCE                       1819\n",
      "DA                              1819\n",
      "EMOTION                         1819\n",
      "audio_file                      1819\n",
      "                                ... \n",
      "MeanVoicedSegmentLengthSec      1819\n",
      "StddevVoicedSegmentLengthSec    1819\n",
      "MeanUnvoicedSegmentLength       1819\n",
      "StddevUnvoicedSegmentLength     1819\n",
      "equivalentSoundLevel_dBp        1819\n",
      "Length: 93, dtype: int64\n",
      "split 2 counts\n",
      "TURN                            1762\n",
      "UTTERANCE                       1762\n",
      "DA                              1762\n",
      "EMOTION                         1762\n",
      "audio_file                      1762\n",
      "                                ... \n",
      "MeanVoicedSegmentLengthSec      1762\n",
      "StddevVoicedSegmentLengthSec    1762\n",
      "MeanUnvoicedSegmentLength       1762\n",
      "StddevUnvoicedSegmentLength     1762\n",
      "equivalentSoundLevel_dBp        1762\n",
      "Length: 93, dtype: int64\n",
      "split 3 counts\n",
      "TURN                            1760\n",
      "UTTERANCE                       1760\n",
      "DA                              1760\n",
      "EMOTION                         1760\n",
      "audio_file                      1760\n",
      "                                ... \n",
      "MeanVoicedSegmentLengthSec      1760\n",
      "StddevVoicedSegmentLengthSec    1760\n",
      "MeanUnvoicedSegmentLength       1760\n",
      "StddevUnvoicedSegmentLength     1760\n",
      "equivalentSoundLevel_dBp        1760\n",
      "Length: 93, dtype: int64\n",
      "split 4 counts\n",
      "TURN                            1865\n",
      "UTTERANCE                       1865\n",
      "DA                              1865\n",
      "EMOTION                         1865\n",
      "audio_file                      1865\n",
      "                                ... \n",
      "MeanVoicedSegmentLengthSec      1865\n",
      "StddevVoicedSegmentLengthSec    1865\n",
      "MeanUnvoicedSegmentLength       1865\n",
      "StddevUnvoicedSegmentLength     1865\n",
      "equivalentSoundLevel_dBp        1865\n",
      "Length: 93, dtype: int64\n",
      "split 5 counts\n",
      "TURN                            2170\n",
      "UTTERANCE                       2170\n",
      "DA                              2170\n",
      "EMOTION                         2170\n",
      "audio_file                      2170\n",
      "                                ... \n",
      "MeanVoicedSegmentLengthSec      2170\n",
      "StddevVoicedSegmentLengthSec    2170\n",
      "MeanUnvoicedSegmentLength       2170\n",
      "StddevUnvoicedSegmentLength     2170\n",
      "equivalentSoundLevel_dBp        2170\n",
      "Length: 93, dtype: int64\n"
     ]
    }
   ],
   "source": [
    "# Figure out null columns\n",
    "print(\"split 1 counts\")\n",
    "print(iemocap1.count())\n",
    "\n",
    "print(\"split 2 counts\")\n",
    "print(iemocap2.count())\n",
    "\n",
    "print(\"split 3 counts\")\n",
    "print(iemocap3.count())\n",
    "\n",
    "print(\"split 4 counts\")\n",
    "print(iemocap4.count())\n",
    "\n",
    "print(\"split 5 counts\")\n",
    "print(iemocap5.count())"
   ]
  },
  {
   "cell_type": "code",
   "execution_count": 23,
   "metadata": {},
   "outputs": [],
   "source": [
    "# Get the DA labels\n",
    "da_labels_iemocap1 = iemocap1['DA']\n",
    "da_labels_iemocap2 = iemocap2['DA']\n",
    "da_labels_iemocap3 = iemocap3['DA']\n",
    "da_labels_iemocap4 = iemocap4['DA']\n",
    "da_labels_iemocap5 = iemocap5['DA']\n",
    "\n",
    "# Emotion labels\n",
    "emot_labels_iemocap1 = iemocap1['EMOTION']\n",
    "emot_labels_iemocap2 = iemocap2['EMOTION']\n",
    "emot_labels_iemocap3 = iemocap3['EMOTION']\n",
    "emot_labels_iemocap4 = iemocap4['EMOTION']\n",
    "emot_labels_iemocap5 = iemocap5['EMOTION']"
   ]
  },
  {
   "cell_type": "code",
   "execution_count": 24,
   "metadata": {},
   "outputs": [
    {
     "data": {
      "text/plain": [
       "s      2170\n",
       "o      2073\n",
       "q      1945\n",
       "ans    1429\n",
       "ag      497\n",
       "dag     372\n",
       "c       350\n",
       "b       284\n",
       "ap       75\n",
       "oth      68\n",
       "g        59\n",
       "a        54\n",
       "Name: DA, dtype: int64"
      ]
     },
     "execution_count": 24,
     "metadata": {},
     "output_type": "execute_result"
    }
   ],
   "source": [
    "# Get a sense of the value counts for the data\n",
    "full_da_labels = pd.concat([da_labels_iemocap1, da_labels_iemocap2, da_labels_iemocap3, da_labels_iemocap4, da_labels_iemocap5])\n",
    "full_da_labels.value_counts()"
   ]
  },
  {
   "cell_type": "code",
   "execution_count": 25,
   "metadata": {},
   "outputs": [
    {
     "data": {
      "text/plain": [
       "xxx    2305\n",
       "fru    1714\n",
       "neu    1613\n",
       "ang    1034\n",
       "sad    1011\n",
       "exc     999\n",
       "hap     563\n",
       "sur      94\n",
       "fea      38\n",
       "oth       3\n",
       "dis       2\n",
       "Name: EMOTION, dtype: int64"
      ]
     },
     "execution_count": 25,
     "metadata": {},
     "output_type": "execute_result"
    }
   ],
   "source": [
    "full_emot_data = pd.concat([emot_labels_iemocap1, emot_labels_iemocap2, emot_labels_iemocap3, emot_labels_iemocap4, emot_labels_iemocap5])\n",
    "full_emot_data.value_counts()"
   ]
  },
  {
   "cell_type": "code",
   "execution_count": 26,
   "metadata": {
    "colab": {
     "base_uri": "https://localhost:8080/"
    },
    "id": "VfnPtGvu1OSU",
    "outputId": "12aa201c-f4f1-4e25-bb25-8bf56a5b9e10"
   },
   "outputs": [],
   "source": [
    "# Turn code into categorical data\n",
    "# Create one hot embeddings of the label values (0, 1, 2)\n",
    "from tensorflow.keras.utils import to_categorical\n",
    "from sklearn import preprocessing\n",
    "import numpy as np\n",
    "\n",
    "# Full set of dialogue act labels\n",
    "da_labels = ['s', 'q', 'o', 'ans', 'c', 'ag', 'b', 'dag', 'oth', 'a', 'ap', 'g']\n",
    "da_encoder = preprocessing.LabelEncoder()\n",
    "da_encoder.fit(da_labels)\n",
    "\n",
    "emotion_labels = ['xxx', 'fru', 'neu', 'ang', 'sad', 'exc', 'hap', 'sur', 'fea', 'oth', 'dis']\n",
    "emotion_encoder = preprocessing.LabelEncoder()\n",
    "emotion_encoder.fit(emotion_labels)\n",
    "\n",
    "def convert_da_labels_to_categorical(dialog_acts):\n",
    "    num_labels = da_encoder.transform(dialog_acts)\n",
    "    cat_labels = to_categorical(num_labels)\n",
    "    return cat_labels\n",
    "\n",
    "def convert_cat_da_to_string(cat_das):\n",
    "    num_labels = np.argmax(cat_das, axis=-1)\n",
    "    return da_encoder.inverse_transform(num_labels)\n",
    "\n",
    "def convert_emot_labels_to_categorical(emot_data):\n",
    "    num_labels = emotion_encoder.transform(emot_data)\n",
    "    cat_labels = to_categorical(num_labels)\n",
    "    return cat_labels\n",
    "\n",
    "def convert_cat_emot_to_string(cat_emot_data):\n",
    "    num_labels = np.argmax(cat_emot_data, axis=-1)\n",
    "    return emotion_encoder.inverse_transform(num_labels)"
   ]
  },
  {
   "cell_type": "code",
   "execution_count": 27,
   "metadata": {},
   "outputs": [
    {
     "name": "stdout",
     "output_type": "stream",
     "text": [
      "c\n",
      "[0. 0. 0. 0. 0. 1. 0. 0. 0. 0. 0. 0.]\n",
      "c\n",
      "neu\n",
      "[0. 0. 0. 0. 0. 0. 1. 0. 0. 0. 0.]\n",
      "neu\n"
     ]
    }
   ],
   "source": [
    "print(da_labels_iemocap1[0])\n",
    "cat_1_labels = convert_da_labels_to_categorical(da_labels_iemocap1)\n",
    "print(cat_1_labels[0])\n",
    "string_das = convert_cat_da_to_string(cat_1_labels)\n",
    "print(string_das[0])\n",
    "\n",
    "print(emot_labels_iemocap1[0])\n",
    "cat_1_emot_labels = convert_emot_labels_to_categorical(emot_labels_iemocap1)\n",
    "print(cat_1_emot_labels[0])\n",
    "string_emot = convert_cat_emot_to_string(cat_1_emot_labels)\n",
    "print(string_emot[0])"
   ]
  },
  {
   "cell_type": "code",
   "execution_count": 22,
   "metadata": {
    "id": "RXx0B6n5rsci"
   },
   "outputs": [],
   "source": [
    "## Create our Text Vectorizer to index our vocabulary based on the train samples \n",
    "from keras.layers import TextVectorization\n",
    "import tensorflow as tf\n",
    "\n",
    "def create_text_vectorizer_for_train_samples(train_set):\n",
    "    train_samples = [utterance for utterance in train_set['UTTERANCE']]\n",
    "\n",
    "    vectorizer = TextVectorization(max_tokens=10000, output_sequence_length=100)\n",
    "    text_ds = tf.data.Dataset.from_tensor_slices(train_samples).batch(128) ## Read batches of 128 samples\n",
    "    vectorizer.adapt(text_ds)\n",
    "    return vectorizer"
   ]
  },
  {
   "cell_type": "code",
   "execution_count": 25,
   "metadata": {
    "colab": {
     "base_uri": "https://localhost:8080/",
     "height": 423
    },
    "id": "55xTh1qJ5HHs",
    "outputId": "1bb709b7-aa33-4638-82f8-79e27ffbffc8"
   },
   "outputs": [],
   "source": [
    "vectorizer = create_text_vectorizer_for_train_samples(iemocap1)"
   ]
  },
  {
   "cell_type": "code",
   "execution_count": 29,
   "metadata": {
    "id": "39_80VAIyYLW"
   },
   "outputs": [],
   "source": [
    "import numpy as np\n",
    "\n",
    "x_train = vectorizer(np.array([[s] for s in iemocap1])).numpy()"
   ]
  },
  {
   "cell_type": "code",
   "execution_count": 49,
   "metadata": {
    "colab": {
     "base_uri": "https://localhost:8080/"
    },
    "id": "JWzZIeggzWDM",
    "outputId": "3eea8555-d2a0-4ec0-cd1f-1a18084b46bc"
   },
   "outputs": [
    {
     "name": "stdout",
     "output_type": "stream",
     "text": [
      "Found 400000 word vectors.\n"
     ]
    }
   ],
   "source": [
    "from keras.layers import Embedding\n",
    "from keras.initializers import Constant\n",
    "import os\n",
    "import numpy as np\n",
    "\n",
    "# Load the GloVE embeddings\n",
    "path_to_glove_file = \"glove.6B.300d.txt\"\n",
    "\n",
    "embeddings_index = {}\n",
    "with open(path_to_glove_file) as f:\n",
    "  for line in f:\n",
    "    word, coefs = line.split(maxsplit=1)\n",
    "    coefs = np.fromstring(coefs, \"f\", sep=\" \")\n",
    "    embeddings_index[word] = coefs\n",
    "\n",
    "print(\"Found %s word vectors.\" % len(embeddings_index))\n",
    "\n",
    "def create_glove_embedding_matrix_for_vectorizer(vectorizer):\n",
    "    # Create embedding matrix with our vocabulary indexed on glove\n",
    "    voc = vectorizer.get_vocabulary()\n",
    "    word_index = dict(zip(voc, range(len(voc))))\n",
    "\n",
    "    num_tokens = len(voc) \n",
    "    embedding_dim = 300 ## 300 dimensions (as dictated by the glove file)\n",
    "    hits = 0 ## number of words that were found in the pretrained model\n",
    "    misses = 0 ## number of words that were missing in the pretrained model\n",
    "\n",
    "    # Prepare embedding matrix for our word list\n",
    "    embedding_matrix = np.zeros((num_tokens, embedding_dim))\n",
    "    for word, i in word_index.items():\n",
    "        embedding_vector = embeddings_index.get(word)\n",
    "        if embedding_vector is not None:\n",
    "          # Words not found in embedding index will be all-zeros.\n",
    "          # This includes the representation for \"padding\" and \"OOV\"\n",
    "          embedding_matrix[i] = embedding_vector\n",
    "          hits += 1\n",
    "        else:\n",
    "          misses += 1\n",
    "    print(\"Converted %d words (%d misses)\" % (hits, misses))\n",
    "    \n",
    "    return embedding_matrix\n",
    "\n",
    "def create_glove_embedding_layer_for_matrix(embedding_matrix):\n",
    "    glove_embedding_layer = Embedding(num_tokens, embedding_dim, embeddings_initializer=Constant(embedding_matrix), trainable=False)\n",
    "    return glove_embedding_layer"
   ]
  },
  {
   "cell_type": "code",
   "execution_count": 51,
   "metadata": {
    "id": "iTad7EkIztii"
   },
   "outputs": [],
   "source": [
    "# Save the glove embeddings for each file \n",
    "import pickle\n",
    "\n",
    "iemocap_prefix = \"iemocap_\"\n",
    "glove_embedding_prefix = \"glove_embedding_\"\n",
    "\n",
    "def create_and_pickle_glove_embeddings(iemocap_data, split_number):\n",
    "    print(\"Creating vectorizer\")\n",
    "    text_vectorizer = create_text_vectorizer_for_train_samples(iemocap_data)\n",
    "    \n",
    "    print(\"Creating embedding matrix\")\n",
    "    embedding_matrix = create_glove_embedding_matrix_for_vectorizer(text_vectorizer)\n",
    "    \n",
    "    print(\"Dumping to pickle file\")\n",
    "    output_file = glove_embedding_prefix + iemocap_prefix + str(split_number) + '.pickle'\n",
    "    with open(output_file, 'wb') as f:\n",
    "        pickle.dump(embedding_matrix, f)\n",
    "    \n",
    "    print(\"Success!\")"
   ]
  },
  {
   "cell_type": "code",
   "execution_count": 53,
   "metadata": {},
   "outputs": [
    {
     "name": "stdout",
     "output_type": "stream",
     "text": [
      "Creating vectorizer\n",
      "Creating embedding matrix\n",
      "Converted 1706 words (97 misses)\n",
      "Dumping to pickle file\n",
      "Success!\n",
      "Creating vectorizer\n",
      "Creating embedding matrix\n",
      "Converted 1685 words (193 misses)\n",
      "Dumping to pickle file\n",
      "Success!\n",
      "Creating vectorizer\n",
      "Creating embedding matrix\n",
      "Converted 1680 words (163 misses)\n",
      "Dumping to pickle file\n",
      "Success!\n",
      "Creating vectorizer\n",
      "Creating embedding matrix\n",
      "Converted 1763 words (55 misses)\n",
      "Dumping to pickle file\n",
      "Success!\n",
      "Creating vectorizer\n",
      "Creating embedding matrix\n",
      "Converted 1841 words (83 misses)\n",
      "Dumping to pickle file\n",
      "Success!\n"
     ]
    }
   ],
   "source": [
    "# Create and save glove embeddings for the IEMOCAP files\n",
    "create_and_pickle_glove_embeddings(iemocap1, 1)\n",
    "create_and_pickle_glove_embeddings(iemocap2, 2)\n",
    "create_and_pickle_glove_embeddings(iemocap3, 3)\n",
    "create_and_pickle_glove_embeddings(iemocap4, 4)\n",
    "create_and_pickle_glove_embeddings(iemocap5, 5)"
   ]
  },
  {
   "cell_type": "code",
   "execution_count": 56,
   "metadata": {},
   "outputs": [],
   "source": [
    "# Load the Glove embedding matrix\n",
    "\n",
    "def load_glove_embedding_matrix(filename):\n",
    "    glove_embedding_matrix = np.array(np.load(filename), allow_pickle=True)\n",
    "    return glove_embedding_matrix"
   ]
  },
  {
   "cell_type": "code",
   "execution_count": null,
   "metadata": {},
   "outputs": [],
   "source": [
    "iemocap1_glove = load_glove_embedding_matrix(glove_embedding_iemocap_1.pickle)\n",
    "iemocap2_glove = load_glove_embedding_matrix(glove_embedding_iemocap_2.pickle)\n",
    "iemocap3_glove = load_glove_embedding_matrix(glove_embedding_iemocap_3.pickle)\n",
    "iemocap4_glove = load_glove_embedding_matrix(glove_embedding_iemocap_4.pickle)\n",
    "iemocap5_glove = load_glove_embedding_matrix(glove_embedding_iemocap_.pickle)"
   ]
  },
  {
   "cell_type": "code",
   "execution_count": 13,
   "metadata": {
    "colab": {
     "base_uri": "https://localhost:8080/"
    },
    "id": "FCMLqNR9GSA9",
    "outputId": "d0fdfb17-94fc-491e-f4e6-de89a711618e"
   },
   "outputs": [
    {
     "name": "stderr",
     "output_type": "stream",
     "text": [
      "All model checkpoint layers were used when initializing TFBertForSequenceClassification.\n",
      "\n",
      "Some layers of TFBertForSequenceClassification were not initialized from the model checkpoint at bert-base-uncased and are newly initialized: ['classifier']\n",
      "You should probably TRAIN this model on a down-stream task to be able to use it for predictions and inference.\n"
     ]
    }
   ],
   "source": [
    "# Create a BERT encoding of the data\n",
    "import tensorflow\n",
    "from transformers import BertTokenizer, TFBertForSequenceClassification\n",
    "from tensorflow.python.ops.numpy_ops import np_config\n",
    "\n",
    "np_config.enable_numpy_behavior()\n",
    "\n",
    "tokenizer = BertTokenizer.from_pretrained('bert-base-uncased')\n",
    "model = TFBertForSequenceClassification.from_pretrained('bert-base-uncased') \n",
    "\n",
    "def generate_bert_encoding(sentence):\n",
    "    inputs = tokenizer.encode(sentence, padding=True, truncation=True, max_length=50, return_tensors=\"tf\")\n",
    "    outputs = model(inputs, output_hidden_states=True)\n",
    "    last_hidden_layer = outputs.hidden_states[-1]\n",
    "    feature_vector = last_hidden_layer.numpy()\n",
    "    feature_vector.resize((500,))\n",
    "    return feature_vector\n",
    "\n",
    "def generate_bert_encodings_for_samples(samples):\n",
    "    bert_encodings = []\n",
    "    progress_count = 1\n",
    "    size = len(samples)\n",
    "    for s in samples:\n",
    "        if progress_count % 500 == 0:\n",
    "            print(f\"Progress: {progress_count}/{size}\")\n",
    "        b_encode = generate_bert_encoding(s)\n",
    "        bert_encodings.append(b_encode)\n",
    "        progress_count +=1\n",
    "    return bert_encodings"
   ]
  },
  {
   "cell_type": "code",
   "execution_count": 10,
   "metadata": {
    "id": "xmBwxhx8yryw"
   },
   "outputs": [],
   "source": [
    "# Save the feature input \n",
    "import pickle\n",
    "\n",
    "iemocap_prefix = \"iemocap_\"\n",
    "bert_embedding_prefix = \"bert_embedding_\"\n",
    "def features_pickeled(filename, results):\n",
    "    filename = filename + '.pickle'\n",
    "    with open(filename, 'wb') as f:\n",
    "        pickle.dump(results, f)"
   ]
  },
  {
   "cell_type": "code",
   "execution_count": 14,
   "metadata": {},
   "outputs": [
    {
     "name": "stdout",
     "output_type": "stream",
     "text": [
      "Progress: 500/1819\n",
      "Progress: 1000/1819\n",
      "Progress: 1500/1819\n"
     ]
    }
   ],
   "source": [
    "iemocap_1_utterances = [utterance for utterance in iemocap1['UTTERANCE']]\n",
    "iemocap_1_bert_encodings = generate_bert_encodings_for_samples(iemocap_1_utterances)\n",
    "fname = bert_embedding_prefix + iemocap_prefix + \"1\"\n",
    "features_pickeled(fname, iemocap_1_bert_encodings)"
   ]
  },
  {
   "cell_type": "code",
   "execution_count": 21,
   "metadata": {},
   "outputs": [
    {
     "name": "stdout",
     "output_type": "stream",
     "text": [
      "Progress: 500/1762\n",
      "Progress: 1000/1762\n",
      "Progress: 1500/1762\n"
     ]
    }
   ],
   "source": [
    "iemocap_2_utterances = [utterance for utterance in iemocap2['UTTERANCE']]\n",
    "iemocap_2_bert_encodings = generate_bert_encodings_for_samples(iemocap_2_utterances)\n",
    "fname = bert_embedding_prefix + iemocap_prefix + \"2\"\n",
    "features_pickeled(fname, iemocap_2_bert_encodings)"
   ]
  },
  {
   "cell_type": "code",
   "execution_count": 22,
   "metadata": {},
   "outputs": [
    {
     "name": "stdout",
     "output_type": "stream",
     "text": [
      "Progress: 500/1760\n",
      "Progress: 1000/1760\n",
      "Progress: 1500/1760\n"
     ]
    }
   ],
   "source": [
    "iemocap_3_utterances = [utterance for utterance in iemocap3['UTTERANCE']]\n",
    "iemocap_3_bert_encodings = generate_bert_encodings_for_samples(iemocap_3_utterances)\n",
    "fname = bert_embedding_prefix + iemocap_prefix + \"3\"\n",
    "features_pickeled(fname, iemocap_3_bert_encodings)"
   ]
  },
  {
   "cell_type": "code",
   "execution_count": 23,
   "metadata": {},
   "outputs": [
    {
     "name": "stdout",
     "output_type": "stream",
     "text": [
      "Progress: 500/1865\n",
      "Progress: 1000/1865\n",
      "Progress: 1500/1865\n"
     ]
    }
   ],
   "source": [
    "iemocap_4_utterances = [utterance for utterance in iemocap4['UTTERANCE']]\n",
    "iemocap_4_bert_encodings = generate_bert_encodings_for_samples(iemocap_4_utterances)\n",
    "fname = bert_embedding_prefix + iemocap_prefix + \"4\"\n",
    "features_pickeled(fname, iemocap_4_bert_encodings)"
   ]
  },
  {
   "cell_type": "code",
   "execution_count": 24,
   "metadata": {},
   "outputs": [
    {
     "name": "stdout",
     "output_type": "stream",
     "text": [
      "Progress: 500/2170\n",
      "Progress: 1000/2170\n",
      "Progress: 1500/2170\n",
      "Progress: 2000/2170\n"
     ]
    }
   ],
   "source": [
    "iemocap_5_utterances = [utterance for utterance in iemocap5['UTTERANCE']]\n",
    "iemocap_5_bert_encodings = generate_bert_encodings_for_samples(iemocap_5_utterances)\n",
    "fname = bert_embedding_prefix + iemocap_prefix + \"5\"\n",
    "features_pickeled(fname, iemocap_5_bert_encodings)"
   ]
  },
  {
   "cell_type": "code",
   "execution_count": 25,
   "metadata": {},
   "outputs": [
    {
     "name": "stdout",
     "output_type": "stream",
     "text": [
      "(1819, 500)\n",
      "(1762, 500)\n",
      "(1760, 500)\n",
      "(1865, 500)\n",
      "(2170, 500)\n"
     ]
    }
   ],
   "source": [
    "# Load Bert encodings\n",
    "import numpy as np\n",
    "\n",
    "iemocap1_bert_features = np.array(np.load(bert_embedding_prefix + iemocap_prefix + \"1.pickle\", allow_pickle=True))\n",
    "iemocap2_bert_features = np.array(np.load(bert_embedding_prefix + iemocap_prefix + \"2.pickle\", allow_pickle=True))\n",
    "iemocap3_bert_features = np.array(np.load(bert_embedding_prefix + iemocap_prefix + \"3.pickle\", allow_pickle=True))\n",
    "iemocap4_bert_features = np.array(np.load(bert_embedding_prefix + iemocap_prefix + \"4.pickle\", allow_pickle=True))\n",
    "iemocap5_bert_features = np.array(np.load(bert_embedding_prefix + iemocap_prefix + \"5.pickle\", allow_pickle=True))\n",
    "\n",
    "print(iemocap1_bert_features.shape)\n",
    "print(iemocap2_bert_features.shape)\n",
    "print(iemocap3_bert_features.shape)\n",
    "print(iemocap4_bert_features.shape)\n",
    "print(iemocap5_bert_features.shape)"
   ]
  },
  {
   "cell_type": "code",
   "execution_count": null,
   "metadata": {
    "colab": {
     "base_uri": "https://localhost:8080/",
     "height": 17
    },
    "id": "RD4BbrYUzLrV",
    "outputId": "411ef76a-0757-480c-883c-94321f173d58"
   },
   "outputs": [
    {
     "data": {
      "application/javascript": [
       "\n",
       "    async function download(id, filename, size) {\n",
       "      if (!google.colab.kernel.accessAllowed) {\n",
       "        return;\n",
       "      }\n",
       "      const div = document.createElement('div');\n",
       "      const label = document.createElement('label');\n",
       "      label.textContent = `Downloading \"${filename}\": `;\n",
       "      div.appendChild(label);\n",
       "      const progress = document.createElement('progress');\n",
       "      progress.max = size;\n",
       "      div.appendChild(progress);\n",
       "      document.body.appendChild(div);\n",
       "\n",
       "      const buffers = [];\n",
       "      let downloaded = 0;\n",
       "\n",
       "      const channel = await google.colab.kernel.comms.open(id);\n",
       "      // Send a message to notify the kernel that we're ready.\n",
       "      channel.send({})\n",
       "\n",
       "      for await (const message of channel.messages) {\n",
       "        // Send a message to notify the kernel that we're ready.\n",
       "        channel.send({})\n",
       "        if (message.buffers) {\n",
       "          for (const buffer of message.buffers) {\n",
       "            buffers.push(buffer);\n",
       "            downloaded += buffer.byteLength;\n",
       "            progress.value = downloaded;\n",
       "          }\n",
       "        }\n",
       "      }\n",
       "      const blob = new Blob(buffers, {type: 'application/binary'});\n",
       "      const a = document.createElement('a');\n",
       "      a.href = window.URL.createObjectURL(blob);\n",
       "      a.download = filename;\n",
       "      div.appendChild(a);\n",
       "      a.click();\n",
       "      div.remove();\n",
       "    }\n",
       "  "
      ],
      "text/plain": [
       "<IPython.core.display.Javascript object>"
      ]
     },
     "metadata": {},
     "output_type": "display_data"
    },
    {
     "data": {
      "application/javascript": [
       "download(\"download_54b5e1e4-1c66-4299-8e42-ed7b377992a8\", \"bert_train_features.txt\", 11028216)"
      ],
      "text/plain": [
       "<IPython.core.display.Javascript object>"
      ]
     },
     "metadata": {},
     "output_type": "display_data"
    },
    {
     "data": {
      "application/javascript": [
       "\n",
       "    async function download(id, filename, size) {\n",
       "      if (!google.colab.kernel.accessAllowed) {\n",
       "        return;\n",
       "      }\n",
       "      const div = document.createElement('div');\n",
       "      const label = document.createElement('label');\n",
       "      label.textContent = `Downloading \"${filename}\": `;\n",
       "      div.appendChild(label);\n",
       "      const progress = document.createElement('progress');\n",
       "      progress.max = size;\n",
       "      div.appendChild(progress);\n",
       "      document.body.appendChild(div);\n",
       "\n",
       "      const buffers = [];\n",
       "      let downloaded = 0;\n",
       "\n",
       "      const channel = await google.colab.kernel.comms.open(id);\n",
       "      // Send a message to notify the kernel that we're ready.\n",
       "      channel.send({})\n",
       "\n",
       "      for await (const message of channel.messages) {\n",
       "        // Send a message to notify the kernel that we're ready.\n",
       "        channel.send({})\n",
       "        if (message.buffers) {\n",
       "          for (const buffer of message.buffers) {\n",
       "            buffers.push(buffer);\n",
       "            downloaded += buffer.byteLength;\n",
       "            progress.value = downloaded;\n",
       "          }\n",
       "        }\n",
       "      }\n",
       "      const blob = new Blob(buffers, {type: 'application/binary'});\n",
       "      const a = document.createElement('a');\n",
       "      a.href = window.URL.createObjectURL(blob);\n",
       "      a.download = filename;\n",
       "      div.appendChild(a);\n",
       "      a.click();\n",
       "      div.remove();\n",
       "    }\n",
       "  "
      ],
      "text/plain": [
       "<IPython.core.display.Javascript object>"
      ]
     },
     "metadata": {},
     "output_type": "display_data"
    },
    {
     "data": {
      "application/javascript": [
       "download(\"download_c650e164-a29b-45fb-baf4-47267b870186\", \"bert_valid_features.txt\", 3837556)"
      ],
      "text/plain": [
       "<IPython.core.display.Javascript object>"
      ]
     },
     "metadata": {},
     "output_type": "display_data"
    },
    {
     "data": {
      "application/javascript": [
       "\n",
       "    async function download(id, filename, size) {\n",
       "      if (!google.colab.kernel.accessAllowed) {\n",
       "        return;\n",
       "      }\n",
       "      const div = document.createElement('div');\n",
       "      const label = document.createElement('label');\n",
       "      label.textContent = `Downloading \"${filename}\": `;\n",
       "      div.appendChild(label);\n",
       "      const progress = document.createElement('progress');\n",
       "      progress.max = size;\n",
       "      div.appendChild(progress);\n",
       "      document.body.appendChild(div);\n",
       "\n",
       "      const buffers = [];\n",
       "      let downloaded = 0;\n",
       "\n",
       "      const channel = await google.colab.kernel.comms.open(id);\n",
       "      // Send a message to notify the kernel that we're ready.\n",
       "      channel.send({})\n",
       "\n",
       "      for await (const message of channel.messages) {\n",
       "        // Send a message to notify the kernel that we're ready.\n",
       "        channel.send({})\n",
       "        if (message.buffers) {\n",
       "          for (const buffer of message.buffers) {\n",
       "            buffers.push(buffer);\n",
       "            downloaded += buffer.byteLength;\n",
       "            progress.value = downloaded;\n",
       "          }\n",
       "        }\n",
       "      }\n",
       "      const blob = new Blob(buffers, {type: 'application/binary'});\n",
       "      const a = document.createElement('a');\n",
       "      a.href = window.URL.createObjectURL(blob);\n",
       "      a.download = filename;\n",
       "      div.appendChild(a);\n",
       "      a.click();\n",
       "      div.remove();\n",
       "    }\n",
       "  "
      ],
      "text/plain": [
       "<IPython.core.display.Javascript object>"
      ]
     },
     "metadata": {},
     "output_type": "display_data"
    },
    {
     "data": {
      "application/javascript": [
       "download(\"download_bb105d2b-8ab1-4461-a45a-ff86afefe215\", \"bert_test_features.txt\", 4518756)"
      ],
      "text/plain": [
       "<IPython.core.display.Javascript object>"
      ]
     },
     "metadata": {},
     "output_type": "display_data"
    }
   ],
   "source": [
    "train_feature_file = 'bert_train_features'\n",
    "valid_feature_file = 'bert_valid_features'\n",
    "test_feature_file = 'bert_test_features'\n",
    "features_pickeled(train_feature_file, bert_encoded_train_samples)\n",
    "features_pickeled(valid_feature_file, bert_encoded_validation_samples)\n",
    "features_pickeled(test_feature_file, bert_encoded_test_samples)\n"
   ]
  },
  {
   "cell_type": "code",
   "execution_count": null,
   "metadata": {
    "id": "ZBOZvt6E0HBY"
   },
   "outputs": [],
   "source": [
    "import numpy as np\n",
    "# Upload pickle files\n",
    "train_feature_file = 'bert_train_features.txt'\n",
    "valid_feature_file = 'bert_valid_features.txt'\n",
    "test_feature_file = 'bert_test_features.txt'\n",
    "\n",
    "train_bert_features = np.load(train_feature_file, allow_pickle=True)\n",
    "valid_bert_features = np.load(valid_feature_file, allow_pickle=True)\n",
    "test_bert_features = np.load(test_feature_file, allow_pickle=True)\n"
   ]
  },
  {
   "cell_type": "code",
   "execution_count": null,
   "metadata": {
    "colab": {
     "base_uri": "https://localhost:8080/"
    },
    "id": "rGSUQUra2KNj",
    "outputId": "01688494-5f60-48c5-b3d5-4e10bbf03871"
   },
   "outputs": [
    {
     "name": "stdout",
     "output_type": "stream",
     "text": [
      "2679500\n",
      "932500\n",
      "1098000\n"
     ]
    }
   ],
   "source": [
    "print(np.array(train_bert_features).size)\n",
    "print(np.array(valid_bert_features).size)\n",
    "print(np.array(test_bert_features).size)"
   ]
  },
  {
   "cell_type": "code",
   "execution_count": null,
   "metadata": {
    "id": "qO88hI7g0qQs"
   },
   "outputs": [],
   "source": [
    "from keras import layers, Input, Model\n",
    "def create_lstm_with_pretrained_embedding(X, y, embedding_layer):\n",
    "  int_sequences_input = Input(shape=(None,), dtype=\"int64\")\n",
    "  embedded_seq = embedding_layer(int_sequences_input)\n",
    "  x = layers.Bidirectional(layers.LSTM(20, return_sequences=True))(embedded_seq)\n",
    "  x = layers.Bidirectional(layers.LSTM(20))(x)\n",
    "  preds = layers.Dense(y.shape[1], activation=\"softmax\")(x)\n",
    "  model = Model(int_sequences_input, preds)\n",
    "  model.compile(loss='categorical_crossentropy', optimizer='adam', metrics=[\"acc\"])\n",
    "  model.fit(X, y, batch_size=128, epochs=15)\n",
    "  return model"
   ]
  },
  {
   "cell_type": "code",
   "execution_count": null,
   "metadata": {
    "colab": {
     "base_uri": "https://localhost:8080/"
    },
    "id": "em4Q7o1E0ryj",
    "outputId": "439bbaae-af93-4a00-be5b-e4ab355ea714"
   },
   "outputs": [
    {
     "name": "stdout",
     "output_type": "stream",
     "text": [
      "Epoch 1/15\n",
      "42/42 [==============================] - 16s 190ms/step - loss: 2.0921 - acc: 0.2280\n",
      "Epoch 2/15\n",
      "42/42 [==============================] - 9s 223ms/step - loss: 1.8489 - acc: 0.2836\n",
      "Epoch 3/15\n",
      "42/42 [==============================] - 8s 190ms/step - loss: 1.7572 - acc: 0.3525\n",
      "Epoch 4/15\n",
      "42/42 [==============================] - 8s 191ms/step - loss: 1.6803 - acc: 0.3945\n",
      "Epoch 5/15\n",
      "42/42 [==============================] - 8s 190ms/step - loss: 1.6170 - acc: 0.4096\n",
      "Epoch 6/15\n",
      "42/42 [==============================] - 8s 189ms/step - loss: 1.5682 - acc: 0.4320\n",
      "Epoch 7/15\n",
      "42/42 [==============================] - 8s 191ms/step - loss: 1.5196 - acc: 0.4506\n",
      "Epoch 8/15\n",
      "42/42 [==============================] - 8s 189ms/step - loss: 1.4711 - acc: 0.4665\n",
      "Epoch 9/15\n",
      "42/42 [==============================] - 8s 189ms/step - loss: 1.4139 - acc: 0.4867\n",
      "Epoch 10/15\n",
      "42/42 [==============================] - 8s 190ms/step - loss: 1.3647 - acc: 0.5091\n",
      "Epoch 11/15\n",
      "42/42 [==============================] - 8s 192ms/step - loss: 1.3251 - acc: 0.5225\n",
      "Epoch 12/15\n",
      "42/42 [==============================] - 8s 190ms/step - loss: 1.2892 - acc: 0.5380\n",
      "Epoch 13/15\n",
      "42/42 [==============================] - 8s 188ms/step - loss: 1.2425 - acc: 0.5568\n",
      "Epoch 14/15\n",
      "42/42 [==============================] - 8s 188ms/step - loss: 1.2149 - acc: 0.5699\n",
      "Epoch 15/15\n",
      "42/42 [==============================] - 9s 223ms/step - loss: 1.1785 - acc: 0.5829\n"
     ]
    }
   ],
   "source": [
    "lstm_with_glove = create_lstm_with_pretrained_embedding(x_train, y, glove_embedding_layer)"
   ]
  },
  {
   "cell_type": "code",
   "execution_count": null,
   "metadata": {
    "id": "jCbyIFjX4LeV"
   },
   "outputs": [],
   "source": [
    "from sklearn.metrics import precision_score, recall_score\n",
    "\n",
    "lstm_preds = lstm_with_glove.predict(x_test)"
   ]
  },
  {
   "cell_type": "code",
   "execution_count": null,
   "metadata": {
    "colab": {
     "base_uri": "https://localhost:8080/"
    },
    "id": "gSQm8gg867SM",
    "outputId": "6e7e55d6-abc3-41e2-fe09-671c305f8ad3"
   },
   "outputs": [
    {
     "data": {
      "text/plain": [
       "array([0.01358549, 0.06774132, 0.31696504, 0.0102386 , 0.03000929,\n",
       "       0.16078521, 0.0294242 , 0.0466288 , 0.02753933, 0.00931706,\n",
       "       0.0106237 , 0.277142  ], dtype=float32)"
      ]
     },
     "execution_count": 19,
     "metadata": {},
     "output_type": "execute_result"
    }
   ],
   "source": [
    "lstm_preds[0]"
   ]
  },
  {
   "cell_type": "code",
   "execution_count": null,
   "metadata": {
    "id": "g0jkUZbU7OVx"
   },
   "outputs": [],
   "source": [
    "import numpy as np\n",
    "\n",
    "lstm_pred_unilabel = np.argmax(lstm_preds, axis=-1)\n",
    "lstm_pred_unilabel[0]\n",
    "\n"
   ]
  },
  {
   "cell_type": "code",
   "execution_count": null,
   "metadata": {
    "colab": {
     "base_uri": "https://localhost:8080/"
    },
    "id": "uI5Sy1is41j9",
    "outputId": "946be09d-5f10-4394-a58b-07224368482c"
   },
   "outputs": [
    {
     "name": "stderr",
     "output_type": "stream",
     "text": [
      "/usr/local/lib/python3.7/dist-packages/sklearn/metrics/_classification.py:1318: UndefinedMetricWarning: Precision is ill-defined and being set to 0.0 in labels with no predicted samples. Use `zero_division` parameter to control this behavior.\n",
      "  _warn_prf(average, modifier, msg_start, len(result))\n"
     ]
    }
   ],
   "source": [
    "lstm_prec = precision_score(test_labels, lstm_pred_unilabel, average='macro')\n",
    "lstm_recall = recall_score(test_labels, lstm_pred_unilabel, average='macro')"
   ]
  },
  {
   "cell_type": "code",
   "execution_count": null,
   "metadata": {
    "colab": {
     "base_uri": "https://localhost:8080/"
    },
    "id": "myJt5zOK87_t",
    "outputId": "5254a301-a62f-4dc5-bfa8-abe82df1f76d"
   },
   "outputs": [
    {
     "name": "stdout",
     "output_type": "stream",
     "text": [
      "0.4612636786921445\n",
      "0.4054930325095512\n"
     ]
    }
   ],
   "source": [
    "print(lstm_prec)\n",
    "print(lstm_recall)"
   ]
  },
  {
   "cell_type": "code",
   "execution_count": null,
   "metadata": {
    "colab": {
     "base_uri": "https://localhost:8080/"
    },
    "id": "Xc6C_Zbn9SAy",
    "outputId": "52798703-c6f4-4a1b-aa8f-fe2ffb61cb0f"
   },
   "outputs": [
    {
     "data": {
      "text/plain": [
       "0.5182149362477231"
      ]
     },
     "execution_count": 26,
     "metadata": {},
     "output_type": "execute_result"
    }
   ],
   "source": [
    "from sklearn.metrics import accuracy_score\n",
    "\n",
    "accuracy_score(test_labels, lstm_pred_unilabel)"
   ]
  },
  {
   "cell_type": "code",
   "execution_count": null,
   "metadata": {
    "colab": {
     "base_uri": "https://localhost:8080/"
    },
    "id": "XKhI85H099LV",
    "outputId": "79c7bb4e-7fb7-45ff-fe64-47722bf9fec0"
   },
   "outputs": [
    {
     "name": "stdout",
     "output_type": "stream",
     "text": [
      "              precision    recall  f1-score   support\n",
      "\n",
      "           0       0.00      0.00      0.00         5\n",
      "           1       0.38      0.42      0.40       130\n",
      "           2       0.47      0.41      0.44       400\n",
      "           3       0.64      0.47      0.54        15\n",
      "           4       0.44      0.62      0.51        82\n",
      "           5       0.49      0.67      0.57        54\n",
      "           6       0.50      0.12      0.20        73\n",
      "           7       1.00      0.44      0.62        18\n",
      "           8       0.53      0.56      0.54       468\n",
      "           9       0.00      0.00      0.00        18\n",
      "          10       0.58      0.77      0.67       484\n",
      "          11       0.50      0.38      0.43       449\n",
      "\n",
      "    accuracy                           0.52      2196\n",
      "   macro avg       0.46      0.41      0.41      2196\n",
      "weighted avg       0.51      0.52      0.50      2196\n",
      "\n"
     ]
    },
    {
     "name": "stderr",
     "output_type": "stream",
     "text": [
      "/usr/local/lib/python3.7/dist-packages/sklearn/metrics/_classification.py:1318: UndefinedMetricWarning: Precision and F-score are ill-defined and being set to 0.0 in labels with no predicted samples. Use `zero_division` parameter to control this behavior.\n",
      "  _warn_prf(average, modifier, msg_start, len(result))\n",
      "/usr/local/lib/python3.7/dist-packages/sklearn/metrics/_classification.py:1318: UndefinedMetricWarning: Precision and F-score are ill-defined and being set to 0.0 in labels with no predicted samples. Use `zero_division` parameter to control this behavior.\n",
      "  _warn_prf(average, modifier, msg_start, len(result))\n",
      "/usr/local/lib/python3.7/dist-packages/sklearn/metrics/_classification.py:1318: UndefinedMetricWarning: Precision and F-score are ill-defined and being set to 0.0 in labels with no predicted samples. Use `zero_division` parameter to control this behavior.\n",
      "  _warn_prf(average, modifier, msg_start, len(result))\n"
     ]
    }
   ],
   "source": [
    "from sklearn.metrics import classification_report, confusion_matrix\n",
    "\n",
    "cr = classification_report(test_labels, lstm_pred_unilabel)\n",
    "print(cr)\n",
    "\n",
    "cm = confusion_matrix(test_labels, lstm_pred_unilabel)"
   ]
  },
  {
   "cell_type": "code",
   "execution_count": 8,
   "metadata": {
    "colab": {
     "base_uri": "https://localhost:8080/"
    },
    "id": "GCvsyLW7-bkm",
    "outputId": "edd7a1be-986d-4543-aae3-96502fb61fd8"
   },
   "outputs": [
    {
     "ename": "NameError",
     "evalue": "name 'da_encoder' is not defined",
     "output_type": "error",
     "traceback": [
      "\u001b[0;31m---------------------------------------------------------------------------\u001b[0m",
      "\u001b[0;31mNameError\u001b[0m                                 Traceback (most recent call last)",
      "\u001b[0;32m/var/folders/g0/nxm5h6qd04v_8zk3zfscq0_80000gn/T/ipykernel_42248/2173971135.py\u001b[0m in \u001b[0;36m<module>\u001b[0;34m\u001b[0m\n\u001b[0;32m----> 1\u001b[0;31m \u001b[0mle_name_mapping\u001b[0m \u001b[0;34m=\u001b[0m \u001b[0mdict\u001b[0m\u001b[0;34m(\u001b[0m\u001b[0mzip\u001b[0m\u001b[0;34m(\u001b[0m\u001b[0mda_encoder\u001b[0m\u001b[0;34m.\u001b[0m\u001b[0mclasses_\u001b[0m\u001b[0;34m,\u001b[0m \u001b[0mda_encoder\u001b[0m\u001b[0;34m.\u001b[0m\u001b[0mtransform\u001b[0m\u001b[0;34m(\u001b[0m\u001b[0mda_encoder\u001b[0m\u001b[0;34m.\u001b[0m\u001b[0mclasses_\u001b[0m\u001b[0;34m)\u001b[0m\u001b[0;34m)\u001b[0m\u001b[0;34m)\u001b[0m\u001b[0;34m\u001b[0m\u001b[0;34m\u001b[0m\u001b[0m\n\u001b[0m\u001b[1;32m      2\u001b[0m \u001b[0mprint\u001b[0m\u001b[0;34m(\u001b[0m\u001b[0mle_name_mapping\u001b[0m\u001b[0;34m)\u001b[0m\u001b[0;34m\u001b[0m\u001b[0;34m\u001b[0m\u001b[0m\n\u001b[1;32m      3\u001b[0m \u001b[0mda_labels\u001b[0m \u001b[0;34m=\u001b[0m \u001b[0mlist\u001b[0m\u001b[0;34m(\u001b[0m\u001b[0mle_name_mapping\u001b[0m\u001b[0;34m.\u001b[0m\u001b[0mkeys\u001b[0m\u001b[0;34m(\u001b[0m\u001b[0;34m)\u001b[0m\u001b[0;34m)\u001b[0m\u001b[0;34m\u001b[0m\u001b[0;34m\u001b[0m\u001b[0m\n",
      "\u001b[0;31mNameError\u001b[0m: name 'da_encoder' is not defined"
     ]
    }
   ],
   "source": [
    "le_name_mapping = dict(zip(da_encoder.classes_, da_encoder.transform(da_encoder.classes_)))\n",
    "print(le_name_mapping)\n",
    "da_labels = list(le_name_mapping.keys())"
   ]
  },
  {
   "cell_type": "code",
   "execution_count": null,
   "metadata": {
    "colab": {
     "base_uri": "https://localhost:8080/",
     "height": 265
    },
    "id": "PWG7i42P_LWp",
    "outputId": "3a2afbc8-7dfc-4555-cac1-e0f0fabd66fa"
   },
   "outputs": [
    {
     "data": {
      "image/png": "[encoded data removed]",
      "text/plain": [
       "<Figure size 432x288 with 2 Axes>"
      ]
     },
     "metadata": {
      "needs_background": "light"
     },
     "output_type": "display_data"
    }
   ],
   "source": [
    "import seaborn as sn\n",
    "\n",
    "df_cm = pd.DataFrame(cm, index=da_labels, columns=da_labels)\n",
    "\n",
    "ax = sn.heatmap(df_cm, cmap='Blues', annot=True)"
   ]
  },
  {
   "cell_type": "code",
   "execution_count": null,
   "metadata": {
    "id": "1-NWBFFaItTk"
   },
   "outputs": [],
   "source": [
    "import seaborn as sn\n",
    "from sklearn.metrics import classification_report, confusion_matrix\n",
    "\n",
    "def calculate_accuracy_metrics_and_print_cm(actual, model_preds):\n",
    "  cr = classification_report(actual, model_preds)\n",
    "  cm = confusion_matrix(actual, model_preds)\n",
    "  df_cm = pd.DataFrame(cm, index=da_labels, columns=da_labels)\n",
    "  ax = sn.heatmap(df_cm, cmap='Blues', annot=True)\n",
    "  print(ax)\n",
    "  return cr"
   ]
  },
  {
   "cell_type": "code",
   "execution_count": null,
   "metadata": {
    "id": "xbHPCYN1JRFv"
   },
   "outputs": [],
   "source": [
    "def train_model_and_evaluate_on_split(train_split_features, train_split_labels, valid_split_features, valid_split_labels, test_split_features, test_split_labels, model):\n",
    "  model.fit(train_split_features, train_split_labels, validation_set=(valid_split_features, valid_split_labels), batch_size=128, epochs=15)\n",
    "  pred_labels = model.predict(test_split_features)\n"
   ]
  }
 ],
 "metadata": {
  "colab": {
   "collapsed_sections": [],
   "name": "FinalProject_DeepLearning.ipynb",
   "provenance": []
  },
  "kernelspec": {
   "display_name": "Python 3 (ipykernel)",
   "language": "python",
   "name": "python3"
  },
  "language_info": {
   "codemirror_mode": {
    "name": "ipython",
    "version": 3
   },
   "file_extension": ".py",
   "mimetype": "text/x-python",
   "name": "python",
   "nbconvert_exporter": "python",
   "pygments_lexer": "ipython3",
   "version": "3.7.13"
  }
 },
 "nbformat": 4,
 "nbformat_minor": 4
}
